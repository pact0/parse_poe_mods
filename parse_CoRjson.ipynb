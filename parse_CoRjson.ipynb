{
 "cells": [
  {
   "cell_type": "code",
   "execution_count": null,
   "metadata": {},
   "outputs": [],
   "source": [
    "import pandas as pd\n",
    "import json\n",
    "import ast\n",
    "\n",
    "\n",
    "f = open('./poec_lang.us.json')\n",
    "translations = json.load(f)\n",
    "\n",
    "f = open('./poec_data.json')\n",
    "data = json.load(f)"
   ]
  },
  {
   "cell_type": "code",
   "execution_count": 13,
   "metadata": {},
   "outputs": [
    {
     "name": "stdout",
     "output_type": "stream",
     "text": [
      "dict_keys(['bitems', 'bases', 'bgroups', 'modifiers', 'mgroups', 'mtypes', 'fossils', 'catalysts', 'essences', 'maeven', 'aliases', 'tiers', 'basemods', 'modbases', 'mdefs', 'clngs'])\n",
      "dict_keys(['base', 'bgroup', 'mod', 'mdef', 'mgroup', 'mtype', 'fossil', 'catalyst', 'essence', 'bitem', 'maven'])\n"
     ]
    }
   ],
   "source": [
    "mod_names = translations[\"mod\"] # all possible mod en names\n",
    "base_names = translations[\"base\"] # all possible mod en names\n",
    "\n",
    "mod_group_names = translations[\"mgroup\"] # all possible mod en names\n",
    "\n",
    "print(data.keys())\n",
    "print(translations.keys())\n",
    "\n",
    "bases =  data[\"bases\"]['seq'] # all possible bases\n",
    "bases_mods =  data[\"basemods\"] # list of mods for all possible bases\n",
    "tiers = data[\"tiers\"]"
   ]
  },
  {
   "cell_type": "code",
   "execution_count": null,
   "metadata": {},
   "outputs": [],
   "source": [
    "item_mods = {}\n",
    "\n",
    "for base in bases:\n",
    "    print(base)\n",
    "    if base[\"name_base\"].find(\"Watchstone\") != -1 or base[\"name_base\"] == \"Gear\" or base[\"name_base\"].find(\"Cluster Jewel\") != -1 or base[\"name_base\"] == \"Tools\":\n",
    "        continue\n",
    "    base_group_id = base[\"id_bgroup\"]\n",
    "    base_id = base[\"id_base\"]\n",
    "    ########################## BASE NAMES\n",
    "    base_name = translations[\"base\"][base_id]\n",
    "    base_group_name = translations[\"bgroup\"][base_group_id]\n",
    "\n",
    "    # print(base_group_name, base_name)\n",
    "    ########################## BASE MODS\n",
    "    local_item_mods = {}\n",
    "\n",
    "    curr_base_mods_ids = bases_mods[base_id] # ids of current base's available mods\n",
    "    base_mods_grouped_tiers = {} # all range values for all tiers of all mods\n",
    "\n",
    "    for curr_mod_id in curr_base_mods_ids:\n",
    "        mod_name = mod_names[curr_mod_id]\n",
    "\n",
    "        if not mod_name in base_mods_grouped_tiers:\n",
    "            base_mods_grouped_tiers[mod_name] = []\n",
    "\n",
    "        if not mod_name in local_item_mods:\n",
    "            local_item_mods[mod_name] = {\"tiers\": []}\n",
    "\n",
    "        mod_tiers = tiers[curr_mod_id] # all tiers for current mod\n",
    "        mod_tiers_for_curr_base = mod_tiers[base_id] # all available current mod tiers for current base \n",
    "\n",
    "        for tier in mod_tiers_for_curr_base: # iterate over each available tier of mod for current base\n",
    "            local_item_mods[mod_name][\"tiers\"].append({\"values\": tier[\"nvalues\"], \"weight\": tier[\"weighting\"]})\n",
    "            base_mods_grouped_tiers[mod_name].append(tier[\"nvalues\"])\n",
    "\n",
    "    for mod_name in base_mods_grouped_tiers.keys():\n",
    "        result = []\n",
    "        for s in base_mods_grouped_tiers[mod_name]:\n",
    "            lst_of_lst = ast.literal_eval(s)\n",
    "            for lst_of_num in lst_of_lst:\n",
    "                if type(lst_of_num) != list:\n",
    "                    result.append(lst_of_num)\n",
    "                    continue\n",
    "                for num in lst_of_num:\n",
    "                    result.append(num)\n",
    "        if len(result) > 0:\n",
    "            local_item_mods[mod_name][\"min\"] = min(result)\n",
    "            local_item_mods[mod_name][\"max\"] = max(result)\n",
    "            #print(mod_name, result, min(result), max(result), local_item_mods[mod_name][\"min\"])\n",
    "            print()\n",
    "        else:\n",
    "            local_item_mods[mod_name][\"min\"] = 0\n",
    "            local_item_mods[mod_name][\"max\"] = 1\n",
    "\n",
    "\n",
    "\n",
    "\n",
    "        #print(curr_mod_id, mod_name, \"\\n\", mod_tiers_for_curr_base)\n",
    "        #print(mod_tiers_for_curr_base)\n",
    "    item_mods[base_name] = local_item_mods\n",
    "    # print(\"local wtf\",local_item_mods, \"FDSGHJKFSDHJKF\", item_mods[base_name])\n",
    "    print()\n",
    "\n",
    "\n",
    "\n",
    "with open(\"res.json\", 'w') as json_file:\n",
    "    print(json.dumps(item_mods), file=json_file)"
   ]
  },
  {
   "cell_type": "code",
   "execution_count": null,
   "metadata": {},
   "outputs": [],
   "source": [
    "item_mods_2 = {}\n",
    "\n",
    "all_bases = data[\"bitems\"][\"seq\"]\n",
    "\n",
    "for base in all_bases:\n",
    "    if base[\"name_bitem\"].find(\"Watchstone\") != -1 or base[\"name_bitem\"] == \"Gear\" or base[\"name_bitem\"].find(\"Cluster Jewel\") != -1 or base[\"name_bitem\"] == \"Tools\":\n",
    "        continue\n",
    "    base_id = base[\"id_base\"]\n",
    "    name = base[\"name_bitem\"]\n",
    "\n",
    "    el = [x for x in bases if x[\"id_base\"] == base_id]\n",
    "    item_mods_2[name] = {\"base\": el[0][\"name_base\"], \"mods\": item_mods[el[0][\"name_base\"]]}\n",
    "\n",
    "\n",
    "# for base in bases:\n",
    "#     print(base)\n",
    "#     if base[\"name_base\"].find(\"Watchstone\") != -1 or base[\"name_base\"] == \"Gear\" or base[\"name_base\"].find(\"Cluster Jewel\") != -1 or base[\"name_base\"] == \"Tools\":\n",
    "#         continue\n",
    "\n",
    "#     base_group_id = base[\"id_bgroup\"]\n",
    "#     base_id = base[\"id_base\"]\n",
    "#     ########################## BASE NAMES\n",
    "#     base_name = translations[\"base\"][base_id]\n",
    "#     base_group_name = translations[\"bgroup\"][base_group_id]\n",
    "\n",
    "#     base_full_name = data[\"basemods\"][\"2\"]\n",
    "#     #print(base_full_name, data[\"aliases\"])\n",
    "\n",
    "\n",
    "#     break\n",
    "with open(\"res_full.json\", 'w') as json_file:\n",
    "    print(json.dumps(item_mods_2), file=json_file)"
   ]
  }
 ],
 "metadata": {
  "kernelspec": {
   "display_name": "Python 3",
   "language": "python",
   "name": "python3"
  },
  "language_info": {
   "codemirror_mode": {
    "name": "ipython",
    "version": 3
   },
   "file_extension": ".py",
   "mimetype": "text/x-python",
   "name": "python",
   "nbconvert_exporter": "python",
   "pygments_lexer": "ipython3",
   "version": "3.10.9"
  },
  "orig_nbformat": 4,
  "vscode": {
   "interpreter": {
    "hash": "e7370f93d1d0cde622a1f8e1c04877d8463912d04d973331ad4851f04de6915a"
   }
  }
 },
 "nbformat": 4,
 "nbformat_minor": 2
}
