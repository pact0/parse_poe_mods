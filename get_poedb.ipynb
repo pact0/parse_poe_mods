{
 "cells": [
  {
   "cell_type": "code",
   "execution_count": 1,
   "metadata": {},
   "outputs": [],
   "source": [
    "import requests\n",
    "import bs4\n",
    "from tqdm import tqdm\n",
    "import json\n",
    "\n",
    "\n",
    "itemScrapped = 0\n",
    "resultDict = {}\n",
    "pages = [\"Claws\",\"Daggers\",\"Wands\",\"One Hand Swords\",\"Thrusting One Hand Swords\",\"One Hand Axes\",\"One Hand Maces\",\"Sceptres\",\"Rune Daggers\",\n",
    "    \"Bows\",\"Staves\",\"Two Hand Swords\",\"Two Hand Axes\",\"Two Hand Maces\",\"Warstaves\",\"Fishing Rods\",\n",
    "    \"Quivers\",\"Shields\",\n",
    "    \"Gloves\",\"Boots\",\"Body Armours\",\"Helmets\",\n",
    "    \"Amulets\",\"Rings\",\"Belts\",\"Trinkets\",\n",
    "    \"Jewels\",\"Abyss Jewels\"\n",
    "]\n",
    "\n",
    "baseUrl = \"https://poedb.tw/us/\"\n"
   ]
  },
  {
   "cell_type": "code",
   "execution_count": 2,
   "metadata": {},
   "outputs": [
    {
     "name": "stdout",
     "output_type": "stream",
     "text": [
      "https://poedb.tw/us/Claws#ClawsItem\n"
     ]
    },
    {
     "name": "stderr",
     "output_type": "stream",
     "text": [
      "  4%|▎         | 1/28 [00:01<00:27,  1.01s/it]"
     ]
    },
    {
     "name": "stdout",
     "output_type": "stream",
     "text": [
      "{'base:': 'Nailed Fist', 'icon': 'https://cdn.poedb.tw/image/Art/2DItems/Weapons/OneHandWeapons/Claws/Claw1.webp'}\n"
     ]
    },
    {
     "name": "stderr",
     "output_type": "stream",
     "text": [
      "  7%|▋         | 2/28 [00:02<00:26,  1.00s/it]"
     ]
    },
    {
     "name": "stdout",
     "output_type": "stream",
     "text": [
      "{'base:': 'Sharktooth Claw', 'icon': 'https://cdn.poedb.tw/image/Art/2DItems/Weapons/OneHandWeapons/Claws/Claw2.webp'}\n"
     ]
    },
    {
     "name": "stderr",
     "output_type": "stream",
     "text": [
      " 11%|█         | 3/28 [00:02<00:18,  1.39it/s]"
     ]
    },
    {
     "name": "stdout",
     "output_type": "stream",
     "text": [
      "{'base:': 'Awl', 'icon': 'https://cdn.poedb.tw/image/Art/2DItems/Weapons/OneHandWeapons/Claws/Claw3.webp'}\n"
     ]
    },
    {
     "name": "stderr",
     "output_type": "stream",
     "text": [
      " 14%|█▍        | 4/28 [00:03<00:20,  1.18it/s]"
     ]
    },
    {
     "name": "stdout",
     "output_type": "stream",
     "text": [
      "{'base:': \"Cat's Paw\", 'icon': 'https://cdn.poedb.tw/image/Art/2DItems/Weapons/OneHandWeapons/Claws/Claw4.webp'}\n"
     ]
    },
    {
     "name": "stderr",
     "output_type": "stream",
     "text": [
      " 18%|█▊        | 5/28 [00:04<00:20,  1.10it/s]"
     ]
    },
    {
     "name": "stdout",
     "output_type": "stream",
     "text": [
      "{'base:': 'Blinder', 'icon': 'https://cdn.poedb.tw/image/Art/2DItems/Weapons/OneHandWeapons/Claws/Claw5.webp'}\n"
     ]
    },
    {
     "name": "stderr",
     "output_type": "stream",
     "text": [
      " 21%|██▏       | 6/28 [00:04<00:16,  1.35it/s]"
     ]
    },
    {
     "name": "stdout",
     "output_type": "stream",
     "text": [
      "{'base:': 'Timeworn Claw', 'icon': 'https://cdn.poedb.tw/image/Art/2DItems/Weapons/OneHandWeapons/Claws/Claw6.webp'}\n"
     ]
    },
    {
     "name": "stderr",
     "output_type": "stream",
     "text": [
      " 25%|██▌       | 7/28 [00:05<00:13,  1.58it/s]"
     ]
    },
    {
     "name": "stdout",
     "output_type": "stream",
     "text": [
      "{'base:': 'Sparkling Claw', 'icon': 'https://cdn.poedb.tw/image/Art/2DItems/Weapons/OneHandWeapons/Claws/Claw7.webp'}\n"
     ]
    },
    {
     "name": "stderr",
     "output_type": "stream",
     "text": [
      " 29%|██▊       | 8/28 [00:06<00:15,  1.32it/s]"
     ]
    },
    {
     "name": "stdout",
     "output_type": "stream",
     "text": [
      "{'base:': 'Fright Claw', 'icon': 'https://cdn.poedb.tw/image/Art/2DItems/Weapons/OneHandWeapons/Claws/Claw8.webp'}\n"
     ]
    },
    {
     "name": "stderr",
     "output_type": "stream",
     "text": [
      " 32%|███▏      | 9/28 [00:08<00:25,  1.32s/it]"
     ]
    },
    {
     "name": "stdout",
     "output_type": "stream",
     "text": [
      "{'base:': 'Double Claw', 'icon': 'https://cdn.poedb.tw/image/Art/2DItems/Weapons/OneHandWeapons/Claws/Claw9.webp'}\n"
     ]
    },
    {
     "name": "stderr",
     "output_type": "stream",
     "text": [
      " 36%|███▌      | 10/28 [00:09<00:18,  1.04s/it]"
     ]
    },
    {
     "name": "stdout",
     "output_type": "stream",
     "text": [
      "{'base:': 'Thresher Claw', 'icon': 'https://cdn.poedb.tw/image/Art/2DItems/Weapons/OneHandWeapons/Claws/Claw2.webp'}\n"
     ]
    },
    {
     "name": "stderr",
     "output_type": "stream",
     "text": [
      " 39%|███▉      | 11/28 [00:09<00:14,  1.14it/s]"
     ]
    },
    {
     "name": "stdout",
     "output_type": "stream",
     "text": [
      "{'base:': 'Gouger', 'icon': 'https://cdn.poedb.tw/image/Art/2DItems/Weapons/OneHandWeapons/Claws/Claw3.webp'}\n"
     ]
    },
    {
     "name": "stderr",
     "output_type": "stream",
     "text": [
      " 43%|████▎     | 12/28 [00:10<00:14,  1.08it/s]"
     ]
    },
    {
     "name": "stdout",
     "output_type": "stream",
     "text": [
      "{'base:': \"Tiger's Paw\", 'icon': 'https://cdn.poedb.tw/image/Art/2DItems/Weapons/OneHandWeapons/Claws/Claw4.webp'}\n"
     ]
    },
    {
     "name": "stderr",
     "output_type": "stream",
     "text": [
      " 46%|████▋     | 13/28 [00:11<00:14,  1.04it/s]"
     ]
    },
    {
     "name": "stdout",
     "output_type": "stream",
     "text": [
      "{'base:': 'Gut Ripper', 'icon': 'https://cdn.poedb.tw/image/Art/2DItems/Weapons/OneHandWeapons/Claws/Claw5.webp'}\n"
     ]
    },
    {
     "name": "stderr",
     "output_type": "stream",
     "text": [
      " 50%|█████     | 14/28 [00:12<00:13,  1.03it/s]"
     ]
    },
    {
     "name": "stdout",
     "output_type": "stream",
     "text": [
      "{'base:': 'Prehistoric Claw', 'icon': 'https://cdn.poedb.tw/image/Art/2DItems/Weapons/OneHandWeapons/Claws/Claw6.webp'}\n"
     ]
    },
    {
     "name": "stderr",
     "output_type": "stream",
     "text": [
      " 54%|█████▎    | 15/28 [00:13<00:12,  1.01it/s]"
     ]
    },
    {
     "name": "stdout",
     "output_type": "stream",
     "text": [
      "{'base:': 'Noble Claw', 'icon': 'https://cdn.poedb.tw/image/Art/2DItems/Weapons/OneHandWeapons/Claws/Claw7.webp'}\n"
     ]
    },
    {
     "name": "stderr",
     "output_type": "stream",
     "text": [
      " 57%|█████▋    | 16/28 [00:14<00:09,  1.23it/s]"
     ]
    },
    {
     "name": "stdout",
     "output_type": "stream",
     "text": [
      "{'base:': 'Eagle Claw', 'icon': 'https://cdn.poedb.tw/image/Art/2DItems/Weapons/OneHandWeapons/Claws/Claw8.webp'}\n"
     ]
    },
    {
     "name": "stderr",
     "output_type": "stream",
     "text": [
      " 61%|██████    | 17/28 [00:14<00:07,  1.44it/s]"
     ]
    },
    {
     "name": "stdout",
     "output_type": "stream",
     "text": [
      "{'base:': 'Twin Claw', 'icon': 'https://cdn.poedb.tw/image/Art/2DItems/Weapons/OneHandWeapons/Claws/Claw9.webp'}\n"
     ]
    },
    {
     "name": "stderr",
     "output_type": "stream",
     "text": [
      " 64%|██████▍   | 18/28 [00:15<00:06,  1.64it/s]"
     ]
    },
    {
     "name": "stdout",
     "output_type": "stream",
     "text": [
      "{'base:': 'Great White Claw', 'icon': 'https://cdn.poedb.tw/image/Art/2DItems/Weapons/OneHandWeapons/Claws/Claw2.webp'}\n"
     ]
    },
    {
     "name": "stderr",
     "output_type": "stream",
     "text": [
      " 68%|██████▊   | 19/28 [00:15<00:04,  1.81it/s]"
     ]
    },
    {
     "name": "stdout",
     "output_type": "stream",
     "text": [
      "{'base:': 'Throat Stabber', 'icon': 'https://cdn.poedb.tw/image/Art/2DItems/Weapons/OneHandWeapons/Claws/Claw3.webp'}\n"
     ]
    },
    {
     "name": "stderr",
     "output_type": "stream",
     "text": [
      " 71%|███████▏  | 20/28 [00:16<00:05,  1.44it/s]"
     ]
    },
    {
     "name": "stdout",
     "output_type": "stream",
     "text": [
      "{'base:': \"Hellion's Paw\", 'icon': 'https://cdn.poedb.tw/image/Art/2DItems/Weapons/OneHandWeapons/Claws/Claw4.webp'}\n"
     ]
    },
    {
     "name": "stderr",
     "output_type": "stream",
     "text": [
      " 75%|███████▌  | 21/28 [00:16<00:04,  1.64it/s]"
     ]
    },
    {
     "name": "stdout",
     "output_type": "stream",
     "text": [
      "{'base:': 'Eye Gouger', 'icon': 'https://cdn.poedb.tw/image/Art/2DItems/Weapons/OneHandWeapons/Claws/Claw5.webp'}\n"
     ]
    },
    {
     "name": "stderr",
     "output_type": "stream",
     "text": [
      " 79%|███████▊  | 22/28 [00:17<00:03,  1.78it/s]"
     ]
    },
    {
     "name": "stdout",
     "output_type": "stream",
     "text": [
      "{'base:': 'Vaal Claw', 'icon': 'https://cdn.poedb.tw/image/Art/2DItems/Weapons/OneHandWeapons/Claws/Claw6.webp'}\n"
     ]
    },
    {
     "name": "stderr",
     "output_type": "stream",
     "text": [
      " 82%|████████▏ | 23/28 [00:18<00:03,  1.44it/s]"
     ]
    },
    {
     "name": "stdout",
     "output_type": "stream",
     "text": [
      "{'base:': 'Imperial Claw', 'icon': 'https://cdn.poedb.tw/image/Art/2DItems/Weapons/OneHandWeapons/Claws/Claw7.webp'}\n"
     ]
    },
    {
     "name": "stderr",
     "output_type": "stream",
     "text": [
      " 86%|████████▌ | 24/28 [00:18<00:02,  1.64it/s]"
     ]
    },
    {
     "name": "stdout",
     "output_type": "stream",
     "text": [
      "{'base:': 'Terror Claw', 'icon': 'https://cdn.poedb.tw/image/Art/2DItems/Weapons/OneHandWeapons/Claws/Claw8.webp'}\n"
     ]
    },
    {
     "name": "stderr",
     "output_type": "stream",
     "text": [
      " 89%|████████▉ | 25/28 [00:19<00:01,  1.78it/s]"
     ]
    },
    {
     "name": "stdout",
     "output_type": "stream",
     "text": [
      "{'base:': 'Gemini Claw', 'icon': 'https://cdn.poedb.tw/image/Art/2DItems/Weapons/OneHandWeapons/Claws/Claw9.webp'}\n"
     ]
    },
    {
     "name": "stderr",
     "output_type": "stream",
     "text": [
      " 93%|█████████▎| 26/28 [00:19<00:01,  1.92it/s]"
     ]
    },
    {
     "name": "stdout",
     "output_type": "stream",
     "text": [
      "{'base:': 'Shadow Fangs', 'icon': 'https://cdn.poedb.tw/image/Art/2DItems/Weapons/OneHandWeapons/Claws/HeistClaw.webp'}\n"
     ]
    },
    {
     "name": "stderr",
     "output_type": "stream",
     "text": [
      " 96%|█████████▋| 27/28 [00:20<00:00,  2.06it/s]"
     ]
    },
    {
     "name": "stdout",
     "output_type": "stream",
     "text": [
      "{'base:': 'Malign Fangs', 'icon': 'https://cdn.poedb.tw/image/Art/2DItems/Weapons/OneHandWeapons/Claws/HeistClaw.webp'}\n"
     ]
    },
    {
     "name": "stderr",
     "output_type": "stream",
     "text": [
      "100%|██████████| 28/28 [00:20<00:00,  1.36it/s]"
     ]
    },
    {
     "name": "stdout",
     "output_type": "stream",
     "text": [
      "{'base:': 'Void Fangs', 'icon': 'https://cdn.poedb.tw/image/Art/2DItems/Weapons/OneHandWeapons/Claws/HeistClaw.webp'}\n",
      "https://poedb.tw/us/Daggers#DaggersItem\n"
     ]
    },
    {
     "name": "stderr",
     "output_type": "stream",
     "text": [
      "\n",
      "  7%|▋         | 1/14 [00:00<00:05,  2.42it/s]"
     ]
    },
    {
     "name": "stdout",
     "output_type": "stream",
     "text": [
      "{'base:': 'Glass Shank', 'icon': 'https://cdn.poedb.tw/image/Art/2DItems/Weapons/OneHandWeapons/Daggers/Dagger1.webp'}\n"
     ]
    },
    {
     "name": "stderr",
     "output_type": "stream",
     "text": [
      " 14%|█▍        | 2/14 [00:00<00:04,  2.49it/s]"
     ]
    },
    {
     "name": "stdout",
     "output_type": "stream",
     "text": [
      "{'base:': 'Skinning Knife', 'icon': 'https://cdn.poedb.tw/image/Art/2DItems/Weapons/OneHandWeapons/Daggers/Dagger2.webp'}\n"
     ]
    },
    {
     "name": "stderr",
     "output_type": "stream",
     "text": [
      " 21%|██▏       | 3/14 [00:01<00:04,  2.44it/s]"
     ]
    },
    {
     "name": "stdout",
     "output_type": "stream",
     "text": [
      "{'base:': 'Stiletto', 'icon': 'https://cdn.poedb.tw/image/Art/2DItems/Weapons/OneHandWeapons/Daggers/Dagger4.webp'}\n"
     ]
    },
    {
     "name": "stderr",
     "output_type": "stream",
     "text": [
      " 29%|██▊       | 4/14 [00:02<00:06,  1.52it/s]"
     ]
    },
    {
     "name": "stdout",
     "output_type": "stream",
     "text": [
      "{'base:': 'Prong Dagger', 'icon': 'https://cdn.poedb.tw/image/Art/2DItems/Weapons/OneHandWeapons/Daggers/Dagger9.webp'}\n"
     ]
    },
    {
     "name": "stderr",
     "output_type": "stream",
     "text": [
      " 36%|███▌      | 5/14 [00:02<00:05,  1.75it/s]"
     ]
    },
    {
     "name": "stdout",
     "output_type": "stream",
     "text": [
      "{'base:': 'Flaying Knife', 'icon': 'https://cdn.poedb.tw/image/Art/2DItems/Weapons/OneHandWeapons/Daggers/Dagger2.webp'}\n"
     ]
    },
    {
     "name": "stderr",
     "output_type": "stream",
     "text": [
      " 43%|████▎     | 6/14 [00:03<00:05,  1.37it/s]"
     ]
    },
    {
     "name": "stdout",
     "output_type": "stream",
     "text": [
      "{'base:': 'Poignard', 'icon': 'https://cdn.poedb.tw/image/Art/2DItems/Weapons/OneHandWeapons/Daggers/Dagger4.webp'}\n"
     ]
    },
    {
     "name": "stderr",
     "output_type": "stream",
     "text": [
      " 50%|█████     | 7/14 [00:04<00:04,  1.60it/s]"
     ]
    },
    {
     "name": "stdout",
     "output_type": "stream",
     "text": [
      "{'base:': 'Trisula', 'icon': 'https://cdn.poedb.tw/image/Art/2DItems/Weapons/OneHandWeapons/Daggers/Dagger9.webp'}\n"
     ]
    },
    {
     "name": "stderr",
     "output_type": "stream",
     "text": [
      " 57%|█████▋    | 8/14 [00:05<00:04,  1.33it/s]"
     ]
    },
    {
     "name": "stdout",
     "output_type": "stream",
     "text": [
      "{'base:': 'Gutting Knife', 'icon': 'https://cdn.poedb.tw/image/Art/2DItems/Weapons/OneHandWeapons/Daggers/Dagger2.webp'}\n"
     ]
    },
    {
     "name": "stderr",
     "output_type": "stream",
     "text": [
      " 64%|██████▍   | 9/14 [00:05<00:03,  1.55it/s]"
     ]
    },
    {
     "name": "stdout",
     "output_type": "stream",
     "text": [
      "{'base:': 'Ambusher', 'icon': 'https://cdn.poedb.tw/image/Art/2DItems/Weapons/OneHandWeapons/Daggers/Dagger4.webp'}\n"
     ]
    },
    {
     "name": "stderr",
     "output_type": "stream",
     "text": [
      " 71%|███████▏  | 10/14 [00:05<00:02,  1.73it/s]"
     ]
    },
    {
     "name": "stdout",
     "output_type": "stream",
     "text": [
      "{'base:': 'Sai', 'icon': 'https://cdn.poedb.tw/image/Art/2DItems/Weapons/OneHandWeapons/Daggers/Dagger9.webp'}\n"
     ]
    },
    {
     "name": "stderr",
     "output_type": "stream",
     "text": [
      " 79%|███████▊  | 11/14 [00:07<00:02,  1.38it/s]"
     ]
    },
    {
     "name": "stdout",
     "output_type": "stream",
     "text": [
      "{'base:': 'Hollowpoint Dagger', 'icon': 'https://cdn.poedb.tw/image/Art/2DItems/Weapons/OneHandWeapons/Daggers/HeistDagger.webp'}\n"
     ]
    },
    {
     "name": "stderr",
     "output_type": "stream",
     "text": [
      " 86%|████████▌ | 12/14 [00:07<00:01,  1.59it/s]"
     ]
    },
    {
     "name": "stdout",
     "output_type": "stream",
     "text": [
      "{'base:': 'Pressurised Dagger', 'icon': 'https://cdn.poedb.tw/image/Art/2DItems/Weapons/OneHandWeapons/Daggers/HeistDagger.webp'}\n"
     ]
    },
    {
     "name": "stderr",
     "output_type": "stream",
     "text": [
      " 93%|█████████▎| 13/14 [00:07<00:00,  1.78it/s]"
     ]
    },
    {
     "name": "stdout",
     "output_type": "stream",
     "text": [
      "{'base:': 'Pneumatic Dagger', 'icon': 'https://cdn.poedb.tw/image/Art/2DItems/Weapons/OneHandWeapons/Daggers/HeistDagger.webp'}\n"
     ]
    },
    {
     "name": "stderr",
     "output_type": "stream",
     "text": [
      "100%|██████████| 14/14 [00:08<00:00,  1.58it/s]"
     ]
    },
    {
     "name": "stdout",
     "output_type": "stream",
     "text": [
      "{'base:': 'Ethereal Blade', 'icon': 'https://cdn.poedb.tw/image/Art/2DItems/Weapons/OneHandWeapons/Daggers/Dagger1.webp'}\n",
      "https://poedb.tw/us/Wands#WandsItem\n"
     ]
    },
    {
     "name": "stderr",
     "output_type": "stream",
     "text": [
      "\n",
      "  4%|▍         | 1/26 [00:00<00:10,  2.45it/s]"
     ]
    },
    {
     "name": "stdout",
     "output_type": "stream",
     "text": [
      "{'base:': 'Driftwood Wand', 'icon': 'https://cdn.poedb.tw/image/Art/2DItems/Weapons/OneHandWeapons/Wands/Wand1.webp'}\n"
     ]
    },
    {
     "name": "stderr",
     "output_type": "stream",
     "text": [
      "  8%|▊         | 2/26 [00:00<00:09,  2.47it/s]"
     ]
    },
    {
     "name": "stdout",
     "output_type": "stream",
     "text": [
      "{'base:': \"Goat's Horn\", 'icon': 'https://cdn.poedb.tw/image/Art/2DItems/Weapons/OneHandWeapons/Wands/Wand2.webp'}\n"
     ]
    },
    {
     "name": "stderr",
     "output_type": "stream",
     "text": [
      " 12%|█▏        | 3/26 [00:01<00:09,  2.44it/s]"
     ]
    },
    {
     "name": "stdout",
     "output_type": "stream",
     "text": [
      "{'base:': 'Carved Wand', 'icon': 'https://cdn.poedb.tw/image/Art/2DItems/Weapons/OneHandWeapons/Wands/Wand3.webp'}\n"
     ]
    },
    {
     "name": "stderr",
     "output_type": "stream",
     "text": [
      " 15%|█▌        | 4/26 [00:02<00:14,  1.55it/s]"
     ]
    },
    {
     "name": "stdout",
     "output_type": "stream",
     "text": [
      "{'base:': 'Quartz Wand', 'icon': 'https://cdn.poedb.tw/image/Art/2DItems/Weapons/OneHandWeapons/Wands/Wand4.webp'}\n"
     ]
    },
    {
     "name": "stderr",
     "output_type": "stream",
     "text": [
      " 19%|█▉        | 5/26 [00:03<00:16,  1.27it/s]"
     ]
    },
    {
     "name": "stdout",
     "output_type": "stream",
     "text": [
      "{'base:': 'Spiraled Wand', 'icon': 'https://cdn.poedb.tw/image/Art/2DItems/Weapons/OneHandWeapons/Wands/Wand5.webp'}\n"
     ]
    },
    {
     "name": "stderr",
     "output_type": "stream",
     "text": [
      " 23%|██▎       | 6/26 [00:04<00:17,  1.16it/s]"
     ]
    },
    {
     "name": "stdout",
     "output_type": "stream",
     "text": [
      "{'base:': 'Sage Wand', 'icon': 'https://cdn.poedb.tw/image/Art/2DItems/Weapons/OneHandWeapons/Wands/Wand6.webp'}\n"
     ]
    },
    {
     "name": "stderr",
     "output_type": "stream",
     "text": [
      " 27%|██▋       | 7/26 [00:05<00:17,  1.09it/s]"
     ]
    },
    {
     "name": "stdout",
     "output_type": "stream",
     "text": [
      "{'base:': 'Pagan Wand', 'icon': 'https://cdn.poedb.tw/image/Art/2DItems/Weapons/OneHandWeapons/Wands/Wand7.webp'}\n"
     ]
    },
    {
     "name": "stderr",
     "output_type": "stream",
     "text": [
      " 31%|███       | 8/26 [00:06<00:17,  1.05it/s]"
     ]
    },
    {
     "name": "stdout",
     "output_type": "stream",
     "text": [
      "{'base:': \"Faun's Horn\", 'icon': 'https://cdn.poedb.tw/image/Art/2DItems/Weapons/OneHandWeapons/Wands/Wand2.webp'}\n"
     ]
    },
    {
     "name": "stderr",
     "output_type": "stream",
     "text": [
      " 35%|███▍      | 9/26 [00:07<00:16,  1.02it/s]"
     ]
    },
    {
     "name": "stdout",
     "output_type": "stream",
     "text": [
      "{'base:': 'Engraved Wand', 'icon': 'https://cdn.poedb.tw/image/Art/2DItems/Weapons/OneHandWeapons/Wands/Wand3.webp'}\n"
     ]
    },
    {
     "name": "stderr",
     "output_type": "stream",
     "text": [
      " 38%|███▊      | 10/26 [00:08<00:16,  1.03s/it]"
     ]
    },
    {
     "name": "stdout",
     "output_type": "stream",
     "text": [
      "{'base:': 'Crystal Wand', 'icon': 'https://cdn.poedb.tw/image/Art/2DItems/Weapons/OneHandWeapons/Wands/Wand4.webp'}\n"
     ]
    },
    {
     "name": "stderr",
     "output_type": "stream",
     "text": [
      " 42%|████▏     | 11/26 [00:09<00:15,  1.04s/it]"
     ]
    },
    {
     "name": "stdout",
     "output_type": "stream",
     "text": [
      "{'base:': 'Serpent Wand', 'icon': 'https://cdn.poedb.tw/image/Art/2DItems/Weapons/OneHandWeapons/Wands/Wand5.webp'}\n"
     ]
    },
    {
     "name": "stderr",
     "output_type": "stream",
     "text": [
      " 46%|████▌     | 12/26 [00:10<00:12,  1.15it/s]"
     ]
    },
    {
     "name": "stdout",
     "output_type": "stream",
     "text": [
      "{'base:': 'Omen Wand', 'icon': 'https://cdn.poedb.tw/image/Art/2DItems/Weapons/OneHandWeapons/Wands/Wand6.webp'}\n"
     ]
    },
    {
     "name": "stderr",
     "output_type": "stream",
     "text": [
      " 50%|█████     | 13/26 [00:10<00:09,  1.37it/s]"
     ]
    },
    {
     "name": "stdout",
     "output_type": "stream",
     "text": [
      "{'base:': 'Heathen Wand', 'icon': 'https://cdn.poedb.tw/image/Art/2DItems/Weapons/OneHandWeapons/Wands/Wand7.webp'}\n"
     ]
    },
    {
     "name": "stderr",
     "output_type": "stream",
     "text": [
      " 54%|█████▍    | 14/26 [00:10<00:07,  1.59it/s]"
     ]
    },
    {
     "name": "stdout",
     "output_type": "stream",
     "text": [
      "{'base:': \"Demon's Horn\", 'icon': 'https://cdn.poedb.tw/image/Art/2DItems/Weapons/OneHandWeapons/Wands/Wand2.webp'}\n"
     ]
    },
    {
     "name": "stderr",
     "output_type": "stream",
     "text": [
      " 58%|█████▊    | 15/26 [00:11<00:08,  1.33it/s]"
     ]
    },
    {
     "name": "stdout",
     "output_type": "stream",
     "text": [
      "{'base:': 'Imbued Wand', 'icon': 'https://cdn.poedb.tw/image/Art/2DItems/Weapons/OneHandWeapons/Wands/Wand3.webp'}\n"
     ]
    },
    {
     "name": "stderr",
     "output_type": "stream",
     "text": [
      " 62%|██████▏   | 16/26 [00:12<00:08,  1.22it/s]"
     ]
    },
    {
     "name": "stdout",
     "output_type": "stream",
     "text": [
      "{'base:': 'Opal Wand', 'icon': 'https://cdn.poedb.tw/image/Art/2DItems/Weapons/OneHandWeapons/Wands/Wand4.webp'}\n"
     ]
    },
    {
     "name": "stderr",
     "output_type": "stream",
     "text": [
      " 65%|██████▌   | 17/26 [00:13<00:06,  1.43it/s]"
     ]
    },
    {
     "name": "stdout",
     "output_type": "stream",
     "text": [
      "{'base:': 'Tornado Wand', 'icon': 'https://cdn.poedb.tw/image/Art/2DItems/Weapons/OneHandWeapons/Wands/Wand5.webp'}\n"
     ]
    },
    {
     "name": "stderr",
     "output_type": "stream",
     "text": [
      " 69%|██████▉   | 18/26 [00:13<00:04,  1.64it/s]"
     ]
    },
    {
     "name": "stdout",
     "output_type": "stream",
     "text": [
      "{'base:': 'Prophecy Wand', 'icon': 'https://cdn.poedb.tw/image/Art/2DItems/Weapons/OneHandWeapons/Wands/Wand6.webp'}\n"
     ]
    },
    {
     "name": "stderr",
     "output_type": "stream",
     "text": [
      " 73%|███████▎  | 19/26 [00:14<00:05,  1.38it/s]"
     ]
    },
    {
     "name": "stdout",
     "output_type": "stream",
     "text": [
      "{'base:': 'Profane Wand', 'icon': 'https://cdn.poedb.tw/image/Art/2DItems/Weapons/OneHandWeapons/Wands/Wand7.webp'}\n"
     ]
    },
    {
     "name": "stderr",
     "output_type": "stream",
     "text": [
      " 77%|███████▋  | 20/26 [00:15<00:03,  1.60it/s]"
     ]
    },
    {
     "name": "stdout",
     "output_type": "stream",
     "text": [
      "{'base:': 'Assembler Wand', 'icon': 'https://cdn.poedb.tw/image/Art/2DItems/Weapons/OneHandWeapons/Wands/HeistWand.webp'}\n"
     ]
    },
    {
     "name": "stderr",
     "output_type": "stream",
     "text": [
      " 81%|████████  | 21/26 [00:16<00:03,  1.35it/s]"
     ]
    },
    {
     "name": "stdout",
     "output_type": "stream",
     "text": [
      "{'base:': 'Congregator Wand', 'icon': 'https://cdn.poedb.tw/image/Art/2DItems/Weapons/OneHandWeapons/Wands/HeistWand.webp'}\n"
     ]
    },
    {
     "name": "stderr",
     "output_type": "stream",
     "text": [
      " 85%|████████▍ | 22/26 [00:16<00:02,  1.56it/s]"
     ]
    },
    {
     "name": "stdout",
     "output_type": "stream",
     "text": [
      "{'base:': 'Accumulator Wand', 'icon': 'https://cdn.poedb.tw/image/Art/2DItems/Weapons/OneHandWeapons/Wands/HeistWand.webp'}\n"
     ]
    },
    {
     "name": "stderr",
     "output_type": "stream",
     "text": [
      " 88%|████████▊ | 23/26 [00:16<00:01,  1.76it/s]"
     ]
    },
    {
     "name": "stdout",
     "output_type": "stream",
     "text": [
      "{'base:': 'Calling Wand', 'icon': 'https://cdn.poedb.tw/image/Art/2DItems/Weapons/OneHandWeapons/Wands/ConvokingWand.webp'}\n"
     ]
    },
    {
     "name": "stderr",
     "output_type": "stream",
     "text": [
      " 92%|█████████▏| 24/26 [00:17<00:01,  1.91it/s]"
     ]
    },
    {
     "name": "stdout",
     "output_type": "stream",
     "text": [
      "{'base:': 'Convening Wand', 'icon': 'https://cdn.poedb.tw/image/Art/2DItems/Weapons/OneHandWeapons/Wands/ConvokingWand.webp'}\n"
     ]
    },
    {
     "name": "stderr",
     "output_type": "stream",
     "text": [
      " 96%|█████████▌| 25/26 [00:18<00:00,  1.49it/s]"
     ]
    },
    {
     "name": "stdout",
     "output_type": "stream",
     "text": [
      "{'base:': 'Convoking Wand', 'icon': 'https://cdn.poedb.tw/image/Art/2DItems/Weapons/OneHandWeapons/Wands/ConvokingWand.webp'}\n"
     ]
    },
    {
     "name": "stderr",
     "output_type": "stream",
     "text": [
      "100%|██████████| 26/26 [00:19<00:00,  1.34it/s]"
     ]
    },
    {
     "name": "stdout",
     "output_type": "stream",
     "text": [
      "{'base:': 'Royale Driftwood Wand', 'icon': 'https://cdn.poedb.tw/image/Art/2DItems/Weapons/OneHandWeapons/Wands/Wand1.webp'}\n",
      "https://poedb.tw/us/One_Hand_Swords#OneHandSwordsItem\n"
     ]
    },
    {
     "name": "stderr",
     "output_type": "stream",
     "text": [
      "\n",
      "  3%|▎         | 1/31 [00:00<00:12,  2.41it/s]"
     ]
    },
    {
     "name": "stdout",
     "output_type": "stream",
     "text": [
      "{'base:': \"Charan's Sword\", 'icon': 'https://cdn.poedb.tw/image/Art/2DItems/Weapons/OneHandWeapons/OneHandSwords/TheGoddessUnleashed.webp'}\n"
     ]
    },
    {
     "name": "stderr",
     "output_type": "stream",
     "text": [
      "  6%|▋         | 2/31 [00:01<00:22,  1.30it/s]"
     ]
    },
    {
     "name": "stdout",
     "output_type": "stream",
     "text": [
      "{'base:': 'Golden Blade', 'icon': 'https://cdn.poedb.tw/image/Art/2DItems/Weapons/OneHandWeapons/OneHandSwords/DemigodsAuthority.webp'}\n"
     ]
    },
    {
     "name": "stderr",
     "output_type": "stream",
     "text": [
      " 10%|▉         | 3/31 [00:02<00:24,  1.13it/s]"
     ]
    },
    {
     "name": "stdout",
     "output_type": "stream",
     "text": [
      "{'base:': 'Rusted Sword', 'icon': 'https://cdn.poedb.tw/image/Art/2DItems/Weapons/OneHandWeapons/OneHandSwords/OneHandSword1.webp'}\n"
     ]
    },
    {
     "name": "stderr",
     "output_type": "stream",
     "text": [
      " 13%|█▎        | 4/31 [00:03<00:25,  1.06it/s]"
     ]
    },
    {
     "name": "stdout",
     "output_type": "stream",
     "text": [
      "{'base:': 'Copper Sword', 'icon': 'https://cdn.poedb.tw/image/Art/2DItems/Weapons/OneHandWeapons/OneHandSwords/OneHandSword2.webp'}\n"
     ]
    },
    {
     "name": "stderr",
     "output_type": "stream",
     "text": [
      " 16%|█▌        | 5/31 [00:04<00:26,  1.02s/it]"
     ]
    },
    {
     "name": "stdout",
     "output_type": "stream",
     "text": [
      "{'base:': 'Sabre', 'icon': 'https://cdn.poedb.tw/image/Art/2DItems/Weapons/OneHandWeapons/OneHandSwords/OneHandSword3.webp'}\n"
     ]
    },
    {
     "name": "stderr",
     "output_type": "stream",
     "text": [
      " 19%|█▉        | 6/31 [00:05<00:20,  1.23it/s]"
     ]
    },
    {
     "name": "stdout",
     "output_type": "stream",
     "text": [
      "{'base:': 'Broad Sword', 'icon': 'https://cdn.poedb.tw/image/Art/2DItems/Weapons/OneHandWeapons/OneHandSwords/OneHandSword4.webp'}\n"
     ]
    },
    {
     "name": "stderr",
     "output_type": "stream",
     "text": [
      " 23%|██▎       | 7/31 [00:05<00:16,  1.46it/s]"
     ]
    },
    {
     "name": "stdout",
     "output_type": "stream",
     "text": [
      "{'base:': 'War Sword', 'icon': 'https://cdn.poedb.tw/image/Art/2DItems/Weapons/OneHandWeapons/OneHandSwords/OneHandSword5.webp'}\n"
     ]
    },
    {
     "name": "stderr",
     "output_type": "stream",
     "text": [
      " 26%|██▌       | 8/31 [00:06<00:18,  1.27it/s]"
     ]
    },
    {
     "name": "stdout",
     "output_type": "stream",
     "text": [
      "{'base:': 'Ancient Sword', 'icon': 'https://cdn.poedb.tw/image/Art/2DItems/Weapons/OneHandWeapons/OneHandSwords/OneHandSword6.webp'}\n"
     ]
    },
    {
     "name": "stderr",
     "output_type": "stream",
     "text": [
      " 29%|██▉       | 9/31 [00:06<00:14,  1.49it/s]"
     ]
    },
    {
     "name": "stdout",
     "output_type": "stream",
     "text": [
      "{'base:': 'Elegant Sword', 'icon': 'https://cdn.poedb.tw/image/Art/2DItems/Weapons/OneHandWeapons/OneHandSwords/OneHandSword7.webp'}\n"
     ]
    },
    {
     "name": "stderr",
     "output_type": "stream",
     "text": [
      " 32%|███▏      | 10/31 [00:07<00:12,  1.70it/s]"
     ]
    },
    {
     "name": "stdout",
     "output_type": "stream",
     "text": [
      "{'base:': 'Dusk Blade', 'icon': 'https://cdn.poedb.tw/image/Art/2DItems/Weapons/OneHandWeapons/OneHandSwords/OneHandSword8.webp'}\n"
     ]
    },
    {
     "name": "stderr",
     "output_type": "stream",
     "text": [
      " 35%|███▌      | 11/31 [00:07<00:10,  1.88it/s]"
     ]
    },
    {
     "name": "stdout",
     "output_type": "stream",
     "text": [
      "{'base:': 'Hook Sword', 'icon': 'https://cdn.poedb.tw/image/Art/2DItems/Weapons/OneHandWeapons/OneHandSwords/OneHandSword9.webp'}\n"
     ]
    },
    {
     "name": "stderr",
     "output_type": "stream",
     "text": [
      " 39%|███▊      | 12/31 [00:08<00:09,  2.01it/s]"
     ]
    },
    {
     "name": "stdout",
     "output_type": "stream",
     "text": [
      "{'base:': 'Variscite Blade', 'icon': 'https://cdn.poedb.tw/image/Art/2DItems/Weapons/OneHandWeapons/OneHandSwords/OneHandSword2.webp'}\n"
     ]
    },
    {
     "name": "stderr",
     "output_type": "stream",
     "text": [
      " 42%|████▏     | 13/31 [00:08<00:08,  2.12it/s]"
     ]
    },
    {
     "name": "stdout",
     "output_type": "stream",
     "text": [
      "{'base:': 'Cutlass', 'icon': 'https://cdn.poedb.tw/image/Art/2DItems/Weapons/OneHandWeapons/OneHandSwords/OneHandSword3.webp'}\n"
     ]
    },
    {
     "name": "stderr",
     "output_type": "stream",
     "text": [
      " 45%|████▌     | 14/31 [00:08<00:07,  2.21it/s]"
     ]
    },
    {
     "name": "stdout",
     "output_type": "stream",
     "text": [
      "{'base:': 'Baselard', 'icon': 'https://cdn.poedb.tw/image/Art/2DItems/Weapons/OneHandWeapons/OneHandSwords/OneHandSword4.webp'}\n"
     ]
    },
    {
     "name": "stderr",
     "output_type": "stream",
     "text": [
      " 48%|████▊     | 15/31 [00:09<00:07,  2.27it/s]"
     ]
    },
    {
     "name": "stdout",
     "output_type": "stream",
     "text": [
      "{'base:': 'Battle Sword', 'icon': 'https://cdn.poedb.tw/image/Art/2DItems/Weapons/OneHandWeapons/OneHandSwords/OneHandSword5.webp'}\n"
     ]
    },
    {
     "name": "stderr",
     "output_type": "stream",
     "text": [
      " 52%|█████▏    | 16/31 [00:09<00:06,  2.30it/s]"
     ]
    },
    {
     "name": "stdout",
     "output_type": "stream",
     "text": [
      "{'base:': 'Elder Sword', 'icon': 'https://cdn.poedb.tw/image/Art/2DItems/Weapons/OneHandWeapons/OneHandSwords/OneHandSword6.webp'}\n"
     ]
    },
    {
     "name": "stderr",
     "output_type": "stream",
     "text": [
      " 55%|█████▍    | 17/31 [00:10<00:06,  2.23it/s]"
     ]
    },
    {
     "name": "stdout",
     "output_type": "stream",
     "text": [
      "{'base:': 'Graceful Sword', 'icon': 'https://cdn.poedb.tw/image/Art/2DItems/Weapons/OneHandWeapons/OneHandSwords/OneHandSword7.webp'}\n"
     ]
    },
    {
     "name": "stderr",
     "output_type": "stream",
     "text": [
      " 58%|█████▊    | 18/31 [00:10<00:05,  2.28it/s]"
     ]
    },
    {
     "name": "stdout",
     "output_type": "stream",
     "text": [
      "{'base:': 'Twilight Blade', 'icon': 'https://cdn.poedb.tw/image/Art/2DItems/Weapons/OneHandWeapons/OneHandSwords/OneHandSword8.webp'}\n"
     ]
    },
    {
     "name": "stderr",
     "output_type": "stream",
     "text": [
      " 61%|██████▏   | 19/31 [00:11<00:05,  2.35it/s]"
     ]
    },
    {
     "name": "stdout",
     "output_type": "stream",
     "text": [
      "{'base:': 'Grappler', 'icon': 'https://cdn.poedb.tw/image/Art/2DItems/Weapons/OneHandWeapons/OneHandSwords/OneHandSword9.webp'}\n"
     ]
    },
    {
     "name": "stderr",
     "output_type": "stream",
     "text": [
      " 65%|██████▍   | 20/31 [00:11<00:04,  2.38it/s]"
     ]
    },
    {
     "name": "stdout",
     "output_type": "stream",
     "text": [
      "{'base:': 'Gemstone Sword', 'icon': 'https://cdn.poedb.tw/image/Art/2DItems/Weapons/OneHandWeapons/OneHandSwords/OneHandSword2.webp'}\n"
     ]
    },
    {
     "name": "stderr",
     "output_type": "stream",
     "text": [
      " 68%|██████▊   | 21/31 [00:11<00:04,  2.44it/s]"
     ]
    },
    {
     "name": "stdout",
     "output_type": "stream",
     "text": [
      "{'base:': 'Corsair Sword', 'icon': 'https://cdn.poedb.tw/image/Art/2DItems/Weapons/OneHandWeapons/OneHandSwords/OneHandSword3.webp'}\n"
     ]
    },
    {
     "name": "stderr",
     "output_type": "stream",
     "text": [
      " 71%|███████   | 22/31 [00:12<00:03,  2.45it/s]"
     ]
    },
    {
     "name": "stdout",
     "output_type": "stream",
     "text": [
      "{'base:': 'Gladius', 'icon': 'https://cdn.poedb.tw/image/Art/2DItems/Weapons/OneHandWeapons/OneHandSwords/OneHandSword4.webp'}\n"
     ]
    },
    {
     "name": "stderr",
     "output_type": "stream",
     "text": [
      " 74%|███████▍  | 23/31 [00:13<00:04,  1.70it/s]"
     ]
    },
    {
     "name": "stdout",
     "output_type": "stream",
     "text": [
      "{'base:': 'Legion Sword', 'icon': 'https://cdn.poedb.tw/image/Art/2DItems/Weapons/OneHandWeapons/OneHandSwords/OneHandSword5.webp'}\n"
     ]
    },
    {
     "name": "stderr",
     "output_type": "stream",
     "text": [
      " 77%|███████▋  | 24/31 [00:13<00:03,  1.87it/s]"
     ]
    },
    {
     "name": "stdout",
     "output_type": "stream",
     "text": [
      "{'base:': 'Vaal Blade', 'icon': 'https://cdn.poedb.tw/image/Art/2DItems/Weapons/OneHandWeapons/OneHandSwords/OneHandSword6.webp'}\n"
     ]
    },
    {
     "name": "stderr",
     "output_type": "stream",
     "text": [
      " 81%|████████  | 25/31 [00:14<00:02,  2.01it/s]"
     ]
    },
    {
     "name": "stdout",
     "output_type": "stream",
     "text": [
      "{'base:': 'Eternal Sword', 'icon': 'https://cdn.poedb.tw/image/Art/2DItems/Weapons/OneHandWeapons/OneHandSwords/OneHandSword7.webp'}\n"
     ]
    },
    {
     "name": "stderr",
     "output_type": "stream",
     "text": [
      " 84%|████████▍ | 26/31 [00:15<00:03,  1.53it/s]"
     ]
    },
    {
     "name": "stdout",
     "output_type": "stream",
     "text": [
      "{'base:': 'Midnight Blade', 'icon': 'https://cdn.poedb.tw/image/Art/2DItems/Weapons/OneHandWeapons/OneHandSwords/OneHandSword8.webp'}\n"
     ]
    },
    {
     "name": "stderr",
     "output_type": "stream",
     "text": [
      " 87%|████████▋ | 27/31 [00:16<00:03,  1.30it/s]"
     ]
    },
    {
     "name": "stdout",
     "output_type": "stream",
     "text": [
      "{'base:': 'Tiger Hook', 'icon': 'https://cdn.poedb.tw/image/Art/2DItems/Weapons/OneHandWeapons/OneHandSwords/OneHandSword9.webp'}\n"
     ]
    },
    {
     "name": "stderr",
     "output_type": "stream",
     "text": [
      " 90%|█████████ | 28/31 [00:16<00:01,  1.51it/s]"
     ]
    },
    {
     "name": "stdout",
     "output_type": "stream",
     "text": [
      "{'base:': 'Fickle Spiritblade', 'icon': 'https://cdn.poedb.tw/image/Art/2DItems/Weapons/OneHandWeapons/OneHandSwords/HeistOneHandSword.webp'}\n"
     ]
    },
    {
     "name": "stderr",
     "output_type": "stream",
     "text": [
      " 94%|█████████▎| 29/31 [00:16<00:01,  1.71it/s]"
     ]
    },
    {
     "name": "stdout",
     "output_type": "stream",
     "text": [
      "{'base:': 'Capricious Spiritblade', 'icon': 'https://cdn.poedb.tw/image/Art/2DItems/Weapons/OneHandWeapons/OneHandSwords/HeistOneHandSword.webp'}\n"
     ]
    },
    {
     "name": "stderr",
     "output_type": "stream",
     "text": [
      " 97%|█████████▋| 30/31 [00:17<00:00,  1.88it/s]"
     ]
    },
    {
     "name": "stdout",
     "output_type": "stream",
     "text": [
      "{'base:': 'Anarchic Spiritblade', 'icon': 'https://cdn.poedb.tw/image/Art/2DItems/Weapons/OneHandWeapons/OneHandSwords/HeistOneHandSword.webp'}\n"
     ]
    },
    {
     "name": "stderr",
     "output_type": "stream",
     "text": [
      "100%|██████████| 31/31 [00:18<00:00,  1.66it/s]"
     ]
    },
    {
     "name": "stdout",
     "output_type": "stream",
     "text": [
      "{'base:': 'Energy Blade', 'icon': 'https://cdn.poedb.tw/image/Art/2DItems/Gems/StormBladeGem.webp'}\n",
      "https://poedb.tw/us/Thrusting_One_Hand_Swords#ThrustingOneHandSwordsItem\n"
     ]
    },
    {
     "name": "stderr",
     "output_type": "stream",
     "text": [
      "\n",
      "  4%|▍         | 1/25 [00:00<00:09,  2.40it/s]"
     ]
    },
    {
     "name": "stdout",
     "output_type": "stream",
     "text": [
      "{'base:': 'Rusted Spike', 'icon': 'https://cdn.poedb.tw/image/Art/2DItems/Weapons/OneHandWeapons/Rapiers/Rapier1.webp'}\n"
     ]
    },
    {
     "name": "stderr",
     "output_type": "stream",
     "text": [
      "  8%|▊         | 2/25 [00:00<00:09,  2.46it/s]"
     ]
    },
    {
     "name": "stdout",
     "output_type": "stream",
     "text": [
      "{'base:': 'Whalebone Rapier', 'icon': 'https://cdn.poedb.tw/image/Art/2DItems/Weapons/OneHandWeapons/Rapiers/Rapier2.webp'}\n"
     ]
    },
    {
     "name": "stderr",
     "output_type": "stream",
     "text": [
      " 12%|█▏        | 3/25 [00:01<00:09,  2.43it/s]"
     ]
    },
    {
     "name": "stdout",
     "output_type": "stream",
     "text": [
      "{'base:': 'Battered Foil', 'icon': 'https://cdn.poedb.tw/image/Art/2DItems/Weapons/OneHandWeapons/Rapiers/Rapier3.webp'}\n"
     ]
    },
    {
     "name": "stderr",
     "output_type": "stream",
     "text": [
      " 16%|█▌        | 4/25 [00:01<00:08,  2.42it/s]"
     ]
    },
    {
     "name": "stdout",
     "output_type": "stream",
     "text": [
      "{'base:': 'Basket Rapier', 'icon': 'https://cdn.poedb.tw/image/Art/2DItems/Weapons/OneHandWeapons/Rapiers/Rapier4.webp'}\n"
     ]
    },
    {
     "name": "stderr",
     "output_type": "stream",
     "text": [
      " 20%|██        | 5/25 [00:02<00:08,  2.42it/s]"
     ]
    },
    {
     "name": "stdout",
     "output_type": "stream",
     "text": [
      "{'base:': 'Jagged Foil', 'icon': 'https://cdn.poedb.tw/image/Art/2DItems/Weapons/OneHandWeapons/Rapiers/Rapier5.webp'}\n"
     ]
    },
    {
     "name": "stderr",
     "output_type": "stream",
     "text": [
      " 24%|██▍       | 6/25 [00:03<00:11,  1.63it/s]"
     ]
    },
    {
     "name": "stdout",
     "output_type": "stream",
     "text": [
      "{'base:': 'Antique Rapier', 'icon': 'https://cdn.poedb.tw/image/Art/2DItems/Weapons/OneHandWeapons/Rapiers/Rapier6.webp'}\n"
     ]
    },
    {
     "name": "stderr",
     "output_type": "stream",
     "text": [
      " 28%|██▊       | 7/25 [00:04<00:13,  1.34it/s]"
     ]
    },
    {
     "name": "stdout",
     "output_type": "stream",
     "text": [
      "{'base:': 'Elegant Foil', 'icon': 'https://cdn.poedb.tw/image/Art/2DItems/Weapons/OneHandWeapons/Rapiers/Rapier7.webp'}\n"
     ]
    },
    {
     "name": "stderr",
     "output_type": "stream",
     "text": [
      " 32%|███▏      | 8/25 [00:04<00:10,  1.56it/s]"
     ]
    },
    {
     "name": "stdout",
     "output_type": "stream",
     "text": [
      "{'base:': 'Thorn Rapier', 'icon': 'https://cdn.poedb.tw/image/Art/2DItems/Weapons/OneHandWeapons/Rapiers/Rapier8.webp'}\n"
     ]
    },
    {
     "name": "stderr",
     "output_type": "stream",
     "text": [
      " 36%|███▌      | 9/25 [00:04<00:09,  1.74it/s]"
     ]
    },
    {
     "name": "stdout",
     "output_type": "stream",
     "text": [
      "{'base:': 'Smallsword', 'icon': 'https://cdn.poedb.tw/image/Art/2DItems/Weapons/OneHandWeapons/Rapiers/Rapier9.webp'}\n"
     ]
    },
    {
     "name": "stderr",
     "output_type": "stream",
     "text": [
      " 40%|████      | 10/25 [00:05<00:07,  1.90it/s]"
     ]
    },
    {
     "name": "stdout",
     "output_type": "stream",
     "text": [
      "{'base:': 'Wyrmbone Rapier', 'icon': 'https://cdn.poedb.tw/image/Art/2DItems/Weapons/OneHandWeapons/Rapiers/Rapier2.webp'}\n"
     ]
    },
    {
     "name": "stderr",
     "output_type": "stream",
     "text": [
      " 44%|████▍     | 11/25 [00:05<00:06,  2.03it/s]"
     ]
    },
    {
     "name": "stdout",
     "output_type": "stream",
     "text": [
      "{'base:': 'Burnished Foil', 'icon': 'https://cdn.poedb.tw/image/Art/2DItems/Weapons/OneHandWeapons/Rapiers/Rapier3.webp'}\n"
     ]
    },
    {
     "name": "stderr",
     "output_type": "stream",
     "text": [
      " 48%|████▊     | 12/25 [00:06<00:06,  2.13it/s]"
     ]
    },
    {
     "name": "stdout",
     "output_type": "stream",
     "text": [
      "{'base:': 'Estoc', 'icon': 'https://cdn.poedb.tw/image/Art/2DItems/Weapons/OneHandWeapons/Rapiers/Rapier4.webp'}\n"
     ]
    },
    {
     "name": "stderr",
     "output_type": "stream",
     "text": [
      " 52%|█████▏    | 13/25 [00:07<00:07,  1.56it/s]"
     ]
    },
    {
     "name": "stdout",
     "output_type": "stream",
     "text": [
      "{'base:': 'Serrated Foil', 'icon': 'https://cdn.poedb.tw/image/Art/2DItems/Weapons/OneHandWeapons/Rapiers/Rapier5.webp'}\n"
     ]
    },
    {
     "name": "stderr",
     "output_type": "stream",
     "text": [
      " 56%|█████▌    | 14/25 [00:07<00:06,  1.75it/s]"
     ]
    },
    {
     "name": "stdout",
     "output_type": "stream",
     "text": [
      "{'base:': 'Primeval Rapier', 'icon': 'https://cdn.poedb.tw/image/Art/2DItems/Weapons/OneHandWeapons/Rapiers/Rapier6.webp'}\n"
     ]
    },
    {
     "name": "stderr",
     "output_type": "stream",
     "text": [
      " 60%|██████    | 15/25 [00:08<00:05,  1.92it/s]"
     ]
    },
    {
     "name": "stdout",
     "output_type": "stream",
     "text": [
      "{'base:': 'Fancy Foil', 'icon': 'https://cdn.poedb.tw/image/Art/2DItems/Weapons/OneHandWeapons/Rapiers/Rapier7.webp'}\n"
     ]
    },
    {
     "name": "stderr",
     "output_type": "stream",
     "text": [
      " 64%|██████▍   | 16/25 [00:09<00:06,  1.49it/s]"
     ]
    },
    {
     "name": "stdout",
     "output_type": "stream",
     "text": [
      "{'base:': 'Apex Rapier', 'icon': 'https://cdn.poedb.tw/image/Art/2DItems/Weapons/OneHandWeapons/Rapiers/Rapier8.webp'}\n"
     ]
    },
    {
     "name": "stderr",
     "output_type": "stream",
     "text": [
      " 68%|██████▊   | 17/25 [00:09<00:04,  1.70it/s]"
     ]
    },
    {
     "name": "stdout",
     "output_type": "stream",
     "text": [
      "{'base:': 'Courtesan Sword', 'icon': 'https://cdn.poedb.tw/image/Art/2DItems/Weapons/OneHandWeapons/Rapiers/Rapier9.webp'}\n"
     ]
    },
    {
     "name": "stderr",
     "output_type": "stream",
     "text": [
      " 72%|███████▏  | 18/25 [00:09<00:03,  1.88it/s]"
     ]
    },
    {
     "name": "stdout",
     "output_type": "stream",
     "text": [
      "{'base:': 'Dragonbone Rapier', 'icon': 'https://cdn.poedb.tw/image/Art/2DItems/Weapons/OneHandWeapons/Rapiers/Rapier2.webp'}\n"
     ]
    },
    {
     "name": "stderr",
     "output_type": "stream",
     "text": [
      " 76%|███████▌  | 19/25 [00:10<00:02,  2.01it/s]"
     ]
    },
    {
     "name": "stdout",
     "output_type": "stream",
     "text": [
      "{'base:': 'Tempered Foil', 'icon': 'https://cdn.poedb.tw/image/Art/2DItems/Weapons/OneHandWeapons/Rapiers/Rapier3.webp'}\n"
     ]
    },
    {
     "name": "stderr",
     "output_type": "stream",
     "text": [
      " 80%|████████  | 20/25 [00:11<00:03,  1.45it/s]"
     ]
    },
    {
     "name": "stdout",
     "output_type": "stream",
     "text": [
      "{'base:': 'Pecoraro', 'icon': 'https://cdn.poedb.tw/image/Art/2DItems/Weapons/OneHandWeapons/Rapiers/Rapier4.webp'}\n"
     ]
    },
    {
     "name": "stderr",
     "output_type": "stream",
     "text": [
      " 84%|████████▍ | 21/25 [00:11<00:02,  1.65it/s]"
     ]
    },
    {
     "name": "stdout",
     "output_type": "stream",
     "text": [
      "{'base:': 'Spiraled Foil', 'icon': 'https://cdn.poedb.tw/image/Art/2DItems/Weapons/OneHandWeapons/Rapiers/Rapier5.webp'}\n"
     ]
    },
    {
     "name": "stderr",
     "output_type": "stream",
     "text": [
      " 88%|████████▊ | 22/25 [00:12<00:01,  1.80it/s]"
     ]
    },
    {
     "name": "stdout",
     "output_type": "stream",
     "text": [
      "{'base:': 'Vaal Rapier', 'icon': 'https://cdn.poedb.tw/image/Art/2DItems/Weapons/OneHandWeapons/Rapiers/Rapier6.webp'}\n"
     ]
    },
    {
     "name": "stderr",
     "output_type": "stream",
     "text": [
      " 92%|█████████▏| 23/25 [00:12<00:01,  1.97it/s]"
     ]
    },
    {
     "name": "stdout",
     "output_type": "stream",
     "text": [
      "{'base:': 'Jewelled Foil', 'icon': 'https://cdn.poedb.tw/image/Art/2DItems/Weapons/OneHandWeapons/Rapiers/Rapier7.webp'}\n"
     ]
    },
    {
     "name": "stderr",
     "output_type": "stream",
     "text": [
      " 96%|█████████▌| 24/25 [00:13<00:00,  2.07it/s]"
     ]
    },
    {
     "name": "stdout",
     "output_type": "stream",
     "text": [
      "{'base:': 'Harpy Rapier', 'icon': 'https://cdn.poedb.tw/image/Art/2DItems/Weapons/OneHandWeapons/Rapiers/Rapier8.webp'}\n"
     ]
    },
    {
     "name": "stderr",
     "output_type": "stream",
     "text": [
      "100%|██████████| 25/25 [00:13<00:00,  1.85it/s]"
     ]
    },
    {
     "name": "stdout",
     "output_type": "stream",
     "text": [
      "{'base:': 'Dragoon Sword', 'icon': 'https://cdn.poedb.tw/image/Art/2DItems/Weapons/OneHandWeapons/Rapiers/Rapier9.webp'}\n",
      "https://poedb.tw/us/One_Hand_Axes#OneHandAxesItem\n"
     ]
    },
    {
     "name": "stderr",
     "output_type": "stream",
     "text": [
      "\n",
      "  4%|▎         | 1/28 [00:00<00:10,  2.54it/s]"
     ]
    },
    {
     "name": "stdout",
     "output_type": "stream",
     "text": [
      "{'base:': 'Rusted Hatchet', 'icon': 'https://cdn.poedb.tw/image/Art/2DItems/Weapons/OneHandWeapons/OneHandAxes/OneHandAxe1.webp'}\n"
     ]
    },
    {
     "name": "stderr",
     "output_type": "stream",
     "text": [
      "  7%|▋         | 2/28 [00:00<00:10,  2.42it/s]"
     ]
    },
    {
     "name": "stdout",
     "output_type": "stream",
     "text": [
      "{'base:': 'Jade Hatchet', 'icon': 'https://cdn.poedb.tw/image/Art/2DItems/Weapons/OneHandWeapons/OneHandAxes/OneHandAxe2.webp'}\n"
     ]
    },
    {
     "name": "stderr",
     "output_type": "stream",
     "text": [
      " 11%|█         | 3/28 [00:01<00:10,  2.29it/s]"
     ]
    },
    {
     "name": "stdout",
     "output_type": "stream",
     "text": [
      "{'base:': 'Boarding Axe', 'icon': 'https://cdn.poedb.tw/image/Art/2DItems/Weapons/OneHandWeapons/OneHandAxes/OneHandAxe3.webp'}\n"
     ]
    },
    {
     "name": "stderr",
     "output_type": "stream",
     "text": [
      " 14%|█▍        | 4/28 [00:02<00:15,  1.53it/s]"
     ]
    },
    {
     "name": "stdout",
     "output_type": "stream",
     "text": [
      "{'base:': 'Cleaver', 'icon': 'https://cdn.poedb.tw/image/Art/2DItems/Weapons/OneHandWeapons/OneHandAxes/OneHandAxe4.webp'}\n"
     ]
    },
    {
     "name": "stderr",
     "output_type": "stream",
     "text": [
      " 18%|█▊        | 5/28 [00:02<00:12,  1.77it/s]"
     ]
    },
    {
     "name": "stdout",
     "output_type": "stream",
     "text": [
      "{'base:': 'Broad Axe', 'icon': 'https://cdn.poedb.tw/image/Art/2DItems/Weapons/OneHandWeapons/OneHandAxes/OneHandAxe5.webp'}\n"
     ]
    },
    {
     "name": "stderr",
     "output_type": "stream",
     "text": [
      " 21%|██▏       | 6/28 [00:03<00:11,  1.97it/s]"
     ]
    },
    {
     "name": "stdout",
     "output_type": "stream",
     "text": [
      "{'base:': 'Arming Axe', 'icon': 'https://cdn.poedb.tw/image/Art/2DItems/Weapons/OneHandWeapons/OneHandAxes/OneHandAxe6.webp'}\n"
     ]
    },
    {
     "name": "stderr",
     "output_type": "stream",
     "text": [
      " 25%|██▌       | 7/28 [00:04<00:13,  1.51it/s]"
     ]
    },
    {
     "name": "stdout",
     "output_type": "stream",
     "text": [
      "{'base:': 'Decorative Axe', 'icon': 'https://cdn.poedb.tw/image/Art/2DItems/Weapons/OneHandWeapons/OneHandAxes/OneHandAxe7.webp'}\n"
     ]
    },
    {
     "name": "stderr",
     "output_type": "stream",
     "text": [
      " 29%|██▊       | 8/28 [00:04<00:11,  1.74it/s]"
     ]
    },
    {
     "name": "stdout",
     "output_type": "stream",
     "text": [
      "{'base:': 'Spectral Axe', 'icon': 'https://cdn.poedb.tw/image/Art/2DItems/Weapons/OneHandWeapons/OneHandAxes/OneHandAxe8.webp'}\n"
     ]
    },
    {
     "name": "stderr",
     "output_type": "stream",
     "text": [
      " 32%|███▏      | 9/28 [00:05<00:13,  1.41it/s]"
     ]
    },
    {
     "name": "stdout",
     "output_type": "stream",
     "text": [
      "{'base:': 'Etched Hatchet', 'icon': 'https://cdn.poedb.tw/image/Art/2DItems/Weapons/OneHandWeapons/OneHandAxes/OneHandAxe9.webp'}\n"
     ]
    },
    {
     "name": "stderr",
     "output_type": "stream",
     "text": [
      " 36%|███▌      | 10/28 [00:06<00:14,  1.24it/s]"
     ]
    },
    {
     "name": "stdout",
     "output_type": "stream",
     "text": [
      "{'base:': 'Jasper Axe', 'icon': 'https://cdn.poedb.tw/image/Art/2DItems/Weapons/OneHandWeapons/OneHandAxes/OneHandAxe2.webp'}\n"
     ]
    },
    {
     "name": "stderr",
     "output_type": "stream",
     "text": [
      " 39%|███▉      | 11/28 [00:06<00:11,  1.45it/s]"
     ]
    },
    {
     "name": "stdout",
     "output_type": "stream",
     "text": [
      "{'base:': 'Tomahawk', 'icon': 'https://cdn.poedb.tw/image/Art/2DItems/Weapons/OneHandWeapons/OneHandAxes/OneHandAxe3.webp'}\n"
     ]
    },
    {
     "name": "stderr",
     "output_type": "stream",
     "text": [
      " 43%|████▎     | 12/28 [00:07<00:09,  1.66it/s]"
     ]
    },
    {
     "name": "stdout",
     "output_type": "stream",
     "text": [
      "{'base:': 'Wrist Chopper', 'icon': 'https://cdn.poedb.tw/image/Art/2DItems/Weapons/OneHandWeapons/OneHandAxes/OneHandAxe4.webp'}\n"
     ]
    },
    {
     "name": "stderr",
     "output_type": "stream",
     "text": [
      " 46%|████▋     | 13/28 [00:07<00:08,  1.83it/s]"
     ]
    },
    {
     "name": "stdout",
     "output_type": "stream",
     "text": [
      "{'base:': 'War Axe', 'icon': 'https://cdn.poedb.tw/image/Art/2DItems/Weapons/OneHandWeapons/OneHandAxes/OneHandAxe5.webp'}\n"
     ]
    },
    {
     "name": "stderr",
     "output_type": "stream",
     "text": [
      " 50%|█████     | 14/28 [00:08<00:09,  1.45it/s]"
     ]
    },
    {
     "name": "stdout",
     "output_type": "stream",
     "text": [
      "{'base:': 'Chest Splitter', 'icon': 'https://cdn.poedb.tw/image/Art/2DItems/Weapons/OneHandWeapons/OneHandAxes/OneHandAxe6.webp'}\n"
     ]
    },
    {
     "name": "stderr",
     "output_type": "stream",
     "text": [
      " 54%|█████▎    | 15/28 [00:09<00:07,  1.65it/s]"
     ]
    },
    {
     "name": "stdout",
     "output_type": "stream",
     "text": [
      "{'base:': 'Ceremonial Axe', 'icon': 'https://cdn.poedb.tw/image/Art/2DItems/Weapons/OneHandWeapons/OneHandAxes/OneHandAxe7.webp'}\n"
     ]
    },
    {
     "name": "stderr",
     "output_type": "stream",
     "text": [
      " 57%|█████▋    | 16/28 [00:09<00:06,  1.82it/s]"
     ]
    },
    {
     "name": "stdout",
     "output_type": "stream",
     "text": [
      "{'base:': 'Wraith Axe', 'icon': 'https://cdn.poedb.tw/image/Art/2DItems/Weapons/OneHandWeapons/OneHandAxes/OneHandAxe8.webp'}\n"
     ]
    },
    {
     "name": "stderr",
     "output_type": "stream",
     "text": [
      " 61%|██████    | 17/28 [00:10<00:07,  1.45it/s]"
     ]
    },
    {
     "name": "stdout",
     "output_type": "stream",
     "text": [
      "{'base:': 'Engraved Hatchet', 'icon': 'https://cdn.poedb.tw/image/Art/2DItems/Weapons/OneHandWeapons/OneHandAxes/OneHandAxe9.webp'}\n"
     ]
    },
    {
     "name": "stderr",
     "output_type": "stream",
     "text": [
      " 64%|██████▍   | 18/28 [00:10<00:06,  1.66it/s]"
     ]
    },
    {
     "name": "stdout",
     "output_type": "stream",
     "text": [
      "{'base:': 'Karui Axe', 'icon': 'https://cdn.poedb.tw/image/Art/2DItems/Weapons/OneHandWeapons/OneHandAxes/OneHandAxe2.webp'}\n"
     ]
    },
    {
     "name": "stderr",
     "output_type": "stream",
     "text": [
      " 68%|██████▊   | 19/28 [00:12<00:06,  1.37it/s]"
     ]
    },
    {
     "name": "stdout",
     "output_type": "stream",
     "text": [
      "{'base:': 'Siege Axe', 'icon': 'https://cdn.poedb.tw/image/Art/2DItems/Weapons/OneHandWeapons/OneHandAxes/OneHandAxe3.webp'}\n"
     ]
    },
    {
     "name": "stderr",
     "output_type": "stream",
     "text": [
      " 71%|███████▏  | 20/28 [00:13<00:06,  1.23it/s]"
     ]
    },
    {
     "name": "stdout",
     "output_type": "stream",
     "text": [
      "{'base:': 'Reaver Axe', 'icon': 'https://cdn.poedb.tw/image/Art/2DItems/Weapons/OneHandWeapons/OneHandAxes/OneHandAxe4.webp'}\n"
     ]
    },
    {
     "name": "stderr",
     "output_type": "stream",
     "text": [
      " 75%|███████▌  | 21/28 [00:14<00:06,  1.14it/s]"
     ]
    },
    {
     "name": "stdout",
     "output_type": "stream",
     "text": [
      "{'base:': 'Butcher Axe', 'icon': 'https://cdn.poedb.tw/image/Art/2DItems/Weapons/OneHandWeapons/OneHandAxes/OneHandAxe5.webp'}\n"
     ]
    },
    {
     "name": "stderr",
     "output_type": "stream",
     "text": [
      " 79%|███████▊  | 22/28 [00:14<00:04,  1.36it/s]"
     ]
    },
    {
     "name": "stdout",
     "output_type": "stream",
     "text": [
      "{'base:': 'Vaal Hatchet', 'icon': 'https://cdn.poedb.tw/image/Art/2DItems/Weapons/OneHandWeapons/OneHandAxes/OneHandAxe6.webp'}\n"
     ]
    },
    {
     "name": "stderr",
     "output_type": "stream",
     "text": [
      " 82%|████████▏ | 23/28 [00:15<00:04,  1.21it/s]"
     ]
    },
    {
     "name": "stdout",
     "output_type": "stream",
     "text": [
      "{'base:': 'Royal Axe', 'icon': 'https://cdn.poedb.tw/image/Art/2DItems/Weapons/OneHandWeapons/OneHandAxes/OneHandAxe7.webp'}\n"
     ]
    },
    {
     "name": "stderr",
     "output_type": "stream",
     "text": [
      " 86%|████████▌ | 24/28 [00:15<00:02,  1.43it/s]"
     ]
    },
    {
     "name": "stdout",
     "output_type": "stream",
     "text": [
      "{'base:': 'Infernal Axe', 'icon': 'https://cdn.poedb.tw/image/Art/2DItems/Effects/Weapon/InfernalAxeSkin.webp'}\n"
     ]
    },
    {
     "name": "stderr",
     "output_type": "stream",
     "text": [
      " 89%|████████▉ | 25/28 [00:16<00:01,  1.64it/s]"
     ]
    },
    {
     "name": "stdout",
     "output_type": "stream",
     "text": [
      "{'base:': 'Runic Hatchet', 'icon': 'https://cdn.poedb.tw/image/Art/2DItems/Weapons/OneHandWeapons/OneHandAxes/OneHandAxe9.webp'}\n"
     ]
    },
    {
     "name": "stderr",
     "output_type": "stream",
     "text": [
      " 93%|█████████▎| 26/28 [00:16<00:01,  1.81it/s]"
     ]
    },
    {
     "name": "stdout",
     "output_type": "stream",
     "text": [
      "{'base:': 'Maltreatment Axe', 'icon': 'https://cdn.poedb.tw/image/Art/2DItems/Weapons/OneHandWeapons/OneHandAxes/HeistOnehandAxe.webp'}\n"
     ]
    },
    {
     "name": "stderr",
     "output_type": "stream",
     "text": [
      " 96%|█████████▋| 27/28 [00:17<00:00,  1.86it/s]"
     ]
    },
    {
     "name": "stdout",
     "output_type": "stream",
     "text": [
      "{'base:': 'Disapprobation Axe', 'icon': 'https://cdn.poedb.tw/image/Art/2DItems/Weapons/OneHandWeapons/OneHandAxes/HeistOnehandAxe.webp'}\n"
     ]
    },
    {
     "name": "stderr",
     "output_type": "stream",
     "text": [
      "100%|██████████| 28/28 [00:18<00:00,  1.54it/s]"
     ]
    },
    {
     "name": "stdout",
     "output_type": "stream",
     "text": [
      "{'base:': 'Psychotic Axe', 'icon': 'https://cdn.poedb.tw/image/Art/2DItems/Weapons/OneHandWeapons/OneHandAxes/HeistOnehandAxe.webp'}\n",
      "https://poedb.tw/us/One_Hand_Maces#OneHandMacesItem\n"
     ]
    },
    {
     "name": "stderr",
     "output_type": "stream",
     "text": [
      "\n",
      "  4%|▎         | 1/28 [00:00<00:10,  2.48it/s]"
     ]
    },
    {
     "name": "stdout",
     "output_type": "stream",
     "text": [
      "{'base:': 'Driftwood Club', 'icon': 'https://cdn.poedb.tw/image/Art/2DItems/Weapons/OneHandWeapons/OneHandMaces/OneHandMace1.webp'}\n"
     ]
    },
    {
     "name": "stderr",
     "output_type": "stream",
     "text": [
      "  7%|▋         | 2/28 [00:01<00:19,  1.32it/s]"
     ]
    },
    {
     "name": "stdout",
     "output_type": "stream",
     "text": [
      "{'base:': 'Tribal Club', 'icon': 'https://cdn.poedb.tw/image/Art/2DItems/Weapons/OneHandWeapons/OneHandMaces/OneHandMace2.webp'}\n"
     ]
    },
    {
     "name": "stderr",
     "output_type": "stream",
     "text": [
      " 11%|█         | 3/28 [00:02<00:21,  1.14it/s]"
     ]
    },
    {
     "name": "stdout",
     "output_type": "stream",
     "text": [
      "{'base:': 'Spiked Club', 'icon': 'https://cdn.poedb.tw/image/Art/2DItems/Weapons/OneHandWeapons/OneHandMaces/OneHandMace3.webp'}\n"
     ]
    },
    {
     "name": "stderr",
     "output_type": "stream",
     "text": [
      " 14%|█▍        | 4/28 [00:03<00:22,  1.05it/s]"
     ]
    },
    {
     "name": "stdout",
     "output_type": "stream",
     "text": [
      "{'base:': 'Stone Hammer', 'icon': 'https://cdn.poedb.tw/image/Art/2DItems/Weapons/OneHandWeapons/OneHandMaces/OneHandMace4.webp'}\n"
     ]
    },
    {
     "name": "stderr",
     "output_type": "stream",
     "text": [
      " 18%|█▊        | 5/28 [00:03<00:17,  1.34it/s]"
     ]
    },
    {
     "name": "stdout",
     "output_type": "stream",
     "text": [
      "{'base:': 'War Hammer', 'icon': 'https://cdn.poedb.tw/image/Art/2DItems/Weapons/OneHandWeapons/OneHandMaces/OneHandMace5.webp'}\n"
     ]
    },
    {
     "name": "stderr",
     "output_type": "stream",
     "text": [
      " 21%|██▏       | 6/28 [00:04<00:13,  1.58it/s]"
     ]
    },
    {
     "name": "stdout",
     "output_type": "stream",
     "text": [
      "{'base:': 'Bladed Mace', 'icon': 'https://cdn.poedb.tw/image/Art/2DItems/Weapons/OneHandWeapons/OneHandMaces/OneHandMace6.webp'}\n"
     ]
    },
    {
     "name": "stderr",
     "output_type": "stream",
     "text": [
      " 25%|██▌       | 7/28 [00:04<00:11,  1.79it/s]"
     ]
    },
    {
     "name": "stdout",
     "output_type": "stream",
     "text": [
      "{'base:': 'Ceremonial Mace', 'icon': 'https://cdn.poedb.tw/image/Art/2DItems/Weapons/OneHandWeapons/OneHandMaces/OneHandMace7.webp'}\n"
     ]
    },
    {
     "name": "stderr",
     "output_type": "stream",
     "text": [
      " 29%|██▊       | 8/28 [00:05<00:10,  1.93it/s]"
     ]
    },
    {
     "name": "stdout",
     "output_type": "stream",
     "text": [
      "{'base:': 'Dream Mace', 'icon': 'https://cdn.poedb.tw/image/Art/2DItems/Weapons/OneHandWeapons/OneHandMaces/OneHandMace8.webp'}\n"
     ]
    },
    {
     "name": "stderr",
     "output_type": "stream",
     "text": [
      " 32%|███▏      | 9/28 [00:05<00:09,  2.04it/s]"
     ]
    },
    {
     "name": "stdout",
     "output_type": "stream",
     "text": [
      "{'base:': 'Wyrm Mace', 'icon': 'https://cdn.poedb.tw/image/Art/2DItems/Weapons/OneHandWeapons/OneHandMaces/OneHandMace9.webp'}\n"
     ]
    },
    {
     "name": "stderr",
     "output_type": "stream",
     "text": [
      " 36%|███▌      | 10/28 [00:05<00:08,  2.14it/s]"
     ]
    },
    {
     "name": "stdout",
     "output_type": "stream",
     "text": [
      "{'base:': 'Petrified Club', 'icon': 'https://cdn.poedb.tw/image/Art/2DItems/Weapons/OneHandWeapons/OneHandMaces/OneHandMace2.webp'}\n"
     ]
    },
    {
     "name": "stderr",
     "output_type": "stream",
     "text": [
      " 39%|███▉      | 11/28 [00:06<00:10,  1.57it/s]"
     ]
    },
    {
     "name": "stdout",
     "output_type": "stream",
     "text": [
      "{'base:': 'Barbed Club', 'icon': 'https://cdn.poedb.tw/image/Art/2DItems/Weapons/OneHandWeapons/OneHandMaces/OneHandMace3.webp'}\n"
     ]
    },
    {
     "name": "stderr",
     "output_type": "stream",
     "text": [
      " 43%|████▎     | 12/28 [00:08<00:12,  1.32it/s]"
     ]
    },
    {
     "name": "stdout",
     "output_type": "stream",
     "text": [
      "{'base:': 'Rock Breaker', 'icon': 'https://cdn.poedb.tw/image/Art/2DItems/Weapons/OneHandWeapons/OneHandMaces/OneHandMace4.webp'}\n"
     ]
    },
    {
     "name": "stderr",
     "output_type": "stream",
     "text": [
      " 46%|████▋     | 13/28 [00:08<00:09,  1.54it/s]"
     ]
    },
    {
     "name": "stdout",
     "output_type": "stream",
     "text": [
      "{'base:': 'Battle Hammer', 'icon': 'https://cdn.poedb.tw/image/Art/2DItems/Weapons/OneHandWeapons/OneHandMaces/OneHandMace5.webp'}\n"
     ]
    },
    {
     "name": "stderr",
     "output_type": "stream",
     "text": [
      " 50%|█████     | 14/28 [00:08<00:08,  1.73it/s]"
     ]
    },
    {
     "name": "stdout",
     "output_type": "stream",
     "text": [
      "{'base:': 'Flanged Mace', 'icon': 'https://cdn.poedb.tw/image/Art/2DItems/Weapons/OneHandWeapons/OneHandMaces/OneHandMace6.webp'}\n"
     ]
    },
    {
     "name": "stderr",
     "output_type": "stream",
     "text": [
      " 54%|█████▎    | 15/28 [00:09<00:09,  1.40it/s]"
     ]
    },
    {
     "name": "stdout",
     "output_type": "stream",
     "text": [
      "{'base:': 'Ornate Mace', 'icon': 'https://cdn.poedb.tw/image/Art/2DItems/Weapons/OneHandWeapons/OneHandMaces/OneHandMace7.webp'}\n"
     ]
    },
    {
     "name": "stderr",
     "output_type": "stream",
     "text": [
      " 57%|█████▋    | 16/28 [00:10<00:07,  1.59it/s]"
     ]
    },
    {
     "name": "stdout",
     "output_type": "stream",
     "text": [
      "{'base:': 'Phantom Mace', 'icon': 'https://cdn.poedb.tw/image/Art/2DItems/Weapons/OneHandWeapons/OneHandMaces/OneHandMace8.webp'}\n"
     ]
    },
    {
     "name": "stderr",
     "output_type": "stream",
     "text": [
      " 61%|██████    | 17/28 [00:11<00:08,  1.33it/s]"
     ]
    },
    {
     "name": "stdout",
     "output_type": "stream",
     "text": [
      "{'base:': 'Dragon Mace', 'icon': 'https://cdn.poedb.tw/image/Art/2DItems/Weapons/OneHandWeapons/OneHandMaces/OneHandMace9.webp'}\n"
     ]
    },
    {
     "name": "stderr",
     "output_type": "stream",
     "text": [
      " 64%|██████▍   | 18/28 [00:11<00:06,  1.54it/s]"
     ]
    },
    {
     "name": "stdout",
     "output_type": "stream",
     "text": [
      "{'base:': 'Ancestral Club', 'icon': 'https://cdn.poedb.tw/image/Art/2DItems/Weapons/OneHandWeapons/OneHandMaces/OneHandMace2.webp'}\n"
     ]
    },
    {
     "name": "stderr",
     "output_type": "stream",
     "text": [
      " 68%|██████▊   | 19/28 [00:12<00:05,  1.71it/s]"
     ]
    },
    {
     "name": "stdout",
     "output_type": "stream",
     "text": [
      "{'base:': 'Tenderizer', 'icon': 'https://cdn.poedb.tw/image/Art/2DItems/Weapons/OneHandWeapons/OneHandMaces/OneHandMace3.webp'}\n"
     ]
    },
    {
     "name": "stderr",
     "output_type": "stream",
     "text": [
      " 71%|███████▏  | 20/28 [00:12<00:04,  1.88it/s]"
     ]
    },
    {
     "name": "stdout",
     "output_type": "stream",
     "text": [
      "{'base:': 'Gavel', 'icon': 'https://cdn.poedb.tw/image/Art/2DItems/Weapons/OneHandWeapons/OneHandMaces/OneHandMace4.webp'}\n"
     ]
    },
    {
     "name": "stderr",
     "output_type": "stream",
     "text": [
      " 75%|███████▌  | 21/28 [00:13<00:04,  1.47it/s]"
     ]
    },
    {
     "name": "stdout",
     "output_type": "stream",
     "text": [
      "{'base:': 'Legion Hammer', 'icon': 'https://cdn.poedb.tw/image/Art/2DItems/Weapons/OneHandWeapons/OneHandMaces/OneHandMace5.webp'}\n"
     ]
    },
    {
     "name": "stderr",
     "output_type": "stream",
     "text": [
      " 79%|███████▊  | 22/28 [00:14<00:04,  1.28it/s]"
     ]
    },
    {
     "name": "stdout",
     "output_type": "stream",
     "text": [
      "{'base:': 'Pernach', 'icon': 'https://cdn.poedb.tw/image/Art/2DItems/Weapons/OneHandWeapons/OneHandMaces/OneHandMace6.webp'}\n"
     ]
    },
    {
     "name": "stderr",
     "output_type": "stream",
     "text": [
      " 82%|████████▏ | 23/28 [00:15<00:03,  1.49it/s]"
     ]
    },
    {
     "name": "stdout",
     "output_type": "stream",
     "text": [
      "{'base:': 'Auric Mace', 'icon': 'https://cdn.poedb.tw/image/Art/2DItems/Weapons/OneHandWeapons/OneHandMaces/OneHandMace7.webp'}\n"
     ]
    },
    {
     "name": "stderr",
     "output_type": "stream",
     "text": [
      " 86%|████████▌ | 24/28 [00:15<00:02,  1.69it/s]"
     ]
    },
    {
     "name": "stdout",
     "output_type": "stream",
     "text": [
      "{'base:': 'Nightmare Mace', 'icon': 'https://cdn.poedb.tw/image/Art/2DItems/Weapons/OneHandWeapons/OneHandMaces/OneHandMace8.webp'}\n"
     ]
    },
    {
     "name": "stderr",
     "output_type": "stream",
     "text": [
      " 89%|████████▉ | 25/28 [00:15<00:01,  1.84it/s]"
     ]
    },
    {
     "name": "stdout",
     "output_type": "stream",
     "text": [
      "{'base:': 'Behemoth Mace', 'icon': 'https://cdn.poedb.tw/image/Art/2DItems/Weapons/OneHandWeapons/OneHandMaces/OneHandMace9.webp'}\n"
     ]
    },
    {
     "name": "stderr",
     "output_type": "stream",
     "text": [
      " 93%|█████████▎| 26/28 [00:16<00:01,  1.99it/s]"
     ]
    },
    {
     "name": "stdout",
     "output_type": "stream",
     "text": [
      "{'base:': 'Flare Mace', 'icon': 'https://cdn.poedb.tw/image/Art/2DItems/Weapons/OneHandWeapons/OneHandMaces/HeistOneHandMace.webp'}\n"
     ]
    },
    {
     "name": "stderr",
     "output_type": "stream",
     "text": [
      " 96%|█████████▋| 27/28 [00:16<00:00,  2.08it/s]"
     ]
    },
    {
     "name": "stdout",
     "output_type": "stream",
     "text": [
      "{'base:': 'Crack Mace', 'icon': 'https://cdn.poedb.tw/image/Art/2DItems/Weapons/OneHandWeapons/OneHandMaces/HeistOneHandMace.webp'}\n"
     ]
    },
    {
     "name": "stderr",
     "output_type": "stream",
     "text": [
      "100%|██████████| 28/28 [00:17<00:00,  1.63it/s]"
     ]
    },
    {
     "name": "stdout",
     "output_type": "stream",
     "text": [
      "{'base:': 'Boom Mace', 'icon': 'https://cdn.poedb.tw/image/Art/2DItems/Weapons/OneHandWeapons/OneHandMaces/HeistOneHandMace.webp'}\n",
      "https://poedb.tw/us/Sceptres#SceptresItem\n"
     ]
    },
    {
     "name": "stderr",
     "output_type": "stream",
     "text": [
      "\n",
      "  4%|▎         | 1/28 [00:00<00:11,  2.34it/s]"
     ]
    },
    {
     "name": "stdout",
     "output_type": "stream",
     "text": [
      "{'base:': 'Driftwood Sceptre', 'icon': 'https://cdn.poedb.tw/image/Art/2DItems/Weapons/OneHandWeapons/Scepters/scepter1.webp'}\n"
     ]
    },
    {
     "name": "stderr",
     "output_type": "stream",
     "text": [
      "  7%|▋         | 2/28 [00:01<00:20,  1.30it/s]"
     ]
    },
    {
     "name": "stdout",
     "output_type": "stream",
     "text": [
      "{'base:': 'Darkwood Sceptre', 'icon': 'https://cdn.poedb.tw/image/Art/2DItems/Weapons/OneHandWeapons/Scepters/scepter2.webp'}\n"
     ]
    },
    {
     "name": "stderr",
     "output_type": "stream",
     "text": [
      " 11%|█         | 3/28 [00:02<00:22,  1.12it/s]"
     ]
    },
    {
     "name": "stdout",
     "output_type": "stream",
     "text": [
      "{'base:': 'Bronze Sceptre', 'icon': 'https://cdn.poedb.tw/image/Art/2DItems/Weapons/OneHandWeapons/Scepters/scepter3.webp'}\n"
     ]
    },
    {
     "name": "stderr",
     "output_type": "stream",
     "text": [
      " 14%|█▍        | 4/28 [00:02<00:16,  1.42it/s]"
     ]
    },
    {
     "name": "stdout",
     "output_type": "stream",
     "text": [
      "{'base:': 'Quartz Sceptre', 'icon': 'https://cdn.poedb.tw/image/Art/2DItems/Weapons/OneHandWeapons/Scepters/scepter4.webp'}\n"
     ]
    },
    {
     "name": "stderr",
     "output_type": "stream",
     "text": [
      " 18%|█▊        | 5/28 [00:03<00:18,  1.22it/s]"
     ]
    },
    {
     "name": "stdout",
     "output_type": "stream",
     "text": [
      "{'base:': 'Iron Sceptre', 'icon': 'https://cdn.poedb.tw/image/Art/2DItems/Weapons/OneHandWeapons/Scepters/scepter5.webp'}\n"
     ]
    },
    {
     "name": "stderr",
     "output_type": "stream",
     "text": [
      " 21%|██▏       | 6/28 [00:04<00:15,  1.46it/s]"
     ]
    },
    {
     "name": "stdout",
     "output_type": "stream",
     "text": [
      "{'base:': 'Ochre Sceptre', 'icon': 'https://cdn.poedb.tw/image/Art/2DItems/Weapons/OneHandWeapons/Scepters/scepter6.webp'}\n"
     ]
    },
    {
     "name": "stderr",
     "output_type": "stream",
     "text": [
      " 25%|██▌       | 7/28 [00:05<00:16,  1.26it/s]"
     ]
    },
    {
     "name": "stdout",
     "output_type": "stream",
     "text": [
      "{'base:': 'Ritual Sceptre', 'icon': 'https://cdn.poedb.tw/image/Art/2DItems/Weapons/OneHandWeapons/Scepters/scepter7.webp'}\n"
     ]
    },
    {
     "name": "stderr",
     "output_type": "stream",
     "text": [
      " 29%|██▊       | 8/28 [00:06<00:17,  1.16it/s]"
     ]
    },
    {
     "name": "stdout",
     "output_type": "stream",
     "text": [
      "{'base:': 'Shadow Sceptre', 'icon': 'https://cdn.poedb.tw/image/Art/2DItems/Weapons/OneHandWeapons/Scepters/scepter8.webp'}\n"
     ]
    },
    {
     "name": "stderr",
     "output_type": "stream",
     "text": [
      " 32%|███▏      | 9/28 [00:06<00:13,  1.38it/s]"
     ]
    },
    {
     "name": "stdout",
     "output_type": "stream",
     "text": [
      "{'base:': 'Horned Sceptre', 'icon': 'https://cdn.poedb.tw/image/Art/2DItems/Weapons/OneHandWeapons/Scepters/scepter9.webp'}\n"
     ]
    },
    {
     "name": "stderr",
     "output_type": "stream",
     "text": [
      " 36%|███▌      | 10/28 [00:07<00:11,  1.60it/s]"
     ]
    },
    {
     "name": "stdout",
     "output_type": "stream",
     "text": [
      "{'base:': 'Grinning Fetish', 'icon': 'https://cdn.poedb.tw/image/Art/2DItems/Weapons/OneHandWeapons/Scepters/scepter2.webp'}\n"
     ]
    },
    {
     "name": "stderr",
     "output_type": "stream",
     "text": [
      " 39%|███▉      | 11/28 [00:07<00:09,  1.78it/s]"
     ]
    },
    {
     "name": "stdout",
     "output_type": "stream",
     "text": [
      "{'base:': 'Sekhem', 'icon': 'https://cdn.poedb.tw/image/Art/2DItems/Weapons/OneHandWeapons/Scepters/scepter3.webp'}\n"
     ]
    },
    {
     "name": "stderr",
     "output_type": "stream",
     "text": [
      " 43%|████▎     | 12/28 [00:08<00:11,  1.42it/s]"
     ]
    },
    {
     "name": "stdout",
     "output_type": "stream",
     "text": [
      "{'base:': 'Crystal Sceptre', 'icon': 'https://cdn.poedb.tw/image/Art/2DItems/Weapons/OneHandWeapons/Scepters/scepter4.webp'}\n"
     ]
    },
    {
     "name": "stderr",
     "output_type": "stream",
     "text": [
      " 46%|████▋     | 13/28 [00:09<00:11,  1.25it/s]"
     ]
    },
    {
     "name": "stdout",
     "output_type": "stream",
     "text": [
      "{'base:': 'Lead Sceptre', 'icon': 'https://cdn.poedb.tw/image/Art/2DItems/Weapons/OneHandWeapons/Scepters/scepter5.webp'}\n"
     ]
    },
    {
     "name": "stderr",
     "output_type": "stream",
     "text": [
      " 50%|█████     | 14/28 [00:10<00:09,  1.45it/s]"
     ]
    },
    {
     "name": "stdout",
     "output_type": "stream",
     "text": [
      "{'base:': 'Blood Sceptre', 'icon': 'https://cdn.poedb.tw/image/Art/2DItems/Weapons/OneHandWeapons/Scepters/scepter6.webp'}\n"
     ]
    },
    {
     "name": "stderr",
     "output_type": "stream",
     "text": [
      " 54%|█████▎    | 15/28 [00:11<00:10,  1.27it/s]"
     ]
    },
    {
     "name": "stdout",
     "output_type": "stream",
     "text": [
      "{'base:': 'Royal Sceptre', 'icon': 'https://cdn.poedb.tw/image/Art/2DItems/Weapons/OneHandWeapons/Scepters/scepter7.webp'}\n"
     ]
    },
    {
     "name": "stderr",
     "output_type": "stream",
     "text": [
      " 57%|█████▋    | 16/28 [00:12<00:10,  1.18it/s]"
     ]
    },
    {
     "name": "stdout",
     "output_type": "stream",
     "text": [
      "{'base:': 'Abyssal Sceptre', 'icon': 'https://cdn.poedb.tw/image/Art/2DItems/Weapons/OneHandWeapons/Scepters/scepter8.webp'}\n"
     ]
    },
    {
     "name": "stderr",
     "output_type": "stream",
     "text": [
      " 61%|██████    | 17/28 [00:12<00:07,  1.41it/s]"
     ]
    },
    {
     "name": "stdout",
     "output_type": "stream",
     "text": [
      "{'base:': 'Stag Sceptre', 'icon': 'https://cdn.poedb.tw/image/Art/2DItems/Weapons/OneHandWeapons/Scepters/scepter9.webp'}\n"
     ]
    },
    {
     "name": "stderr",
     "output_type": "stream",
     "text": [
      " 64%|██████▍   | 18/28 [00:12<00:06,  1.56it/s]"
     ]
    },
    {
     "name": "stdout",
     "output_type": "stream",
     "text": [
      "{'base:': 'Karui Sceptre', 'icon': 'https://cdn.poedb.tw/image/Art/2DItems/Weapons/OneHandWeapons/Scepters/scepter2.webp'}\n"
     ]
    },
    {
     "name": "stderr",
     "output_type": "stream",
     "text": [
      " 68%|██████▊   | 19/28 [00:13<00:06,  1.33it/s]"
     ]
    },
    {
     "name": "stdout",
     "output_type": "stream",
     "text": [
      "{'base:': \"Tyrant's Sekhem\", 'icon': 'https://cdn.poedb.tw/image/Art/2DItems/Weapons/OneHandWeapons/Scepters/scepter3.webp'}\n"
     ]
    },
    {
     "name": "stderr",
     "output_type": "stream",
     "text": [
      " 71%|███████▏  | 20/28 [00:15<00:06,  1.20it/s]"
     ]
    },
    {
     "name": "stdout",
     "output_type": "stream",
     "text": [
      "{'base:': 'Opal Sceptre', 'icon': 'https://cdn.poedb.tw/image/Art/2DItems/Weapons/OneHandWeapons/Scepters/scepter4.webp'}\n"
     ]
    },
    {
     "name": "stderr",
     "output_type": "stream",
     "text": [
      " 75%|███████▌  | 21/28 [00:16<00:06,  1.13it/s]"
     ]
    },
    {
     "name": "stdout",
     "output_type": "stream",
     "text": [
      "{'base:': 'Platinum Sceptre', 'icon': 'https://cdn.poedb.tw/image/Art/2DItems/Weapons/OneHandWeapons/Scepters/scepter5.webp'}\n"
     ]
    },
    {
     "name": "stderr",
     "output_type": "stream",
     "text": [
      " 79%|███████▊  | 22/28 [00:16<00:04,  1.35it/s]"
     ]
    },
    {
     "name": "stdout",
     "output_type": "stream",
     "text": [
      "{'base:': 'Vaal Sceptre', 'icon': 'https://cdn.poedb.tw/image/Art/2DItems/Weapons/OneHandWeapons/Scepters/scepter6.webp'}\n"
     ]
    },
    {
     "name": "stderr",
     "output_type": "stream",
     "text": [
      " 82%|████████▏ | 23/28 [00:16<00:03,  1.56it/s]"
     ]
    },
    {
     "name": "stdout",
     "output_type": "stream",
     "text": [
      "{'base:': 'Carnal Sceptre', 'icon': 'https://cdn.poedb.tw/image/Art/2DItems/Weapons/OneHandWeapons/Scepters/scepter7.webp'}\n"
     ]
    },
    {
     "name": "stderr",
     "output_type": "stream",
     "text": [
      " 86%|████████▌ | 24/28 [00:17<00:02,  1.74it/s]"
     ]
    },
    {
     "name": "stdout",
     "output_type": "stream",
     "text": [
      "{'base:': 'Void Sceptre', 'icon': 'https://cdn.poedb.tw/image/Art/2DItems/Weapons/OneHandWeapons/Scepters/scepter8.webp'}\n"
     ]
    },
    {
     "name": "stderr",
     "output_type": "stream",
     "text": [
      " 89%|████████▉ | 25/28 [00:18<00:02,  1.32it/s]"
     ]
    },
    {
     "name": "stdout",
     "output_type": "stream",
     "text": [
      "{'base:': 'Sambar Sceptre', 'icon': 'https://cdn.poedb.tw/image/Art/2DItems/Weapons/OneHandWeapons/Scepters/scepter9.webp'}\n"
     ]
    },
    {
     "name": "stderr",
     "output_type": "stream",
     "text": [
      " 93%|█████████▎| 26/28 [00:18<00:01,  1.54it/s]"
     ]
    },
    {
     "name": "stdout",
     "output_type": "stream",
     "text": [
      "{'base:': 'Oscillating Sceptre', 'icon': 'https://cdn.poedb.tw/image/Art/2DItems/Weapons/OneHandWeapons/Scepters/HeistSceptreElemental.webp'}\n"
     ]
    },
    {
     "name": "stderr",
     "output_type": "stream",
     "text": [
      " 96%|█████████▋| 27/28 [00:19<00:00,  1.29it/s]"
     ]
    },
    {
     "name": "stdout",
     "output_type": "stream",
     "text": [
      "{'base:': 'Stabilising Sceptre', 'icon': 'https://cdn.poedb.tw/image/Art/2DItems/Weapons/OneHandWeapons/Scepters/HeistSceptreElemental.webp'}\n"
     ]
    },
    {
     "name": "stderr",
     "output_type": "stream",
     "text": [
      "100%|██████████| 28/28 [00:20<00:00,  1.34it/s]"
     ]
    },
    {
     "name": "stdout",
     "output_type": "stream",
     "text": [
      "{'base:': 'Alternating Sceptre', 'icon': 'https://cdn.poedb.tw/image/Art/2DItems/Weapons/OneHandWeapons/Scepters/HeistSceptreElemental.webp'}\n",
      "https://poedb.tw/us/Rune_Daggers#RuneDaggersItem\n"
     ]
    },
    {
     "name": "stderr",
     "output_type": "stream",
     "text": [
      "\n",
      "  6%|▌         | 1/18 [00:00<00:07,  2.40it/s]"
     ]
    },
    {
     "name": "stdout",
     "output_type": "stream",
     "text": [
      "{'base:': 'Carving Knife', 'icon': 'https://cdn.poedb.tw/image/Art/2DItems/Weapons/OneHandWeapons/Daggers/Dagger3.webp'}\n"
     ]
    },
    {
     "name": "stderr",
     "output_type": "stream",
     "text": [
      " 11%|█         | 2/18 [00:01<00:12,  1.29it/s]"
     ]
    },
    {
     "name": "stdout",
     "output_type": "stream",
     "text": [
      "{'base:': 'Boot Knife', 'icon': 'https://cdn.poedb.tw/image/Art/2DItems/Weapons/OneHandWeapons/Daggers/Dagger5.webp'}\n"
     ]
    },
    {
     "name": "stderr",
     "output_type": "stream",
     "text": [
      " 17%|█▋        | 3/18 [00:02<00:14,  1.06it/s]"
     ]
    },
    {
     "name": "stdout",
     "output_type": "stream",
     "text": [
      "{'base:': 'Copper Kris', 'icon': 'https://cdn.poedb.tw/image/Art/2DItems/Weapons/OneHandWeapons/Daggers/Dagger6.webp'}\n"
     ]
    },
    {
     "name": "stderr",
     "output_type": "stream",
     "text": [
      " 22%|██▏       | 4/18 [00:03<00:13,  1.02it/s]"
     ]
    },
    {
     "name": "stdout",
     "output_type": "stream",
     "text": [
      "{'base:': 'Skean', 'icon': 'https://cdn.poedb.tw/image/Art/2DItems/Weapons/OneHandWeapons/Daggers/Dagger7.webp'}\n"
     ]
    },
    {
     "name": "stderr",
     "output_type": "stream",
     "text": [
      " 28%|██▊       | 5/18 [00:04<00:10,  1.28it/s]"
     ]
    },
    {
     "name": "stdout",
     "output_type": "stream",
     "text": [
      "{'base:': 'Imp Dagger', 'icon': 'https://cdn.poedb.tw/image/Art/2DItems/Weapons/OneHandWeapons/Daggers/Dagger8.webp'}\n"
     ]
    },
    {
     "name": "stderr",
     "output_type": "stream",
     "text": [
      " 33%|███▎      | 6/18 [00:05<00:10,  1.16it/s]"
     ]
    },
    {
     "name": "stdout",
     "output_type": "stream",
     "text": [
      "{'base:': 'Butcher Knife', 'icon': 'https://cdn.poedb.tw/image/Art/2DItems/Weapons/OneHandWeapons/Daggers/Dagger3.webp'}\n"
     ]
    },
    {
     "name": "stderr",
     "output_type": "stream",
     "text": [
      " 39%|███▉      | 7/18 [00:06<00:10,  1.09it/s]"
     ]
    },
    {
     "name": "stdout",
     "output_type": "stream",
     "text": [
      "{'base:': 'Boot Blade', 'icon': 'https://cdn.poedb.tw/image/Art/2DItems/Weapons/OneHandWeapons/Daggers/Dagger5.webp'}\n"
     ]
    },
    {
     "name": "stderr",
     "output_type": "stream",
     "text": [
      " 44%|████▍     | 8/18 [00:07<00:10,  1.05s/it]"
     ]
    },
    {
     "name": "stdout",
     "output_type": "stream",
     "text": [
      "{'base:': 'Golden Kris', 'icon': 'https://cdn.poedb.tw/image/Art/2DItems/Weapons/OneHandWeapons/Daggers/Dagger6.webp'}\n"
     ]
    },
    {
     "name": "stderr",
     "output_type": "stream",
     "text": [
      " 50%|█████     | 9/18 [00:08<00:09,  1.03s/it]"
     ]
    },
    {
     "name": "stdout",
     "output_type": "stream",
     "text": [
      "{'base:': 'Royal Skean', 'icon': 'https://cdn.poedb.tw/image/Art/2DItems/Weapons/OneHandWeapons/Daggers/Dagger7.webp'}\n"
     ]
    },
    {
     "name": "stderr",
     "output_type": "stream",
     "text": [
      " 56%|█████▌    | 10/18 [00:08<00:06,  1.18it/s]"
     ]
    },
    {
     "name": "stdout",
     "output_type": "stream",
     "text": [
      "{'base:': 'Fiend Dagger', 'icon': 'https://cdn.poedb.tw/image/Art/2DItems/Weapons/OneHandWeapons/Daggers/Dagger8.webp'}\n"
     ]
    },
    {
     "name": "stderr",
     "output_type": "stream",
     "text": [
      " 61%|██████    | 11/18 [00:09<00:04,  1.41it/s]"
     ]
    },
    {
     "name": "stdout",
     "output_type": "stream",
     "text": [
      "{'base:': 'Slaughter Knife', 'icon': 'https://cdn.poedb.tw/image/Art/2DItems/Weapons/OneHandWeapons/Daggers/Dagger3.webp'}\n"
     ]
    },
    {
     "name": "stderr",
     "output_type": "stream",
     "text": [
      " 67%|██████▋   | 12/18 [00:09<00:03,  1.62it/s]"
     ]
    },
    {
     "name": "stdout",
     "output_type": "stream",
     "text": [
      "{'base:': 'Ezomyte Dagger', 'icon': 'https://cdn.poedb.tw/image/Art/2DItems/Weapons/OneHandWeapons/Daggers/Dagger5.webp'}\n"
     ]
    },
    {
     "name": "stderr",
     "output_type": "stream",
     "text": [
      " 72%|███████▏  | 13/18 [00:10<00:02,  1.81it/s]"
     ]
    },
    {
     "name": "stdout",
     "output_type": "stream",
     "text": [
      "{'base:': 'Platinum Kris', 'icon': 'https://cdn.poedb.tw/image/Art/2DItems/Weapons/OneHandWeapons/Daggers/Dagger6.webp'}\n"
     ]
    },
    {
     "name": "stderr",
     "output_type": "stream",
     "text": [
      " 78%|███████▊  | 14/18 [00:11<00:02,  1.46it/s]"
     ]
    },
    {
     "name": "stdout",
     "output_type": "stream",
     "text": [
      "{'base:': 'Imperial Skean', 'icon': 'https://cdn.poedb.tw/image/Art/2DItems/Weapons/OneHandWeapons/Daggers/Dagger7.webp'}\n"
     ]
    },
    {
     "name": "stderr",
     "output_type": "stream",
     "text": [
      " 83%|████████▎ | 15/18 [00:12<00:02,  1.28it/s]"
     ]
    },
    {
     "name": "stdout",
     "output_type": "stream",
     "text": [
      "{'base:': 'Demon Dagger', 'icon': 'https://cdn.poedb.tw/image/Art/2DItems/Weapons/OneHandWeapons/Daggers/Dagger8.webp'}\n"
     ]
    },
    {
     "name": "stderr",
     "output_type": "stream",
     "text": [
      " 89%|████████▉ | 16/18 [00:12<00:01,  1.48it/s]"
     ]
    },
    {
     "name": "stdout",
     "output_type": "stream",
     "text": [
      "{'base:': 'Flickerflame Blade', 'icon': 'https://cdn.poedb.tw/image/Art/2DItems/Weapons/OneHandWeapons/Daggers/HeistRuneDagger.webp'}\n"
     ]
    },
    {
     "name": "stderr",
     "output_type": "stream",
     "text": [
      " 94%|█████████▍| 17/18 [00:13<00:00,  1.29it/s]"
     ]
    },
    {
     "name": "stdout",
     "output_type": "stream",
     "text": [
      "{'base:': 'Flashfire Blade', 'icon': 'https://cdn.poedb.tw/image/Art/2DItems/Weapons/OneHandWeapons/Daggers/HeistRuneDagger.webp'}\n"
     ]
    },
    {
     "name": "stderr",
     "output_type": "stream",
     "text": [
      "100%|██████████| 18/18 [00:13<00:00,  1.29it/s]"
     ]
    },
    {
     "name": "stdout",
     "output_type": "stream",
     "text": [
      "{'base:': 'Infernal Blade', 'icon': 'https://cdn.poedb.tw/image/Art/2DItems/Weapons/OneHandWeapons/Daggers/HeistRuneDagger.webp'}\n",
      "https://poedb.tw/us/Bows#BowsItem\n"
     ]
    },
    {
     "name": "stderr",
     "output_type": "stream",
     "text": [
      "\n",
      "  3%|▎         | 1/29 [00:00<00:11,  2.48it/s]"
     ]
    },
    {
     "name": "stdout",
     "output_type": "stream",
     "text": [
      "{'base:': 'Crude Bow', 'icon': 'https://cdn.poedb.tw/image/Art/2DItems/Weapons/TwoHandWeapons/Bows/Bow1.webp'}\n"
     ]
    },
    {
     "name": "stderr",
     "output_type": "stream",
     "text": [
      "  7%|▋         | 2/29 [00:00<00:10,  2.53it/s]"
     ]
    },
    {
     "name": "stdout",
     "output_type": "stream",
     "text": [
      "{'base:': 'Short Bow', 'icon': 'https://cdn.poedb.tw/image/Art/2DItems/Weapons/TwoHandWeapons/Bows/Bow2.webp'}\n"
     ]
    },
    {
     "name": "stderr",
     "output_type": "stream",
     "text": [
      " 10%|█         | 3/29 [00:01<00:10,  2.48it/s]"
     ]
    },
    {
     "name": "stdout",
     "output_type": "stream",
     "text": [
      "{'base:': 'Long Bow', 'icon': 'https://cdn.poedb.tw/image/Art/2DItems/Weapons/TwoHandWeapons/Bows/Bow3.webp'}\n"
     ]
    },
    {
     "name": "stderr",
     "output_type": "stream",
     "text": [
      " 14%|█▍        | 4/29 [00:02<00:16,  1.55it/s]"
     ]
    },
    {
     "name": "stdout",
     "output_type": "stream",
     "text": [
      "{'base:': 'Composite Bow', 'icon': 'https://cdn.poedb.tw/image/Art/2DItems/Weapons/TwoHandWeapons/Bows/Bow4.webp'}\n"
     ]
    },
    {
     "name": "stderr",
     "output_type": "stream",
     "text": [
      " 17%|█▋        | 5/29 [00:03<00:18,  1.27it/s]"
     ]
    },
    {
     "name": "stdout",
     "output_type": "stream",
     "text": [
      "{'base:': 'Recurve Bow', 'icon': 'https://cdn.poedb.tw/image/Art/2DItems/Weapons/TwoHandWeapons/Bows/Bow5.webp'}\n"
     ]
    },
    {
     "name": "stderr",
     "output_type": "stream",
     "text": [
      " 21%|██        | 6/29 [00:03<00:15,  1.51it/s]"
     ]
    },
    {
     "name": "stdout",
     "output_type": "stream",
     "text": [
      "{'base:': 'Bone Bow', 'icon': 'https://cdn.poedb.tw/image/Art/2DItems/Weapons/TwoHandWeapons/Bows/Bow6.webp'}\n"
     ]
    },
    {
     "name": "stderr",
     "output_type": "stream",
     "text": [
      " 24%|██▍       | 7/29 [00:04<00:12,  1.72it/s]"
     ]
    },
    {
     "name": "stdout",
     "output_type": "stream",
     "text": [
      "{'base:': 'Royal Bow', 'icon': 'https://cdn.poedb.tw/image/Art/2DItems/Weapons/TwoHandWeapons/Bows/Bow7.webp'}\n"
     ]
    },
    {
     "name": "stderr",
     "output_type": "stream",
     "text": [
      " 28%|██▊       | 8/29 [00:05<00:15,  1.39it/s]"
     ]
    },
    {
     "name": "stdout",
     "output_type": "stream",
     "text": [
      "{'base:': 'Death Bow', 'icon': 'https://cdn.poedb.tw/image/Art/2DItems/Weapons/TwoHandWeapons/Bows/Bow8.webp'}\n"
     ]
    },
    {
     "name": "stderr",
     "output_type": "stream",
     "text": [
      " 31%|███       | 9/29 [00:06<00:16,  1.23it/s]"
     ]
    },
    {
     "name": "stdout",
     "output_type": "stream",
     "text": [
      "{'base:': 'Reflex Bow', 'icon': 'https://cdn.poedb.tw/image/Art/2DItems/Weapons/TwoHandWeapons/Bows/Bow9.webp'}\n"
     ]
    },
    {
     "name": "stderr",
     "output_type": "stream",
     "text": [
      " 34%|███▍      | 10/29 [00:06<00:13,  1.46it/s]"
     ]
    },
    {
     "name": "stdout",
     "output_type": "stream",
     "text": [
      "{'base:': 'Grove Bow', 'icon': 'https://cdn.poedb.tw/image/Art/2DItems/Weapons/TwoHandWeapons/Bows/Bow2.webp'}\n"
     ]
    },
    {
     "name": "stderr",
     "output_type": "stream",
     "text": [
      " 38%|███▊      | 11/29 [00:07<00:14,  1.27it/s]"
     ]
    },
    {
     "name": "stdout",
     "output_type": "stream",
     "text": [
      "{'base:': 'Decurve Bow', 'icon': 'https://cdn.poedb.tw/image/Art/2DItems/Weapons/TwoHandWeapons/Bows/Bow3.webp'}\n"
     ]
    },
    {
     "name": "stderr",
     "output_type": "stream",
     "text": [
      " 41%|████▏     | 12/29 [00:08<00:14,  1.16it/s]"
     ]
    },
    {
     "name": "stdout",
     "output_type": "stream",
     "text": [
      "{'base:': 'Compound Bow', 'icon': 'https://cdn.poedb.tw/image/Art/2DItems/Weapons/TwoHandWeapons/Bows/Bow4.webp'}\n"
     ]
    },
    {
     "name": "stderr",
     "output_type": "stream",
     "text": [
      " 45%|████▍     | 13/29 [00:08<00:11,  1.39it/s]"
     ]
    },
    {
     "name": "stdout",
     "output_type": "stream",
     "text": [
      "{'base:': 'Sniper Bow', 'icon': 'https://cdn.poedb.tw/image/Art/2DItems/Weapons/TwoHandWeapons/Bows/Bow5.webp'}\n"
     ]
    },
    {
     "name": "stderr",
     "output_type": "stream",
     "text": [
      " 48%|████▊     | 14/29 [00:09<00:09,  1.61it/s]"
     ]
    },
    {
     "name": "stdout",
     "output_type": "stream",
     "text": [
      "{'base:': 'Ivory Bow', 'icon': 'https://cdn.poedb.tw/image/Art/2DItems/Weapons/TwoHandWeapons/Bows/Bow6.webp'}\n"
     ]
    },
    {
     "name": "stderr",
     "output_type": "stream",
     "text": [
      " 52%|█████▏    | 15/29 [00:09<00:07,  1.77it/s]"
     ]
    },
    {
     "name": "stdout",
     "output_type": "stream",
     "text": [
      "{'base:': 'Highborn Bow', 'icon': 'https://cdn.poedb.tw/image/Art/2DItems/Weapons/TwoHandWeapons/Bows/Bow7.webp'}\n"
     ]
    },
    {
     "name": "stderr",
     "output_type": "stream",
     "text": [
      " 55%|█████▌    | 16/29 [00:10<00:06,  1.94it/s]"
     ]
    },
    {
     "name": "stdout",
     "output_type": "stream",
     "text": [
      "{'base:': 'Decimation Bow', 'icon': 'https://cdn.poedb.tw/image/Art/2DItems/Weapons/TwoHandWeapons/Bows/Bow8.webp'}\n"
     ]
    },
    {
     "name": "stderr",
     "output_type": "stream",
     "text": [
      " 59%|█████▊    | 17/29 [00:11<00:07,  1.51it/s]"
     ]
    },
    {
     "name": "stdout",
     "output_type": "stream",
     "text": [
      "{'base:': 'Steelwood Bow', 'icon': 'https://cdn.poedb.tw/image/Art/2DItems/Weapons/TwoHandWeapons/Bows/Bow9.webp'}\n"
     ]
    },
    {
     "name": "stderr",
     "output_type": "stream",
     "text": [
      " 62%|██████▏   | 18/29 [00:11<00:06,  1.67it/s]"
     ]
    },
    {
     "name": "stdout",
     "output_type": "stream",
     "text": [
      "{'base:': 'Thicket Bow', 'icon': 'https://cdn.poedb.tw/image/Art/2DItems/Weapons/TwoHandWeapons/Bows/Bow2.webp'}\n"
     ]
    },
    {
     "name": "stderr",
     "output_type": "stream",
     "text": [
      " 66%|██████▌   | 19/29 [00:12<00:05,  1.81it/s]"
     ]
    },
    {
     "name": "stdout",
     "output_type": "stream",
     "text": [
      "{'base:': 'Citadel Bow', 'icon': 'https://cdn.poedb.tw/image/Art/2DItems/Weapons/TwoHandWeapons/Bows/Bow3.webp'}\n"
     ]
    },
    {
     "name": "stderr",
     "output_type": "stream",
     "text": [
      " 69%|██████▉   | 20/29 [00:13<00:06,  1.45it/s]"
     ]
    },
    {
     "name": "stdout",
     "output_type": "stream",
     "text": [
      "{'base:': 'Ranger Bow', 'icon': 'https://cdn.poedb.tw/image/Art/2DItems/Weapons/TwoHandWeapons/Bows/Bow4.webp'}\n"
     ]
    },
    {
     "name": "stderr",
     "output_type": "stream",
     "text": [
      " 72%|███████▏  | 21/29 [00:13<00:04,  1.64it/s]"
     ]
    },
    {
     "name": "stdout",
     "output_type": "stream",
     "text": [
      "{'base:': 'Assassin Bow', 'icon': 'https://cdn.poedb.tw/image/Art/2DItems/Weapons/TwoHandWeapons/Bows/Bow5.webp'}\n"
     ]
    },
    {
     "name": "stderr",
     "output_type": "stream",
     "text": [
      " 76%|███████▌  | 22/29 [00:14<00:05,  1.36it/s]"
     ]
    },
    {
     "name": "stdout",
     "output_type": "stream",
     "text": [
      "{'base:': 'Spine Bow', 'icon': 'https://cdn.poedb.tw/image/Art/2DItems/Weapons/TwoHandWeapons/Bows/Bow6.webp'}\n"
     ]
    },
    {
     "name": "stderr",
     "output_type": "stream",
     "text": [
      " 79%|███████▉  | 23/29 [00:15<00:04,  1.21it/s]"
     ]
    },
    {
     "name": "stdout",
     "output_type": "stream",
     "text": [
      "{'base:': 'Imperial Bow', 'icon': 'https://cdn.poedb.tw/image/Art/2DItems/Weapons/TwoHandWeapons/Bows/Bow7.webp'}\n"
     ]
    },
    {
     "name": "stderr",
     "output_type": "stream",
     "text": [
      " 83%|████████▎ | 24/29 [00:16<00:03,  1.42it/s]"
     ]
    },
    {
     "name": "stdout",
     "output_type": "stream",
     "text": [
      "{'base:': 'Harbinger Bow', 'icon': 'https://cdn.poedb.tw/image/Art/2DItems/Weapons/TwoHandWeapons/Bows/Bow8.webp'}\n"
     ]
    },
    {
     "name": "stderr",
     "output_type": "stream",
     "text": [
      " 86%|████████▌ | 25/29 [00:16<00:02,  1.59it/s]"
     ]
    },
    {
     "name": "stdout",
     "output_type": "stream",
     "text": [
      "{'base:': 'Maraketh Bow', 'icon': 'https://cdn.poedb.tw/image/Art/2DItems/Weapons/TwoHandWeapons/Bows/Bow9.webp'}\n"
     ]
    },
    {
     "name": "stderr",
     "output_type": "stream",
     "text": [
      " 90%|████████▉ | 26/29 [00:16<00:01,  1.75it/s]"
     ]
    },
    {
     "name": "stdout",
     "output_type": "stream",
     "text": [
      "{'base:': 'Hedron Bow', 'icon': 'https://cdn.poedb.tw/image/Art/2DItems/Weapons/TwoHandWeapons/Bows/HeistBowFire.webp'}\n"
     ]
    },
    {
     "name": "stderr",
     "output_type": "stream",
     "text": [
      " 93%|█████████▎| 27/29 [00:17<00:01,  1.43it/s]"
     ]
    },
    {
     "name": "stdout",
     "output_type": "stream",
     "text": [
      "{'base:': 'Foundry Bow', 'icon': 'https://cdn.poedb.tw/image/Art/2DItems/Weapons/TwoHandWeapons/Bows/HeistBowFire.webp'}\n"
     ]
    },
    {
     "name": "stderr",
     "output_type": "stream",
     "text": [
      " 97%|█████████▋| 28/29 [00:18<00:00,  1.28it/s]"
     ]
    },
    {
     "name": "stdout",
     "output_type": "stream",
     "text": [
      "{'base:': 'Solarine Bow', 'icon': 'https://cdn.poedb.tw/image/Art/2DItems/Weapons/TwoHandWeapons/Bows/HeistBowFire.webp'}\n"
     ]
    },
    {
     "name": "stderr",
     "output_type": "stream",
     "text": [
      "100%|██████████| 29/29 [00:19<00:00,  1.46it/s]"
     ]
    },
    {
     "name": "stdout",
     "output_type": "stream",
     "text": [
      "{'base:': 'Royale Crude Bow', 'icon': 'https://cdn.poedb.tw/image/Art/2DItems/Weapons/TwoHandWeapons/Bows/Bow1.webp'}\n",
      "https://poedb.tw/us/Staves#StavesItem\n"
     ]
    },
    {
     "name": "stderr",
     "output_type": "stream",
     "text": [
      "\n",
      "  6%|▋         | 1/16 [00:00<00:05,  2.63it/s]"
     ]
    },
    {
     "name": "stdout",
     "output_type": "stream",
     "text": [
      "{'base:': 'Gnarled Branch', 'icon': 'https://cdn.poedb.tw/image/Art/2DItems/Weapons/TwoHandWeapons/Staves/Staff1.webp'}\n"
     ]
    },
    {
     "name": "stderr",
     "output_type": "stream",
     "text": [
      " 12%|█▎        | 2/16 [00:01<00:10,  1.31it/s]"
     ]
    },
    {
     "name": "stdout",
     "output_type": "stream",
     "text": [
      "{'base:': 'Primitive Staff', 'icon': 'https://cdn.poedb.tw/image/Art/2DItems/Weapons/TwoHandWeapons/Staves/Staff2.webp'}\n"
     ]
    },
    {
     "name": "stderr",
     "output_type": "stream",
     "text": [
      " 19%|█▉        | 3/16 [00:02<00:11,  1.12it/s]"
     ]
    },
    {
     "name": "stdout",
     "output_type": "stream",
     "text": [
      "{'base:': 'Long Staff', 'icon': 'https://cdn.poedb.tw/image/Art/2DItems/Weapons/TwoHandWeapons/Staves/Staff3.webp'}\n"
     ]
    },
    {
     "name": "stderr",
     "output_type": "stream",
     "text": [
      " 25%|██▌       | 4/16 [00:03<00:12,  1.06s/it]"
     ]
    },
    {
     "name": "stdout",
     "output_type": "stream",
     "text": [
      "{'base:': 'Royal Staff', 'icon': 'https://cdn.poedb.tw/image/Art/2DItems/Weapons/TwoHandWeapons/Staves/Staff6.webp'}\n"
     ]
    },
    {
     "name": "stderr",
     "output_type": "stream",
     "text": [
      " 31%|███▏      | 5/16 [00:04<00:09,  1.20it/s]"
     ]
    },
    {
     "name": "stdout",
     "output_type": "stream",
     "text": [
      "{'base:': 'Crescent Staff', 'icon': 'https://cdn.poedb.tw/image/Art/2DItems/Weapons/TwoHandWeapons/Staves/Staff8.webp'}\n"
     ]
    },
    {
     "name": "stderr",
     "output_type": "stream",
     "text": [
      " 38%|███▊      | 6/16 [00:04<00:06,  1.46it/s]"
     ]
    },
    {
     "name": "stdout",
     "output_type": "stream",
     "text": [
      "{'base:': 'Woodful Staff', 'icon': 'https://cdn.poedb.tw/image/Art/2DItems/Weapons/TwoHandWeapons/Staves/Staff2.webp'}\n"
     ]
    },
    {
     "name": "stderr",
     "output_type": "stream",
     "text": [
      " 44%|████▍     | 7/16 [00:05<00:07,  1.25it/s]"
     ]
    },
    {
     "name": "stdout",
     "output_type": "stream",
     "text": [
      "{'base:': 'Quarterstaff', 'icon': 'https://cdn.poedb.tw/image/Art/2DItems/Weapons/TwoHandWeapons/Staves/Staff3.webp'}\n"
     ]
    },
    {
     "name": "stderr",
     "output_type": "stream",
     "text": [
      " 50%|█████     | 8/16 [00:06<00:05,  1.49it/s]"
     ]
    },
    {
     "name": "stdout",
     "output_type": "stream",
     "text": [
      "{'base:': 'Highborn Staff', 'icon': 'https://cdn.poedb.tw/image/Art/2DItems/Weapons/TwoHandWeapons/Staves/Staff6.webp'}\n"
     ]
    },
    {
     "name": "stderr",
     "output_type": "stream",
     "text": [
      " 56%|█████▋    | 9/16 [00:07<00:05,  1.29it/s]"
     ]
    },
    {
     "name": "stdout",
     "output_type": "stream",
     "text": [
      "{'base:': 'Moon Staff', 'icon': 'https://cdn.poedb.tw/image/Art/2DItems/Weapons/TwoHandWeapons/Staves/Staff8.webp'}\n"
     ]
    },
    {
     "name": "stderr",
     "output_type": "stream",
     "text": [
      " 62%|██████▎   | 10/16 [00:07<00:03,  1.52it/s]"
     ]
    },
    {
     "name": "stdout",
     "output_type": "stream",
     "text": [
      "{'base:': 'Primordial Staff', 'icon': 'https://cdn.poedb.tw/image/Art/2DItems/Weapons/TwoHandWeapons/Staves/Staff2.webp'}\n"
     ]
    },
    {
     "name": "stderr",
     "output_type": "stream",
     "text": [
      " 69%|██████▉   | 11/16 [00:07<00:02,  1.71it/s]"
     ]
    },
    {
     "name": "stdout",
     "output_type": "stream",
     "text": [
      "{'base:': 'Lathi', 'icon': 'https://cdn.poedb.tw/image/Art/2DItems/Weapons/TwoHandWeapons/Staves/Staff3.webp'}\n"
     ]
    },
    {
     "name": "stderr",
     "output_type": "stream",
     "text": [
      " 75%|███████▌  | 12/16 [00:08<00:02,  1.38it/s]"
     ]
    },
    {
     "name": "stdout",
     "output_type": "stream",
     "text": [
      "{'base:': 'Imperial Staff', 'icon': 'https://cdn.poedb.tw/image/Art/2DItems/Weapons/TwoHandWeapons/Staves/Staff6.webp'}\n"
     ]
    },
    {
     "name": "stderr",
     "output_type": "stream",
     "text": [
      " 81%|████████▏ | 13/16 [00:09<00:01,  1.59it/s]"
     ]
    },
    {
     "name": "stdout",
     "output_type": "stream",
     "text": [
      "{'base:': 'Eclipse Staff', 'icon': 'https://cdn.poedb.tw/image/Art/2DItems/Weapons/TwoHandWeapons/Staves/Staff8.webp'}\n"
     ]
    },
    {
     "name": "stderr",
     "output_type": "stream",
     "text": [
      " 88%|████████▊ | 14/16 [00:09<00:01,  1.77it/s]"
     ]
    },
    {
     "name": "stdout",
     "output_type": "stream",
     "text": [
      "{'base:': 'Transformer Staff', 'icon': 'https://cdn.poedb.tw/image/Art/2DItems/Weapons/TwoHandWeapons/Staves/HeistStaff.webp'}\n"
     ]
    },
    {
     "name": "stderr",
     "output_type": "stream",
     "text": [
      " 94%|█████████▍| 15/16 [00:10<00:00,  1.41it/s]"
     ]
    },
    {
     "name": "stdout",
     "output_type": "stream",
     "text": [
      "{'base:': 'Reciprocation Staff', 'icon': 'https://cdn.poedb.tw/image/Art/2DItems/Weapons/TwoHandWeapons/Staves/HeistStaff.webp'}\n"
     ]
    },
    {
     "name": "stderr",
     "output_type": "stream",
     "text": [
      "100%|██████████| 16/16 [00:11<00:00,  1.36it/s]"
     ]
    },
    {
     "name": "stdout",
     "output_type": "stream",
     "text": [
      "{'base:': 'Battery Staff', 'icon': 'https://cdn.poedb.tw/image/Art/2DItems/Weapons/TwoHandWeapons/Staves/HeistStaff.webp'}\n",
      "https://poedb.tw/us/Two_Hand_Swords#TwoHandSwordsItem\n"
     ]
    },
    {
     "name": "stderr",
     "output_type": "stream",
     "text": [
      "\n",
      "  4%|▍         | 1/26 [00:00<00:10,  2.45it/s]"
     ]
    },
    {
     "name": "stdout",
     "output_type": "stream",
     "text": [
      "{'base:': 'Corroded Blade', 'icon': 'https://cdn.poedb.tw/image/Art/2DItems/Weapons/TwoHandWeapons/TwoHandSwords/TwoHandSword1.webp'}\n"
     ]
    },
    {
     "name": "stderr",
     "output_type": "stream",
     "text": [
      "  8%|▊         | 2/26 [00:01<00:18,  1.31it/s]"
     ]
    },
    {
     "name": "stdout",
     "output_type": "stream",
     "text": [
      "{'base:': 'Longsword', 'icon': 'https://cdn.poedb.tw/image/Art/2DItems/Weapons/TwoHandWeapons/TwoHandSwords/TwoHandSword2.webp'}\n"
     ]
    },
    {
     "name": "stderr",
     "output_type": "stream",
     "text": [
      " 12%|█▏        | 3/26 [00:01<00:13,  1.68it/s]"
     ]
    },
    {
     "name": "stdout",
     "output_type": "stream",
     "text": [
      "{'base:': 'Bastard Sword', 'icon': 'https://cdn.poedb.tw/image/Art/2DItems/Weapons/TwoHandWeapons/TwoHandSwords/TwoHandSword3.webp'}\n"
     ]
    },
    {
     "name": "stderr",
     "output_type": "stream",
     "text": [
      " 15%|█▌        | 4/26 [00:02<00:11,  1.89it/s]"
     ]
    },
    {
     "name": "stdout",
     "output_type": "stream",
     "text": [
      "{'base:': 'Two-Handed Sword', 'icon': 'https://cdn.poedb.tw/image/Art/2DItems/Weapons/TwoHandWeapons/TwoHandSwords/TwoHandSword4.webp'}\n"
     ]
    },
    {
     "name": "stderr",
     "output_type": "stream",
     "text": [
      " 19%|█▉        | 5/26 [00:02<00:10,  2.05it/s]"
     ]
    },
    {
     "name": "stdout",
     "output_type": "stream",
     "text": [
      "{'base:': 'Etched Greatsword', 'icon': 'https://cdn.poedb.tw/image/Art/2DItems/Weapons/TwoHandWeapons/TwoHandSwords/TwoHandSword5.webp'}\n"
     ]
    },
    {
     "name": "stderr",
     "output_type": "stream",
     "text": [
      " 23%|██▎       | 6/26 [00:04<00:15,  1.26it/s]"
     ]
    },
    {
     "name": "stdout",
     "output_type": "stream",
     "text": [
      "{'base:': 'Ornate Sword', 'icon': 'https://cdn.poedb.tw/image/Art/2DItems/Weapons/TwoHandWeapons/TwoHandSwords/TwoHandSword6.webp'}\n"
     ]
    },
    {
     "name": "stderr",
     "output_type": "stream",
     "text": [
      " 27%|██▋       | 7/26 [00:05<00:16,  1.15it/s]"
     ]
    },
    {
     "name": "stdout",
     "output_type": "stream",
     "text": [
      "{'base:': 'Spectral Sword', 'icon': 'https://cdn.poedb.tw/image/Art/2DItems/Weapons/TwoHandWeapons/TwoHandSwords/TwoHandSword7.webp'}\n"
     ]
    },
    {
     "name": "stderr",
     "output_type": "stream",
     "text": [
      " 31%|███       | 8/26 [00:06<00:16,  1.09it/s]"
     ]
    },
    {
     "name": "stdout",
     "output_type": "stream",
     "text": [
      "{'base:': 'Curved Blade', 'icon': 'https://cdn.poedb.tw/image/Art/2DItems/Weapons/TwoHandWeapons/TwoHandSwords/TwoHandSword8.webp'}\n"
     ]
    },
    {
     "name": "stderr",
     "output_type": "stream",
     "text": [
      " 35%|███▍      | 9/26 [00:06<00:12,  1.31it/s]"
     ]
    },
    {
     "name": "stdout",
     "output_type": "stream",
     "text": [
      "{'base:': 'Butcher Sword', 'icon': 'https://cdn.poedb.tw/image/Art/2DItems/Weapons/TwoHandWeapons/TwoHandSwords/TwoHandSword2.webp'}\n"
     ]
    },
    {
     "name": "stderr",
     "output_type": "stream",
     "text": [
      " 38%|███▊      | 10/26 [00:07<00:13,  1.19it/s]"
     ]
    },
    {
     "name": "stdout",
     "output_type": "stream",
     "text": [
      "{'base:': 'Footman Sword', 'icon': 'https://cdn.poedb.tw/image/Art/2DItems/Weapons/TwoHandWeapons/TwoHandSwords/TwoHandSword3.webp'}\n"
     ]
    },
    {
     "name": "stderr",
     "output_type": "stream",
     "text": [
      " 42%|████▏     | 11/26 [00:08<00:13,  1.12it/s]"
     ]
    },
    {
     "name": "stdout",
     "output_type": "stream",
     "text": [
      "{'base:': 'Highland Blade', 'icon': 'https://cdn.poedb.tw/image/Art/2DItems/Weapons/TwoHandWeapons/TwoHandSwords/TwoHandSword4.webp'}\n"
     ]
    },
    {
     "name": "stderr",
     "output_type": "stream",
     "text": [
      " 46%|████▌     | 12/26 [00:08<00:10,  1.35it/s]"
     ]
    },
    {
     "name": "stdout",
     "output_type": "stream",
     "text": [
      "{'base:': 'Engraved Greatsword', 'icon': 'https://cdn.poedb.tw/image/Art/2DItems/Weapons/TwoHandWeapons/TwoHandSwords/TwoHandSword5.webp'}\n"
     ]
    },
    {
     "name": "stderr",
     "output_type": "stream",
     "text": [
      " 50%|█████     | 13/26 [00:09<00:10,  1.21it/s]"
     ]
    },
    {
     "name": "stdout",
     "output_type": "stream",
     "text": [
      "{'base:': 'Tiger Sword', 'icon': 'https://cdn.poedb.tw/image/Art/2DItems/Weapons/TwoHandWeapons/TwoHandSwords/TwoHandSword6.webp'}\n"
     ]
    },
    {
     "name": "stderr",
     "output_type": "stream",
     "text": [
      " 54%|█████▍    | 14/26 [00:10<00:10,  1.13it/s]"
     ]
    },
    {
     "name": "stdout",
     "output_type": "stream",
     "text": [
      "{'base:': 'Wraith Sword', 'icon': 'https://cdn.poedb.tw/image/Art/2DItems/Weapons/TwoHandWeapons/TwoHandSwords/TwoHandSword7.webp'}\n"
     ]
    },
    {
     "name": "stderr",
     "output_type": "stream",
     "text": [
      " 58%|█████▊    | 15/26 [00:11<00:08,  1.33it/s]"
     ]
    },
    {
     "name": "stdout",
     "output_type": "stream",
     "text": [
      "{'base:': 'Lithe Blade', 'icon': 'https://cdn.poedb.tw/image/Art/2DItems/Weapons/TwoHandWeapons/TwoHandSwords/TwoHandSword8.webp'}\n"
     ]
    },
    {
     "name": "stderr",
     "output_type": "stream",
     "text": [
      " 62%|██████▏   | 16/26 [00:11<00:06,  1.57it/s]"
     ]
    },
    {
     "name": "stdout",
     "output_type": "stream",
     "text": [
      "{'base:': \"Headman's Sword\", 'icon': 'https://cdn.poedb.tw/image/Art/2DItems/Weapons/TwoHandWeapons/TwoHandSwords/TwoHandSword2.webp'}\n"
     ]
    },
    {
     "name": "stderr",
     "output_type": "stream",
     "text": [
      " 65%|██████▌   | 17/26 [00:12<00:06,  1.34it/s]"
     ]
    },
    {
     "name": "stdout",
     "output_type": "stream",
     "text": [
      "{'base:': 'Reaver Sword', 'icon': 'https://cdn.poedb.tw/image/Art/2DItems/Weapons/TwoHandWeapons/TwoHandSwords/TwoHandSword3.webp'}\n"
     ]
    },
    {
     "name": "stderr",
     "output_type": "stream",
     "text": [
      " 69%|██████▉   | 18/26 [00:13<00:06,  1.21it/s]"
     ]
    },
    {
     "name": "stdout",
     "output_type": "stream",
     "text": [
      "{'base:': 'Ezomyte Blade', 'icon': 'https://cdn.poedb.tw/image/Art/2DItems/Weapons/TwoHandWeapons/TwoHandSwords/TwoHandSword4.webp'}\n"
     ]
    },
    {
     "name": "stderr",
     "output_type": "stream",
     "text": [
      " 73%|███████▎  | 19/26 [00:14<00:06,  1.14it/s]"
     ]
    },
    {
     "name": "stdout",
     "output_type": "stream",
     "text": [
      "{'base:': 'Vaal Greatsword', 'icon': 'https://cdn.poedb.tw/image/Art/2DItems/Weapons/TwoHandWeapons/TwoHandSwords/TwoHandSword5.webp'}\n"
     ]
    },
    {
     "name": "stderr",
     "output_type": "stream",
     "text": [
      " 77%|███████▋  | 20/26 [00:15<00:04,  1.37it/s]"
     ]
    },
    {
     "name": "stdout",
     "output_type": "stream",
     "text": [
      "{'base:': 'Lion Sword', 'icon': 'https://cdn.poedb.tw/image/Art/2DItems/Weapons/TwoHandWeapons/TwoHandSwords/TwoHandSword6.webp'}\n"
     ]
    },
    {
     "name": "stderr",
     "output_type": "stream",
     "text": [
      " 81%|████████  | 21/26 [00:15<00:03,  1.59it/s]"
     ]
    },
    {
     "name": "stdout",
     "output_type": "stream",
     "text": [
      "{'base:': 'Infernal Sword', 'icon': 'https://cdn.poedb.tw/image/Art/2DItems/Weapons/TwoHandWeapons/TwoHandSwords/TwoHandSword7.webp'}\n"
     ]
    },
    {
     "name": "stderr",
     "output_type": "stream",
     "text": [
      " 85%|████████▍ | 22/26 [00:16<00:02,  1.72it/s]"
     ]
    },
    {
     "name": "stdout",
     "output_type": "stream",
     "text": [
      "{'base:': 'Exquisite Blade', 'icon': 'https://cdn.poedb.tw/image/Art/2DItems/Weapons/TwoHandWeapons/TwoHandSwords/TwoHandSword8.webp'}\n"
     ]
    },
    {
     "name": "stderr",
     "output_type": "stream",
     "text": [
      " 88%|████████▊ | 23/26 [00:17<00:02,  1.36it/s]"
     ]
    },
    {
     "name": "stdout",
     "output_type": "stream",
     "text": [
      "{'base:': 'Rebuking Blade', 'icon': 'https://cdn.poedb.tw/image/Art/2DItems/Weapons/TwoHandWeapons/TwoHandSwords/HeistTwoHandSword.webp'}\n"
     ]
    },
    {
     "name": "stderr",
     "output_type": "stream",
     "text": [
      " 92%|█████████▏| 24/26 [00:17<00:01,  1.56it/s]"
     ]
    },
    {
     "name": "stdout",
     "output_type": "stream",
     "text": [
      "{'base:': 'Blasting Blade', 'icon': 'https://cdn.poedb.tw/image/Art/2DItems/Weapons/TwoHandWeapons/TwoHandSwords/HeistTwoHandSword.webp'}\n"
     ]
    },
    {
     "name": "stderr",
     "output_type": "stream",
     "text": [
      " 96%|█████████▌| 25/26 [00:18<00:00,  1.32it/s]"
     ]
    },
    {
     "name": "stdout",
     "output_type": "stream",
     "text": [
      "{'base:': 'Banishing Blade', 'icon': 'https://cdn.poedb.tw/image/Art/2DItems/Weapons/TwoHandWeapons/TwoHandSwords/HeistTwoHandSword.webp'}\n"
     ]
    },
    {
     "name": "stderr",
     "output_type": "stream",
     "text": [
      "100%|██████████| 26/26 [00:19<00:00,  1.37it/s]"
     ]
    },
    {
     "name": "stdout",
     "output_type": "stream",
     "text": [
      "{'base:': 'Energy Blade', 'icon': 'https://cdn.poedb.tw/image/Art/2DItems/Gems/StormBladeGem.webp'}\n",
      "https://poedb.tw/us/Two_Hand_Axes#TwoHandAxesItem\n"
     ]
    },
    {
     "name": "stderr",
     "output_type": "stream",
     "text": [
      "\n",
      "  4%|▍         | 1/25 [00:00<00:09,  2.54it/s]"
     ]
    },
    {
     "name": "stdout",
     "output_type": "stream",
     "text": [
      "{'base:': 'Stone Axe', 'icon': 'https://cdn.poedb.tw/image/Art/2DItems/Weapons/TwoHandWeapons/TwoHandAxes/TwoHandAxe1.webp'}\n"
     ]
    },
    {
     "name": "stderr",
     "output_type": "stream",
     "text": [
      "  8%|▊         | 2/25 [00:00<00:09,  2.37it/s]"
     ]
    },
    {
     "name": "stdout",
     "output_type": "stream",
     "text": [
      "{'base:': 'Jade Chopper', 'icon': 'https://cdn.poedb.tw/image/Art/2DItems/Weapons/TwoHandWeapons/TwoHandAxes/TwoHandAxe2.webp'}\n"
     ]
    },
    {
     "name": "stderr",
     "output_type": "stream",
     "text": [
      " 12%|█▏        | 3/25 [00:01<00:15,  1.42it/s]"
     ]
    },
    {
     "name": "stdout",
     "output_type": "stream",
     "text": [
      "{'base:': 'Woodsplitter', 'icon': 'https://cdn.poedb.tw/image/Art/2DItems/Weapons/TwoHandWeapons/TwoHandAxes/TwoHandAxe3.webp'}\n"
     ]
    },
    {
     "name": "stderr",
     "output_type": "stream",
     "text": [
      " 16%|█▌        | 4/25 [00:02<00:17,  1.19it/s]"
     ]
    },
    {
     "name": "stdout",
     "output_type": "stream",
     "text": [
      "{'base:': 'Poleaxe', 'icon': 'https://cdn.poedb.tw/image/Art/2DItems/Weapons/TwoHandWeapons/TwoHandAxes/TwoHandAxe4.webp'}\n"
     ]
    },
    {
     "name": "stderr",
     "output_type": "stream",
     "text": [
      " 20%|██        | 5/25 [00:03<00:18,  1.11it/s]"
     ]
    },
    {
     "name": "stdout",
     "output_type": "stream",
     "text": [
      "{'base:': 'Double Axe', 'icon': 'https://cdn.poedb.tw/image/Art/2DItems/Weapons/TwoHandWeapons/TwoHandAxes/TwoHandAxe5.webp'}\n"
     ]
    },
    {
     "name": "stderr",
     "output_type": "stream",
     "text": [
      " 24%|██▍       | 6/25 [00:04<00:13,  1.36it/s]"
     ]
    },
    {
     "name": "stdout",
     "output_type": "stream",
     "text": [
      "{'base:': 'Gilded Axe', 'icon': 'https://cdn.poedb.tw/image/Art/2DItems/Weapons/TwoHandWeapons/TwoHandAxes/TwoHandAxe6.webp'}\n"
     ]
    },
    {
     "name": "stderr",
     "output_type": "stream",
     "text": [
      " 28%|██▊       | 7/25 [00:05<00:14,  1.22it/s]"
     ]
    },
    {
     "name": "stdout",
     "output_type": "stream",
     "text": [
      "{'base:': 'Shadow Axe', 'icon': 'https://cdn.poedb.tw/image/Art/2DItems/Weapons/TwoHandWeapons/TwoHandAxes/TwoHandAxe7.webp'}\n"
     ]
    },
    {
     "name": "stderr",
     "output_type": "stream",
     "text": [
      " 32%|███▏      | 8/25 [00:06<00:14,  1.14it/s]"
     ]
    },
    {
     "name": "stdout",
     "output_type": "stream",
     "text": [
      "{'base:': 'Dagger Axe', 'icon': 'https://cdn.poedb.tw/image/Art/2DItems/Weapons/TwoHandWeapons/TwoHandAxes/TwoHandAxe8.webp'}\n"
     ]
    },
    {
     "name": "stderr",
     "output_type": "stream",
     "text": [
      " 36%|███▌      | 9/25 [00:06<00:11,  1.36it/s]"
     ]
    },
    {
     "name": "stdout",
     "output_type": "stream",
     "text": [
      "{'base:': 'Jasper Chopper', 'icon': 'https://cdn.poedb.tw/image/Art/2DItems/Weapons/TwoHandWeapons/TwoHandAxes/TwoHandAxe2.webp'}\n"
     ]
    },
    {
     "name": "stderr",
     "output_type": "stream",
     "text": [
      " 40%|████      | 10/25 [00:07<00:09,  1.58it/s]"
     ]
    },
    {
     "name": "stdout",
     "output_type": "stream",
     "text": [
      "{'base:': 'Timber Axe', 'icon': 'https://cdn.poedb.tw/image/Art/2DItems/Weapons/TwoHandWeapons/TwoHandAxes/TwoHandAxe3.webp'}\n"
     ]
    },
    {
     "name": "stderr",
     "output_type": "stream",
     "text": [
      " 44%|████▍     | 11/25 [00:07<00:07,  1.77it/s]"
     ]
    },
    {
     "name": "stdout",
     "output_type": "stream",
     "text": [
      "{'base:': 'Headsman Axe', 'icon': 'https://cdn.poedb.tw/image/Art/2DItems/Weapons/TwoHandWeapons/TwoHandAxes/TwoHandAxe4.webp'}\n"
     ]
    },
    {
     "name": "stderr",
     "output_type": "stream",
     "text": [
      " 48%|████▊     | 12/25 [00:07<00:06,  1.96it/s]"
     ]
    },
    {
     "name": "stdout",
     "output_type": "stream",
     "text": [
      "{'base:': 'Labrys', 'icon': 'https://cdn.poedb.tw/image/Art/2DItems/Weapons/TwoHandWeapons/TwoHandAxes/TwoHandAxe5.webp'}\n"
     ]
    },
    {
     "name": "stderr",
     "output_type": "stream",
     "text": [
      " 52%|█████▏    | 13/25 [00:08<00:05,  2.12it/s]"
     ]
    },
    {
     "name": "stdout",
     "output_type": "stream",
     "text": [
      "{'base:': 'Noble Axe', 'icon': 'https://cdn.poedb.tw/image/Art/2DItems/Weapons/TwoHandWeapons/TwoHandAxes/TwoHandAxe6.webp'}\n"
     ]
    },
    {
     "name": "stderr",
     "output_type": "stream",
     "text": [
      " 56%|█████▌    | 14/25 [00:08<00:04,  2.24it/s]"
     ]
    },
    {
     "name": "stdout",
     "output_type": "stream",
     "text": [
      "{'base:': 'Abyssal Axe', 'icon': 'https://cdn.poedb.tw/image/Art/2DItems/Weapons/TwoHandWeapons/TwoHandAxes/TwoHandAxe7.webp'}\n"
     ]
    },
    {
     "name": "stderr",
     "output_type": "stream",
     "text": [
      " 60%|██████    | 15/25 [00:09<00:06,  1.62it/s]"
     ]
    },
    {
     "name": "stdout",
     "output_type": "stream",
     "text": [
      "{'base:': 'Talon Axe', 'icon': 'https://cdn.poedb.tw/image/Art/2DItems/Weapons/TwoHandWeapons/TwoHandAxes/TwoHandAxe8.webp'}\n"
     ]
    },
    {
     "name": "stderr",
     "output_type": "stream",
     "text": [
      " 64%|██████▍   | 16/25 [00:10<00:04,  1.81it/s]"
     ]
    },
    {
     "name": "stdout",
     "output_type": "stream",
     "text": [
      "{'base:': 'Karui Chopper', 'icon': 'https://cdn.poedb.tw/image/Art/2DItems/Weapons/TwoHandWeapons/TwoHandAxes/TwoHandAxe2.webp'}\n"
     ]
    },
    {
     "name": "stderr",
     "output_type": "stream",
     "text": [
      " 68%|██████▊   | 17/25 [00:11<00:05,  1.44it/s]"
     ]
    },
    {
     "name": "stdout",
     "output_type": "stream",
     "text": [
      "{'base:': 'Sundering Axe', 'icon': 'https://cdn.poedb.tw/image/Art/2DItems/Weapons/TwoHandWeapons/TwoHandAxes/TwoHandAxe3.webp'}\n"
     ]
    },
    {
     "name": "stderr",
     "output_type": "stream",
     "text": [
      " 72%|███████▏  | 18/25 [00:12<00:05,  1.26it/s]"
     ]
    },
    {
     "name": "stdout",
     "output_type": "stream",
     "text": [
      "{'base:': 'Ezomyte Axe', 'icon': 'https://cdn.poedb.tw/image/Art/2DItems/Weapons/TwoHandWeapons/TwoHandAxes/TwoHandAxe4.webp'}\n"
     ]
    },
    {
     "name": "stderr",
     "output_type": "stream",
     "text": [
      " 76%|███████▌  | 19/25 [00:13<00:05,  1.17it/s]"
     ]
    },
    {
     "name": "stdout",
     "output_type": "stream",
     "text": [
      "{'base:': 'Vaal Axe', 'icon': 'https://cdn.poedb.tw/image/Art/2DItems/Weapons/TwoHandWeapons/TwoHandAxes/TwoHandAxe5.webp'}\n"
     ]
    },
    {
     "name": "stderr",
     "output_type": "stream",
     "text": [
      " 80%|████████  | 20/25 [00:13<00:03,  1.40it/s]"
     ]
    },
    {
     "name": "stdout",
     "output_type": "stream",
     "text": [
      "{'base:': 'Despot Axe', 'icon': 'https://cdn.poedb.tw/image/Art/2DItems/Weapons/TwoHandWeapons/TwoHandAxes/TwoHandAxe6.webp'}\n"
     ]
    },
    {
     "name": "stderr",
     "output_type": "stream",
     "text": [
      " 84%|████████▍ | 21/25 [00:14<00:03,  1.24it/s]"
     ]
    },
    {
     "name": "stdout",
     "output_type": "stream",
     "text": [
      "{'base:': 'Void Axe', 'icon': 'https://cdn.poedb.tw/image/Art/2DItems/Weapons/TwoHandWeapons/TwoHandAxes/TwoHandAxe7.webp'}\n"
     ]
    },
    {
     "name": "stderr",
     "output_type": "stream",
     "text": [
      " 88%|████████▊ | 22/25 [00:14<00:02,  1.46it/s]"
     ]
    },
    {
     "name": "stdout",
     "output_type": "stream",
     "text": [
      "{'base:': 'Fleshripper', 'icon': 'https://cdn.poedb.tw/image/Art/2DItems/Weapons/TwoHandWeapons/TwoHandAxes/TwoHandAxe8.webp'}\n"
     ]
    },
    {
     "name": "stderr",
     "output_type": "stream",
     "text": [
      " 92%|█████████▏| 23/25 [00:16<00:01,  1.26it/s]"
     ]
    },
    {
     "name": "stdout",
     "output_type": "stream",
     "text": [
      "{'base:': 'Prime Cleaver', 'icon': 'https://cdn.poedb.tw/image/Art/2DItems/Weapons/TwoHandWeapons/TwoHandAxes/HeistTwoHandAxe.webp'}\n"
     ]
    },
    {
     "name": "stderr",
     "output_type": "stream",
     "text": [
      " 96%|█████████▌| 24/25 [00:16<00:00,  1.47it/s]"
     ]
    },
    {
     "name": "stdout",
     "output_type": "stream",
     "text": [
      "{'base:': 'Honed Cleaver', 'icon': 'https://cdn.poedb.tw/image/Art/2DItems/Weapons/TwoHandWeapons/TwoHandAxes/HeistTwoHandAxe.webp'}\n"
     ]
    },
    {
     "name": "stderr",
     "output_type": "stream",
     "text": [
      "100%|██████████| 25/25 [00:17<00:00,  1.43it/s]"
     ]
    },
    {
     "name": "stdout",
     "output_type": "stream",
     "text": [
      "{'base:': 'Apex Cleaver', 'icon': 'https://cdn.poedb.tw/image/Art/2DItems/Weapons/TwoHandWeapons/TwoHandAxes/HeistTwoHandAxe.webp'}\n",
      "https://poedb.tw/us/Two_Hand_Maces#TwoHandMacesItem\n"
     ]
    },
    {
     "name": "stderr",
     "output_type": "stream",
     "text": [
      "\n",
      "  4%|▍         | 1/25 [00:00<00:09,  2.43it/s]"
     ]
    },
    {
     "name": "stdout",
     "output_type": "stream",
     "text": [
      "{'base:': 'Driftwood Maul', 'icon': 'https://cdn.poedb.tw/image/Art/2DItems/Weapons/TwoHandWeapons/TwoHandMaces/TwoHandMace1.webp'}\n"
     ]
    },
    {
     "name": "stderr",
     "output_type": "stream",
     "text": [
      "  8%|▊         | 2/25 [00:00<00:09,  2.43it/s]"
     ]
    },
    {
     "name": "stdout",
     "output_type": "stream",
     "text": [
      "{'base:': 'Tribal Maul', 'icon': 'https://cdn.poedb.tw/image/Art/2DItems/Weapons/TwoHandWeapons/TwoHandMaces/TwoHandMace2.webp'}\n"
     ]
    },
    {
     "name": "stderr",
     "output_type": "stream",
     "text": [
      " 12%|█▏        | 3/25 [00:02<00:18,  1.17it/s]"
     ]
    },
    {
     "name": "stdout",
     "output_type": "stream",
     "text": [
      "{'base:': 'Mallet', 'icon': 'https://cdn.poedb.tw/image/Art/2DItems/Weapons/TwoHandWeapons/TwoHandMaces/TwoHandMace3.webp'}\n"
     ]
    },
    {
     "name": "stderr",
     "output_type": "stream",
     "text": [
      " 16%|█▌        | 4/25 [00:03<00:19,  1.09it/s]"
     ]
    },
    {
     "name": "stdout",
     "output_type": "stream",
     "text": [
      "{'base:': 'Sledgehammer', 'icon': 'https://cdn.poedb.tw/image/Art/2DItems/Weapons/TwoHandWeapons/TwoHandMaces/TwoHandMace4.webp'}\n"
     ]
    },
    {
     "name": "stderr",
     "output_type": "stream",
     "text": [
      " 20%|██        | 5/25 [00:04<00:19,  1.04it/s]"
     ]
    },
    {
     "name": "stdout",
     "output_type": "stream",
     "text": [
      "{'base:': 'Jagged Maul', 'icon': 'https://cdn.poedb.tw/image/Art/2DItems/Weapons/TwoHandWeapons/TwoHandMaces/TwoHandMace5.webp'}\n"
     ]
    },
    {
     "name": "stderr",
     "output_type": "stream",
     "text": [
      " 24%|██▍       | 6/25 [00:05<00:18,  1.02it/s]"
     ]
    },
    {
     "name": "stdout",
     "output_type": "stream",
     "text": [
      "{'base:': 'Brass Maul', 'icon': 'https://cdn.poedb.tw/image/Art/2DItems/Weapons/TwoHandWeapons/TwoHandMaces/TwoHandMace6.webp'}\n"
     ]
    },
    {
     "name": "stderr",
     "output_type": "stream",
     "text": [
      " 28%|██▊       | 7/25 [00:06<00:18,  1.00s/it]"
     ]
    },
    {
     "name": "stdout",
     "output_type": "stream",
     "text": [
      "{'base:': 'Fright Maul', 'icon': 'https://cdn.poedb.tw/image/Art/2DItems/Weapons/TwoHandWeapons/TwoHandMaces/TwoHandMace7.webp'}\n"
     ]
    },
    {
     "name": "stderr",
     "output_type": "stream",
     "text": [
      " 32%|███▏      | 8/25 [00:06<00:13,  1.23it/s]"
     ]
    },
    {
     "name": "stdout",
     "output_type": "stream",
     "text": [
      "{'base:': 'Morning Star', 'icon': 'https://cdn.poedb.tw/image/Art/2DItems/Weapons/TwoHandWeapons/TwoHandMaces/TwoHandMace8.webp'}\n"
     ]
    },
    {
     "name": "stderr",
     "output_type": "stream",
     "text": [
      " 36%|███▌      | 9/25 [00:07<00:10,  1.46it/s]"
     ]
    },
    {
     "name": "stdout",
     "output_type": "stream",
     "text": [
      "{'base:': 'Totemic Maul', 'icon': 'https://cdn.poedb.tw/image/Art/2DItems/Weapons/TwoHandWeapons/TwoHandMaces/TwoHandMace2.webp'}\n"
     ]
    },
    {
     "name": "stderr",
     "output_type": "stream",
     "text": [
      " 40%|████      | 10/25 [00:07<00:09,  1.64it/s]"
     ]
    },
    {
     "name": "stdout",
     "output_type": "stream",
     "text": [
      "{'base:': 'Great Mallet', 'icon': 'https://cdn.poedb.tw/image/Art/2DItems/Weapons/TwoHandWeapons/TwoHandMaces/TwoHandMace3.webp'}\n"
     ]
    },
    {
     "name": "stderr",
     "output_type": "stream",
     "text": [
      " 44%|████▍     | 11/25 [00:08<00:10,  1.37it/s]"
     ]
    },
    {
     "name": "stdout",
     "output_type": "stream",
     "text": [
      "{'base:': 'Steelhead', 'icon': 'https://cdn.poedb.tw/image/Art/2DItems/Weapons/TwoHandWeapons/TwoHandMaces/TwoHandMace4.webp'}\n"
     ]
    },
    {
     "name": "stderr",
     "output_type": "stream",
     "text": [
      " 48%|████▊     | 12/25 [00:08<00:08,  1.57it/s]"
     ]
    },
    {
     "name": "stdout",
     "output_type": "stream",
     "text": [
      "{'base:': 'Spiny Maul', 'icon': 'https://cdn.poedb.tw/image/Art/2DItems/Weapons/TwoHandWeapons/TwoHandMaces/TwoHandMace5.webp'}\n"
     ]
    },
    {
     "name": "stderr",
     "output_type": "stream",
     "text": [
      " 52%|█████▏    | 13/25 [00:09<00:06,  1.77it/s]"
     ]
    },
    {
     "name": "stdout",
     "output_type": "stream",
     "text": [
      "{'base:': 'Plated Maul', 'icon': 'https://cdn.poedb.tw/image/Art/2DItems/Weapons/TwoHandWeapons/TwoHandMaces/TwoHandMace6.webp'}\n"
     ]
    },
    {
     "name": "stderr",
     "output_type": "stream",
     "text": [
      " 56%|█████▌    | 14/25 [00:10<00:07,  1.38it/s]"
     ]
    },
    {
     "name": "stdout",
     "output_type": "stream",
     "text": [
      "{'base:': 'Dread Maul', 'icon': 'https://cdn.poedb.tw/image/Art/2DItems/Weapons/TwoHandWeapons/TwoHandMaces/TwoHandMace7.webp'}\n"
     ]
    },
    {
     "name": "stderr",
     "output_type": "stream",
     "text": [
      " 60%|██████    | 15/25 [00:11<00:08,  1.24it/s]"
     ]
    },
    {
     "name": "stdout",
     "output_type": "stream",
     "text": [
      "{'base:': 'Solar Maul', 'icon': 'https://cdn.poedb.tw/image/Art/2DItems/Weapons/TwoHandWeapons/TwoHandMaces/TwoHandMace8.webp'}\n"
     ]
    },
    {
     "name": "stderr",
     "output_type": "stream",
     "text": [
      " 64%|██████▍   | 16/25 [00:12<00:07,  1.15it/s]"
     ]
    },
    {
     "name": "stdout",
     "output_type": "stream",
     "text": [
      "{'base:': 'Karui Maul', 'icon': 'https://cdn.poedb.tw/image/Art/2DItems/Weapons/TwoHandWeapons/TwoHandMaces/TwoHandMace2.webp'}\n"
     ]
    },
    {
     "name": "stderr",
     "output_type": "stream",
     "text": [
      " 68%|██████▊   | 17/25 [00:12<00:05,  1.36it/s]"
     ]
    },
    {
     "name": "stdout",
     "output_type": "stream",
     "text": [
      "{'base:': 'Colossus Mallet', 'icon': 'https://cdn.poedb.tw/image/Art/2DItems/Weapons/TwoHandWeapons/TwoHandMaces/TwoHandMace3.webp'}\n"
     ]
    },
    {
     "name": "stderr",
     "output_type": "stream",
     "text": [
      " 72%|███████▏  | 18/25 [00:13<00:04,  1.55it/s]"
     ]
    },
    {
     "name": "stdout",
     "output_type": "stream",
     "text": [
      "{'base:': 'Piledriver', 'icon': 'https://cdn.poedb.tw/image/Art/2DItems/Weapons/TwoHandWeapons/TwoHandMaces/TwoHandMace4.webp'}\n"
     ]
    },
    {
     "name": "stderr",
     "output_type": "stream",
     "text": [
      " 76%|███████▌  | 19/25 [00:14<00:04,  1.33it/s]"
     ]
    },
    {
     "name": "stdout",
     "output_type": "stream",
     "text": [
      "{'base:': 'Meatgrinder', 'icon': 'https://cdn.poedb.tw/image/Art/2DItems/Weapons/TwoHandWeapons/TwoHandMaces/TwoHandMace5.webp'}\n"
     ]
    },
    {
     "name": "stderr",
     "output_type": "stream",
     "text": [
      " 80%|████████  | 20/25 [00:15<00:04,  1.20it/s]"
     ]
    },
    {
     "name": "stdout",
     "output_type": "stream",
     "text": [
      "{'base:': 'Imperial Maul', 'icon': 'https://cdn.poedb.tw/image/Art/2DItems/Weapons/TwoHandWeapons/TwoHandMaces/TwoHandMace6.webp'}\n"
     ]
    },
    {
     "name": "stderr",
     "output_type": "stream",
     "text": [
      " 84%|████████▍ | 21/25 [00:16<00:03,  1.11it/s]"
     ]
    },
    {
     "name": "stdout",
     "output_type": "stream",
     "text": [
      "{'base:': 'Terror Maul', 'icon': 'https://cdn.poedb.tw/image/Art/2DItems/Weapons/TwoHandWeapons/TwoHandMaces/TwoHandMace7.webp'}\n"
     ]
    },
    {
     "name": "stderr",
     "output_type": "stream",
     "text": [
      " 88%|████████▊ | 22/25 [00:16<00:02,  1.34it/s]"
     ]
    },
    {
     "name": "stdout",
     "output_type": "stream",
     "text": [
      "{'base:': 'Coronal Maul', 'icon': 'https://cdn.poedb.tw/image/Art/2DItems/Weapons/TwoHandWeapons/TwoHandMaces/TwoHandMace8.webp'}\n"
     ]
    },
    {
     "name": "stderr",
     "output_type": "stream",
     "text": [
      " 92%|█████████▏| 23/25 [00:17<00:01,  1.55it/s]"
     ]
    },
    {
     "name": "stdout",
     "output_type": "stream",
     "text": [
      "{'base:': 'Blunt Force Condenser', 'icon': 'https://cdn.poedb.tw/image/Art/2DItems/Weapons/TwoHandWeapons/TwoHandMaces/HeistTwoHandMace.webp'}\n"
     ]
    },
    {
     "name": "stderr",
     "output_type": "stream",
     "text": [
      " 96%|█████████▌| 24/25 [00:18<00:00,  1.30it/s]"
     ]
    },
    {
     "name": "stdout",
     "output_type": "stream",
     "text": [
      "{'base:': 'Crushing Force Magnifier', 'icon': 'https://cdn.poedb.tw/image/Art/2DItems/Weapons/TwoHandWeapons/TwoHandMaces/HeistTwoHandMace.webp'}\n"
     ]
    },
    {
     "name": "stderr",
     "output_type": "stream",
     "text": [
      "100%|██████████| 25/25 [00:19<00:00,  1.29it/s]"
     ]
    },
    {
     "name": "stdout",
     "output_type": "stream",
     "text": [
      "{'base:': 'Impact Force Propagator', 'icon': 'https://cdn.poedb.tw/image/Art/2DItems/Weapons/TwoHandWeapons/TwoHandMaces/HeistTwoHandMace.webp'}\n",
      "https://poedb.tw/us/Warstaves#WarstavesItem\n"
     ]
    },
    {
     "name": "stderr",
     "output_type": "stream",
     "text": [
      "\n",
      "  8%|▊         | 1/12 [00:00<00:04,  2.53it/s]"
     ]
    },
    {
     "name": "stdout",
     "output_type": "stream",
     "text": [
      "{'base:': 'Iron Staff', 'icon': 'https://cdn.poedb.tw/image/Art/2DItems/Weapons/TwoHandWeapons/Staves/Staff4.webp'}\n"
     ]
    },
    {
     "name": "stderr",
     "output_type": "stream",
     "text": [
      " 17%|█▋        | 2/12 [00:00<00:03,  2.53it/s]"
     ]
    },
    {
     "name": "stdout",
     "output_type": "stream",
     "text": [
      "{'base:': 'Coiled Staff', 'icon': 'https://cdn.poedb.tw/image/Art/2DItems/Weapons/TwoHandWeapons/Staves/Staff5.webp'}\n"
     ]
    },
    {
     "name": "stderr",
     "output_type": "stream",
     "text": [
      " 25%|██▌       | 3/12 [00:01<00:03,  2.55it/s]"
     ]
    },
    {
     "name": "stdout",
     "output_type": "stream",
     "text": [
      "{'base:': 'Vile Staff', 'icon': 'https://cdn.poedb.tw/image/Art/2DItems/Weapons/TwoHandWeapons/Staves/Staff7.webp'}\n"
     ]
    },
    {
     "name": "stderr",
     "output_type": "stream",
     "text": [
      " 33%|███▎      | 4/12 [00:02<00:05,  1.58it/s]"
     ]
    },
    {
     "name": "stdout",
     "output_type": "stream",
     "text": [
      "{'base:': 'Military Staff', 'icon': 'https://cdn.poedb.tw/image/Art/2DItems/Weapons/TwoHandWeapons/Staves/Staff4.webp'}\n"
     ]
    },
    {
     "name": "stderr",
     "output_type": "stream",
     "text": [
      " 42%|████▏     | 5/12 [00:02<00:03,  1.81it/s]"
     ]
    },
    {
     "name": "stdout",
     "output_type": "stream",
     "text": [
      "{'base:': 'Serpentine Staff', 'icon': 'https://cdn.poedb.tw/image/Art/2DItems/Weapons/TwoHandWeapons/Staves/Staff5.webp'}\n"
     ]
    },
    {
     "name": "stderr",
     "output_type": "stream",
     "text": [
      " 50%|█████     | 6/12 [00:03<00:04,  1.40it/s]"
     ]
    },
    {
     "name": "stdout",
     "output_type": "stream",
     "text": [
      "{'base:': 'Foul Staff', 'icon': 'https://cdn.poedb.tw/image/Art/2DItems/Weapons/TwoHandWeapons/Staves/Staff7.webp'}\n"
     ]
    },
    {
     "name": "stderr",
     "output_type": "stream",
     "text": [
      " 58%|█████▊    | 7/12 [00:04<00:03,  1.58it/s]"
     ]
    },
    {
     "name": "stdout",
     "output_type": "stream",
     "text": [
      "{'base:': 'Ezomyte Staff', 'icon': 'https://cdn.poedb.tw/image/Art/2DItems/Weapons/TwoHandWeapons/Staves/Staff4.webp'}\n"
     ]
    },
    {
     "name": "stderr",
     "output_type": "stream",
     "text": [
      " 67%|██████▋   | 8/12 [00:04<00:02,  1.78it/s]"
     ]
    },
    {
     "name": "stdout",
     "output_type": "stream",
     "text": [
      "{'base:': 'Maelström Staff', 'icon': 'https://cdn.poedb.tw/image/Art/2DItems/Weapons/TwoHandWeapons/Staves/Staff5.webp'}\n"
     ]
    },
    {
     "name": "stderr",
     "output_type": "stream",
     "text": [
      " 75%|███████▌  | 9/12 [00:05<00:02,  1.42it/s]"
     ]
    },
    {
     "name": "stdout",
     "output_type": "stream",
     "text": [
      "{'base:': 'Judgement Staff', 'icon': 'https://cdn.poedb.tw/image/Art/2DItems/Weapons/TwoHandWeapons/Staves/Staff7.webp'}\n"
     ]
    },
    {
     "name": "stderr",
     "output_type": "stream",
     "text": [
      " 83%|████████▎ | 10/12 [00:05<00:01,  1.63it/s]"
     ]
    },
    {
     "name": "stdout",
     "output_type": "stream",
     "text": [
      "{'base:': 'Capacity Rod', 'icon': 'https://cdn.poedb.tw/image/Art/2DItems/Weapons/TwoHandWeapons/Staves/HeistWarStaff.webp'}\n"
     ]
    },
    {
     "name": "stderr",
     "output_type": "stream",
     "text": [
      " 92%|█████████▏| 11/12 [00:06<00:00,  1.81it/s]"
     ]
    },
    {
     "name": "stdout",
     "output_type": "stream",
     "text": [
      "{'base:': 'Potentiality Rod', 'icon': 'https://cdn.poedb.tw/image/Art/2DItems/Weapons/TwoHandWeapons/Staves/HeistWarStaff.webp'}\n"
     ]
    },
    {
     "name": "stderr",
     "output_type": "stream",
     "text": [
      "100%|██████████| 12/12 [00:06<00:00,  1.78it/s]"
     ]
    },
    {
     "name": "stdout",
     "output_type": "stream",
     "text": [
      "{'base:': 'Eventuality Rod', 'icon': 'https://cdn.poedb.tw/image/Art/2DItems/Weapons/TwoHandWeapons/Staves/HeistWarStaff.webp'}\n",
      "https://poedb.tw/us/Fishing_Rods#FishingRodsItem\n"
     ]
    },
    {
     "name": "stderr",
     "output_type": "stream",
     "text": [
      "\n",
      "100%|██████████| 1/1 [00:00<00:00,  1.67it/s]"
     ]
    },
    {
     "name": "stdout",
     "output_type": "stream",
     "text": [
      "{'base:': 'Fishing Rod', 'icon': 'https://cdn.poedb.tw/image/Art/2DItems/Weapons/TwoHandWeapons/FishingRods/FishingRod1.webp'}\n",
      "https://poedb.tw/us/Quivers#QuiversItem\n"
     ]
    },
    {
     "name": "stderr",
     "output_type": "stream",
     "text": [
      "\n",
      "  6%|▋         | 1/16 [00:01<00:15,  1.02s/it]"
     ]
    },
    {
     "name": "stdout",
     "output_type": "stream",
     "text": [
      "{'base:': 'Ornate Quiver', 'icon': 'https://cdn.poedb.tw/image/Art/2DItems/Quivers/TriggerQuiverUnique.webp'}\n"
     ]
    },
    {
     "name": "stderr",
     "output_type": "stream",
     "text": [
      " 12%|█▎        | 2/16 [00:02<00:14,  1.03s/it]"
     ]
    },
    {
     "name": "stdout",
     "output_type": "stream",
     "text": [
      "{'base:': 'Serrated Arrow Quiver', 'icon': 'https://cdn.poedb.tw/image/Art/2DItems/Quivers/QuiverSerrated.webp'}\n"
     ]
    },
    {
     "name": "stderr",
     "output_type": "stream",
     "text": [
      " 19%|█▉        | 3/16 [00:02<00:09,  1.31it/s]"
     ]
    },
    {
     "name": "stdout",
     "output_type": "stream",
     "text": [
      "{'base:': 'Fire Arrow Quiver', 'icon': 'https://cdn.poedb.tw/image/Art/2DItems/Quivers/QuiverFire.webp'}\n"
     ]
    },
    {
     "name": "stderr",
     "output_type": "stream",
     "text": [
      " 25%|██▌       | 4/16 [00:03<00:11,  1.07it/s]"
     ]
    },
    {
     "name": "stdout",
     "output_type": "stream",
     "text": [
      "{'base:': 'Sharktooth Arrow Quiver', 'icon': 'https://cdn.poedb.tw/image/Art/2DItems/Quivers/QuiverSharktooth.webp'}\n"
     ]
    },
    {
     "name": "stderr",
     "output_type": "stream",
     "text": [
      " 31%|███▏      | 5/16 [00:04<00:10,  1.01it/s]"
     ]
    },
    {
     "name": "stdout",
     "output_type": "stream",
     "text": [
      "{'base:': 'Feathered Arrow Quiver', 'icon': 'https://cdn.poedb.tw/image/Art/2DItems/Quivers/FeatheredArrowQuiver.webp'}\n"
     ]
    },
    {
     "name": "stderr",
     "output_type": "stream",
     "text": [
      " 38%|███▊      | 6/16 [00:05<00:08,  1.20it/s]"
     ]
    },
    {
     "name": "stdout",
     "output_type": "stream",
     "text": [
      "{'base:': 'Penetrating Arrow Quiver', 'icon': 'https://cdn.poedb.tw/image/Art/2DItems/Quivers/QuiverPenetrating.webp'}\n"
     ]
    },
    {
     "name": "stderr",
     "output_type": "stream",
     "text": [
      " 44%|████▍     | 7/16 [00:05<00:06,  1.37it/s]"
     ]
    },
    {
     "name": "stdout",
     "output_type": "stream",
     "text": [
      "{'base:': 'Blunt Arrow Quiver', 'icon': 'https://cdn.poedb.tw/image/Art/2DItems/Quivers/QuiverBlunt.webp'}\n"
     ]
    },
    {
     "name": "stderr",
     "output_type": "stream",
     "text": [
      " 50%|█████     | 8/16 [00:06<00:05,  1.50it/s]"
     ]
    },
    {
     "name": "stdout",
     "output_type": "stream",
     "text": [
      "{'base:': 'Two-Point Arrow Quiver', 'icon': 'https://cdn.poedb.tw/image/Art/2DItems/Quivers/QuiverTwo-Point.webp'}\n"
     ]
    },
    {
     "name": "stderr",
     "output_type": "stream",
     "text": [
      " 56%|█████▋    | 9/16 [00:07<00:05,  1.25it/s]"
     ]
    },
    {
     "name": "stdout",
     "output_type": "stream",
     "text": [
      "{'base:': 'Spike-Point Arrow Quiver', 'icon': 'https://cdn.poedb.tw/image/Art/2DItems/Quivers/QuiverSpike-Point.webp'}\n"
     ]
    },
    {
     "name": "stderr",
     "output_type": "stream",
     "text": [
      " 62%|██████▎   | 10/16 [00:07<00:04,  1.43it/s]"
     ]
    },
    {
     "name": "stdout",
     "output_type": "stream",
     "text": [
      "{'base:': 'Blazing Arrow Quiver', 'icon': 'https://cdn.poedb.tw/image/Art/2DItems/Quivers/QuiverFire.webp'}\n"
     ]
    },
    {
     "name": "stderr",
     "output_type": "stream",
     "text": [
      " 69%|██████▉   | 11/16 [00:09<00:04,  1.23it/s]"
     ]
    },
    {
     "name": "stdout",
     "output_type": "stream",
     "text": [
      "{'base:': 'Broadhead Arrow Quiver', 'icon': 'https://cdn.poedb.tw/image/Art/2DItems/Quivers/QuiverBroadhead.webp'}\n"
     ]
    },
    {
     "name": "stderr",
     "output_type": "stream",
     "text": [
      " 75%|███████▌  | 12/16 [00:09<00:02,  1.43it/s]"
     ]
    },
    {
     "name": "stdout",
     "output_type": "stream",
     "text": [
      "{'base:': 'Vile Arrow Quiver', 'icon': 'https://cdn.poedb.tw/image/Art/2DItems/Quivers/VileArrowQuiver.webp'}\n"
     ]
    },
    {
     "name": "stderr",
     "output_type": "stream",
     "text": [
      " 81%|████████▏ | 13/16 [00:09<00:01,  1.62it/s]"
     ]
    },
    {
     "name": "stdout",
     "output_type": "stream",
     "text": [
      "{'base:': 'Heavy Arrow Quiver', 'icon': 'https://cdn.poedb.tw/image/Art/2DItems/Quivers/QuiverBlunt.webp'}\n"
     ]
    },
    {
     "name": "stderr",
     "output_type": "stream",
     "text": [
      " 88%|████████▊ | 14/16 [00:10<00:01,  1.80it/s]"
     ]
    },
    {
     "name": "stdout",
     "output_type": "stream",
     "text": [
      "{'base:': 'Primal Arrow Quiver', 'icon': 'https://cdn.poedb.tw/image/Art/2DItems/Quivers/RikerRinQuiver.webp'}\n"
     ]
    },
    {
     "name": "stderr",
     "output_type": "stream",
     "text": [
      " 94%|█████████▍| 15/16 [00:10<00:00,  1.99it/s]"
     ]
    },
    {
     "name": "stdout",
     "output_type": "stream",
     "text": [
      "{'base:': 'Serrated Arrow Quiver', 'icon': 'https://cdn.poedb.tw/image/Art/2DItems/Quivers/QuiverSerrated.webp'}\n"
     ]
    },
    {
     "name": "stderr",
     "output_type": "stream",
     "text": [
      "100%|██████████| 16/16 [00:11<00:00,  1.45it/s]"
     ]
    },
    {
     "name": "stdout",
     "output_type": "stream",
     "text": [
      "{'base:': 'Artillery Quiver', 'icon': 'https://cdn.poedb.tw/image/Art/2DItems/Quivers/ChiselQuiver.webp'}\n",
      "https://poedb.tw/us/Shields#ShieldsItem\n"
     ]
    },
    {
     "name": "stderr",
     "output_type": "stream",
     "text": [
      "\n",
      "  1%|          | 1/98 [00:00<01:35,  1.01it/s]"
     ]
    },
    {
     "name": "stdout",
     "output_type": "stream",
     "text": [
      "{'base:': 'Splintered Tower Shield', 'icon': 'https://cdn.poedb.tw/image/Art/2DItems/Armours/Shields/ShieldStr1.webp'}\n"
     ]
    },
    {
     "name": "stderr",
     "output_type": "stream",
     "text": [
      "  2%|▏         | 2/98 [00:02<01:37,  1.02s/it]"
     ]
    },
    {
     "name": "stdout",
     "output_type": "stream",
     "text": [
      "{'base:': 'Corroded Tower Shield', 'icon': 'https://cdn.poedb.tw/image/Art/2DItems/Armours/Shields/ShieldStr2.webp'}\n"
     ]
    },
    {
     "name": "stderr",
     "output_type": "stream",
     "text": [
      "  3%|▎         | 3/98 [00:02<01:10,  1.35it/s]"
     ]
    },
    {
     "name": "stdout",
     "output_type": "stream",
     "text": [
      "{'base:': 'Rawhide Tower Shield', 'icon': 'https://cdn.poedb.tw/image/Art/2DItems/Armours/Shields/ShieldStr3.webp'}\n"
     ]
    },
    {
     "name": "stderr",
     "output_type": "stream",
     "text": [
      "  4%|▍         | 4/98 [00:02<00:56,  1.65it/s]"
     ]
    },
    {
     "name": "stdout",
     "output_type": "stream",
     "text": [
      "{'base:': 'Cedar Tower Shield', 'icon': 'https://cdn.poedb.tw/image/Art/2DItems/Armours/Shields/ShieldStr4.webp'}\n"
     ]
    },
    {
     "name": "stderr",
     "output_type": "stream",
     "text": [
      "  5%|▌         | 5/98 [00:03<00:49,  1.88it/s]"
     ]
    },
    {
     "name": "stdout",
     "output_type": "stream",
     "text": [
      "{'base:': 'Copper Tower Shield', 'icon': 'https://cdn.poedb.tw/image/Art/2DItems/Armours/Shields/ShieldStr5.webp'}\n"
     ]
    },
    {
     "name": "stderr",
     "output_type": "stream",
     "text": [
      "  6%|▌         | 6/98 [00:04<01:03,  1.44it/s]"
     ]
    },
    {
     "name": "stdout",
     "output_type": "stream",
     "text": [
      "{'base:': 'Reinforced Tower Shield', 'icon': 'https://cdn.poedb.tw/image/Art/2DItems/Armours/Shields/ShieldStr6.webp'}\n"
     ]
    },
    {
     "name": "stderr",
     "output_type": "stream",
     "text": [
      "  7%|▋         | 7/98 [00:04<00:54,  1.67it/s]"
     ]
    },
    {
     "name": "stdout",
     "output_type": "stream",
     "text": [
      "{'base:': 'Painted Tower Shield', 'icon': 'https://cdn.poedb.tw/image/Art/2DItems/Armours/Shields/ShieldStr7.webp'}\n"
     ]
    },
    {
     "name": "stderr",
     "output_type": "stream",
     "text": [
      "  8%|▊         | 8/98 [00:05<01:06,  1.35it/s]"
     ]
    },
    {
     "name": "stdout",
     "output_type": "stream",
     "text": [
      "{'base:': 'Buckskin Tower Shield', 'icon': 'https://cdn.poedb.tw/image/Art/2DItems/Armours/Shields/ShieldStr3.webp'}\n"
     ]
    },
    {
     "name": "stderr",
     "output_type": "stream",
     "text": [
      "  9%|▉         | 9/98 [00:06<00:56,  1.56it/s]"
     ]
    },
    {
     "name": "stdout",
     "output_type": "stream",
     "text": [
      "{'base:': 'Mahogany Tower Shield', 'icon': 'https://cdn.poedb.tw/image/Art/2DItems/Armours/Shields/ShieldStr4.webp'}\n"
     ]
    },
    {
     "name": "stderr",
     "output_type": "stream",
     "text": [
      " 10%|█         | 10/98 [00:06<00:50,  1.74it/s]"
     ]
    },
    {
     "name": "stdout",
     "output_type": "stream",
     "text": [
      "{'base:': 'Bronze Tower Shield', 'icon': 'https://cdn.poedb.tw/image/Art/2DItems/Armours/Shields/ShieldStr5.webp'}\n"
     ]
    },
    {
     "name": "stderr",
     "output_type": "stream",
     "text": [
      " 11%|█         | 11/98 [00:06<00:45,  1.92it/s]"
     ]
    },
    {
     "name": "stdout",
     "output_type": "stream",
     "text": [
      "{'base:': 'Girded Tower Shield', 'icon': 'https://cdn.poedb.tw/image/Art/2DItems/Armours/Shields/ShieldStr6.webp'}\n"
     ]
    },
    {
     "name": "stderr",
     "output_type": "stream",
     "text": [
      " 12%|█▏        | 12/98 [00:07<00:41,  2.06it/s]"
     ]
    },
    {
     "name": "stdout",
     "output_type": "stream",
     "text": [
      "{'base:': 'Crested Tower Shield', 'icon': 'https://cdn.poedb.tw/image/Art/2DItems/Armours/Shields/ShieldStr7.webp'}\n"
     ]
    },
    {
     "name": "stderr",
     "output_type": "stream",
     "text": [
      " 13%|█▎        | 13/98 [00:07<00:39,  2.14it/s]"
     ]
    },
    {
     "name": "stdout",
     "output_type": "stream",
     "text": [
      "{'base:': 'Shagreen Tower Shield', 'icon': 'https://cdn.poedb.tw/image/Art/2DItems/Armours/Shields/ShieldStr3.webp'}\n"
     ]
    },
    {
     "name": "stderr",
     "output_type": "stream",
     "text": [
      " 14%|█▍        | 14/98 [00:08<00:53,  1.57it/s]"
     ]
    },
    {
     "name": "stdout",
     "output_type": "stream",
     "text": [
      "{'base:': 'Ebony Tower Shield', 'icon': 'https://cdn.poedb.tw/image/Art/2DItems/Armours/Shields/ShieldStr4.webp'}\n"
     ]
    },
    {
     "name": "stderr",
     "output_type": "stream",
     "text": [
      " 15%|█▌        | 15/98 [00:09<00:47,  1.76it/s]"
     ]
    },
    {
     "name": "stdout",
     "output_type": "stream",
     "text": [
      "{'base:': 'Ezomyte Tower Shield', 'icon': 'https://cdn.poedb.tw/image/Art/2DItems/Armours/Shields/ShieldStr5.webp'}\n"
     ]
    },
    {
     "name": "stderr",
     "output_type": "stream",
     "text": [
      " 16%|█▋        | 16/98 [00:09<00:42,  1.93it/s]"
     ]
    },
    {
     "name": "stdout",
     "output_type": "stream",
     "text": [
      "{'base:': 'Colossal Tower Shield', 'icon': 'https://cdn.poedb.tw/image/Art/2DItems/Armours/Shields/ShieldStr6.webp'}\n"
     ]
    },
    {
     "name": "stderr",
     "output_type": "stream",
     "text": [
      " 17%|█▋        | 17/98 [00:10<00:40,  2.02it/s]"
     ]
    },
    {
     "name": "stdout",
     "output_type": "stream",
     "text": [
      "{'base:': 'Pinnacle Tower Shield', 'icon': 'https://cdn.poedb.tw/image/Art/2DItems/Armours/Shields/ShieldStr7.webp'}\n"
     ]
    },
    {
     "name": "stderr",
     "output_type": "stream",
     "text": [
      " 18%|█▊        | 18/98 [00:10<00:37,  2.14it/s]"
     ]
    },
    {
     "name": "stdout",
     "output_type": "stream",
     "text": [
      "{'base:': 'Exothermic Tower Shield', 'icon': 'https://cdn.poedb.tw/image/Art/2DItems/Armours/Shields/HeistShield.webp'}\n"
     ]
    },
    {
     "name": "stderr",
     "output_type": "stream",
     "text": [
      " 19%|█▉        | 19/98 [00:10<00:35,  2.23it/s]"
     ]
    },
    {
     "name": "stdout",
     "output_type": "stream",
     "text": [
      "{'base:': 'Magmatic Tower Shield', 'icon': 'https://cdn.poedb.tw/image/Art/2DItems/Armours/Shields/HeistShield.webp'}\n"
     ]
    },
    {
     "name": "stderr",
     "output_type": "stream",
     "text": [
      " 20%|██        | 20/98 [00:11<00:37,  2.10it/s]"
     ]
    },
    {
     "name": "stdout",
     "output_type": "stream",
     "text": [
      "{'base:': 'Heat-attuned Tower Shield', 'icon': 'https://cdn.poedb.tw/image/Art/2DItems/Armours/Shields/HeistShield.webp'}\n"
     ]
    },
    {
     "name": "stderr",
     "output_type": "stream",
     "text": [
      " 21%|██▏       | 21/98 [00:11<00:35,  2.20it/s]"
     ]
    },
    {
     "name": "stdout",
     "output_type": "stream",
     "text": [
      "{'base:': 'Goathide Buckler', 'icon': 'https://cdn.poedb.tw/image/Art/2DItems/Armours/Shields/ShieldDex1.webp'}\n"
     ]
    },
    {
     "name": "stderr",
     "output_type": "stream",
     "text": [
      " 22%|██▏       | 22/98 [00:12<00:48,  1.58it/s]"
     ]
    },
    {
     "name": "stdout",
     "output_type": "stream",
     "text": [
      "{'base:': 'Pine Buckler', 'icon': 'https://cdn.poedb.tw/image/Art/2DItems/Armours/Shields/ShieldDex2.webp'}\n"
     ]
    },
    {
     "name": "stderr",
     "output_type": "stream",
     "text": [
      " 23%|██▎       | 23/98 [00:13<00:55,  1.34it/s]"
     ]
    },
    {
     "name": "stdout",
     "output_type": "stream",
     "text": [
      "{'base:': 'Painted Buckler', 'icon': 'https://cdn.poedb.tw/image/Art/2DItems/Armours/Shields/ShieldDex3.webp'}\n"
     ]
    },
    {
     "name": "stderr",
     "output_type": "stream",
     "text": [
      " 24%|██▍       | 24/98 [00:14<00:47,  1.56it/s]"
     ]
    },
    {
     "name": "stdout",
     "output_type": "stream",
     "text": [
      "{'base:': 'Hammered Buckler', 'icon': 'https://cdn.poedb.tw/image/Art/2DItems/Armours/Shields/ShieldDex4.webp'}\n"
     ]
    },
    {
     "name": "stderr",
     "output_type": "stream",
     "text": [
      " 26%|██▌       | 25/98 [00:14<00:41,  1.76it/s]"
     ]
    },
    {
     "name": "stdout",
     "output_type": "stream",
     "text": [
      "{'base:': 'War Buckler', 'icon': 'https://cdn.poedb.tw/image/Art/2DItems/Armours/Shields/ShieldDex5.webp'}\n"
     ]
    },
    {
     "name": "stderr",
     "output_type": "stream",
     "text": [
      " 27%|██▋       | 26/98 [00:15<00:37,  1.92it/s]"
     ]
    },
    {
     "name": "stdout",
     "output_type": "stream",
     "text": [
      "{'base:': 'Gilded Buckler', 'icon': 'https://cdn.poedb.tw/image/Art/2DItems/Armours/Shields/ShieldDex6.webp'}\n"
     ]
    },
    {
     "name": "stderr",
     "output_type": "stream",
     "text": [
      " 28%|██▊       | 27/98 [00:15<00:34,  2.04it/s]"
     ]
    },
    {
     "name": "stdout",
     "output_type": "stream",
     "text": [
      "{'base:': 'Oak Buckler', 'icon': 'https://cdn.poedb.tw/image/Art/2DItems/Armours/Shields/ShieldDex2.webp'}\n"
     ]
    },
    {
     "name": "stderr",
     "output_type": "stream",
     "text": [
      " 29%|██▊       | 28/98 [00:15<00:32,  2.13it/s]"
     ]
    },
    {
     "name": "stdout",
     "output_type": "stream",
     "text": [
      "{'base:': 'Enameled Buckler', 'icon': 'https://cdn.poedb.tw/image/Art/2DItems/Armours/Shields/ShieldDex3.webp'}\n"
     ]
    },
    {
     "name": "stderr",
     "output_type": "stream",
     "text": [
      " 30%|██▉       | 29/98 [00:16<00:45,  1.53it/s]"
     ]
    },
    {
     "name": "stdout",
     "output_type": "stream",
     "text": [
      "{'base:': 'Corrugated Buckler', 'icon': 'https://cdn.poedb.tw/image/Art/2DItems/Armours/Shields/ShieldDex4.webp'}\n"
     ]
    },
    {
     "name": "stderr",
     "output_type": "stream",
     "text": [
      " 31%|███       | 30/98 [00:18<00:51,  1.31it/s]"
     ]
    },
    {
     "name": "stdout",
     "output_type": "stream",
     "text": [
      "{'base:': 'Battle Buckler', 'icon': 'https://cdn.poedb.tw/image/Art/2DItems/Armours/Shields/ShieldDex5.webp'}\n"
     ]
    },
    {
     "name": "stderr",
     "output_type": "stream",
     "text": [
      " 32%|███▏      | 31/98 [00:19<00:57,  1.17it/s]"
     ]
    },
    {
     "name": "stdout",
     "output_type": "stream",
     "text": [
      "{'base:': 'Golden Buckler', 'icon': 'https://cdn.poedb.tw/image/Art/2DItems/Armours/Shields/ShieldDex6.webp'}\n"
     ]
    },
    {
     "name": "stderr",
     "output_type": "stream",
     "text": [
      " 33%|███▎      | 32/98 [00:19<00:47,  1.38it/s]"
     ]
    },
    {
     "name": "stdout",
     "output_type": "stream",
     "text": [
      "{'base:': 'Ironwood Buckler', 'icon': 'https://cdn.poedb.tw/image/Art/2DItems/Armours/Shields/ShieldDex2.webp'}\n"
     ]
    },
    {
     "name": "stderr",
     "output_type": "stream",
     "text": [
      " 34%|███▎      | 33/98 [00:19<00:40,  1.60it/s]"
     ]
    },
    {
     "name": "stdout",
     "output_type": "stream",
     "text": [
      "{'base:': 'Lacquered Buckler', 'icon': 'https://cdn.poedb.tw/image/Art/2DItems/Armours/Shields/ShieldDex3.webp'}\n"
     ]
    },
    {
     "name": "stderr",
     "output_type": "stream",
     "text": [
      " 35%|███▍      | 34/98 [00:20<00:36,  1.77it/s]"
     ]
    },
    {
     "name": "stdout",
     "output_type": "stream",
     "text": [
      "{'base:': 'Vaal Buckler', 'icon': 'https://cdn.poedb.tw/image/Art/2DItems/Armours/Shields/ShieldDex4.webp'}\n"
     ]
    },
    {
     "name": "stderr",
     "output_type": "stream",
     "text": [
      " 36%|███▌      | 35/98 [00:20<00:32,  1.91it/s]"
     ]
    },
    {
     "name": "stdout",
     "output_type": "stream",
     "text": [
      "{'base:': 'Crusader Buckler', 'icon': 'https://cdn.poedb.tw/image/Art/2DItems/Armours/Shields/ShieldDex5.webp'}\n"
     ]
    },
    {
     "name": "stderr",
     "output_type": "stream",
     "text": [
      " 37%|███▋      | 36/98 [00:21<00:30,  2.04it/s]"
     ]
    },
    {
     "name": "stdout",
     "output_type": "stream",
     "text": [
      "{'base:': 'Imperial Buckler', 'icon': 'https://cdn.poedb.tw/image/Art/2DItems/Armours/Shields/ShieldDex6.webp'}\n"
     ]
    },
    {
     "name": "stderr",
     "output_type": "stream",
     "text": [
      " 38%|███▊      | 37/98 [00:22<00:39,  1.53it/s]"
     ]
    },
    {
     "name": "stdout",
     "output_type": "stream",
     "text": [
      "{'base:': 'Endothermic Buckler', 'icon': 'https://cdn.poedb.tw/image/Art/2DItems/Armours/Shields/DexHeistShield.webp'}\n"
     ]
    },
    {
     "name": "stderr",
     "output_type": "stream",
     "text": [
      " 39%|███▉      | 38/98 [00:23<00:46,  1.28it/s]"
     ]
    },
    {
     "name": "stdout",
     "output_type": "stream",
     "text": [
      "{'base:': 'Polar Buckler', 'icon': 'https://cdn.poedb.tw/image/Art/2DItems/Armours/Shields/DexHeistShield.webp'}\n"
     ]
    },
    {
     "name": "stderr",
     "output_type": "stream",
     "text": [
      " 40%|███▉      | 39/98 [00:23<00:39,  1.49it/s]"
     ]
    },
    {
     "name": "stdout",
     "output_type": "stream",
     "text": [
      "{'base:': 'Cold-attuned Buckler', 'icon': 'https://cdn.poedb.tw/image/Art/2DItems/Armours/Shields/DexHeistShield.webp'}\n"
     ]
    },
    {
     "name": "stderr",
     "output_type": "stream",
     "text": [
      " 41%|████      | 40/98 [00:24<00:34,  1.68it/s]"
     ]
    },
    {
     "name": "stdout",
     "output_type": "stream",
     "text": [
      "{'base:': 'Twig Spirit Shield', 'icon': 'https://cdn.poedb.tw/image/Art/2DItems/Armours/Shields/ShieldInt1.webp'}\n"
     ]
    },
    {
     "name": "stderr",
     "output_type": "stream",
     "text": [
      " 42%|████▏     | 41/98 [00:24<00:30,  1.86it/s]"
     ]
    },
    {
     "name": "stdout",
     "output_type": "stream",
     "text": [
      "{'base:': 'Yew Spirit Shield', 'icon': 'https://cdn.poedb.tw/image/Art/2DItems/Armours/Shields/ShieldInt2.webp'}\n"
     ]
    },
    {
     "name": "stderr",
     "output_type": "stream",
     "text": [
      " 43%|████▎     | 42/98 [00:25<00:33,  1.67it/s]"
     ]
    },
    {
     "name": "stdout",
     "output_type": "stream",
     "text": [
      "{'base:': 'Bone Spirit Shield', 'icon': 'https://cdn.poedb.tw/image/Art/2DItems/Armours/Shields/ShieldInt3.webp'}\n"
     ]
    },
    {
     "name": "stderr",
     "output_type": "stream",
     "text": [
      " 44%|████▍     | 43/98 [00:25<00:30,  1.83it/s]"
     ]
    },
    {
     "name": "stdout",
     "output_type": "stream",
     "text": [
      "{'base:': 'Tarnished Spirit Shield', 'icon': 'https://cdn.poedb.tw/image/Art/2DItems/Armours/Shields/ShieldInt4.webp'}\n"
     ]
    },
    {
     "name": "stderr",
     "output_type": "stream",
     "text": [
      " 45%|████▍     | 44/98 [00:26<00:27,  1.98it/s]"
     ]
    },
    {
     "name": "stdout",
     "output_type": "stream",
     "text": [
      "{'base:': 'Jingling Spirit Shield', 'icon': 'https://cdn.poedb.tw/image/Art/2DItems/Armours/Shields/ShieldInt5.webp'}\n"
     ]
    },
    {
     "name": "stderr",
     "output_type": "stream",
     "text": [
      " 46%|████▌     | 45/98 [00:26<00:24,  2.12it/s]"
     ]
    },
    {
     "name": "stdout",
     "output_type": "stream",
     "text": [
      "{'base:': 'Brass Spirit Shield', 'icon': 'https://cdn.poedb.tw/image/Art/2DItems/Armours/Shields/ShieldInt6.webp'}\n"
     ]
    },
    {
     "name": "stderr",
     "output_type": "stream",
     "text": [
      " 47%|████▋     | 46/98 [00:26<00:24,  2.11it/s]"
     ]
    },
    {
     "name": "stdout",
     "output_type": "stream",
     "text": [
      "{'base:': 'Walnut Spirit Shield', 'icon': 'https://cdn.poedb.tw/image/Art/2DItems/Armours/Shields/ShieldInt2.webp'}\n"
     ]
    },
    {
     "name": "stderr",
     "output_type": "stream",
     "text": [
      " 48%|████▊     | 47/98 [00:27<00:31,  1.60it/s]"
     ]
    },
    {
     "name": "stdout",
     "output_type": "stream",
     "text": [
      "{'base:': 'Ivory Spirit Shield', 'icon': 'https://cdn.poedb.tw/image/Art/2DItems/Armours/Shields/ShieldInt3.webp'}\n"
     ]
    },
    {
     "name": "stderr",
     "output_type": "stream",
     "text": [
      " 49%|████▉     | 48/98 [00:29<00:41,  1.22it/s]"
     ]
    },
    {
     "name": "stdout",
     "output_type": "stream",
     "text": [
      "{'base:': 'Ancient Spirit Shield', 'icon': 'https://cdn.poedb.tw/image/Art/2DItems/Armours/Shields/ShieldInt4.webp'}\n"
     ]
    },
    {
     "name": "stderr",
     "output_type": "stream",
     "text": [
      " 50%|█████     | 49/98 [00:29<00:34,  1.44it/s]"
     ]
    },
    {
     "name": "stdout",
     "output_type": "stream",
     "text": [
      "{'base:': 'Chiming Spirit Shield', 'icon': 'https://cdn.poedb.tw/image/Art/2DItems/Armours/Shields/ShieldInt5.webp'}\n"
     ]
    },
    {
     "name": "stderr",
     "output_type": "stream",
     "text": [
      " 51%|█████     | 50/98 [00:30<00:38,  1.26it/s]"
     ]
    },
    {
     "name": "stdout",
     "output_type": "stream",
     "text": [
      "{'base:': 'Thorium Spirit Shield', 'icon': 'https://cdn.poedb.tw/image/Art/2DItems/Armours/Shields/ShieldInt6.webp'}\n"
     ]
    },
    {
     "name": "stderr",
     "output_type": "stream",
     "text": [
      " 52%|█████▏    | 51/98 [00:31<00:40,  1.15it/s]"
     ]
    },
    {
     "name": "stdout",
     "output_type": "stream",
     "text": [
      "{'base:': 'Lacewood Spirit Shield', 'icon': 'https://cdn.poedb.tw/image/Art/2DItems/Armours/Shields/ShieldInt2.webp'}\n"
     ]
    },
    {
     "name": "stderr",
     "output_type": "stream",
     "text": [
      " 53%|█████▎    | 52/98 [00:32<00:41,  1.10it/s]"
     ]
    },
    {
     "name": "stdout",
     "output_type": "stream",
     "text": [
      "{'base:': 'Fossilised Spirit Shield', 'icon': 'https://cdn.poedb.tw/image/Art/2DItems/Armours/Shields/ShieldInt3.webp'}\n"
     ]
    },
    {
     "name": "stderr",
     "output_type": "stream",
     "text": [
      " 54%|█████▍    | 53/98 [00:33<00:34,  1.31it/s]"
     ]
    },
    {
     "name": "stdout",
     "output_type": "stream",
     "text": [
      "{'base:': 'Vaal Spirit Shield', 'icon': 'https://cdn.poedb.tw/image/Art/2DItems/Armours/Shields/ShieldInt4.webp'}\n"
     ]
    },
    {
     "name": "stderr",
     "output_type": "stream",
     "text": [
      " 55%|█████▌    | 54/98 [00:33<00:29,  1.51it/s]"
     ]
    },
    {
     "name": "stdout",
     "output_type": "stream",
     "text": [
      "{'base:': 'Harmonic Spirit Shield', 'icon': 'https://cdn.poedb.tw/image/Art/2DItems/Armours/Shields/ShieldInt5.webp'}\n"
     ]
    },
    {
     "name": "stderr",
     "output_type": "stream",
     "text": [
      " 56%|█████▌    | 55/98 [00:34<00:32,  1.31it/s]"
     ]
    },
    {
     "name": "stdout",
     "output_type": "stream",
     "text": [
      "{'base:': 'Titanium Spirit Shield', 'icon': 'https://cdn.poedb.tw/image/Art/2DItems/Armours/Shields/ShieldInt6.webp'}\n"
     ]
    },
    {
     "name": "stderr",
     "output_type": "stream",
     "text": [
      " 57%|█████▋    | 56/98 [00:34<00:27,  1.53it/s]"
     ]
    },
    {
     "name": "stdout",
     "output_type": "stream",
     "text": [
      "{'base:': 'Exhausting Spirit Shield', 'icon': 'https://cdn.poedb.tw/image/Art/2DItems/Armours/Shields/IntHeistShield.webp'}\n"
     ]
    },
    {
     "name": "stderr",
     "output_type": "stream",
     "text": [
      " 58%|█████▊    | 57/98 [00:35<00:24,  1.65it/s]"
     ]
    },
    {
     "name": "stdout",
     "output_type": "stream",
     "text": [
      "{'base:': 'Subsuming Spirit Shield', 'icon': 'https://cdn.poedb.tw/image/Art/2DItems/Armours/Shields/IntHeistShield.webp'}\n"
     ]
    },
    {
     "name": "stderr",
     "output_type": "stream",
     "text": [
      " 59%|█████▉    | 58/98 [00:35<00:22,  1.82it/s]"
     ]
    },
    {
     "name": "stdout",
     "output_type": "stream",
     "text": [
      "{'base:': 'Transfer-attuned Spirit Shield', 'icon': 'https://cdn.poedb.tw/image/Art/2DItems/Armours/Shields/IntHeistShield.webp'}\n"
     ]
    },
    {
     "name": "stderr",
     "output_type": "stream",
     "text": [
      " 60%|██████    | 59/98 [00:36<00:26,  1.46it/s]"
     ]
    },
    {
     "name": "stdout",
     "output_type": "stream",
     "text": [
      "{'base:': 'Rotted Round Shield', 'icon': 'https://cdn.poedb.tw/image/Art/2DItems/Armours/Shields/ShieldStrDex1.webp'}\n"
     ]
    },
    {
     "name": "stderr",
     "output_type": "stream",
     "text": [
      " 61%|██████    | 60/98 [00:38<00:31,  1.20it/s]"
     ]
    },
    {
     "name": "stdout",
     "output_type": "stream",
     "text": [
      "{'base:': 'Fir Round Shield', 'icon': 'https://cdn.poedb.tw/image/Art/2DItems/Armours/Shields/ShieldStrDex2.webp'}\n"
     ]
    },
    {
     "name": "stderr",
     "output_type": "stream",
     "text": [
      " 62%|██████▏   | 61/98 [00:38<00:25,  1.42it/s]"
     ]
    },
    {
     "name": "stdout",
     "output_type": "stream",
     "text": [
      "{'base:': 'Studded Round Shield', 'icon': 'https://cdn.poedb.tw/image/Art/2DItems/Armours/Shields/ShieldStrDex3.webp'}\n"
     ]
    },
    {
     "name": "stderr",
     "output_type": "stream",
     "text": [
      " 63%|██████▎   | 62/98 [00:38<00:22,  1.63it/s]"
     ]
    },
    {
     "name": "stdout",
     "output_type": "stream",
     "text": [
      "{'base:': 'Scarlet Round Shield', 'icon': 'https://cdn.poedb.tw/image/Art/2DItems/Armours/Shields/ShieldStrDex4.webp'}\n"
     ]
    },
    {
     "name": "stderr",
     "output_type": "stream",
     "text": [
      " 64%|██████▍   | 63/98 [00:39<00:19,  1.80it/s]"
     ]
    },
    {
     "name": "stdout",
     "output_type": "stream",
     "text": [
      "{'base:': 'Splendid Round Shield', 'icon': 'https://cdn.poedb.tw/image/Art/2DItems/Armours/Shields/ShieldStrDex5.webp'}\n"
     ]
    },
    {
     "name": "stderr",
     "output_type": "stream",
     "text": [
      " 65%|██████▌   | 64/98 [00:39<00:17,  1.97it/s]"
     ]
    },
    {
     "name": "stdout",
     "output_type": "stream",
     "text": [
      "{'base:': 'Maple Round Shield', 'icon': 'https://cdn.poedb.tw/image/Art/2DItems/Armours/Shields/ShieldStrDex2.webp'}\n"
     ]
    },
    {
     "name": "stderr",
     "output_type": "stream",
     "text": [
      " 66%|██████▋   | 65/98 [00:40<00:22,  1.50it/s]"
     ]
    },
    {
     "name": "stdout",
     "output_type": "stream",
     "text": [
      "{'base:': 'Spiked Round Shield', 'icon': 'https://cdn.poedb.tw/image/Art/2DItems/Armours/Shields/ShieldStrDex3.webp'}\n"
     ]
    },
    {
     "name": "stderr",
     "output_type": "stream",
     "text": [
      " 67%|██████▋   | 66/98 [00:41<00:19,  1.68it/s]"
     ]
    },
    {
     "name": "stdout",
     "output_type": "stream",
     "text": [
      "{'base:': 'Crimson Round Shield', 'icon': 'https://cdn.poedb.tw/image/Art/2DItems/Armours/Shields/ShieldStrDex4.webp'}\n"
     ]
    },
    {
     "name": "stderr",
     "output_type": "stream",
     "text": [
      " 68%|██████▊   | 67/98 [00:42<00:22,  1.39it/s]"
     ]
    },
    {
     "name": "stdout",
     "output_type": "stream",
     "text": [
      "{'base:': 'Baroque Round Shield', 'icon': 'https://cdn.poedb.tw/image/Art/2DItems/Armours/Shields/ShieldStrDex5.webp'}\n"
     ]
    },
    {
     "name": "stderr",
     "output_type": "stream",
     "text": [
      " 69%|██████▉   | 68/98 [00:42<00:18,  1.59it/s]"
     ]
    },
    {
     "name": "stdout",
     "output_type": "stream",
     "text": [
      "{'base:': 'Teak Round Shield', 'icon': 'https://cdn.poedb.tw/image/Art/2DItems/Armours/Shields/ShieldStrDex2.webp'}\n"
     ]
    },
    {
     "name": "stderr",
     "output_type": "stream",
     "text": [
      " 70%|███████   | 69/98 [00:43<00:21,  1.34it/s]"
     ]
    },
    {
     "name": "stdout",
     "output_type": "stream",
     "text": [
      "{'base:': 'Spiny Round Shield', 'icon': 'https://cdn.poedb.tw/image/Art/2DItems/Armours/Shields/ShieldStrDex3.webp'}\n"
     ]
    },
    {
     "name": "stderr",
     "output_type": "stream",
     "text": [
      " 71%|███████▏  | 70/98 [00:44<00:23,  1.22it/s]"
     ]
    },
    {
     "name": "stdout",
     "output_type": "stream",
     "text": [
      "{'base:': 'Cardinal Round Shield', 'icon': 'https://cdn.poedb.tw/image/Art/2DItems/Armours/Shields/ShieldStrDex4.webp'}\n"
     ]
    },
    {
     "name": "stderr",
     "output_type": "stream",
     "text": [
      " 72%|███████▏  | 71/98 [00:44<00:18,  1.43it/s]"
     ]
    },
    {
     "name": "stdout",
     "output_type": "stream",
     "text": [
      "{'base:': 'Elegant Round Shield', 'icon': 'https://cdn.poedb.tw/image/Art/2DItems/Armours/Shields/ShieldStrDex5.webp'}\n"
     ]
    },
    {
     "name": "stderr",
     "output_type": "stream",
     "text": [
      " 73%|███████▎  | 72/98 [00:45<00:20,  1.26it/s]"
     ]
    },
    {
     "name": "stdout",
     "output_type": "stream",
     "text": [
      "{'base:': 'Plank Kite Shield', 'icon': 'https://cdn.poedb.tw/image/Art/2DItems/Armours/Shields/ShieldStrInt1.webp'}\n"
     ]
    },
    {
     "name": "stderr",
     "output_type": "stream",
     "text": [
      " 74%|███████▍  | 73/98 [00:46<00:16,  1.48it/s]"
     ]
    },
    {
     "name": "stdout",
     "output_type": "stream",
     "text": [
      "{'base:': 'Linden Kite Shield', 'icon': 'https://cdn.poedb.tw/image/Art/2DItems/Armours/Shields/ShieldStrInt2.webp'}\n"
     ]
    },
    {
     "name": "stderr",
     "output_type": "stream",
     "text": [
      " 76%|███████▌  | 74/98 [00:46<00:14,  1.63it/s]"
     ]
    },
    {
     "name": "stdout",
     "output_type": "stream",
     "text": [
      "{'base:': 'Reinforced Kite Shield', 'icon': 'https://cdn.poedb.tw/image/Art/2DItems/Armours/Shields/ShieldStrInt4.webp'}\n"
     ]
    },
    {
     "name": "stderr",
     "output_type": "stream",
     "text": [
      " 77%|███████▋  | 75/98 [00:47<00:16,  1.37it/s]"
     ]
    },
    {
     "name": "stdout",
     "output_type": "stream",
     "text": [
      "{'base:': 'Layered Kite Shield', 'icon': 'https://cdn.poedb.tw/image/Art/2DItems/Armours/Shields/ShieldStrInt3.webp'}\n"
     ]
    },
    {
     "name": "stderr",
     "output_type": "stream",
     "text": [
      " 78%|███████▊  | 76/98 [00:48<00:14,  1.56it/s]"
     ]
    },
    {
     "name": "stdout",
     "output_type": "stream",
     "text": [
      "{'base:': 'Ceremonial Kite Shield', 'icon': 'https://cdn.poedb.tw/image/Art/2DItems/Armours/Shields/ShieldStrInt5.webp'}\n"
     ]
    },
    {
     "name": "stderr",
     "output_type": "stream",
     "text": [
      " 79%|███████▊  | 77/98 [00:48<00:11,  1.76it/s]"
     ]
    },
    {
     "name": "stdout",
     "output_type": "stream",
     "text": [
      "{'base:': 'Etched Kite Shield', 'icon': 'https://cdn.poedb.tw/image/Art/2DItems/Armours/Shields/ShieldStrInt2.webp'}\n"
     ]
    },
    {
     "name": "stderr",
     "output_type": "stream",
     "text": [
      " 80%|███████▉  | 78/98 [00:49<00:10,  1.91it/s]"
     ]
    },
    {
     "name": "stdout",
     "output_type": "stream",
     "text": [
      "{'base:': 'Steel Kite Shield', 'icon': 'https://cdn.poedb.tw/image/Art/2DItems/Armours/Shields/ShieldStrInt4.webp'}\n"
     ]
    },
    {
     "name": "stderr",
     "output_type": "stream",
     "text": [
      " 81%|████████  | 79/98 [00:49<00:09,  2.04it/s]"
     ]
    },
    {
     "name": "stdout",
     "output_type": "stream",
     "text": [
      "{'base:': 'Laminated Kite Shield', 'icon': 'https://cdn.poedb.tw/image/Art/2DItems/Armours/Shields/ShieldStrInt3.webp'}\n"
     ]
    },
    {
     "name": "stderr",
     "output_type": "stream",
     "text": [
      " 82%|████████▏ | 80/98 [00:49<00:08,  2.17it/s]"
     ]
    },
    {
     "name": "stdout",
     "output_type": "stream",
     "text": [
      "{'base:': 'Angelic Kite Shield', 'icon': 'https://cdn.poedb.tw/image/Art/2DItems/Armours/Shields/ShieldStrInt5.webp'}\n"
     ]
    },
    {
     "name": "stderr",
     "output_type": "stream",
     "text": [
      " 83%|████████▎ | 81/98 [00:50<00:07,  2.23it/s]"
     ]
    },
    {
     "name": "stdout",
     "output_type": "stream",
     "text": [
      "{'base:': 'Branded Kite Shield', 'icon': 'https://cdn.poedb.tw/image/Art/2DItems/Armours/Shields/ShieldStrInt2.webp'}\n"
     ]
    },
    {
     "name": "stderr",
     "output_type": "stream",
     "text": [
      " 84%|████████▎ | 82/98 [00:50<00:06,  2.30it/s]"
     ]
    },
    {
     "name": "stdout",
     "output_type": "stream",
     "text": [
      "{'base:': 'Champion Kite Shield', 'icon': 'https://cdn.poedb.tw/image/Art/2DItems/Armours/Shields/ShieldStrInt4.webp'}\n"
     ]
    },
    {
     "name": "stderr",
     "output_type": "stream",
     "text": [
      " 85%|████████▍ | 83/98 [00:51<00:06,  2.34it/s]"
     ]
    },
    {
     "name": "stdout",
     "output_type": "stream",
     "text": [
      "{'base:': 'Mosaic Kite Shield', 'icon': 'https://cdn.poedb.tw/image/Art/2DItems/Armours/Shields/ShieldStrInt3.webp'}\n"
     ]
    },
    {
     "name": "stderr",
     "output_type": "stream",
     "text": [
      " 86%|████████▌ | 84/98 [00:52<00:08,  1.66it/s]"
     ]
    },
    {
     "name": "stdout",
     "output_type": "stream",
     "text": [
      "{'base:': 'Archon Kite Shield', 'icon': 'https://cdn.poedb.tw/image/Art/2DItems/Armours/Shields/ShieldStrInt5.webp'}\n"
     ]
    },
    {
     "name": "stderr",
     "output_type": "stream",
     "text": [
      " 87%|████████▋ | 85/98 [00:53<00:09,  1.39it/s]"
     ]
    },
    {
     "name": "stdout",
     "output_type": "stream",
     "text": [
      "{'base:': 'Spiked Bundle', 'icon': 'https://cdn.poedb.tw/image/Art/2DItems/Armours/Shields/ShieldDexInt1.webp'}\n"
     ]
    },
    {
     "name": "stderr",
     "output_type": "stream",
     "text": [
      " 88%|████████▊ | 86/98 [00:53<00:07,  1.59it/s]"
     ]
    },
    {
     "name": "stdout",
     "output_type": "stream",
     "text": [
      "{'base:': 'Driftwood Spiked Shield', 'icon': 'https://cdn.poedb.tw/image/Art/2DItems/Armours/Shields/ShieldDexInt2.webp'}\n"
     ]
    },
    {
     "name": "stderr",
     "output_type": "stream",
     "text": [
      " 89%|████████▉ | 87/98 [00:53<00:06,  1.79it/s]"
     ]
    },
    {
     "name": "stdout",
     "output_type": "stream",
     "text": [
      "{'base:': 'Alloyed Spiked Shield', 'icon': 'https://cdn.poedb.tw/image/Art/2DItems/Armours/Shields/ShieldDexInt3.webp'}\n"
     ]
    },
    {
     "name": "stderr",
     "output_type": "stream",
     "text": [
      " 90%|████████▉ | 88/98 [00:54<00:06,  1.44it/s]"
     ]
    },
    {
     "name": "stdout",
     "output_type": "stream",
     "text": [
      "{'base:': 'Burnished Spiked Shield', 'icon': 'https://cdn.poedb.tw/image/Art/2DItems/Armours/Shields/ShieldDexInt4.webp'}\n"
     ]
    },
    {
     "name": "stderr",
     "output_type": "stream",
     "text": [
      " 91%|█████████ | 89/98 [00:55<00:07,  1.26it/s]"
     ]
    },
    {
     "name": "stdout",
     "output_type": "stream",
     "text": [
      "{'base:': 'Ornate Spiked Shield', 'icon': 'https://cdn.poedb.tw/image/Art/2DItems/Armours/Shields/ShieldDexInt5.webp'}\n"
     ]
    },
    {
     "name": "stderr",
     "output_type": "stream",
     "text": [
      " 92%|█████████▏| 90/98 [00:57<00:06,  1.16it/s]"
     ]
    },
    {
     "name": "stdout",
     "output_type": "stream",
     "text": [
      "{'base:': 'Redwood Spiked Shield', 'icon': 'https://cdn.poedb.tw/image/Art/2DItems/Armours/Shields/ShieldDexInt2.webp'}\n"
     ]
    },
    {
     "name": "stderr",
     "output_type": "stream",
     "text": [
      " 93%|█████████▎| 91/98 [00:58<00:06,  1.11it/s]"
     ]
    },
    {
     "name": "stdout",
     "output_type": "stream",
     "text": [
      "{'base:': 'Compound Spiked Shield', 'icon': 'https://cdn.poedb.tw/image/Art/2DItems/Armours/Shields/ShieldDexInt3.webp'}\n"
     ]
    },
    {
     "name": "stderr",
     "output_type": "stream",
     "text": [
      " 94%|█████████▍| 92/98 [00:59<00:05,  1.06it/s]"
     ]
    },
    {
     "name": "stdout",
     "output_type": "stream",
     "text": [
      "{'base:': 'Polished Spiked Shield', 'icon': 'https://cdn.poedb.tw/image/Art/2DItems/Armours/Shields/ShieldDexInt4.webp'}\n"
     ]
    },
    {
     "name": "stderr",
     "output_type": "stream",
     "text": [
      " 95%|█████████▍| 93/98 [00:59<00:03,  1.28it/s]"
     ]
    },
    {
     "name": "stdout",
     "output_type": "stream",
     "text": [
      "{'base:': 'Sovereign Spiked Shield', 'icon': 'https://cdn.poedb.tw/image/Art/2DItems/Armours/Shields/ShieldDexInt5.webp'}\n"
     ]
    },
    {
     "name": "stderr",
     "output_type": "stream",
     "text": [
      " 96%|█████████▌| 94/98 [00:59<00:02,  1.49it/s]"
     ]
    },
    {
     "name": "stdout",
     "output_type": "stream",
     "text": [
      "{'base:': 'Alder Spiked Shield', 'icon': 'https://cdn.poedb.tw/image/Art/2DItems/Armours/Shields/ShieldDexInt2.webp'}\n"
     ]
    },
    {
     "name": "stderr",
     "output_type": "stream",
     "text": [
      " 97%|█████████▋| 95/98 [01:00<00:01,  1.66it/s]"
     ]
    },
    {
     "name": "stdout",
     "output_type": "stream",
     "text": [
      "{'base:': 'Ezomyte Spiked Shield', 'icon': 'https://cdn.poedb.tw/image/Art/2DItems/Armours/Shields/ShieldDexInt3.webp'}\n"
     ]
    },
    {
     "name": "stderr",
     "output_type": "stream",
     "text": [
      " 98%|█████████▊| 96/98 [01:01<00:01,  1.37it/s]"
     ]
    },
    {
     "name": "stdout",
     "output_type": "stream",
     "text": [
      "{'base:': 'Mirrored Spiked Shield', 'icon': 'https://cdn.poedb.tw/image/Art/2DItems/Armours/Shields/ShieldDexInt4.webp'}\n"
     ]
    },
    {
     "name": "stderr",
     "output_type": "stream",
     "text": [
      " 99%|█████████▉| 97/98 [01:01<00:00,  1.57it/s]"
     ]
    },
    {
     "name": "stdout",
     "output_type": "stream",
     "text": [
      "{'base:': 'Supreme Spiked Shield', 'icon': 'https://cdn.poedb.tw/image/Art/2DItems/Armours/Shields/ShieldDexInt5.webp'}\n"
     ]
    },
    {
     "name": "stderr",
     "output_type": "stream",
     "text": [
      "100%|██████████| 98/98 [01:02<00:00,  1.58it/s]"
     ]
    },
    {
     "name": "stdout",
     "output_type": "stream",
     "text": [
      "{'base:': 'Golden Flame', 'icon': 'https://cdn.poedb.tw/image/Art/2DItems/Armours/Shields/DemigodsShield.webp'}\n",
      "https://poedb.tw/us/Gloves#GlovesItem\n"
     ]
    },
    {
     "name": "stderr",
     "output_type": "stream",
     "text": [
      "\n",
      "  1%|▏         | 1/68 [00:01<01:08,  1.03s/it]"
     ]
    },
    {
     "name": "stdout",
     "output_type": "stream",
     "text": [
      "{'base:': 'Iron Gauntlets', 'icon': 'https://cdn.poedb.tw/image/Art/2DItems/Armours/Gloves/GlovesStr1.webp'}\n"
     ]
    },
    {
     "name": "stderr",
     "output_type": "stream",
     "text": [
      "  3%|▎         | 2/68 [00:02<01:06,  1.01s/it]"
     ]
    },
    {
     "name": "stdout",
     "output_type": "stream",
     "text": [
      "{'base:': 'Plated Gauntlets', 'icon': 'https://cdn.poedb.tw/image/Art/2DItems/Armours/Gloves/GlovesStr2.webp'}\n"
     ]
    },
    {
     "name": "stderr",
     "output_type": "stream",
     "text": [
      "  4%|▍         | 3/68 [00:02<00:48,  1.34it/s]"
     ]
    },
    {
     "name": "stdout",
     "output_type": "stream",
     "text": [
      "{'base:': 'Bronze Gauntlets', 'icon': 'https://cdn.poedb.tw/image/Art/2DItems/Armours/Gloves/GlovesStr3.webp'}\n"
     ]
    },
    {
     "name": "stderr",
     "output_type": "stream",
     "text": [
      "  6%|▌         | 4/68 [00:03<00:59,  1.07it/s]"
     ]
    },
    {
     "name": "stdout",
     "output_type": "stream",
     "text": [
      "{'base:': 'Steel Gauntlets', 'icon': 'https://cdn.poedb.tw/image/Art/2DItems/Armours/Gloves/GlovesStr4.webp'}\n"
     ]
    },
    {
     "name": "stderr",
     "output_type": "stream",
     "text": [
      "  7%|▋         | 5/68 [00:04<00:59,  1.05it/s]"
     ]
    },
    {
     "name": "stdout",
     "output_type": "stream",
     "text": [
      "{'base:': 'Antique Gauntlets', 'icon': 'https://cdn.poedb.tw/image/Art/2DItems/Armours/Gloves/GlovesStr2.webp'}\n"
     ]
    },
    {
     "name": "stderr",
     "output_type": "stream",
     "text": [
      "  9%|▉         | 6/68 [00:05<00:47,  1.31it/s]"
     ]
    },
    {
     "name": "stdout",
     "output_type": "stream",
     "text": [
      "{'base:': 'Ancient Gauntlets', 'icon': 'https://cdn.poedb.tw/image/Art/2DItems/Armours/Gloves/GlovesStr3.webp'}\n"
     ]
    },
    {
     "name": "stderr",
     "output_type": "stream",
     "text": [
      " 10%|█         | 7/68 [00:05<00:39,  1.56it/s]"
     ]
    },
    {
     "name": "stdout",
     "output_type": "stream",
     "text": [
      "{'base:': 'Goliath Gauntlets', 'icon': 'https://cdn.poedb.tw/image/Art/2DItems/Armours/Gloves/GlovesStr4.webp'}\n"
     ]
    },
    {
     "name": "stderr",
     "output_type": "stream",
     "text": [
      " 12%|█▏        | 8/68 [00:05<00:34,  1.74it/s]"
     ]
    },
    {
     "name": "stdout",
     "output_type": "stream",
     "text": [
      "{'base:': 'Vaal Gauntlets', 'icon': 'https://cdn.poedb.tw/image/Art/2DItems/Armours/Gloves/GlovesStr3.webp'}\n"
     ]
    },
    {
     "name": "stderr",
     "output_type": "stream",
     "text": [
      " 13%|█▎        | 9/68 [00:06<00:41,  1.41it/s]"
     ]
    },
    {
     "name": "stdout",
     "output_type": "stream",
     "text": [
      "{'base:': 'Titan Gauntlets', 'icon': 'https://cdn.poedb.tw/image/Art/2DItems/Armours/Gloves/GlovesStr4.webp'}\n"
     ]
    },
    {
     "name": "stderr",
     "output_type": "stream",
     "text": [
      " 15%|█▍        | 10/68 [00:07<00:46,  1.26it/s]"
     ]
    },
    {
     "name": "stdout",
     "output_type": "stream",
     "text": [
      "{'base:': 'Taxing Gauntlets', 'icon': 'https://cdn.poedb.tw/image/Art/2DItems/Armours/Gloves/RitualStrGloves.webp'}\n"
     ]
    },
    {
     "name": "stderr",
     "output_type": "stream",
     "text": [
      " 16%|█▌        | 11/68 [00:08<00:39,  1.45it/s]"
     ]
    },
    {
     "name": "stdout",
     "output_type": "stream",
     "text": [
      "{'base:': 'Gruelling Gauntlets', 'icon': 'https://cdn.poedb.tw/image/Art/2DItems/Armours/Gloves/RitualStrGloves.webp'}\n"
     ]
    },
    {
     "name": "stderr",
     "output_type": "stream",
     "text": [
      " 18%|█▊        | 12/68 [00:09<00:44,  1.27it/s]"
     ]
    },
    {
     "name": "stdout",
     "output_type": "stream",
     "text": [
      "{'base:': 'Debilitation Gauntlets', 'icon': 'https://cdn.poedb.tw/image/Art/2DItems/Armours/Gloves/RitualStrGloves.webp'}\n"
     ]
    },
    {
     "name": "stderr",
     "output_type": "stream",
     "text": [
      " 19%|█▉        | 13/68 [00:10<00:47,  1.15it/s]"
     ]
    },
    {
     "name": "stdout",
     "output_type": "stream",
     "text": [
      "{'base:': 'Rawhide Gloves', 'icon': 'https://cdn.poedb.tw/image/Art/2DItems/Armours/Gloves/GlovesDex1.webp'}\n"
     ]
    },
    {
     "name": "stderr",
     "output_type": "stream",
     "text": [
      " 21%|██        | 14/68 [00:10<00:40,  1.35it/s]"
     ]
    },
    {
     "name": "stdout",
     "output_type": "stream",
     "text": [
      "{'base:': 'Goathide Gloves', 'icon': 'https://cdn.poedb.tw/image/Art/2DItems/Armours/Gloves/GlovesDex2.webp'}\n"
     ]
    },
    {
     "name": "stderr",
     "output_type": "stream",
     "text": [
      " 22%|██▏       | 15/68 [00:11<00:34,  1.55it/s]"
     ]
    },
    {
     "name": "stdout",
     "output_type": "stream",
     "text": [
      "{'base:': 'Deerskin Gloves', 'icon': 'https://cdn.poedb.tw/image/Art/2DItems/Armours/Gloves/GlovesDex3.webp'}\n"
     ]
    },
    {
     "name": "stderr",
     "output_type": "stream",
     "text": [
      " 24%|██▎       | 16/68 [00:11<00:29,  1.75it/s]"
     ]
    },
    {
     "name": "stdout",
     "output_type": "stream",
     "text": [
      "{'base:': 'Nubuck Gloves', 'icon': 'https://cdn.poedb.tw/image/Art/2DItems/Armours/Gloves/GlovesDex4.webp'}\n"
     ]
    },
    {
     "name": "stderr",
     "output_type": "stream",
     "text": [
      " 25%|██▌       | 17/68 [00:12<00:26,  1.91it/s]"
     ]
    },
    {
     "name": "stdout",
     "output_type": "stream",
     "text": [
      "{'base:': 'Eelskin Gloves', 'icon': 'https://cdn.poedb.tw/image/Art/2DItems/Armours/Gloves/GlovesDex2.webp'}\n"
     ]
    },
    {
     "name": "stderr",
     "output_type": "stream",
     "text": [
      " 26%|██▋       | 18/68 [00:13<00:33,  1.49it/s]"
     ]
    },
    {
     "name": "stdout",
     "output_type": "stream",
     "text": [
      "{'base:': 'Sharkskin Gloves', 'icon': 'https://cdn.poedb.tw/image/Art/2DItems/Armours/Gloves/GlovesDex3.webp'}\n"
     ]
    },
    {
     "name": "stderr",
     "output_type": "stream",
     "text": [
      " 28%|██▊       | 19/68 [00:13<00:28,  1.69it/s]"
     ]
    },
    {
     "name": "stdout",
     "output_type": "stream",
     "text": [
      "{'base:': 'Shagreen Gloves', 'icon': 'https://cdn.poedb.tw/image/Art/2DItems/Armours/Gloves/GlovesDex4.webp'}\n"
     ]
    },
    {
     "name": "stderr",
     "output_type": "stream",
     "text": [
      " 29%|██▉       | 20/68 [00:14<00:34,  1.39it/s]"
     ]
    },
    {
     "name": "stdout",
     "output_type": "stream",
     "text": [
      "{'base:': 'Stealth Gloves', 'icon': 'https://cdn.poedb.tw/image/Art/2DItems/Armours/Gloves/GlovesDex3.webp'}\n"
     ]
    },
    {
     "name": "stderr",
     "output_type": "stream",
     "text": [
      " 31%|███       | 21/68 [00:14<00:29,  1.59it/s]"
     ]
    },
    {
     "name": "stdout",
     "output_type": "stream",
     "text": [
      "{'base:': 'Slink Gloves', 'icon': 'https://cdn.poedb.tw/image/Art/2DItems/Armours/Gloves/GlovesDex4.webp'}\n"
     ]
    },
    {
     "name": "stderr",
     "output_type": "stream",
     "text": [
      " 32%|███▏      | 22/68 [00:15<00:25,  1.78it/s]"
     ]
    },
    {
     "name": "stdout",
     "output_type": "stream",
     "text": [
      "{'base:': 'Gauche Gloves', 'icon': 'https://cdn.poedb.tw/image/Art/2DItems/Armours/Gloves/RitualDexGloves.webp'}\n"
     ]
    },
    {
     "name": "stderr",
     "output_type": "stream",
     "text": [
      " 34%|███▍      | 23/68 [00:16<00:31,  1.45it/s]"
     ]
    },
    {
     "name": "stdout",
     "output_type": "stream",
     "text": [
      "{'base:': 'Southswing Gloves', 'icon': 'https://cdn.poedb.tw/image/Art/2DItems/Armours/Gloves/RitualDexGloves.webp'}\n"
     ]
    },
    {
     "name": "stderr",
     "output_type": "stream",
     "text": [
      " 35%|███▌      | 24/68 [00:17<00:34,  1.28it/s]"
     ]
    },
    {
     "name": "stdout",
     "output_type": "stream",
     "text": [
      "{'base:': 'Sinistral Gloves', 'icon': 'https://cdn.poedb.tw/image/Art/2DItems/Armours/Gloves/RitualDexGloves.webp'}\n"
     ]
    },
    {
     "name": "stderr",
     "output_type": "stream",
     "text": [
      " 37%|███▋      | 25/68 [00:17<00:29,  1.48it/s]"
     ]
    },
    {
     "name": "stdout",
     "output_type": "stream",
     "text": [
      "{'base:': 'Wool Gloves', 'icon': 'https://cdn.poedb.tw/image/Art/2DItems/Armours/Gloves/GlovesInt1.webp'}\n"
     ]
    },
    {
     "name": "stderr",
     "output_type": "stream",
     "text": [
      " 38%|███▊      | 26/68 [00:18<00:25,  1.67it/s]"
     ]
    },
    {
     "name": "stdout",
     "output_type": "stream",
     "text": [
      "{'base:': 'Velvet Gloves', 'icon': 'https://cdn.poedb.tw/image/Art/2DItems/Armours/Gloves/GlovesInt2.webp'}\n"
     ]
    },
    {
     "name": "stderr",
     "output_type": "stream",
     "text": [
      " 40%|███▉      | 27/68 [00:18<00:22,  1.83it/s]"
     ]
    },
    {
     "name": "stdout",
     "output_type": "stream",
     "text": [
      "{'base:': 'Silk Gloves', 'icon': 'https://cdn.poedb.tw/image/Art/2DItems/Armours/Gloves/GlovesInt3.webp'}\n"
     ]
    },
    {
     "name": "stderr",
     "output_type": "stream",
     "text": [
      " 41%|████      | 28/68 [00:19<00:27,  1.47it/s]"
     ]
    },
    {
     "name": "stdout",
     "output_type": "stream",
     "text": [
      "{'base:': 'Embroidered Gloves', 'icon': 'https://cdn.poedb.tw/image/Art/2DItems/Armours/Gloves/GlovesInt4.webp'}\n"
     ]
    },
    {
     "name": "stderr",
     "output_type": "stream",
     "text": [
      " 43%|████▎     | 29/68 [00:20<00:23,  1.67it/s]"
     ]
    },
    {
     "name": "stdout",
     "output_type": "stream",
     "text": [
      "{'base:': 'Satin Gloves', 'icon': 'https://cdn.poedb.tw/image/Art/2DItems/Armours/Gloves/GlovesInt2.webp'}\n"
     ]
    },
    {
     "name": "stderr",
     "output_type": "stream",
     "text": [
      " 44%|████▍     | 30/68 [00:20<00:20,  1.84it/s]"
     ]
    },
    {
     "name": "stdout",
     "output_type": "stream",
     "text": [
      "{'base:': 'Samite Gloves', 'icon': 'https://cdn.poedb.tw/image/Art/2DItems/Armours/Gloves/GlovesInt3.webp'}\n"
     ]
    },
    {
     "name": "stderr",
     "output_type": "stream",
     "text": [
      " 46%|████▌     | 31/68 [00:21<00:24,  1.48it/s]"
     ]
    },
    {
     "name": "stdout",
     "output_type": "stream",
     "text": [
      "{'base:': 'Conjurer Gloves', 'icon': 'https://cdn.poedb.tw/image/Art/2DItems/Armours/Gloves/GlovesInt4.webp'}\n"
     ]
    },
    {
     "name": "stderr",
     "output_type": "stream",
     "text": [
      " 47%|████▋     | 32/68 [00:22<00:28,  1.28it/s]"
     ]
    },
    {
     "name": "stdout",
     "output_type": "stream",
     "text": [
      "{'base:': 'Arcanist Gloves', 'icon': 'https://cdn.poedb.tw/image/Art/2DItems/Armours/Gloves/GlovesInt3.webp'}\n"
     ]
    },
    {
     "name": "stderr",
     "output_type": "stream",
     "text": [
      " 49%|████▊     | 33/68 [00:23<00:30,  1.17it/s]"
     ]
    },
    {
     "name": "stdout",
     "output_type": "stream",
     "text": [
      "{'base:': 'Sorcerer Gloves', 'icon': 'https://cdn.poedb.tw/image/Art/2DItems/Armours/Gloves/GlovesInt4.webp'}\n"
     ]
    },
    {
     "name": "stderr",
     "output_type": "stream",
     "text": [
      " 50%|█████     | 34/68 [00:23<00:24,  1.39it/s]"
     ]
    },
    {
     "name": "stdout",
     "output_type": "stream",
     "text": [
      "{'base:': 'Leyline Gloves', 'icon': 'https://cdn.poedb.tw/image/Art/2DItems/Armours/Gloves/RitualIntGloves.webp'}\n"
     ]
    },
    {
     "name": "stderr",
     "output_type": "stream",
     "text": [
      " 51%|█████▏    | 35/68 [00:24<00:26,  1.24it/s]"
     ]
    },
    {
     "name": "stdout",
     "output_type": "stream",
     "text": [
      "{'base:': 'Aetherwind Gloves', 'icon': 'https://cdn.poedb.tw/image/Art/2DItems/Armours/Gloves/RitualIntGloves.webp'}\n"
     ]
    },
    {
     "name": "stderr",
     "output_type": "stream",
     "text": [
      " 53%|█████▎    | 36/68 [00:25<00:28,  1.13it/s]"
     ]
    },
    {
     "name": "stdout",
     "output_type": "stream",
     "text": [
      "{'base:': 'Nexus Gloves', 'icon': 'https://cdn.poedb.tw/image/Art/2DItems/Armours/Gloves/RitualIntGloves.webp'}\n"
     ]
    },
    {
     "name": "stderr",
     "output_type": "stream",
     "text": [
      " 54%|█████▍    | 37/68 [00:26<00:28,  1.09it/s]"
     ]
    },
    {
     "name": "stdout",
     "output_type": "stream",
     "text": [
      "{'base:': 'Fishscale Gauntlets', 'icon': 'https://cdn.poedb.tw/image/Art/2DItems/Armours/Gloves/GlovesStrDex1.webp'}\n"
     ]
    },
    {
     "name": "stderr",
     "output_type": "stream",
     "text": [
      " 56%|█████▌    | 38/68 [00:27<00:23,  1.30it/s]"
     ]
    },
    {
     "name": "stdout",
     "output_type": "stream",
     "text": [
      "{'base:': 'Ironscale Gauntlets', 'icon': 'https://cdn.poedb.tw/image/Art/2DItems/Armours/Gloves/GlovesStrDex2.webp'}\n"
     ]
    },
    {
     "name": "stderr",
     "output_type": "stream",
     "text": [
      " 57%|█████▋    | 39/68 [00:28<00:24,  1.20it/s]"
     ]
    },
    {
     "name": "stdout",
     "output_type": "stream",
     "text": [
      "{'base:': 'Bronzescale Gauntlets', 'icon': 'https://cdn.poedb.tw/image/Art/2DItems/Armours/Gloves/GlovesStrDex3.webp'}\n"
     ]
    },
    {
     "name": "stderr",
     "output_type": "stream",
     "text": [
      " 59%|█████▉    | 40/68 [00:28<00:19,  1.40it/s]"
     ]
    },
    {
     "name": "stdout",
     "output_type": "stream",
     "text": [
      "{'base:': 'Steelscale Gauntlets', 'icon': 'https://cdn.poedb.tw/image/Art/2DItems/Armours/Gloves/GlovesStrDex1.webp'}\n"
     ]
    },
    {
     "name": "stderr",
     "output_type": "stream",
     "text": [
      " 60%|██████    | 41/68 [00:29<00:21,  1.23it/s]"
     ]
    },
    {
     "name": "stdout",
     "output_type": "stream",
     "text": [
      "{'base:': 'Serpentscale Gauntlets', 'icon': 'https://cdn.poedb.tw/image/Art/2DItems/Armours/Gloves/GlovesStrDex2.webp'}\n"
     ]
    },
    {
     "name": "stderr",
     "output_type": "stream",
     "text": [
      " 62%|██████▏   | 42/68 [00:30<00:22,  1.14it/s]"
     ]
    },
    {
     "name": "stdout",
     "output_type": "stream",
     "text": [
      "{'base:': 'Wyrmscale Gauntlets', 'icon': 'https://cdn.poedb.tw/image/Art/2DItems/Armours/Gloves/GlovesStrDex3.webp'}\n"
     ]
    },
    {
     "name": "stderr",
     "output_type": "stream",
     "text": [
      " 63%|██████▎   | 43/68 [00:31<00:18,  1.35it/s]"
     ]
    },
    {
     "name": "stdout",
     "output_type": "stream",
     "text": [
      "{'base:': 'Hydrascale Gauntlets', 'icon': 'https://cdn.poedb.tw/image/Art/2DItems/Armours/Gloves/GlovesStrDex2.webp'}\n"
     ]
    },
    {
     "name": "stderr",
     "output_type": "stream",
     "text": [
      " 65%|██████▍   | 44/68 [00:31<00:15,  1.56it/s]"
     ]
    },
    {
     "name": "stdout",
     "output_type": "stream",
     "text": [
      "{'base:': 'Dragonscale Gauntlets', 'icon': 'https://cdn.poedb.tw/image/Art/2DItems/Armours/Gloves/GlovesStrDex3.webp'}\n"
     ]
    },
    {
     "name": "stderr",
     "output_type": "stream",
     "text": [
      " 66%|██████▌   | 45/68 [00:32<00:13,  1.76it/s]"
     ]
    },
    {
     "name": "stdout",
     "output_type": "stream",
     "text": [
      "{'base:': 'Chain Gloves', 'icon': 'https://cdn.poedb.tw/image/Art/2DItems/Armours/Gloves/GlovesStrInt1.webp'}\n"
     ]
    },
    {
     "name": "stderr",
     "output_type": "stream",
     "text": [
      " 68%|██████▊   | 46/68 [00:33<00:16,  1.32it/s]"
     ]
    },
    {
     "name": "stdout",
     "output_type": "stream",
     "text": [
      "{'base:': 'Ringmail Gloves', 'icon': 'https://cdn.poedb.tw/image/Art/2DItems/Armours/Gloves/GlovesStrInt2.webp'}\n"
     ]
    },
    {
     "name": "stderr",
     "output_type": "stream",
     "text": [
      " 69%|██████▉   | 47/68 [00:33<00:13,  1.53it/s]"
     ]
    },
    {
     "name": "stdout",
     "output_type": "stream",
     "text": [
      "{'base:': 'Mesh Gloves', 'icon': 'https://cdn.poedb.tw/image/Art/2DItems/Armours/Gloves/GlovesStrInt3.webp'}\n"
     ]
    },
    {
     "name": "stderr",
     "output_type": "stream",
     "text": [
      " 71%|███████   | 48/68 [00:34<00:11,  1.71it/s]"
     ]
    },
    {
     "name": "stdout",
     "output_type": "stream",
     "text": [
      "{'base:': 'Riveted Gloves', 'icon': 'https://cdn.poedb.tw/image/Art/2DItems/Armours/Gloves/GlovesStrInt1.webp'}\n"
     ]
    },
    {
     "name": "stderr",
     "output_type": "stream",
     "text": [
      " 72%|███████▏  | 49/68 [00:34<00:10,  1.85it/s]"
     ]
    },
    {
     "name": "stdout",
     "output_type": "stream",
     "text": [
      "{'base:': 'Zealot Gloves', 'icon': 'https://cdn.poedb.tw/image/Art/2DItems/Armours/Gloves/GlovesStrInt2.webp'}\n"
     ]
    },
    {
     "name": "stderr",
     "output_type": "stream",
     "text": [
      " 74%|███████▎  | 50/68 [00:35<00:12,  1.47it/s]"
     ]
    },
    {
     "name": "stdout",
     "output_type": "stream",
     "text": [
      "{'base:': 'Soldier Gloves', 'icon': 'https://cdn.poedb.tw/image/Art/2DItems/Armours/Gloves/GlovesStrInt3.webp'}\n"
     ]
    },
    {
     "name": "stderr",
     "output_type": "stream",
     "text": [
      " 75%|███████▌  | 51/68 [00:36<00:13,  1.29it/s]"
     ]
    },
    {
     "name": "stdout",
     "output_type": "stream",
     "text": [
      "{'base:': 'Legion Gloves', 'icon': 'https://cdn.poedb.tw/image/Art/2DItems/Effects/gloves/LegionGloves.webp'}\n"
     ]
    },
    {
     "name": "stderr",
     "output_type": "stream",
     "text": [
      " 76%|███████▋  | 52/68 [00:37<00:13,  1.19it/s]"
     ]
    },
    {
     "name": "stdout",
     "output_type": "stream",
     "text": [
      "{'base:': 'Crusader Gloves', 'icon': 'https://cdn.poedb.tw/image/Art/2DItems/Effects/gloves/CrusaderGloves.webp'}\n"
     ]
    },
    {
     "name": "stderr",
     "output_type": "stream",
     "text": [
      " 78%|███████▊  | 53/68 [00:38<00:13,  1.11it/s]"
     ]
    },
    {
     "name": "stdout",
     "output_type": "stream",
     "text": [
      "{'base:': 'Wrapped Mitts', 'icon': 'https://cdn.poedb.tw/image/Art/2DItems/Armours/Gloves/GlovesDexInt1.webp'}\n"
     ]
    },
    {
     "name": "stderr",
     "output_type": "stream",
     "text": [
      " 79%|███████▉  | 54/68 [00:39<00:13,  1.06it/s]"
     ]
    },
    {
     "name": "stdout",
     "output_type": "stream",
     "text": [
      "{'base:': 'Strapped Mitts', 'icon': 'https://cdn.poedb.tw/image/Art/2DItems/Armours/Gloves/GlovesDexInt2.webp'}\n"
     ]
    },
    {
     "name": "stderr",
     "output_type": "stream",
     "text": [
      " 81%|████████  | 55/68 [00:40<00:10,  1.27it/s]"
     ]
    },
    {
     "name": "stdout",
     "output_type": "stream",
     "text": [
      "{'base:': 'Clasped Mitts', 'icon': 'https://cdn.poedb.tw/image/Art/2DItems/Armours/Gloves/GlovesDexInt3.webp'}\n"
     ]
    },
    {
     "name": "stderr",
     "output_type": "stream",
     "text": [
      " 82%|████████▏ | 56/68 [00:40<00:08,  1.49it/s]"
     ]
    },
    {
     "name": "stdout",
     "output_type": "stream",
     "text": [
      "{'base:': 'Trapper Mitts', 'icon': 'https://cdn.poedb.tw/image/Art/2DItems/Armours/Gloves/GlovesDexInt1.webp'}\n"
     ]
    },
    {
     "name": "stderr",
     "output_type": "stream",
     "text": [
      " 84%|████████▍ | 57/68 [00:40<00:06,  1.69it/s]"
     ]
    },
    {
     "name": "stdout",
     "output_type": "stream",
     "text": [
      "{'base:': 'Ambush Mitts', 'icon': 'https://cdn.poedb.tw/image/Art/2DItems/Armours/Gloves/GlovesDexInt2.webp'}\n"
     ]
    },
    {
     "name": "stderr",
     "output_type": "stream",
     "text": [
      " 85%|████████▌ | 58/68 [00:41<00:07,  1.39it/s]"
     ]
    },
    {
     "name": "stdout",
     "output_type": "stream",
     "text": [
      "{'base:': 'Carnal Mitts', 'icon': 'https://cdn.poedb.tw/image/Art/2DItems/Armours/Gloves/GlovesDexInt3.webp'}\n"
     ]
    },
    {
     "name": "stderr",
     "output_type": "stream",
     "text": [
      " 87%|████████▋ | 59/68 [00:42<00:05,  1.62it/s]"
     ]
    },
    {
     "name": "stdout",
     "output_type": "stream",
     "text": [
      "{'base:': \"Assassin's Mitts\", 'icon': 'https://cdn.poedb.tw/image/Art/2DItems/Armours/Gloves/GlovesDexInt2.webp'}\n"
     ]
    },
    {
     "name": "stderr",
     "output_type": "stream",
     "text": [
      " 88%|████████▊ | 60/68 [00:42<00:04,  1.81it/s]"
     ]
    },
    {
     "name": "stdout",
     "output_type": "stream",
     "text": [
      "{'base:': 'Murder Mitts', 'icon': 'https://cdn.poedb.tw/image/Art/2DItems/Armours/Gloves/GlovesDexInt3.webp'}\n"
     ]
    },
    {
     "name": "stderr",
     "output_type": "stream",
     "text": [
      " 90%|████████▉ | 61/68 [00:43<00:04,  1.44it/s]"
     ]
    },
    {
     "name": "stdout",
     "output_type": "stream",
     "text": [
      "{'base:': 'Golden Bracers', 'icon': 'https://cdn.poedb.tw/image/Art/2DItems/Armours/Gloves/DemigodsTouch.webp'}\n"
     ]
    },
    {
     "name": "stderr",
     "output_type": "stream",
     "text": [
      " 91%|█████████ | 62/68 [00:44<00:04,  1.26it/s]"
     ]
    },
    {
     "name": "stdout",
     "output_type": "stream",
     "text": [
      "{'base:': 'Spiked Gloves', 'icon': 'https://cdn.poedb.tw/image/Art/2DItems/Armours/Gloves/SpikedGloves.webp'}\n"
     ]
    },
    {
     "name": "stderr",
     "output_type": "stream",
     "text": [
      " 93%|█████████▎| 63/68 [00:45<00:04,  1.17it/s]"
     ]
    },
    {
     "name": "stdout",
     "output_type": "stream",
     "text": [
      "{'base:': 'Gripped Gloves', 'icon': 'https://cdn.poedb.tw/image/Art/2DItems/Armours/Gloves/GripGlovesBaseType.webp'}\n"
     ]
    },
    {
     "name": "stderr",
     "output_type": "stream",
     "text": [
      " 94%|█████████▍| 64/68 [00:46<00:02,  1.39it/s]"
     ]
    },
    {
     "name": "stdout",
     "output_type": "stream",
     "text": [
      "{'base:': 'Fingerless Silk Gloves', 'icon': 'https://cdn.poedb.tw/image/Art/2DItems/Armours/Gloves/FingerlessSilkGloves.webp'}\n"
     ]
    },
    {
     "name": "stderr",
     "output_type": "stream",
     "text": [
      " 96%|█████████▌| 65/68 [00:46<00:01,  1.59it/s]"
     ]
    },
    {
     "name": "stdout",
     "output_type": "stream",
     "text": [
      "{'base:': \"Apothecary's Gloves\", 'icon': 'https://cdn.poedb.tw/image/Art/2DItems/Armours/Gloves/ChemistGloves.webp'}\n"
     ]
    },
    {
     "name": "stderr",
     "output_type": "stream",
     "text": [
      " 97%|█████████▋| 66/68 [00:47<00:01,  1.34it/s]"
     ]
    },
    {
     "name": "stdout",
     "output_type": "stream",
     "text": [
      "{'base:': 'Runic Gloves', 'icon': 'https://cdn.poedb.tw/image/Art/2DItems/Armours/Gloves/SpiritGlovesBaseType.webp'}\n"
     ]
    },
    {
     "name": "stderr",
     "output_type": "stream",
     "text": [
      " 99%|█████████▊| 67/68 [00:47<00:00,  1.54it/s]"
     ]
    },
    {
     "name": "stdout",
     "output_type": "stream",
     "text": [
      "{'base:': 'Runic Gages', 'icon': 'https://cdn.poedb.tw/image/Art/2DItems/Armours/Gloves/SpiritGlovesBaseType.webp'}\n"
     ]
    },
    {
     "name": "stderr",
     "output_type": "stream",
     "text": [
      "100%|██████████| 68/68 [00:48<00:00,  1.39it/s]"
     ]
    },
    {
     "name": "stdout",
     "output_type": "stream",
     "text": [
      "{'base:': 'Runic Gauntlets', 'icon': 'https://cdn.poedb.tw/image/Art/2DItems/Armours/Gloves/SpiritGlovesBaseType.webp'}\n",
      "https://poedb.tw/us/Boots#BootsItem\n"
     ]
    },
    {
     "name": "stderr",
     "output_type": "stream",
     "text": [
      "\n",
      "  1%|▏         | 1/71 [00:01<01:12,  1.04s/it]"
     ]
    },
    {
     "name": "stdout",
     "output_type": "stream",
     "text": [
      "{'base:': 'Iron Greaves', 'icon': 'https://cdn.poedb.tw/image/Art/2DItems/Armours/Boots/BootsStr1.webp'}\n"
     ]
    },
    {
     "name": "stderr",
     "output_type": "stream",
     "text": [
      "  3%|▎         | 2/71 [00:01<00:46,  1.48it/s]"
     ]
    },
    {
     "name": "stdout",
     "output_type": "stream",
     "text": [
      "{'base:': 'Steel Greaves', 'icon': 'https://cdn.poedb.tw/image/Art/2DItems/Armours/Boots/BootsStr2.webp'}\n"
     ]
    },
    {
     "name": "stderr",
     "output_type": "stream",
     "text": [
      "  4%|▍         | 3/71 [00:01<00:37,  1.83it/s]"
     ]
    },
    {
     "name": "stdout",
     "output_type": "stream",
     "text": [
      "{'base:': 'Plated Greaves', 'icon': 'https://cdn.poedb.tw/image/Art/2DItems/Armours/Boots/BootsStr3.webp'}\n"
     ]
    },
    {
     "name": "stderr",
     "output_type": "stream",
     "text": [
      "  6%|▌         | 4/71 [00:02<00:49,  1.36it/s]"
     ]
    },
    {
     "name": "stdout",
     "output_type": "stream",
     "text": [
      "{'base:': 'Reinforced Greaves', 'icon': 'https://cdn.poedb.tw/image/Art/2DItems/Armours/Boots/BootsStr4.webp'}\n"
     ]
    },
    {
     "name": "stderr",
     "output_type": "stream",
     "text": [
      "  7%|▋         | 5/71 [00:03<00:54,  1.21it/s]"
     ]
    },
    {
     "name": "stdout",
     "output_type": "stream",
     "text": [
      "{'base:': 'Antique Greaves', 'icon': 'https://cdn.poedb.tw/image/Art/2DItems/Armours/Boots/BootsStr2.webp'}\n"
     ]
    },
    {
     "name": "stderr",
     "output_type": "stream",
     "text": [
      "  8%|▊         | 6/71 [00:04<00:44,  1.47it/s]"
     ]
    },
    {
     "name": "stdout",
     "output_type": "stream",
     "text": [
      "{'base:': 'Ancient Greaves', 'icon': 'https://cdn.poedb.tw/image/Art/2DItems/Armours/Boots/BootsStr3.webp'}\n"
     ]
    },
    {
     "name": "stderr",
     "output_type": "stream",
     "text": [
      " 10%|▉         | 7/71 [00:05<00:54,  1.18it/s]"
     ]
    },
    {
     "name": "stdout",
     "output_type": "stream",
     "text": [
      "{'base:': 'Goliath Greaves', 'icon': 'https://cdn.poedb.tw/image/Art/2DItems/Armours/Boots/BootsStr4.webp'}\n"
     ]
    },
    {
     "name": "stderr",
     "output_type": "stream",
     "text": [
      " 11%|█▏        | 8/71 [00:06<00:57,  1.10it/s]"
     ]
    },
    {
     "name": "stdout",
     "output_type": "stream",
     "text": [
      "{'base:': 'Vaal Greaves', 'icon': 'https://cdn.poedb.tw/image/Art/2DItems/Armours/Boots/BootsStr3.webp'}\n"
     ]
    },
    {
     "name": "stderr",
     "output_type": "stream",
     "text": [
      " 13%|█▎        | 9/71 [00:06<00:47,  1.31it/s]"
     ]
    },
    {
     "name": "stdout",
     "output_type": "stream",
     "text": [
      "{'base:': 'Titan Greaves', 'icon': 'https://cdn.poedb.tw/image/Art/2DItems/Armours/Boots/BootsStr4.webp'}\n"
     ]
    },
    {
     "name": "stderr",
     "output_type": "stream",
     "text": [
      " 14%|█▍        | 10/71 [00:07<00:39,  1.53it/s]"
     ]
    },
    {
     "name": "stdout",
     "output_type": "stream",
     "text": [
      "{'base:': 'Basemetal Treads', 'icon': 'https://cdn.poedb.tw/image/Art/2DItems/Armours/Boots/RitualStrBoots.webp'}\n"
     ]
    },
    {
     "name": "stderr",
     "output_type": "stream",
     "text": [
      " 15%|█▌        | 11/71 [00:07<00:34,  1.74it/s]"
     ]
    },
    {
     "name": "stdout",
     "output_type": "stream",
     "text": [
      "{'base:': 'Darksteel Treads', 'icon': 'https://cdn.poedb.tw/image/Art/2DItems/Armours/Boots/RitualStrBoots.webp'}\n"
     ]
    },
    {
     "name": "stderr",
     "output_type": "stream",
     "text": [
      " 17%|█▋        | 12/71 [00:08<00:31,  1.89it/s]"
     ]
    },
    {
     "name": "stdout",
     "output_type": "stream",
     "text": [
      "{'base:': 'Brimstone Treads', 'icon': 'https://cdn.poedb.tw/image/Art/2DItems/Armours/Boots/RitualStrBoots.webp'}\n"
     ]
    },
    {
     "name": "stderr",
     "output_type": "stream",
     "text": [
      " 18%|█▊        | 13/71 [00:09<00:39,  1.47it/s]"
     ]
    },
    {
     "name": "stdout",
     "output_type": "stream",
     "text": [
      "{'base:': \"Kaom's Greaves\", 'icon': 'https://cdn.poedb.tw/image/Art/2DItems/Armours/Boots/BootsStr4.webp'}\n"
     ]
    },
    {
     "name": "stderr",
     "output_type": "stream",
     "text": [
      " 20%|█▉        | 14/71 [00:10<00:52,  1.09it/s]"
     ]
    },
    {
     "name": "stdout",
     "output_type": "stream",
     "text": [
      "{'base:': 'Rawhide Boots', 'icon': 'https://cdn.poedb.tw/image/Art/2DItems/Armours/Boots/BootsDex1.webp'}\n"
     ]
    },
    {
     "name": "stderr",
     "output_type": "stream",
     "text": [
      " 21%|██        | 15/71 [00:11<00:42,  1.30it/s]"
     ]
    },
    {
     "name": "stdout",
     "output_type": "stream",
     "text": [
      "{'base:': 'Goathide Boots', 'icon': 'https://cdn.poedb.tw/image/Art/2DItems/Armours/Boots/BootsDex2.webp'}\n"
     ]
    },
    {
     "name": "stderr",
     "output_type": "stream",
     "text": [
      " 23%|██▎       | 16/71 [00:11<00:35,  1.53it/s]"
     ]
    },
    {
     "name": "stdout",
     "output_type": "stream",
     "text": [
      "{'base:': 'Deerskin Boots', 'icon': 'https://cdn.poedb.tw/image/Art/2DItems/Armours/Boots/BootsDex3.webp'}\n"
     ]
    },
    {
     "name": "stderr",
     "output_type": "stream",
     "text": [
      " 24%|██▍       | 17/71 [00:12<00:41,  1.31it/s]"
     ]
    },
    {
     "name": "stdout",
     "output_type": "stream",
     "text": [
      "{'base:': 'Nubuck Boots', 'icon': 'https://cdn.poedb.tw/image/Art/2DItems/Armours/Boots/BootsDex4.webp'}\n"
     ]
    },
    {
     "name": "stderr",
     "output_type": "stream",
     "text": [
      " 25%|██▌       | 18/71 [00:12<00:34,  1.52it/s]"
     ]
    },
    {
     "name": "stdout",
     "output_type": "stream",
     "text": [
      "{'base:': 'Eelskin Boots', 'icon': 'https://cdn.poedb.tw/image/Art/2DItems/Armours/Boots/BootsDex2.webp'}\n"
     ]
    },
    {
     "name": "stderr",
     "output_type": "stream",
     "text": [
      " 27%|██▋       | 19/71 [00:13<00:30,  1.72it/s]"
     ]
    },
    {
     "name": "stdout",
     "output_type": "stream",
     "text": [
      "{'base:': 'Sharkskin Boots', 'icon': 'https://cdn.poedb.tw/image/Art/2DItems/Armours/Boots/BootsDex3.webp'}\n"
     ]
    },
    {
     "name": "stderr",
     "output_type": "stream",
     "text": [
      " 28%|██▊       | 20/71 [00:13<00:26,  1.91it/s]"
     ]
    },
    {
     "name": "stdout",
     "output_type": "stream",
     "text": [
      "{'base:': 'Shagreen Boots', 'icon': 'https://cdn.poedb.tw/image/Art/2DItems/Armours/Boots/BootsDex4.webp'}\n"
     ]
    },
    {
     "name": "stderr",
     "output_type": "stream",
     "text": [
      " 30%|██▉       | 21/71 [00:14<00:24,  2.04it/s]"
     ]
    },
    {
     "name": "stdout",
     "output_type": "stream",
     "text": [
      "{'base:': 'Stealth Boots', 'icon': 'https://cdn.poedb.tw/image/Art/2DItems/Armours/Boots/BootsDex3.webp'}\n"
     ]
    },
    {
     "name": "stderr",
     "output_type": "stream",
     "text": [
      " 31%|███       | 22/71 [00:15<00:31,  1.56it/s]"
     ]
    },
    {
     "name": "stdout",
     "output_type": "stream",
     "text": [
      "{'base:': 'Slink Boots', 'icon': 'https://cdn.poedb.tw/image/Art/2DItems/Armours/Boots/BootsDex4.webp'}\n"
     ]
    },
    {
     "name": "stderr",
     "output_type": "stream",
     "text": [
      " 32%|███▏      | 23/71 [00:16<00:36,  1.33it/s]"
     ]
    },
    {
     "name": "stdout",
     "output_type": "stream",
     "text": [
      "{'base:': 'Cloudwhisper Boots', 'icon': 'https://cdn.poedb.tw/image/Art/2DItems/Armours/Boots/RitualDexBoots.webp'}\n"
     ]
    },
    {
     "name": "stderr",
     "output_type": "stream",
     "text": [
      " 34%|███▍      | 24/71 [00:17<00:38,  1.22it/s]"
     ]
    },
    {
     "name": "stdout",
     "output_type": "stream",
     "text": [
      "{'base:': 'Windbreak Boots', 'icon': 'https://cdn.poedb.tw/image/Art/2DItems/Armours/Boots/RitualDexBoots.webp'}\n"
     ]
    },
    {
     "name": "stderr",
     "output_type": "stream",
     "text": [
      " 35%|███▌      | 25/71 [00:17<00:31,  1.45it/s]"
     ]
    },
    {
     "name": "stdout",
     "output_type": "stream",
     "text": [
      "{'base:': 'Stormrider Boots', 'icon': 'https://cdn.poedb.tw/image/Art/2DItems/Armours/Boots/RitualDexBoots.webp'}\n"
     ]
    },
    {
     "name": "stderr",
     "output_type": "stream",
     "text": [
      " 37%|███▋      | 26/71 [00:18<00:35,  1.26it/s]"
     ]
    },
    {
     "name": "stdout",
     "output_type": "stream",
     "text": [
      "{'base:': 'Wool Shoes', 'icon': 'https://cdn.poedb.tw/image/Art/2DItems/Armours/Boots/BootsInt1.webp'}\n"
     ]
    },
    {
     "name": "stderr",
     "output_type": "stream",
     "text": [
      " 38%|███▊      | 27/71 [00:18<00:29,  1.49it/s]"
     ]
    },
    {
     "name": "stdout",
     "output_type": "stream",
     "text": [
      "{'base:': 'Velvet Slippers', 'icon': 'https://cdn.poedb.tw/image/Art/2DItems/Armours/Boots/BootsInt2.webp'}\n"
     ]
    },
    {
     "name": "stderr",
     "output_type": "stream",
     "text": [
      " 39%|███▉      | 28/71 [00:19<00:25,  1.69it/s]"
     ]
    },
    {
     "name": "stdout",
     "output_type": "stream",
     "text": [
      "{'base:': 'Silk Slippers', 'icon': 'https://cdn.poedb.tw/image/Art/2DItems/Armours/Boots/BootsInt3.webp'}\n"
     ]
    },
    {
     "name": "stderr",
     "output_type": "stream",
     "text": [
      " 41%|████      | 29/71 [00:19<00:22,  1.87it/s]"
     ]
    },
    {
     "name": "stdout",
     "output_type": "stream",
     "text": [
      "{'base:': 'Scholar Boots', 'icon': 'https://cdn.poedb.tw/image/Art/2DItems/Effects/shoes/ScholarBoots.webp'}\n"
     ]
    },
    {
     "name": "stderr",
     "output_type": "stream",
     "text": [
      " 42%|████▏     | 30/71 [00:20<00:27,  1.48it/s]"
     ]
    },
    {
     "name": "stdout",
     "output_type": "stream",
     "text": [
      "{'base:': 'Satin Slippers', 'icon': 'https://cdn.poedb.tw/image/Art/2DItems/Armours/Boots/BootsInt2.webp'}\n"
     ]
    },
    {
     "name": "stderr",
     "output_type": "stream",
     "text": [
      " 44%|████▎     | 31/71 [00:21<00:24,  1.66it/s]"
     ]
    },
    {
     "name": "stdout",
     "output_type": "stream",
     "text": [
      "{'base:': 'Samite Slippers', 'icon': 'https://cdn.poedb.tw/image/Art/2DItems/Armours/Boots/BootsInt3.webp'}\n"
     ]
    },
    {
     "name": "stderr",
     "output_type": "stream",
     "text": [
      " 45%|████▌     | 32/71 [00:22<00:28,  1.39it/s]"
     ]
    },
    {
     "name": "stdout",
     "output_type": "stream",
     "text": [
      "{'base:': 'Conjurer Boots', 'icon': 'https://cdn.poedb.tw/image/Art/2DItems/Armours/Boots/BootsInt4.webp'}\n"
     ]
    },
    {
     "name": "stderr",
     "output_type": "stream",
     "text": [
      " 46%|████▋     | 33/71 [00:23<00:30,  1.23it/s]"
     ]
    },
    {
     "name": "stdout",
     "output_type": "stream",
     "text": [
      "{'base:': 'Arcanist Slippers', 'icon': 'https://cdn.poedb.tw/image/Art/2DItems/Armours/Boots/BootsInt3.webp'}\n"
     ]
    },
    {
     "name": "stderr",
     "output_type": "stream",
     "text": [
      " 48%|████▊     | 34/71 [00:23<00:25,  1.46it/s]"
     ]
    },
    {
     "name": "stdout",
     "output_type": "stream",
     "text": [
      "{'base:': 'Sorcerer Boots', 'icon': 'https://cdn.poedb.tw/image/Art/2DItems/Armours/Boots/BootsInt4.webp'}\n"
     ]
    },
    {
     "name": "stderr",
     "output_type": "stream",
     "text": [
      " 49%|████▉     | 35/71 [00:23<00:21,  1.67it/s]"
     ]
    },
    {
     "name": "stdout",
     "output_type": "stream",
     "text": [
      "{'base:': 'Duskwalk Slippers', 'icon': 'https://cdn.poedb.tw/image/Art/2DItems/Armours/Boots/RitualIntBoots.webp'}\n"
     ]
    },
    {
     "name": "stderr",
     "output_type": "stream",
     "text": [
      " 51%|█████     | 36/71 [00:24<00:18,  1.88it/s]"
     ]
    },
    {
     "name": "stdout",
     "output_type": "stream",
     "text": [
      "{'base:': 'Nightwind Slippers', 'icon': 'https://cdn.poedb.tw/image/Art/2DItems/Armours/Boots/RitualIntBoots.webp'}\n"
     ]
    },
    {
     "name": "stderr",
     "output_type": "stream",
     "text": [
      " 52%|█████▏    | 37/71 [00:24<00:16,  2.04it/s]"
     ]
    },
    {
     "name": "stdout",
     "output_type": "stream",
     "text": [
      "{'base:': 'Dreamquest Slippers', 'icon': 'https://cdn.poedb.tw/image/Art/2DItems/Armours/Boots/RitualIntBoots.webp'}\n"
     ]
    },
    {
     "name": "stderr",
     "output_type": "stream",
     "text": [
      " 54%|█████▎    | 38/71 [00:25<00:15,  2.15it/s]"
     ]
    },
    {
     "name": "stdout",
     "output_type": "stream",
     "text": [
      "{'base:': 'Leatherscale Boots', 'icon': 'https://cdn.poedb.tw/image/Art/2DItems/Armours/Boots/BootsStrDex1.webp'}\n"
     ]
    },
    {
     "name": "stderr",
     "output_type": "stream",
     "text": [
      " 55%|█████▍    | 39/71 [00:25<00:14,  2.16it/s]"
     ]
    },
    {
     "name": "stdout",
     "output_type": "stream",
     "text": [
      "{'base:': 'Ironscale Boots', 'icon': 'https://cdn.poedb.tw/image/Art/2DItems/Armours/Boots/BootsStrDex2.webp'}\n"
     ]
    },
    {
     "name": "stderr",
     "output_type": "stream",
     "text": [
      " 56%|█████▋    | 40/71 [00:26<00:19,  1.59it/s]"
     ]
    },
    {
     "name": "stdout",
     "output_type": "stream",
     "text": [
      "{'base:': 'Bronzescale Boots', 'icon': 'https://cdn.poedb.tw/image/Art/2DItems/Armours/Boots/BootsStrDex3.webp'}\n"
     ]
    },
    {
     "name": "stderr",
     "output_type": "stream",
     "text": [
      " 58%|█████▊    | 41/71 [00:26<00:16,  1.77it/s]"
     ]
    },
    {
     "name": "stdout",
     "output_type": "stream",
     "text": [
      "{'base:': 'Steelscale Boots', 'icon': 'https://cdn.poedb.tw/image/Art/2DItems/Armours/Boots/BootsStrDex1.webp'}\n"
     ]
    },
    {
     "name": "stderr",
     "output_type": "stream",
     "text": [
      " 59%|█████▉    | 42/71 [00:27<00:15,  1.92it/s]"
     ]
    },
    {
     "name": "stdout",
     "output_type": "stream",
     "text": [
      "{'base:': 'Serpentscale Boots', 'icon': 'https://cdn.poedb.tw/image/Art/2DItems/Armours/Boots/BootsStrDex2.webp'}\n"
     ]
    },
    {
     "name": "stderr",
     "output_type": "stream",
     "text": [
      " 61%|██████    | 43/71 [00:27<00:13,  2.04it/s]"
     ]
    },
    {
     "name": "stdout",
     "output_type": "stream",
     "text": [
      "{'base:': 'Wyrmscale Boots', 'icon': 'https://cdn.poedb.tw/image/Art/2DItems/Armours/Boots/BootsStrDex3.webp'}\n"
     ]
    },
    {
     "name": "stderr",
     "output_type": "stream",
     "text": [
      " 62%|██████▏   | 44/71 [00:28<00:12,  2.14it/s]"
     ]
    },
    {
     "name": "stdout",
     "output_type": "stream",
     "text": [
      "{'base:': 'Hydrascale Boots', 'icon': 'https://cdn.poedb.tw/image/Art/2DItems/Armours/Boots/BootsStrDex2.webp'}\n"
     ]
    },
    {
     "name": "stderr",
     "output_type": "stream",
     "text": [
      " 63%|██████▎   | 45/71 [00:29<00:16,  1.59it/s]"
     ]
    },
    {
     "name": "stdout",
     "output_type": "stream",
     "text": [
      "{'base:': 'Dragonscale Boots', 'icon': 'https://cdn.poedb.tw/image/Art/2DItems/Armours/Boots/BootsStrDex3.webp'}\n"
     ]
    },
    {
     "name": "stderr",
     "output_type": "stream",
     "text": [
      " 65%|██████▍   | 46/71 [00:30<00:18,  1.35it/s]"
     ]
    },
    {
     "name": "stdout",
     "output_type": "stream",
     "text": [
      "{'base:': 'Chain Boots', 'icon': 'https://cdn.poedb.tw/image/Art/2DItems/Armours/Boots/BootsStrInt1.webp'}\n"
     ]
    },
    {
     "name": "stderr",
     "output_type": "stream",
     "text": [
      " 66%|██████▌   | 47/71 [00:31<00:19,  1.21it/s]"
     ]
    },
    {
     "name": "stdout",
     "output_type": "stream",
     "text": [
      "{'base:': 'Ringmail Boots', 'icon': 'https://cdn.poedb.tw/image/Art/2DItems/Armours/Boots/BootsStrInt2.webp'}\n"
     ]
    },
    {
     "name": "stderr",
     "output_type": "stream",
     "text": [
      " 68%|██████▊   | 48/71 [00:31<00:16,  1.42it/s]"
     ]
    },
    {
     "name": "stdout",
     "output_type": "stream",
     "text": [
      "{'base:': 'Mesh Boots', 'icon': 'https://cdn.poedb.tw/image/Art/2DItems/Armours/Boots/BootsStrInt3.webp'}\n"
     ]
    },
    {
     "name": "stderr",
     "output_type": "stream",
     "text": [
      " 69%|██████▉   | 49/71 [00:32<00:13,  1.62it/s]"
     ]
    },
    {
     "name": "stdout",
     "output_type": "stream",
     "text": [
      "{'base:': 'Riveted Boots', 'icon': 'https://cdn.poedb.tw/image/Art/2DItems/Armours/Boots/BootsStrInt1.webp'}\n"
     ]
    },
    {
     "name": "stderr",
     "output_type": "stream",
     "text": [
      " 70%|███████   | 50/71 [00:32<00:11,  1.80it/s]"
     ]
    },
    {
     "name": "stdout",
     "output_type": "stream",
     "text": [
      "{'base:': 'Zealot Boots', 'icon': 'https://cdn.poedb.tw/image/Art/2DItems/Armours/Boots/BootsStrInt2.webp'}\n"
     ]
    },
    {
     "name": "stderr",
     "output_type": "stream",
     "text": [
      " 72%|███████▏  | 51/71 [00:32<00:10,  1.97it/s]"
     ]
    },
    {
     "name": "stdout",
     "output_type": "stream",
     "text": [
      "{'base:': 'Soldier Boots', 'icon': 'https://cdn.poedb.tw/image/Art/2DItems/Armours/Boots/BootsStrInt3.webp'}\n"
     ]
    },
    {
     "name": "stderr",
     "output_type": "stream",
     "text": [
      " 73%|███████▎  | 52/71 [00:33<00:12,  1.51it/s]"
     ]
    },
    {
     "name": "stdout",
     "output_type": "stream",
     "text": [
      "{'base:': 'Legion Boots', 'icon': 'https://cdn.poedb.tw/image/Art/2DItems/Effects/shoes/LegionBoots.webp'}\n"
     ]
    },
    {
     "name": "stderr",
     "output_type": "stream",
     "text": [
      " 75%|███████▍  | 53/71 [00:34<00:10,  1.71it/s]"
     ]
    },
    {
     "name": "stdout",
     "output_type": "stream",
     "text": [
      "{'base:': 'Crusader Boots', 'icon': 'https://cdn.poedb.tw/image/Art/2DItems/Effects/shoes/CrusaderBoots.webp'}\n"
     ]
    },
    {
     "name": "stderr",
     "output_type": "stream",
     "text": [
      " 76%|███████▌  | 54/71 [00:34<00:09,  1.86it/s]"
     ]
    },
    {
     "name": "stdout",
     "output_type": "stream",
     "text": [
      "{'base:': 'Wrapped Boots', 'icon': 'https://cdn.poedb.tw/image/Art/2DItems/Armours/Boots/BootsDexInt1.webp'}\n"
     ]
    },
    {
     "name": "stderr",
     "output_type": "stream",
     "text": [
      " 77%|███████▋  | 55/71 [00:35<00:07,  2.01it/s]"
     ]
    },
    {
     "name": "stdout",
     "output_type": "stream",
     "text": [
      "{'base:': 'Strapped Boots', 'icon': 'https://cdn.poedb.tw/image/Art/2DItems/Armours/Boots/BootsDexInt2.webp'}\n"
     ]
    },
    {
     "name": "stderr",
     "output_type": "stream",
     "text": [
      " 79%|███████▉  | 56/71 [00:35<00:07,  2.10it/s]"
     ]
    },
    {
     "name": "stdout",
     "output_type": "stream",
     "text": [
      "{'base:': 'Clasped Boots', 'icon': 'https://cdn.poedb.tw/image/Art/2DItems/Armours/Boots/BootsDexInt3.webp'}\n"
     ]
    },
    {
     "name": "stderr",
     "output_type": "stream",
     "text": [
      " 80%|████████  | 57/71 [00:36<00:09,  1.54it/s]"
     ]
    },
    {
     "name": "stdout",
     "output_type": "stream",
     "text": [
      "{'base:': 'Shackled Boots', 'icon': 'https://cdn.poedb.tw/image/Art/2DItems/Armours/Boots/BootsDexInt4.webp'}\n"
     ]
    },
    {
     "name": "stderr",
     "output_type": "stream",
     "text": [
      " 82%|████████▏ | 58/71 [00:37<00:09,  1.32it/s]"
     ]
    },
    {
     "name": "stdout",
     "output_type": "stream",
     "text": [
      "{'base:': 'Trapper Boots', 'icon': 'https://cdn.poedb.tw/image/Art/2DItems/Armours/Boots/BootsDexInt2.webp'}\n"
     ]
    },
    {
     "name": "stderr",
     "output_type": "stream",
     "text": [
      " 83%|████████▎ | 59/71 [00:38<00:07,  1.55it/s]"
     ]
    },
    {
     "name": "stdout",
     "output_type": "stream",
     "text": [
      "{'base:': 'Ambush Boots', 'icon': 'https://cdn.poedb.tw/image/Art/2DItems/Armours/Boots/BootsDexInt3.webp'}\n"
     ]
    },
    {
     "name": "stderr",
     "output_type": "stream",
     "text": [
      " 85%|████████▍ | 60/71 [00:38<00:06,  1.74it/s]"
     ]
    },
    {
     "name": "stdout",
     "output_type": "stream",
     "text": [
      "{'base:': 'Carnal Boots', 'icon': 'https://cdn.poedb.tw/image/Art/2DItems/Armours/Boots/BootsDexInt4.webp'}\n"
     ]
    },
    {
     "name": "stderr",
     "output_type": "stream",
     "text": [
      " 86%|████████▌ | 61/71 [00:38<00:05,  1.92it/s]"
     ]
    },
    {
     "name": "stdout",
     "output_type": "stream",
     "text": [
      "{'base:': \"Assassin's Boots\", 'icon': 'https://cdn.poedb.tw/image/Art/2DItems/Armours/Boots/BootsDexInt3.webp'}\n"
     ]
    },
    {
     "name": "stderr",
     "output_type": "stream",
     "text": [
      " 87%|████████▋ | 62/71 [00:39<00:06,  1.50it/s]"
     ]
    },
    {
     "name": "stdout",
     "output_type": "stream",
     "text": [
      "{'base:': 'Murder Boots', 'icon': 'https://cdn.poedb.tw/image/Art/2DItems/Armours/Boots/BootsDexInt4.webp'}\n"
     ]
    },
    {
     "name": "stderr",
     "output_type": "stream",
     "text": [
      " 89%|████████▊ | 63/71 [00:40<00:04,  1.69it/s]"
     ]
    },
    {
     "name": "stdout",
     "output_type": "stream",
     "text": [
      "{'base:': 'Golden Caligae', 'icon': 'https://cdn.poedb.tw/image/Art/2DItems/Armours/Boots/DemigodsStride.webp'}\n"
     ]
    },
    {
     "name": "stderr",
     "output_type": "stream",
     "text": [
      " 90%|█████████ | 64/71 [00:41<00:05,  1.39it/s]"
     ]
    },
    {
     "name": "stdout",
     "output_type": "stream",
     "text": [
      "{'base:': 'Avian Slippers', 'icon': 'https://cdn.poedb.tw/image/Art/2DItems/Armours/Boots/BootsInt1.webp'}\n"
     ]
    },
    {
     "name": "stderr",
     "output_type": "stream",
     "text": [
      " 92%|█████████▏| 65/71 [00:41<00:03,  1.60it/s]"
     ]
    },
    {
     "name": "stdout",
     "output_type": "stream",
     "text": [
      "{'base:': 'Two-Toned Boots', 'icon': 'https://cdn.poedb.tw/image/Art/2DItems/Armours/Boots/TwoTonedBoots.webp'}\n"
     ]
    },
    {
     "name": "stderr",
     "output_type": "stream",
     "text": [
      " 93%|█████████▎| 66/71 [00:42<00:02,  1.80it/s]"
     ]
    },
    {
     "name": "stdout",
     "output_type": "stream",
     "text": [
      "{'base:': 'Two-Toned Boots', 'icon': 'https://cdn.poedb.tw/image/Art/2DItems/Armours/Boots/TwoTonedBoots.webp'}\n"
     ]
    },
    {
     "name": "stderr",
     "output_type": "stream",
     "text": [
      " 94%|█████████▍| 67/71 [00:42<00:02,  1.89it/s]"
     ]
    },
    {
     "name": "stdout",
     "output_type": "stream",
     "text": [
      "{'base:': 'Two-Toned Boots', 'icon': 'https://cdn.poedb.tw/image/Art/2DItems/Armours/Boots/TwoTonedBoots.webp'}\n"
     ]
    },
    {
     "name": "stderr",
     "output_type": "stream",
     "text": [
      " 96%|█████████▌| 68/71 [00:42<00:01,  2.05it/s]"
     ]
    },
    {
     "name": "stdout",
     "output_type": "stream",
     "text": [
      "{'base:': 'Fugitive Boots', 'icon': 'https://cdn.poedb.tw/image/Art/2DItems/Armours/Boots/HalfTonedBoots.webp'}\n"
     ]
    },
    {
     "name": "stderr",
     "output_type": "stream",
     "text": [
      " 97%|█████████▋| 69/71 [00:43<00:01,  1.56it/s]"
     ]
    },
    {
     "name": "stdout",
     "output_type": "stream",
     "text": [
      "{'base:': 'Runic Greaves', 'icon': 'https://cdn.poedb.tw/image/Art/2DItems/Armours/Boots/SpiritBootsBaseType.webp'}\n"
     ]
    },
    {
     "name": "stderr",
     "output_type": "stream",
     "text": [
      " 99%|█████████▊| 70/71 [00:44<00:00,  1.33it/s]"
     ]
    },
    {
     "name": "stdout",
     "output_type": "stream",
     "text": [
      "{'base:': 'Runic Sollerets', 'icon': 'https://cdn.poedb.tw/image/Art/2DItems/Armours/Boots/SpiritBootsBaseType.webp'}\n"
     ]
    },
    {
     "name": "stderr",
     "output_type": "stream",
     "text": [
      "100%|██████████| 71/71 [00:45<00:00,  1.55it/s]"
     ]
    },
    {
     "name": "stdout",
     "output_type": "stream",
     "text": [
      "{'base:': 'Runic Sabatons', 'icon': 'https://cdn.poedb.tw/image/Art/2DItems/Armours/Boots/SpiritBootsBaseType.webp'}\n",
      "https://poedb.tw/us/Body_Armours#BodyArmoursItem\n"
     ]
    },
    {
     "name": "stderr",
     "output_type": "stream",
     "text": [
      "\n",
      "  1%|          | 1/106 [00:01<01:46,  1.01s/it]"
     ]
    },
    {
     "name": "stdout",
     "output_type": "stream",
     "text": [
      "{'base:': 'Plate Vest', 'icon': 'https://cdn.poedb.tw/image/Art/2DItems/Armours/BodyArmours/BodyStr1A.webp'}\n"
     ]
    },
    {
     "name": "stderr",
     "output_type": "stream",
     "text": [
      "  2%|▏         | 2/106 [00:01<01:09,  1.50it/s]"
     ]
    },
    {
     "name": "stdout",
     "output_type": "stream",
     "text": [
      "{'base:': 'Chestplate', 'icon': 'https://cdn.poedb.tw/image/Art/2DItems/Armours/BodyArmours/BodyStr2A.webp'}\n"
     ]
    },
    {
     "name": "stderr",
     "output_type": "stream",
     "text": [
      "  3%|▎         | 3/106 [00:02<01:25,  1.21it/s]"
     ]
    },
    {
     "name": "stdout",
     "output_type": "stream",
     "text": [
      "{'base:': 'Copper Plate', 'icon': 'https://cdn.poedb.tw/image/Art/2DItems/Armours/BodyArmours/BodyStr1B.webp'}\n"
     ]
    },
    {
     "name": "stderr",
     "output_type": "stream",
     "text": [
      "  4%|▍         | 4/106 [00:02<01:08,  1.49it/s]"
     ]
    },
    {
     "name": "stdout",
     "output_type": "stream",
     "text": [
      "{'base:': 'War Plate', 'icon': 'https://cdn.poedb.tw/image/Art/2DItems/Armours/BodyArmours/BodyStr2B.webp'}\n"
     ]
    },
    {
     "name": "stderr",
     "output_type": "stream",
     "text": [
      "  5%|▍         | 5/106 [00:03<00:57,  1.74it/s]"
     ]
    },
    {
     "name": "stdout",
     "output_type": "stream",
     "text": [
      "{'base:': 'Full Plate', 'icon': 'https://cdn.poedb.tw/image/Art/2DItems/Armours/BodyArmours/BodyStr1C.webp'}\n"
     ]
    },
    {
     "name": "stderr",
     "output_type": "stream",
     "text": [
      "  6%|▌         | 6/106 [00:03<00:52,  1.92it/s]"
     ]
    },
    {
     "name": "stdout",
     "output_type": "stream",
     "text": [
      "{'base:': 'Arena Plate', 'icon': 'https://cdn.poedb.tw/image/Art/2DItems/Armours/BodyArmours/BodyStr2C.webp'}\n"
     ]
    },
    {
     "name": "stderr",
     "output_type": "stream",
     "text": [
      "  7%|▋         | 7/106 [00:04<01:08,  1.46it/s]"
     ]
    },
    {
     "name": "stdout",
     "output_type": "stream",
     "text": [
      "{'base:': 'Lordly Plate', 'icon': 'https://cdn.poedb.tw/image/Art/2DItems/Armours/BodyArmours/BodyStr3C.webp'}\n"
     ]
    },
    {
     "name": "stderr",
     "output_type": "stream",
     "text": [
      "  8%|▊         | 8/106 [00:05<01:17,  1.26it/s]"
     ]
    },
    {
     "name": "stdout",
     "output_type": "stream",
     "text": [
      "{'base:': 'Bronze Plate', 'icon': 'https://cdn.poedb.tw/image/Art/2DItems/Armours/BodyArmours/BodyStr1B.webp'}\n"
     ]
    },
    {
     "name": "stderr",
     "output_type": "stream",
     "text": [
      "  8%|▊         | 9/106 [00:06<01:10,  1.38it/s]"
     ]
    },
    {
     "name": "stdout",
     "output_type": "stream",
     "text": [
      "{'base:': 'Battle Plate', 'icon': 'https://cdn.poedb.tw/image/Art/2DItems/Armours/BodyArmours/BodyStr2B.webp'}\n"
     ]
    },
    {
     "name": "stderr",
     "output_type": "stream",
     "text": [
      "  9%|▉         | 10/106 [00:06<01:00,  1.58it/s]"
     ]
    },
    {
     "name": "stdout",
     "output_type": "stream",
     "text": [
      "{'base:': 'Sun Plate', 'icon': 'https://cdn.poedb.tw/image/Art/2DItems/Armours/BodyArmours/BodyStr1C.webp'}\n"
     ]
    },
    {
     "name": "stderr",
     "output_type": "stream",
     "text": [
      " 10%|█         | 11/106 [00:07<00:53,  1.76it/s]"
     ]
    },
    {
     "name": "stdout",
     "output_type": "stream",
     "text": [
      "{'base:': 'Colosseum Plate', 'icon': 'https://cdn.poedb.tw/image/Art/2DItems/Armours/BodyArmours/BodyStr2C.webp'}\n"
     ]
    },
    {
     "name": "stderr",
     "output_type": "stream",
     "text": [
      " 11%|█▏        | 12/106 [00:07<00:48,  1.92it/s]"
     ]
    },
    {
     "name": "stdout",
     "output_type": "stream",
     "text": [
      "{'base:': 'Majestic Plate', 'icon': 'https://cdn.poedb.tw/image/Art/2DItems/Armours/BodyArmours/BodyStr3C.webp'}\n"
     ]
    },
    {
     "name": "stderr",
     "output_type": "stream",
     "text": [
      " 12%|█▏        | 13/106 [00:08<01:02,  1.49it/s]"
     ]
    },
    {
     "name": "stdout",
     "output_type": "stream",
     "text": [
      "{'base:': 'Golden Plate', 'icon': 'https://cdn.poedb.tw/image/Art/2DItems/Armours/BodyArmours/BodyStr1B.webp'}\n"
     ]
    },
    {
     "name": "stderr",
     "output_type": "stream",
     "text": [
      " 13%|█▎        | 14/106 [00:09<00:55,  1.67it/s]"
     ]
    },
    {
     "name": "stdout",
     "output_type": "stream",
     "text": [
      "{'base:': 'Crusader Plate', 'icon': 'https://cdn.poedb.tw/image/Art/2DItems/Armours/BodyArmours/BodyStr2B.webp'}\n"
     ]
    },
    {
     "name": "stderr",
     "output_type": "stream",
     "text": [
      " 14%|█▍        | 15/106 [00:09<00:49,  1.83it/s]"
     ]
    },
    {
     "name": "stdout",
     "output_type": "stream",
     "text": [
      "{'base:': 'Astral Plate', 'icon': 'https://cdn.poedb.tw/image/Art/2DItems/Armours/BodyArmours/BodyStr1C.webp'}\n"
     ]
    },
    {
     "name": "stderr",
     "output_type": "stream",
     "text": [
      " 15%|█▌        | 16/106 [00:09<00:45,  1.99it/s]"
     ]
    },
    {
     "name": "stdout",
     "output_type": "stream",
     "text": [
      "{'base:': 'Gladiator Plate', 'icon': 'https://cdn.poedb.tw/image/Art/2DItems/Armours/BodyArmours/BodyStr2C.webp'}\n"
     ]
    },
    {
     "name": "stderr",
     "output_type": "stream",
     "text": [
      " 16%|█▌        | 17/106 [00:10<00:58,  1.53it/s]"
     ]
    },
    {
     "name": "stdout",
     "output_type": "stream",
     "text": [
      "{'base:': 'Glorious Plate', 'icon': 'https://cdn.poedb.tw/image/Art/2DItems/Armours/BodyArmours/BodyStr3C.webp'}\n"
     ]
    },
    {
     "name": "stderr",
     "output_type": "stream",
     "text": [
      " 17%|█▋        | 18/106 [00:11<00:51,  1.72it/s]"
     ]
    },
    {
     "name": "stdout",
     "output_type": "stream",
     "text": [
      "{'base:': \"Kaom's Plate\", 'icon': 'https://cdn.poedb.tw/image/Art/2DItems/Armours/BodyArmours/BodyStr3CUnique.webp'}\n"
     ]
    },
    {
     "name": "stderr",
     "output_type": "stream",
     "text": [
      " 18%|█▊        | 19/106 [00:11<00:46,  1.89it/s]"
     ]
    },
    {
     "name": "stdout",
     "output_type": "stream",
     "text": [
      "{'base:': 'Shabby Jerkin', 'icon': 'https://cdn.poedb.tw/image/Art/2DItems/Armours/BodyArmours/BodyDex1A.webp'}\n"
     ]
    },
    {
     "name": "stderr",
     "output_type": "stream",
     "text": [
      " 19%|█▉        | 20/106 [00:12<00:42,  2.02it/s]"
     ]
    },
    {
     "name": "stdout",
     "output_type": "stream",
     "text": [
      "{'base:': 'Strapped Leather', 'icon': 'https://cdn.poedb.tw/image/Art/2DItems/Armours/BodyArmours/BodyDex3A.webp'}\n"
     ]
    },
    {
     "name": "stderr",
     "output_type": "stream",
     "text": [
      " 20%|█▉        | 21/106 [00:13<00:55,  1.53it/s]"
     ]
    },
    {
     "name": "stdout",
     "output_type": "stream",
     "text": [
      "{'base:': 'Buckskin Tunic', 'icon': 'https://cdn.poedb.tw/image/Art/2DItems/Armours/BodyArmours/BodyDex1B.webp'}\n"
     ]
    },
    {
     "name": "stderr",
     "output_type": "stream",
     "text": [
      " 21%|██        | 22/106 [00:13<00:48,  1.72it/s]"
     ]
    },
    {
     "name": "stdout",
     "output_type": "stream",
     "text": [
      "{'base:': 'Wild Leather', 'icon': 'https://cdn.poedb.tw/image/Art/2DItems/Armours/BodyArmours/BodyDex3B.webp'}\n"
     ]
    },
    {
     "name": "stderr",
     "output_type": "stream",
     "text": [
      " 22%|██▏       | 23/106 [00:13<00:44,  1.87it/s]"
     ]
    },
    {
     "name": "stdout",
     "output_type": "stream",
     "text": [
      "{'base:': 'Full Leather', 'icon': 'https://cdn.poedb.tw/image/Art/2DItems/Armours/BodyArmours/BodyDex1C.webp'}\n"
     ]
    },
    {
     "name": "stderr",
     "output_type": "stream",
     "text": [
      " 23%|██▎       | 24/106 [00:14<00:41,  2.00it/s]"
     ]
    },
    {
     "name": "stdout",
     "output_type": "stream",
     "text": [
      "{'base:': 'Sun Leather', 'icon': 'https://cdn.poedb.tw/image/Art/2DItems/Armours/BodyArmours/BodyDex3C.webp'}\n"
     ]
    },
    {
     "name": "stderr",
     "output_type": "stream",
     "text": [
      " 24%|██▎       | 25/106 [00:14<00:38,  2.09it/s]"
     ]
    },
    {
     "name": "stdout",
     "output_type": "stream",
     "text": [
      "{'base:': \"Thief's Garb\", 'icon': 'https://cdn.poedb.tw/image/Art/2DItems/Armours/BodyArmours/BodyDex2C.webp'}\n"
     ]
    },
    {
     "name": "stderr",
     "output_type": "stream",
     "text": [
      " 25%|██▍       | 26/106 [00:15<00:51,  1.57it/s]"
     ]
    },
    {
     "name": "stdout",
     "output_type": "stream",
     "text": [
      "{'base:': 'Eelskin Tunic', 'icon': 'https://cdn.poedb.tw/image/Art/2DItems/Armours/BodyArmours/BodyDex1B.webp'}\n"
     ]
    },
    {
     "name": "stderr",
     "output_type": "stream",
     "text": [
      " 25%|██▌       | 27/106 [00:16<00:44,  1.76it/s]"
     ]
    },
    {
     "name": "stdout",
     "output_type": "stream",
     "text": [
      "{'base:': 'Frontier Leather', 'icon': 'https://cdn.poedb.tw/image/Art/2DItems/Armours/BodyArmours/BodyDex3B.webp'}\n"
     ]
    },
    {
     "name": "stderr",
     "output_type": "stream",
     "text": [
      " 26%|██▋       | 28/106 [00:16<00:42,  1.85it/s]"
     ]
    },
    {
     "name": "stdout",
     "output_type": "stream",
     "text": [
      "{'base:': 'Glorious Leather', 'icon': 'https://cdn.poedb.tw/image/Art/2DItems/Armours/BodyArmours/BodyDex1C.webp'}\n"
     ]
    },
    {
     "name": "stderr",
     "output_type": "stream",
     "text": [
      " 27%|██▋       | 29/106 [00:17<00:38,  2.01it/s]"
     ]
    },
    {
     "name": "stdout",
     "output_type": "stream",
     "text": [
      "{'base:': 'Coronal Leather', 'icon': 'https://cdn.poedb.tw/image/Art/2DItems/Armours/BodyArmours/BodyDex3C.webp'}\n"
     ]
    },
    {
     "name": "stderr",
     "output_type": "stream",
     "text": [
      " 28%|██▊       | 30/106 [00:17<00:35,  2.11it/s]"
     ]
    },
    {
     "name": "stdout",
     "output_type": "stream",
     "text": [
      "{'base:': \"Cutthroat's Garb\", 'icon': 'https://cdn.poedb.tw/image/Art/2DItems/Armours/BodyArmours/BodyDex2C.webp'}\n"
     ]
    },
    {
     "name": "stderr",
     "output_type": "stream",
     "text": [
      " 29%|██▉       | 31/106 [00:17<00:34,  2.19it/s]"
     ]
    },
    {
     "name": "stdout",
     "output_type": "stream",
     "text": [
      "{'base:': 'Sharkskin Tunic', 'icon': 'https://cdn.poedb.tw/image/Art/2DItems/Armours/BodyArmours/BodyDex1B.webp'}\n"
     ]
    },
    {
     "name": "stderr",
     "output_type": "stream",
     "text": [
      " 30%|███       | 32/106 [00:18<00:45,  1.61it/s]"
     ]
    },
    {
     "name": "stdout",
     "output_type": "stream",
     "text": [
      "{'base:': 'Destiny Leather', 'icon': 'https://cdn.poedb.tw/image/Art/2DItems/Armours/BodyArmours/BodyDex3B.webp'}\n"
     ]
    },
    {
     "name": "stderr",
     "output_type": "stream",
     "text": [
      " 31%|███       | 33/106 [00:19<00:40,  1.79it/s]"
     ]
    },
    {
     "name": "stdout",
     "output_type": "stream",
     "text": [
      "{'base:': 'Exquisite Leather', 'icon': 'https://cdn.poedb.tw/image/Art/2DItems/Armours/BodyArmours/BodyDex1C.webp'}\n"
     ]
    },
    {
     "name": "stderr",
     "output_type": "stream",
     "text": [
      " 32%|███▏      | 34/106 [00:19<00:37,  1.92it/s]"
     ]
    },
    {
     "name": "stdout",
     "output_type": "stream",
     "text": [
      "{'base:': 'Zodiac Leather', 'icon': 'https://cdn.poedb.tw/image/Art/2DItems/Armours/BodyArmours/BodyDex3C.webp'}\n"
     ]
    },
    {
     "name": "stderr",
     "output_type": "stream",
     "text": [
      " 33%|███▎      | 35/106 [00:20<00:35,  2.02it/s]"
     ]
    },
    {
     "name": "stdout",
     "output_type": "stream",
     "text": [
      "{'base:': \"Assassin's Garb\", 'icon': 'https://cdn.poedb.tw/image/Art/2DItems/Armours/BodyArmours/BodyDex2C.webp'}\n"
     ]
    },
    {
     "name": "stderr",
     "output_type": "stream",
     "text": [
      " 34%|███▍      | 36/106 [00:20<00:33,  2.06it/s]"
     ]
    },
    {
     "name": "stdout",
     "output_type": "stream",
     "text": [
      "{'base:': 'Simple Robe', 'icon': 'https://cdn.poedb.tw/image/Art/2DItems/Armours/BodyArmours/BodyInt1A.webp'}\n"
     ]
    },
    {
     "name": "stderr",
     "output_type": "stream",
     "text": [
      " 35%|███▍      | 37/106 [00:21<00:31,  2.17it/s]"
     ]
    },
    {
     "name": "stdout",
     "output_type": "stream",
     "text": [
      "{'base:': 'Silken Vest', 'icon': 'https://cdn.poedb.tw/image/Art/2DItems/Armours/BodyArmours/BodyInt2A.webp'}\n"
     ]
    },
    {
     "name": "stderr",
     "output_type": "stream",
     "text": [
      " 36%|███▌      | 38/106 [00:22<00:41,  1.62it/s]"
     ]
    },
    {
     "name": "stdout",
     "output_type": "stream",
     "text": [
      "{'base:': \"Scholar's Robe\", 'icon': 'https://cdn.poedb.tw/image/Art/2DItems/Armours/BodyArmours/BodyInt1B.webp'}\n"
     ]
    },
    {
     "name": "stderr",
     "output_type": "stream",
     "text": [
      " 37%|███▋      | 39/106 [00:22<00:37,  1.79it/s]"
     ]
    },
    {
     "name": "stdout",
     "output_type": "stream",
     "text": [
      "{'base:': 'Silken Garb', 'icon': 'https://cdn.poedb.tw/image/Art/2DItems/Armours/BodyArmours/BodyInt2B.webp'}\n"
     ]
    },
    {
     "name": "stderr",
     "output_type": "stream",
     "text": [
      " 38%|███▊      | 40/106 [00:22<00:34,  1.94it/s]"
     ]
    },
    {
     "name": "stdout",
     "output_type": "stream",
     "text": [
      "{'base:': \"Mage's Vestment\", 'icon': 'https://cdn.poedb.tw/image/Art/2DItems/Armours/BodyArmours/BodyInt1C.webp'}\n"
     ]
    },
    {
     "name": "stderr",
     "output_type": "stream",
     "text": [
      " 39%|███▊      | 41/106 [00:23<00:31,  2.05it/s]"
     ]
    },
    {
     "name": "stdout",
     "output_type": "stream",
     "text": [
      "{'base:': 'Silk Robe', 'icon': 'https://cdn.poedb.tw/image/Art/2DItems/Armours/BodyArmours/BodyInt2C.webp'}\n"
     ]
    },
    {
     "name": "stderr",
     "output_type": "stream",
     "text": [
      " 40%|███▉      | 42/106 [00:23<00:29,  2.15it/s]"
     ]
    },
    {
     "name": "stdout",
     "output_type": "stream",
     "text": [
      "{'base:': 'Cabalist Regalia', 'icon': 'https://cdn.poedb.tw/image/Art/2DItems/Armours/BodyArmours/BodyStrDexInt1C.webp'}\n"
     ]
    },
    {
     "name": "stderr",
     "output_type": "stream",
     "text": [
      " 41%|████      | 43/106 [00:24<00:39,  1.59it/s]"
     ]
    },
    {
     "name": "stdout",
     "output_type": "stream",
     "text": [
      "{'base:': \"Sage's Robe\", 'icon': 'https://cdn.poedb.tw/image/Art/2DItems/Armours/BodyArmours/BodyInt1B.webp'}\n"
     ]
    },
    {
     "name": "stderr",
     "output_type": "stream",
     "text": [
      " 42%|████▏     | 44/106 [00:25<00:35,  1.77it/s]"
     ]
    },
    {
     "name": "stdout",
     "output_type": "stream",
     "text": [
      "{'base:': 'Silken Wrap', 'icon': 'https://cdn.poedb.tw/image/Art/2DItems/Armours/BodyArmours/BodyInt2B.webp'}\n"
     ]
    },
    {
     "name": "stderr",
     "output_type": "stream",
     "text": [
      " 42%|████▏     | 45/106 [00:26<00:42,  1.44it/s]"
     ]
    },
    {
     "name": "stdout",
     "output_type": "stream",
     "text": [
      "{'base:': \"Conjurer's Vestment\", 'icon': 'https://cdn.poedb.tw/image/Art/2DItems/Armours/BodyArmours/BodyInt1C.webp'}\n"
     ]
    },
    {
     "name": "stderr",
     "output_type": "stream",
     "text": [
      " 43%|████▎     | 46/106 [00:26<00:36,  1.65it/s]"
     ]
    },
    {
     "name": "stdout",
     "output_type": "stream",
     "text": [
      "{'base:': 'Spidersilk Robe', 'icon': 'https://cdn.poedb.tw/image/Art/2DItems/Armours/BodyArmours/BodyInt2C.webp'}\n"
     ]
    },
    {
     "name": "stderr",
     "output_type": "stream",
     "text": [
      " 44%|████▍     | 47/106 [00:26<00:32,  1.82it/s]"
     ]
    },
    {
     "name": "stdout",
     "output_type": "stream",
     "text": [
      "{'base:': 'Destroyer Regalia', 'icon': 'https://cdn.poedb.tw/image/Art/2DItems/Armours/BodyArmours/BodyStrDexInt1C.webp'}\n"
     ]
    },
    {
     "name": "stderr",
     "output_type": "stream",
     "text": [
      " 45%|████▌     | 48/106 [00:27<00:39,  1.46it/s]"
     ]
    },
    {
     "name": "stdout",
     "output_type": "stream",
     "text": [
      "{'base:': \"Savant's Robe\", 'icon': 'https://cdn.poedb.tw/image/Art/2DItems/Armours/BodyArmours/BodyInt1B.webp'}\n"
     ]
    },
    {
     "name": "stderr",
     "output_type": "stream",
     "text": [
      " 46%|████▌     | 49/106 [00:28<00:34,  1.67it/s]"
     ]
    },
    {
     "name": "stdout",
     "output_type": "stream",
     "text": [
      "{'base:': 'Necromancer Silks', 'icon': 'https://cdn.poedb.tw/image/Art/2DItems/Armours/BodyArmours/BodyInt2B.webp'}\n"
     ]
    },
    {
     "name": "stderr",
     "output_type": "stream",
     "text": [
      " 47%|████▋     | 50/106 [00:28<00:30,  1.84it/s]"
     ]
    },
    {
     "name": "stdout",
     "output_type": "stream",
     "text": [
      "{'base:': \"Occultist's Vestment\", 'icon': 'https://cdn.poedb.tw/image/Art/2DItems/Armours/BodyArmours/BodyInt1C.webp'}\n"
     ]
    },
    {
     "name": "stderr",
     "output_type": "stream",
     "text": [
      " 48%|████▊     | 51/106 [00:29<00:37,  1.46it/s]"
     ]
    },
    {
     "name": "stdout",
     "output_type": "stream",
     "text": [
      "{'base:': 'Widowsilk Robe', 'icon': 'https://cdn.poedb.tw/image/Art/2DItems/Armours/BodyArmours/BodyInt2C.webp'}\n"
     ]
    },
    {
     "name": "stderr",
     "output_type": "stream",
     "text": [
      " 49%|████▉     | 52/106 [00:30<00:41,  1.29it/s]"
     ]
    },
    {
     "name": "stdout",
     "output_type": "stream",
     "text": [
      "{'base:': 'Vaal Regalia', 'icon': 'https://cdn.poedb.tw/image/Art/2DItems/Armours/BodyArmours/BodyStrDexInt1C.webp'}\n"
     ]
    },
    {
     "name": "stderr",
     "output_type": "stream",
     "text": [
      " 50%|█████     | 53/106 [00:31<00:35,  1.49it/s]"
     ]
    },
    {
     "name": "stdout",
     "output_type": "stream",
     "text": [
      "{'base:': 'Scale Vest', 'icon': 'https://cdn.poedb.tw/image/Art/2DItems/Armours/BodyArmours/BodyStrDex1A.webp'}\n"
     ]
    },
    {
     "name": "stderr",
     "output_type": "stream",
     "text": [
      " 51%|█████     | 54/106 [00:31<00:30,  1.69it/s]"
     ]
    },
    {
     "name": "stdout",
     "output_type": "stream",
     "text": [
      "{'base:': 'Light Brigandine', 'icon': 'https://cdn.poedb.tw/image/Art/2DItems/Armours/BodyArmours/BodyStrDex2A.webp'}\n"
     ]
    },
    {
     "name": "stderr",
     "output_type": "stream",
     "text": [
      " 52%|█████▏    | 55/106 [00:32<00:27,  1.88it/s]"
     ]
    },
    {
     "name": "stdout",
     "output_type": "stream",
     "text": [
      "{'base:': 'Scale Doublet', 'icon': 'https://cdn.poedb.tw/image/Art/2DItems/Armours/BodyArmours/BodyStrDex1B.webp'}\n"
     ]
    },
    {
     "name": "stderr",
     "output_type": "stream",
     "text": [
      " 53%|█████▎    | 56/106 [00:32<00:24,  2.01it/s]"
     ]
    },
    {
     "name": "stdout",
     "output_type": "stream",
     "text": [
      "{'base:': 'Infantry Brigandine', 'icon': 'https://cdn.poedb.tw/image/Art/2DItems/Armours/BodyArmours/BodyStrDex2B.webp'}\n"
     ]
    },
    {
     "name": "stderr",
     "output_type": "stream",
     "text": [
      " 54%|█████▍    | 57/106 [00:32<00:23,  2.12it/s]"
     ]
    },
    {
     "name": "stdout",
     "output_type": "stream",
     "text": [
      "{'base:': 'Full Scale Armour', 'icon': 'https://cdn.poedb.tw/image/Art/2DItems/Armours/BodyArmours/BodyStrDex1C.webp'}\n"
     ]
    },
    {
     "name": "stderr",
     "output_type": "stream",
     "text": [
      " 55%|█████▍    | 58/106 [00:33<00:21,  2.18it/s]"
     ]
    },
    {
     "name": "stdout",
     "output_type": "stream",
     "text": [
      "{'base:': \"Soldier's Brigandine\", 'icon': 'https://cdn.poedb.tw/image/Art/2DItems/Armours/BodyArmours/BodyStrDex2C.webp'}\n"
     ]
    },
    {
     "name": "stderr",
     "output_type": "stream",
     "text": [
      " 56%|█████▌    | 59/106 [00:34<00:29,  1.61it/s]"
     ]
    },
    {
     "name": "stdout",
     "output_type": "stream",
     "text": [
      "{'base:': 'Field Lamellar', 'icon': 'https://cdn.poedb.tw/image/Art/2DItems/Armours/BodyArmours/BodyStr4A.webp'}\n"
     ]
    },
    {
     "name": "stderr",
     "output_type": "stream",
     "text": [
      " 57%|█████▋    | 60/106 [00:35<00:34,  1.34it/s]"
     ]
    },
    {
     "name": "stdout",
     "output_type": "stream",
     "text": [
      "{'base:': 'Wyrmscale Doublet', 'icon': 'https://cdn.poedb.tw/image/Art/2DItems/Armours/BodyArmours/BodyStrDex1B.webp'}\n"
     ]
    },
    {
     "name": "stderr",
     "output_type": "stream",
     "text": [
      " 58%|█████▊    | 61/106 [00:35<00:29,  1.55it/s]"
     ]
    },
    {
     "name": "stdout",
     "output_type": "stream",
     "text": [
      "{'base:': 'Hussar Brigandine', 'icon': 'https://cdn.poedb.tw/image/Art/2DItems/Armours/BodyArmours/BodyStrDex2B.webp'}\n"
     ]
    },
    {
     "name": "stderr",
     "output_type": "stream",
     "text": [
      " 58%|█████▊    | 62/106 [00:36<00:25,  1.73it/s]"
     ]
    },
    {
     "name": "stdout",
     "output_type": "stream",
     "text": [
      "{'base:': 'Full Wyrmscale', 'icon': 'https://cdn.poedb.tw/image/Art/2DItems/Armours/BodyArmours/BodyStrDex1C.webp'}\n"
     ]
    },
    {
     "name": "stderr",
     "output_type": "stream",
     "text": [
      " 59%|█████▉    | 63/106 [00:36<00:22,  1.89it/s]"
     ]
    },
    {
     "name": "stdout",
     "output_type": "stream",
     "text": [
      "{'base:': \"Commander's Brigandine\", 'icon': 'https://cdn.poedb.tw/image/Art/2DItems/Armours/BodyArmours/BodyStrDex2C.webp'}\n"
     ]
    },
    {
     "name": "stderr",
     "output_type": "stream",
     "text": [
      " 60%|██████    | 64/106 [00:37<00:27,  1.50it/s]"
     ]
    },
    {
     "name": "stdout",
     "output_type": "stream",
     "text": [
      "{'base:': 'Battle Lamellar', 'icon': 'https://cdn.poedb.tw/image/Art/2DItems/Armours/BodyArmours/BodyStr4A.webp'}\n"
     ]
    },
    {
     "name": "stderr",
     "output_type": "stream",
     "text": [
      " 61%|██████▏   | 65/106 [00:38<00:31,  1.30it/s]"
     ]
    },
    {
     "name": "stdout",
     "output_type": "stream",
     "text": [
      "{'base:': 'Dragonscale Doublet', 'icon': 'https://cdn.poedb.tw/image/Art/2DItems/Armours/BodyArmours/BodyStrDex1B.webp'}\n"
     ]
    },
    {
     "name": "stderr",
     "output_type": "stream",
     "text": [
      " 62%|██████▏   | 66/106 [00:39<00:27,  1.47it/s]"
     ]
    },
    {
     "name": "stdout",
     "output_type": "stream",
     "text": [
      "{'base:': 'Desert Brigandine', 'icon': 'https://cdn.poedb.tw/image/Art/2DItems/Armours/BodyArmours/BodyStrDex2B.webp'}\n"
     ]
    },
    {
     "name": "stderr",
     "output_type": "stream",
     "text": [
      " 63%|██████▎   | 67/106 [00:40<00:30,  1.27it/s]"
     ]
    },
    {
     "name": "stdout",
     "output_type": "stream",
     "text": [
      "{'base:': 'Full Dragonscale', 'icon': 'https://cdn.poedb.tw/image/Art/2DItems/Armours/BodyArmours/BodyStrDex1C.webp'}\n"
     ]
    },
    {
     "name": "stderr",
     "output_type": "stream",
     "text": [
      " 64%|██████▍   | 68/106 [00:41<00:32,  1.17it/s]"
     ]
    },
    {
     "name": "stdout",
     "output_type": "stream",
     "text": [
      "{'base:': \"General's Brigandine\", 'icon': 'https://cdn.poedb.tw/image/Art/2DItems/Armours/BodyArmours/BodyStrDex2C.webp'}\n"
     ]
    },
    {
     "name": "stderr",
     "output_type": "stream",
     "text": [
      " 65%|██████▌   | 69/106 [00:42<00:33,  1.10it/s]"
     ]
    },
    {
     "name": "stdout",
     "output_type": "stream",
     "text": [
      "{'base:': 'Triumphant Lamellar', 'icon': 'https://cdn.poedb.tw/image/Art/2DItems/Armours/BodyArmours/BodyStr4A.webp'}\n"
     ]
    },
    {
     "name": "stderr",
     "output_type": "stream",
     "text": [
      " 66%|██████▌   | 70/106 [00:42<00:27,  1.32it/s]"
     ]
    },
    {
     "name": "stdout",
     "output_type": "stream",
     "text": [
      "{'base:': 'Chainmail Vest', 'icon': 'https://cdn.poedb.tw/image/Art/2DItems/Armours/BodyArmours/BodyStrInt1A.webp'}\n"
     ]
    },
    {
     "name": "stderr",
     "output_type": "stream",
     "text": [
      " 67%|██████▋   | 71/106 [00:42<00:23,  1.52it/s]"
     ]
    },
    {
     "name": "stdout",
     "output_type": "stream",
     "text": [
      "{'base:': 'Chainmail Tunic', 'icon': 'https://cdn.poedb.tw/image/Art/2DItems/Armours/BodyArmours/BodyStrInt2A.webp'}\n"
     ]
    },
    {
     "name": "stderr",
     "output_type": "stream",
     "text": [
      " 68%|██████▊   | 72/106 [00:43<00:26,  1.31it/s]"
     ]
    },
    {
     "name": "stdout",
     "output_type": "stream",
     "text": [
      "{'base:': 'Ringmail Coat', 'icon': 'https://cdn.poedb.tw/image/Art/2DItems/Armours/BodyArmours/BodyStrInt1B.webp'}\n"
     ]
    },
    {
     "name": "stderr",
     "output_type": "stream",
     "text": [
      " 69%|██████▉   | 73/106 [00:44<00:21,  1.53it/s]"
     ]
    },
    {
     "name": "stdout",
     "output_type": "stream",
     "text": [
      "{'base:': 'Chainmail Doublet', 'icon': 'https://cdn.poedb.tw/image/Art/2DItems/Armours/BodyArmours/BodyStrInt2B.webp'}\n"
     ]
    },
    {
     "name": "stderr",
     "output_type": "stream",
     "text": [
      " 70%|██████▉   | 74/106 [00:45<00:24,  1.31it/s]"
     ]
    },
    {
     "name": "stdout",
     "output_type": "stream",
     "text": [
      "{'base:': 'Full Ringmail', 'icon': 'https://cdn.poedb.tw/image/Art/2DItems/Armours/BodyArmours/BodyStrInt1C.webp'}\n"
     ]
    },
    {
     "name": "stderr",
     "output_type": "stream",
     "text": [
      " 71%|███████   | 75/106 [00:46<00:26,  1.19it/s]"
     ]
    },
    {
     "name": "stdout",
     "output_type": "stream",
     "text": [
      "{'base:': 'Full Chainmail', 'icon': 'https://cdn.poedb.tw/image/Art/2DItems/Armours/BodyArmours/BodyStrInt2C.webp'}\n"
     ]
    },
    {
     "name": "stderr",
     "output_type": "stream",
     "text": [
      " 72%|███████▏  | 76/106 [00:46<00:21,  1.41it/s]"
     ]
    },
    {
     "name": "stdout",
     "output_type": "stream",
     "text": [
      "{'base:': 'Holy Chainmail', 'icon': 'https://cdn.poedb.tw/image/Art/2DItems/Armours/BodyArmours/BodyStrInt3C.webp'}\n"
     ]
    },
    {
     "name": "stderr",
     "output_type": "stream",
     "text": [
      " 73%|███████▎  | 77/106 [00:47<00:18,  1.60it/s]"
     ]
    },
    {
     "name": "stdout",
     "output_type": "stream",
     "text": [
      "{'base:': 'Latticed Ringmail', 'icon': 'https://cdn.poedb.tw/image/Art/2DItems/Armours/BodyArmours/BodyStrInt1B.webp'}\n"
     ]
    },
    {
     "name": "stderr",
     "output_type": "stream",
     "text": [
      " 74%|███████▎  | 78/106 [00:47<00:15,  1.77it/s]"
     ]
    },
    {
     "name": "stdout",
     "output_type": "stream",
     "text": [
      "{'base:': 'Crusader Chainmail', 'icon': 'https://cdn.poedb.tw/image/Art/2DItems/Armours/BodyArmours/BodyStrInt2B.webp'}\n"
     ]
    },
    {
     "name": "stderr",
     "output_type": "stream",
     "text": [
      " 75%|███████▍  | 79/106 [00:48<00:18,  1.42it/s]"
     ]
    },
    {
     "name": "stdout",
     "output_type": "stream",
     "text": [
      "{'base:': 'Ornate Ringmail', 'icon': 'https://cdn.poedb.tw/image/Art/2DItems/Armours/BodyArmours/BodyStrInt1C.webp'}\n"
     ]
    },
    {
     "name": "stderr",
     "output_type": "stream",
     "text": [
      " 75%|███████▌  | 80/106 [00:49<00:16,  1.62it/s]"
     ]
    },
    {
     "name": "stdout",
     "output_type": "stream",
     "text": [
      "{'base:': 'Chain Hauberk', 'icon': 'https://cdn.poedb.tw/image/Art/2DItems/Armours/BodyArmours/BodyStrInt2C.webp'}\n"
     ]
    },
    {
     "name": "stderr",
     "output_type": "stream",
     "text": [
      " 76%|███████▋  | 81/106 [00:50<00:18,  1.36it/s]"
     ]
    },
    {
     "name": "stdout",
     "output_type": "stream",
     "text": [
      "{'base:': 'Devout Chainmail', 'icon': 'https://cdn.poedb.tw/image/Art/2DItems/Armours/BodyArmours/BodyStrInt3C.webp'}\n"
     ]
    },
    {
     "name": "stderr",
     "output_type": "stream",
     "text": [
      " 77%|███████▋  | 82/106 [00:51<00:19,  1.21it/s]"
     ]
    },
    {
     "name": "stdout",
     "output_type": "stream",
     "text": [
      "{'base:': 'Loricated Ringmail', 'icon': 'https://cdn.poedb.tw/image/Art/2DItems/Armours/BodyArmours/BodyStrInt1B.webp'}\n"
     ]
    },
    {
     "name": "stderr",
     "output_type": "stream",
     "text": [
      " 78%|███████▊  | 83/106 [00:52<00:20,  1.13it/s]"
     ]
    },
    {
     "name": "stdout",
     "output_type": "stream",
     "text": [
      "{'base:': 'Conquest Chainmail', 'icon': 'https://cdn.poedb.tw/image/Art/2DItems/Armours/BodyArmours/BodyStrInt2B.webp'}\n"
     ]
    },
    {
     "name": "stderr",
     "output_type": "stream",
     "text": [
      " 79%|███████▉  | 84/106 [00:52<00:16,  1.36it/s]"
     ]
    },
    {
     "name": "stdout",
     "output_type": "stream",
     "text": [
      "{'base:': 'Elegant Ringmail', 'icon': 'https://cdn.poedb.tw/image/Art/2DItems/Armours/BodyArmours/BodyStrInt1C.webp'}\n"
     ]
    },
    {
     "name": "stderr",
     "output_type": "stream",
     "text": [
      " 80%|████████  | 85/106 [00:52<00:13,  1.57it/s]"
     ]
    },
    {
     "name": "stdout",
     "output_type": "stream",
     "text": [
      "{'base:': \"Saint's Hauberk\", 'icon': 'https://cdn.poedb.tw/image/Art/2DItems/Armours/BodyArmours/BodyStrInt2C.webp'}\n"
     ]
    },
    {
     "name": "stderr",
     "output_type": "stream",
     "text": [
      " 81%|████████  | 86/106 [00:53<00:11,  1.74it/s]"
     ]
    },
    {
     "name": "stdout",
     "output_type": "stream",
     "text": [
      "{'base:': 'Saintly Chainmail', 'icon': 'https://cdn.poedb.tw/image/Art/2DItems/Armours/BodyArmours/BodyStrInt3C.webp'}\n"
     ]
    },
    {
     "name": "stderr",
     "output_type": "stream",
     "text": [
      " 82%|████████▏ | 87/106 [00:54<00:13,  1.41it/s]"
     ]
    },
    {
     "name": "stdout",
     "output_type": "stream",
     "text": [
      "{'base:': 'Padded Vest', 'icon': 'https://cdn.poedb.tw/image/Art/2DItems/Armours/BodyArmours/BodyDexInt1A.webp'}\n"
     ]
    },
    {
     "name": "stderr",
     "output_type": "stream",
     "text": [
      " 83%|████████▎ | 88/106 [00:54<00:11,  1.60it/s]"
     ]
    },
    {
     "name": "stdout",
     "output_type": "stream",
     "text": [
      "{'base:': 'Oiled Vest', 'icon': 'https://cdn.poedb.tw/image/Art/2DItems/Armours/BodyArmours/BodyDexInt2A.webp'}\n"
     ]
    },
    {
     "name": "stderr",
     "output_type": "stream",
     "text": [
      " 84%|████████▍ | 89/106 [00:55<00:09,  1.79it/s]"
     ]
    },
    {
     "name": "stdout",
     "output_type": "stream",
     "text": [
      "{'base:': 'Padded Jacket', 'icon': 'https://cdn.poedb.tw/image/Art/2DItems/Armours/BodyArmours/BodyDexInt1B.webp'}\n"
     ]
    },
    {
     "name": "stderr",
     "output_type": "stream",
     "text": [
      " 85%|████████▍ | 90/106 [00:55<00:08,  1.95it/s]"
     ]
    },
    {
     "name": "stdout",
     "output_type": "stream",
     "text": [
      "{'base:': 'Oiled Coat', 'icon': 'https://cdn.poedb.tw/image/Art/2DItems/Armours/BodyArmours/BodyDexInt2B.webp'}\n"
     ]
    },
    {
     "name": "stderr",
     "output_type": "stream",
     "text": [
      " 86%|████████▌ | 91/106 [00:56<00:09,  1.50it/s]"
     ]
    },
    {
     "name": "stdout",
     "output_type": "stream",
     "text": [
      "{'base:': 'Scarlet Raiment', 'icon': 'https://cdn.poedb.tw/image/Art/2DItems/Armours/BodyArmours/BodyDexInt1C.webp'}\n"
     ]
    },
    {
     "name": "stderr",
     "output_type": "stream",
     "text": [
      " 87%|████████▋ | 92/106 [00:57<00:08,  1.70it/s]"
     ]
    },
    {
     "name": "stdout",
     "output_type": "stream",
     "text": [
      "{'base:': 'Waxed Garb', 'icon': 'https://cdn.poedb.tw/image/Art/2DItems/Armours/BodyArmours/BodyDexInt2C.webp'}\n"
     ]
    },
    {
     "name": "stderr",
     "output_type": "stream",
     "text": [
      " 88%|████████▊ | 93/106 [00:57<00:06,  1.88it/s]"
     ]
    },
    {
     "name": "stdout",
     "output_type": "stream",
     "text": [
      "{'base:': 'Bone Armour', 'icon': 'https://cdn.poedb.tw/image/Art/2DItems/Armours/BodyArmours/BodyDexInt4C.webp'}\n"
     ]
    },
    {
     "name": "stderr",
     "output_type": "stream",
     "text": [
      " 89%|████████▊ | 94/106 [00:58<00:08,  1.49it/s]"
     ]
    },
    {
     "name": "stdout",
     "output_type": "stream",
     "text": [
      "{'base:': 'Quilted Jacket', 'icon': 'https://cdn.poedb.tw/image/Art/2DItems/Armours/BodyArmours/BodyDexInt1B.webp'}\n"
     ]
    },
    {
     "name": "stderr",
     "output_type": "stream",
     "text": [
      " 90%|████████▉ | 95/106 [00:58<00:06,  1.67it/s]"
     ]
    },
    {
     "name": "stdout",
     "output_type": "stream",
     "text": [
      "{'base:': 'Sleek Coat', 'icon': 'https://cdn.poedb.tw/image/Art/2DItems/Armours/BodyArmours/BodyDexInt2B.webp'}\n"
     ]
    },
    {
     "name": "stderr",
     "output_type": "stream",
     "text": [
      " 91%|█████████ | 96/106 [00:59<00:05,  1.84it/s]"
     ]
    },
    {
     "name": "stdout",
     "output_type": "stream",
     "text": [
      "{'base:': 'Crimson Raiment', 'icon': 'https://cdn.poedb.tw/image/Art/2DItems/Armours/BodyArmours/BodyDexInt1C.webp'}\n"
     ]
    },
    {
     "name": "stderr",
     "output_type": "stream",
     "text": [
      " 92%|█████████▏| 97/106 [00:59<00:04,  1.93it/s]"
     ]
    },
    {
     "name": "stdout",
     "output_type": "stream",
     "text": [
      "{'base:': 'Lacquered Garb', 'icon': 'https://cdn.poedb.tw/image/Art/2DItems/Armours/BodyArmours/BodyDexInt2C.webp'}\n"
     ]
    },
    {
     "name": "stderr",
     "output_type": "stream",
     "text": [
      " 92%|█████████▏| 98/106 [01:00<00:03,  2.08it/s]"
     ]
    },
    {
     "name": "stdout",
     "output_type": "stream",
     "text": [
      "{'base:': 'Crypt Armour', 'icon': 'https://cdn.poedb.tw/image/Art/2DItems/Armours/BodyArmours/BodyDexInt4C.webp'}\n"
     ]
    },
    {
     "name": "stderr",
     "output_type": "stream",
     "text": [
      " 93%|█████████▎| 99/106 [01:01<00:05,  1.38it/s]"
     ]
    },
    {
     "name": "stdout",
     "output_type": "stream",
     "text": [
      "{'base:': 'Sentinel Jacket', 'icon': 'https://cdn.poedb.tw/image/Art/2DItems/Armours/BodyArmours/BodyDexInt1B.webp'}\n"
     ]
    },
    {
     "name": "stderr",
     "output_type": "stream",
     "text": [
      " 94%|█████████▍| 100/106 [01:01<00:03,  1.60it/s]"
     ]
    },
    {
     "name": "stdout",
     "output_type": "stream",
     "text": [
      "{'base:': 'Varnished Coat', 'icon': 'https://cdn.poedb.tw/image/Art/2DItems/Armours/BodyArmours/BodyDexInt2B.webp'}\n"
     ]
    },
    {
     "name": "stderr",
     "output_type": "stream",
     "text": [
      " 95%|█████████▌| 101/106 [01:02<00:02,  1.77it/s]"
     ]
    },
    {
     "name": "stdout",
     "output_type": "stream",
     "text": [
      "{'base:': 'Blood Raiment', 'icon': 'https://cdn.poedb.tw/image/Art/2DItems/Armours/BodyArmours/BodyDexInt1C.webp'}\n"
     ]
    },
    {
     "name": "stderr",
     "output_type": "stream",
     "text": [
      " 96%|█████████▌| 102/106 [01:02<00:02,  1.93it/s]"
     ]
    },
    {
     "name": "stdout",
     "output_type": "stream",
     "text": [
      "{'base:': 'Sadist Garb', 'icon': 'https://cdn.poedb.tw/image/Art/2DItems/Armours/BodyArmours/BodyDexInt2C.webp'}\n"
     ]
    },
    {
     "name": "stderr",
     "output_type": "stream",
     "text": [
      " 97%|█████████▋| 103/106 [01:03<00:01,  2.05it/s]"
     ]
    },
    {
     "name": "stdout",
     "output_type": "stream",
     "text": [
      "{'base:': 'Carnal Armour', 'icon': 'https://cdn.poedb.tw/image/Art/2DItems/Armours/BodyArmours/BodyDexInt4C.webp'}\n"
     ]
    },
    {
     "name": "stderr",
     "output_type": "stream",
     "text": [
      " 98%|█████████▊| 104/106 [01:04<00:01,  1.53it/s]"
     ]
    },
    {
     "name": "stdout",
     "output_type": "stream",
     "text": [
      "{'base:': 'Sacrificial Garb', 'icon': 'https://cdn.poedb.tw/image/Art/2DItems/Armours/BodyArmours/SacrificialGarb.webp'}\n"
     ]
    },
    {
     "name": "stderr",
     "output_type": "stream",
     "text": [
      " 99%|█████████▉| 105/106 [01:04<00:00,  1.72it/s]"
     ]
    },
    {
     "name": "stdout",
     "output_type": "stream",
     "text": [
      "{'base:': 'Golden Mantle', 'icon': 'https://cdn.poedb.tw/image/Art/2DItems/Armours/BodyArmours/DemigodsArmour.webp'}\n"
     ]
    },
    {
     "name": "stderr",
     "output_type": "stream",
     "text": [
      "100%|██████████| 106/106 [01:04<00:00,  1.63it/s]"
     ]
    },
    {
     "name": "stdout",
     "output_type": "stream",
     "text": [
      "{'base:': 'Grasping Mail', 'icon': 'https://cdn.poedb.tw/image/Art/2DItems/Armours/BodyArmours/GraspingMail.webp'}\n",
      "https://poedb.tw/us/Helmets#HelmetsItem\n"
     ]
    },
    {
     "name": "stderr",
     "output_type": "stream",
     "text": [
      "\n",
      "  1%|▏         | 1/78 [00:00<00:30,  2.51it/s]"
     ]
    },
    {
     "name": "stdout",
     "output_type": "stream",
     "text": [
      "{'base:': 'Iron Hat', 'icon': 'https://cdn.poedb.tw/image/Art/2DItems/Armours/Helmets/HelmetStr1.webp'}\n"
     ]
    },
    {
     "name": "stderr",
     "output_type": "stream",
     "text": [
      "  3%|▎         | 2/78 [00:00<00:31,  2.44it/s]"
     ]
    },
    {
     "name": "stdout",
     "output_type": "stream",
     "text": [
      "{'base:': 'Cone Helmet', 'icon': 'https://cdn.poedb.tw/image/Art/2DItems/Armours/Helmets/HelmetStr2.webp'}\n"
     ]
    },
    {
     "name": "stderr",
     "output_type": "stream",
     "text": [
      "  4%|▍         | 3/78 [00:01<00:30,  2.45it/s]"
     ]
    },
    {
     "name": "stdout",
     "output_type": "stream",
     "text": [
      "{'base:': 'Barbute Helmet', 'icon': 'https://cdn.poedb.tw/image/Art/2DItems/Armours/Helmets/HelmetStr3.webp'}\n"
     ]
    },
    {
     "name": "stderr",
     "output_type": "stream",
     "text": [
      "  5%|▌         | 4/78 [00:02<00:47,  1.55it/s]"
     ]
    },
    {
     "name": "stdout",
     "output_type": "stream",
     "text": [
      "{'base:': 'Close Helmet', 'icon': 'https://cdn.poedb.tw/image/Art/2DItems/Armours/Helmets/HelmetStr4.webp'}\n"
     ]
    },
    {
     "name": "stderr",
     "output_type": "stream",
     "text": [
      "  6%|▋         | 5/78 [00:02<00:40,  1.78it/s]"
     ]
    },
    {
     "name": "stdout",
     "output_type": "stream",
     "text": [
      "{'base:': 'Gladiator Helmet', 'icon': 'https://cdn.poedb.tw/image/Art/2DItems/Armours/Helmets/HelmetStr5.webp'}\n"
     ]
    },
    {
     "name": "stderr",
     "output_type": "stream",
     "text": [
      "  8%|▊         | 6/78 [00:03<00:51,  1.40it/s]"
     ]
    },
    {
     "name": "stdout",
     "output_type": "stream",
     "text": [
      "{'base:': 'Reaver Helmet', 'icon': 'https://cdn.poedb.tw/image/Art/2DItems/Armours/Helmets/HelmetStr6.webp'}\n"
     ]
    },
    {
     "name": "stderr",
     "output_type": "stream",
     "text": [
      "  9%|▉         | 7/78 [00:04<00:57,  1.24it/s]"
     ]
    },
    {
     "name": "stdout",
     "output_type": "stream",
     "text": [
      "{'base:': 'Siege Helmet', 'icon': 'https://cdn.poedb.tw/image/Art/2DItems/Armours/Helmets/HelmetStr7.webp'}\n"
     ]
    },
    {
     "name": "stderr",
     "output_type": "stream",
     "text": [
      " 10%|█         | 8/78 [00:05<01:02,  1.12it/s]"
     ]
    },
    {
     "name": "stdout",
     "output_type": "stream",
     "text": [
      "{'base:': 'Samnite Helmet', 'icon': 'https://cdn.poedb.tw/image/Art/2DItems/Armours/Helmets/HelmetStr8.webp'}\n"
     ]
    },
    {
     "name": "stderr",
     "output_type": "stream",
     "text": [
      " 12%|█▏        | 9/78 [00:06<00:51,  1.34it/s]"
     ]
    },
    {
     "name": "stdout",
     "output_type": "stream",
     "text": [
      "{'base:': 'Ezomyte Burgonet', 'icon': 'https://cdn.poedb.tw/image/Art/2DItems/Armours/Helmets/HelmetStr9.webp'}\n"
     ]
    },
    {
     "name": "stderr",
     "output_type": "stream",
     "text": [
      " 13%|█▎        | 10/78 [00:07<00:56,  1.21it/s]"
     ]
    },
    {
     "name": "stdout",
     "output_type": "stream",
     "text": [
      "{'base:': 'Royal Burgonet', 'icon': 'https://cdn.poedb.tw/image/Art/2DItems/Armours/Helmets/HelmetStr10.webp'}\n"
     ]
    },
    {
     "name": "stderr",
     "output_type": "stream",
     "text": [
      " 14%|█▍        | 11/78 [00:08<00:58,  1.14it/s]"
     ]
    },
    {
     "name": "stdout",
     "output_type": "stream",
     "text": [
      "{'base:': 'Eternal Burgonet', 'icon': 'https://cdn.poedb.tw/image/Art/2DItems/Armours/Helmets/HelmetStr11.webp'}\n"
     ]
    },
    {
     "name": "stderr",
     "output_type": "stream",
     "text": [
      " 15%|█▌        | 12/78 [00:09<01:01,  1.08it/s]"
     ]
    },
    {
     "name": "stdout",
     "output_type": "stream",
     "text": [
      "{'base:': 'Leather Cap', 'icon': 'https://cdn.poedb.tw/image/Art/2DItems/Armours/Helmets/HelmetDex1.webp'}\n"
     ]
    },
    {
     "name": "stderr",
     "output_type": "stream",
     "text": [
      " 17%|█▋        | 13/78 [00:09<00:49,  1.31it/s]"
     ]
    },
    {
     "name": "stdout",
     "output_type": "stream",
     "text": [
      "{'base:': 'Tricorne', 'icon': 'https://cdn.poedb.tw/image/Art/2DItems/Armours/Helmets/HelmetDex2.webp'}\n"
     ]
    },
    {
     "name": "stderr",
     "output_type": "stream",
     "text": [
      " 18%|█▊        | 14/78 [00:10<00:42,  1.51it/s]"
     ]
    },
    {
     "name": "stdout",
     "output_type": "stream",
     "text": [
      "{'base:': 'Leather Hood', 'icon': 'https://cdn.poedb.tw/image/Art/2DItems/Armours/Helmets/HelmetDex3.webp'}\n"
     ]
    },
    {
     "name": "stderr",
     "output_type": "stream",
     "text": [
      " 19%|█▉        | 15/78 [00:11<00:48,  1.30it/s]"
     ]
    },
    {
     "name": "stdout",
     "output_type": "stream",
     "text": [
      "{'base:': 'Wolf Pelt', 'icon': 'https://cdn.poedb.tw/image/Art/2DItems/Armours/Helmets/HelmetDex4.webp'}\n"
     ]
    },
    {
     "name": "stderr",
     "output_type": "stream",
     "text": [
      " 21%|██        | 16/78 [00:12<00:52,  1.19it/s]"
     ]
    },
    {
     "name": "stdout",
     "output_type": "stream",
     "text": [
      "{'base:': 'Hunter Hood', 'icon': 'https://cdn.poedb.tw/image/Art/2DItems/Armours/Helmets/HelmetDex5.webp'}\n"
     ]
    },
    {
     "name": "stderr",
     "output_type": "stream",
     "text": [
      " 22%|██▏       | 17/78 [00:12<00:43,  1.40it/s]"
     ]
    },
    {
     "name": "stdout",
     "output_type": "stream",
     "text": [
      "{'base:': 'Noble Tricorne', 'icon': 'https://cdn.poedb.tw/image/Art/2DItems/Armours/Helmets/HelmetDex6.webp'}\n"
     ]
    },
    {
     "name": "stderr",
     "output_type": "stream",
     "text": [
      " 23%|██▎       | 18/78 [00:12<00:37,  1.60it/s]"
     ]
    },
    {
     "name": "stdout",
     "output_type": "stream",
     "text": [
      "{'base:': 'Ursine Pelt', 'icon': 'https://cdn.poedb.tw/image/Art/2DItems/Armours/Helmets/HelmetDex7.webp'}\n"
     ]
    },
    {
     "name": "stderr",
     "output_type": "stream",
     "text": [
      " 24%|██▍       | 19/78 [00:13<00:43,  1.36it/s]"
     ]
    },
    {
     "name": "stdout",
     "output_type": "stream",
     "text": [
      "{'base:': 'Silken Hood', 'icon': 'https://cdn.poedb.tw/image/Art/2DItems/Armours/Helmets/HelmetDex8.webp'}\n"
     ]
    },
    {
     "name": "stderr",
     "output_type": "stream",
     "text": [
      " 26%|██▌       | 20/78 [00:14<00:36,  1.58it/s]"
     ]
    },
    {
     "name": "stdout",
     "output_type": "stream",
     "text": [
      "{'base:': 'Sinner Tricorne', 'icon': 'https://cdn.poedb.tw/image/Art/2DItems/Armours/Helmets/HelmetDex9.webp'}\n"
     ]
    },
    {
     "name": "stderr",
     "output_type": "stream",
     "text": [
      " 27%|██▋       | 21/78 [00:14<00:32,  1.76it/s]"
     ]
    },
    {
     "name": "stdout",
     "output_type": "stream",
     "text": [
      "{'base:': 'Lion Pelt', 'icon': 'https://cdn.poedb.tw/image/Art/2DItems/Armours/Helmets/HelmetDex10.webp'}\n"
     ]
    },
    {
     "name": "stderr",
     "output_type": "stream",
     "text": [
      " 28%|██▊       | 22/78 [00:15<00:29,  1.93it/s]"
     ]
    },
    {
     "name": "stdout",
     "output_type": "stream",
     "text": [
      "{'base:': 'Vine Circlet', 'icon': 'https://cdn.poedb.tw/image/Art/2DItems/Armours/Helmets/HelmetInt1.webp'}\n"
     ]
    },
    {
     "name": "stderr",
     "output_type": "stream",
     "text": [
      " 29%|██▉       | 23/78 [00:16<00:36,  1.52it/s]"
     ]
    },
    {
     "name": "stdout",
     "output_type": "stream",
     "text": [
      "{'base:': 'Iron Circlet', 'icon': 'https://cdn.poedb.tw/image/Art/2DItems/Armours/Helmets/HelmetInt2.webp'}\n"
     ]
    },
    {
     "name": "stderr",
     "output_type": "stream",
     "text": [
      " 31%|███       | 24/78 [00:17<00:41,  1.31it/s]"
     ]
    },
    {
     "name": "stdout",
     "output_type": "stream",
     "text": [
      "{'base:': 'Torture Cage', 'icon': 'https://cdn.poedb.tw/image/Art/2DItems/Armours/Helmets/HelmetInt3.webp'}\n"
     ]
    },
    {
     "name": "stderr",
     "output_type": "stream",
     "text": [
      " 32%|███▏      | 25/78 [00:17<00:34,  1.53it/s]"
     ]
    },
    {
     "name": "stdout",
     "output_type": "stream",
     "text": [
      "{'base:': 'Tribal Circlet', 'icon': 'https://cdn.poedb.tw/image/Art/2DItems/Armours/Helmets/HelmetInt4.webp'}\n"
     ]
    },
    {
     "name": "stderr",
     "output_type": "stream",
     "text": [
      " 33%|███▎      | 26/78 [00:17<00:30,  1.71it/s]"
     ]
    },
    {
     "name": "stdout",
     "output_type": "stream",
     "text": [
      "{'base:': 'Bone Circlet', 'icon': 'https://cdn.poedb.tw/image/Art/2DItems/Armours/Helmets/HelmetInt5.webp'}\n"
     ]
    },
    {
     "name": "stderr",
     "output_type": "stream",
     "text": [
      " 35%|███▍      | 27/78 [00:18<00:36,  1.40it/s]"
     ]
    },
    {
     "name": "stdout",
     "output_type": "stream",
     "text": [
      "{'base:': 'Lunaris Circlet', 'icon': 'https://cdn.poedb.tw/image/Art/2DItems/Armours/Helmets/HelmetInt6.webp'}\n"
     ]
    },
    {
     "name": "stderr",
     "output_type": "stream",
     "text": [
      " 36%|███▌      | 28/78 [00:19<00:31,  1.61it/s]"
     ]
    },
    {
     "name": "stdout",
     "output_type": "stream",
     "text": [
      "{'base:': 'Steel Circlet', 'icon': 'https://cdn.poedb.tw/image/Art/2DItems/Armours/Helmets/HelmetInt7.webp'}\n"
     ]
    },
    {
     "name": "stderr",
     "output_type": "stream",
     "text": [
      " 37%|███▋      | 29/78 [00:19<00:27,  1.79it/s]"
     ]
    },
    {
     "name": "stdout",
     "output_type": "stream",
     "text": [
      "{'base:': 'Necromancer Circlet', 'icon': 'https://cdn.poedb.tw/image/Art/2DItems/Armours/Helmets/HelmetInt8.webp'}\n"
     ]
    },
    {
     "name": "stderr",
     "output_type": "stream",
     "text": [
      " 38%|███▊      | 30/78 [00:20<00:33,  1.42it/s]"
     ]
    },
    {
     "name": "stdout",
     "output_type": "stream",
     "text": [
      "{'base:': 'Solaris Circlet', 'icon': 'https://cdn.poedb.tw/image/Art/2DItems/Armours/Helmets/HelmetInt9.webp'}\n"
     ]
    },
    {
     "name": "stderr",
     "output_type": "stream",
     "text": [
      " 40%|███▉      | 31/78 [00:21<00:29,  1.62it/s]"
     ]
    },
    {
     "name": "stdout",
     "output_type": "stream",
     "text": [
      "{'base:': 'Mind Cage', 'icon': 'https://cdn.poedb.tw/image/Art/2DItems/Armours/Helmets/HelmetInt10.webp'}\n"
     ]
    },
    {
     "name": "stderr",
     "output_type": "stream",
     "text": [
      " 41%|████      | 32/78 [00:22<00:34,  1.35it/s]"
     ]
    },
    {
     "name": "stdout",
     "output_type": "stream",
     "text": [
      "{'base:': 'Hubris Circlet', 'icon': 'https://cdn.poedb.tw/image/Art/2DItems/Armours/Helmets/HelmetInt11.webp'}\n"
     ]
    },
    {
     "name": "stderr",
     "output_type": "stream",
     "text": [
      " 42%|████▏     | 33/78 [00:22<00:28,  1.56it/s]"
     ]
    },
    {
     "name": "stdout",
     "output_type": "stream",
     "text": [
      "{'base:': 'Battered Helm', 'icon': 'https://cdn.poedb.tw/image/Art/2DItems/Armours/Helmets/HelmetStrDex1.webp'}\n"
     ]
    },
    {
     "name": "stderr",
     "output_type": "stream",
     "text": [
      " 44%|████▎     | 34/78 [00:23<00:32,  1.33it/s]"
     ]
    },
    {
     "name": "stdout",
     "output_type": "stream",
     "text": [
      "{'base:': 'Sallet', 'icon': 'https://cdn.poedb.tw/image/Art/2DItems/Armours/Helmets/HelmetStrDex2.webp'}\n"
     ]
    },
    {
     "name": "stderr",
     "output_type": "stream",
     "text": [
      " 45%|████▍     | 35/78 [00:24<00:28,  1.53it/s]"
     ]
    },
    {
     "name": "stdout",
     "output_type": "stream",
     "text": [
      "{'base:': 'Visored Sallet', 'icon': 'https://cdn.poedb.tw/image/Art/2DItems/Armours/Helmets/HelmetStrDex3.webp'}\n"
     ]
    },
    {
     "name": "stderr",
     "output_type": "stream",
     "text": [
      " 46%|████▌     | 36/78 [00:24<00:24,  1.71it/s]"
     ]
    },
    {
     "name": "stdout",
     "output_type": "stream",
     "text": [
      "{'base:': 'Gilded Sallet', 'icon': 'https://cdn.poedb.tw/image/Art/2DItems/Armours/Helmets/HelmetStrDex4.webp'}\n"
     ]
    },
    {
     "name": "stderr",
     "output_type": "stream",
     "text": [
      " 47%|████▋     | 37/78 [00:25<00:29,  1.41it/s]"
     ]
    },
    {
     "name": "stdout",
     "output_type": "stream",
     "text": [
      "{'base:': 'Secutor Helm', 'icon': 'https://cdn.poedb.tw/image/Art/2DItems/Armours/Helmets/HelmetStrDex5.webp'}\n"
     ]
    },
    {
     "name": "stderr",
     "output_type": "stream",
     "text": [
      " 49%|████▊     | 38/78 [00:26<00:31,  1.26it/s]"
     ]
    },
    {
     "name": "stdout",
     "output_type": "stream",
     "text": [
      "{'base:': 'Fencer Helm', 'icon': 'https://cdn.poedb.tw/image/Art/2DItems/Armours/Helmets/HelmetStrDex6.webp'}\n"
     ]
    },
    {
     "name": "stderr",
     "output_type": "stream",
     "text": [
      " 50%|█████     | 39/78 [00:26<00:26,  1.45it/s]"
     ]
    },
    {
     "name": "stdout",
     "output_type": "stream",
     "text": [
      "{'base:': 'Lacquered Helmet', 'icon': 'https://cdn.poedb.tw/image/Art/2DItems/Armours/Helmets/HelmetStrDex7.webp'}\n"
     ]
    },
    {
     "name": "stderr",
     "output_type": "stream",
     "text": [
      " 51%|█████▏    | 40/78 [00:27<00:23,  1.64it/s]"
     ]
    },
    {
     "name": "stdout",
     "output_type": "stream",
     "text": [
      "{'base:': 'Fluted Bascinet', 'icon': 'https://cdn.poedb.tw/image/Art/2DItems/Armours/Helmets/HelmetStrDex8.webp'}\n"
     ]
    },
    {
     "name": "stderr",
     "output_type": "stream",
     "text": [
      " 53%|█████▎    | 41/78 [00:27<00:20,  1.81it/s]"
     ]
    },
    {
     "name": "stdout",
     "output_type": "stream",
     "text": [
      "{'base:': 'Pig-Faced Bascinet', 'icon': 'https://cdn.poedb.tw/image/Art/2DItems/Armours/Helmets/HelmetStrDex9.webp'}\n"
     ]
    },
    {
     "name": "stderr",
     "output_type": "stream",
     "text": [
      " 54%|█████▍    | 42/78 [00:28<00:18,  1.94it/s]"
     ]
    },
    {
     "name": "stdout",
     "output_type": "stream",
     "text": [
      "{'base:': 'Nightmare Bascinet', 'icon': 'https://cdn.poedb.tw/image/Art/2DItems/Armours/Helmets/HelmetStrDex10.webp'}\n"
     ]
    },
    {
     "name": "stderr",
     "output_type": "stream",
     "text": [
      " 55%|█████▌    | 43/78 [00:28<00:17,  2.05it/s]"
     ]
    },
    {
     "name": "stdout",
     "output_type": "stream",
     "text": [
      "{'base:': 'Sorrow Mask', 'icon': 'https://cdn.poedb.tw/image/Art/2DItems/Armours/Helmets/HelmetStrDexR.webp'}\n"
     ]
    },
    {
     "name": "stderr",
     "output_type": "stream",
     "text": [
      " 56%|█████▋    | 44/78 [00:29<00:22,  1.54it/s]"
     ]
    },
    {
     "name": "stdout",
     "output_type": "stream",
     "text": [
      "{'base:': 'Atonement Mask', 'icon': 'https://cdn.poedb.tw/image/Art/2DItems/Armours/Helmets/HelmetStrDexR.webp'}\n"
     ]
    },
    {
     "name": "stderr",
     "output_type": "stream",
     "text": [
      " 58%|█████▊    | 45/78 [00:30<00:18,  1.74it/s]"
     ]
    },
    {
     "name": "stdout",
     "output_type": "stream",
     "text": [
      "{'base:': 'Penitent Mask', 'icon': 'https://cdn.poedb.tw/image/Art/2DItems/Armours/Helmets/HelmetStrDexR.webp'}\n"
     ]
    },
    {
     "name": "stderr",
     "output_type": "stream",
     "text": [
      " 59%|█████▉    | 46/78 [00:31<00:22,  1.41it/s]"
     ]
    },
    {
     "name": "stdout",
     "output_type": "stream",
     "text": [
      "{'base:': 'Rusted Coif', 'icon': 'https://cdn.poedb.tw/image/Art/2DItems/Armours/Helmets/HelmetStrInt1.webp'}\n"
     ]
    },
    {
     "name": "stderr",
     "output_type": "stream",
     "text": [
      " 60%|██████    | 47/78 [00:31<00:19,  1.61it/s]"
     ]
    },
    {
     "name": "stdout",
     "output_type": "stream",
     "text": [
      "{'base:': 'Soldier Helmet', 'icon': 'https://cdn.poedb.tw/image/Art/2DItems/Armours/Helmets/HelmetStrInt2.webp'}\n"
     ]
    },
    {
     "name": "stderr",
     "output_type": "stream",
     "text": [
      " 62%|██████▏   | 48/78 [00:31<00:16,  1.78it/s]"
     ]
    },
    {
     "name": "stdout",
     "output_type": "stream",
     "text": [
      "{'base:': 'Great Helmet', 'icon': 'https://cdn.poedb.tw/image/Art/2DItems/Armours/Helmets/HelmetStrInt3.webp'}\n"
     ]
    },
    {
     "name": "stderr",
     "output_type": "stream",
     "text": [
      " 63%|██████▎   | 49/78 [00:32<00:15,  1.91it/s]"
     ]
    },
    {
     "name": "stdout",
     "output_type": "stream",
     "text": [
      "{'base:': 'Crusader Helmet', 'icon': 'https://cdn.poedb.tw/image/Art/2DItems/Effects/Hats/CrusaderHelmet.webp'}\n"
     ]
    },
    {
     "name": "stderr",
     "output_type": "stream",
     "text": [
      " 64%|██████▍   | 50/78 [00:32<00:13,  2.06it/s]"
     ]
    },
    {
     "name": "stdout",
     "output_type": "stream",
     "text": [
      "{'base:': 'Aventail Helmet', 'icon': 'https://cdn.poedb.tw/image/Art/2DItems/Armours/Helmets/HelmetStrInt5.webp'}\n"
     ]
    },
    {
     "name": "stderr",
     "output_type": "stream",
     "text": [
      " 65%|██████▌   | 51/78 [00:33<00:17,  1.56it/s]"
     ]
    },
    {
     "name": "stdout",
     "output_type": "stream",
     "text": [
      "{'base:': 'Zealot Helmet', 'icon': 'https://cdn.poedb.tw/image/Art/2DItems/Armours/Helmets/HelmetStrInt6.webp'}\n"
     ]
    },
    {
     "name": "stderr",
     "output_type": "stream",
     "text": [
      " 67%|██████▋   | 52/78 [00:34<00:14,  1.76it/s]"
     ]
    },
    {
     "name": "stdout",
     "output_type": "stream",
     "text": [
      "{'base:': 'Great Crown', 'icon': 'https://cdn.poedb.tw/image/Art/2DItems/Armours/Helmets/HelmetStrInt7.webp'}\n"
     ]
    },
    {
     "name": "stderr",
     "output_type": "stream",
     "text": [
      " 68%|██████▊   | 53/78 [00:34<00:12,  1.95it/s]"
     ]
    },
    {
     "name": "stdout",
     "output_type": "stream",
     "text": [
      "{'base:': 'Magistrate Crown', 'icon': 'https://cdn.poedb.tw/image/Art/2DItems/Armours/Helmets/HelmetStrInt8.webp'}\n"
     ]
    },
    {
     "name": "stderr",
     "output_type": "stream",
     "text": [
      " 69%|██████▉   | 54/78 [00:34<00:11,  2.07it/s]"
     ]
    },
    {
     "name": "stdout",
     "output_type": "stream",
     "text": [
      "{'base:': 'Prophet Crown', 'icon': 'https://cdn.poedb.tw/image/Art/2DItems/Armours/Helmets/HelmetStrInt9.webp'}\n"
     ]
    },
    {
     "name": "stderr",
     "output_type": "stream",
     "text": [
      " 71%|███████   | 55/78 [00:35<00:14,  1.58it/s]"
     ]
    },
    {
     "name": "stdout",
     "output_type": "stream",
     "text": [
      "{'base:': 'Praetor Crown', 'icon': 'https://cdn.poedb.tw/image/Art/2DItems/Armours/Helmets/HelmetStrInt10.webp'}\n"
     ]
    },
    {
     "name": "stderr",
     "output_type": "stream",
     "text": [
      " 72%|███████▏  | 56/78 [00:36<00:12,  1.78it/s]"
     ]
    },
    {
     "name": "stdout",
     "output_type": "stream",
     "text": [
      "{'base:': 'Imp Crown', 'icon': 'https://cdn.poedb.tw/image/Art/2DItems/Armours/Helmets/MaskCrown.webp'}\n"
     ]
    },
    {
     "name": "stderr",
     "output_type": "stream",
     "text": [
      " 73%|███████▎  | 57/78 [00:36<00:10,  1.95it/s]"
     ]
    },
    {
     "name": "stdout",
     "output_type": "stream",
     "text": [
      "{'base:': 'Demon Crown', 'icon': 'https://cdn.poedb.tw/image/Art/2DItems/Armours/Helmets/MaskCrown.webp'}\n"
     ]
    },
    {
     "name": "stderr",
     "output_type": "stream",
     "text": [
      " 74%|███████▍  | 58/78 [00:37<00:09,  2.08it/s]"
     ]
    },
    {
     "name": "stdout",
     "output_type": "stream",
     "text": [
      "{'base:': 'Archdemon Crown', 'icon': 'https://cdn.poedb.tw/image/Art/2DItems/Armours/Helmets/MaskCrown.webp'}\n"
     ]
    },
    {
     "name": "stderr",
     "output_type": "stream",
     "text": [
      " 76%|███████▌  | 59/78 [00:38<00:12,  1.56it/s]"
     ]
    },
    {
     "name": "stdout",
     "output_type": "stream",
     "text": [
      "{'base:': 'Scare Mask', 'icon': 'https://cdn.poedb.tw/image/Art/2DItems/Armours/Helmets/HelmetDexInt1.webp'}\n"
     ]
    },
    {
     "name": "stderr",
     "output_type": "stream",
     "text": [
      " 77%|███████▋  | 60/78 [00:38<00:10,  1.76it/s]"
     ]
    },
    {
     "name": "stdout",
     "output_type": "stream",
     "text": [
      "{'base:': 'Plague Mask', 'icon': 'https://cdn.poedb.tw/image/Art/2DItems/Armours/Helmets/HelmetDexInt2.webp'}\n"
     ]
    },
    {
     "name": "stderr",
     "output_type": "stream",
     "text": [
      " 78%|███████▊  | 61/78 [00:38<00:08,  1.92it/s]"
     ]
    },
    {
     "name": "stdout",
     "output_type": "stream",
     "text": [
      "{'base:': 'Iron Mask', 'icon': 'https://cdn.poedb.tw/image/Art/2DItems/Armours/Helmets/HelmetDexInt3.webp'}\n"
     ]
    },
    {
     "name": "stderr",
     "output_type": "stream",
     "text": [
      " 79%|███████▉  | 62/78 [00:39<00:10,  1.50it/s]"
     ]
    },
    {
     "name": "stdout",
     "output_type": "stream",
     "text": [
      "{'base:': 'Festival Mask', 'icon': 'https://cdn.poedb.tw/image/Art/2DItems/Armours/Helmets/HelmetDexInt4.webp'}\n"
     ]
    },
    {
     "name": "stderr",
     "output_type": "stream",
     "text": [
      " 81%|████████  | 63/78 [00:40<00:08,  1.69it/s]"
     ]
    },
    {
     "name": "stdout",
     "output_type": "stream",
     "text": [
      "{'base:': 'Golden Mask', 'icon': 'https://cdn.poedb.tw/image/Art/2DItems/Armours/Helmets/HelmetDexInt5.webp'}\n"
     ]
    },
    {
     "name": "stderr",
     "output_type": "stream",
     "text": [
      " 82%|████████▏ | 64/78 [00:40<00:07,  1.88it/s]"
     ]
    },
    {
     "name": "stdout",
     "output_type": "stream",
     "text": [
      "{'base:': 'Raven Mask', 'icon': 'https://cdn.poedb.tw/image/Art/2DItems/Armours/Helmets/HelmetDexInt6.webp'}\n"
     ]
    },
    {
     "name": "stderr",
     "output_type": "stream",
     "text": [
      " 83%|████████▎ | 65/78 [00:41<00:06,  2.01it/s]"
     ]
    },
    {
     "name": "stdout",
     "output_type": "stream",
     "text": [
      "{'base:': 'Callous Mask', 'icon': 'https://cdn.poedb.tw/image/Art/2DItems/Armours/Helmets/HelmetDexInt7.webp'}\n"
     ]
    },
    {
     "name": "stderr",
     "output_type": "stream",
     "text": [
      " 85%|████████▍ | 66/78 [00:42<00:07,  1.52it/s]"
     ]
    },
    {
     "name": "stdout",
     "output_type": "stream",
     "text": [
      "{'base:': 'Regicide Mask', 'icon': 'https://cdn.poedb.tw/image/Art/2DItems/Armours/Helmets/HelmetDexInt8.webp'}\n"
     ]
    },
    {
     "name": "stderr",
     "output_type": "stream",
     "text": [
      " 86%|████████▌ | 67/78 [00:42<00:06,  1.72it/s]"
     ]
    },
    {
     "name": "stdout",
     "output_type": "stream",
     "text": [
      "{'base:': 'Harlequin Mask', 'icon': 'https://cdn.poedb.tw/image/Art/2DItems/Armours/Helmets/HelmetDexInt9.webp'}\n"
     ]
    },
    {
     "name": "stderr",
     "output_type": "stream",
     "text": [
      " 87%|████████▋ | 68/78 [00:43<00:07,  1.41it/s]"
     ]
    },
    {
     "name": "stdout",
     "output_type": "stream",
     "text": [
      "{'base:': 'Vaal Mask', 'icon': 'https://cdn.poedb.tw/image/Art/2DItems/Armours/Helmets/HelmetDexInt10.webp'}\n"
     ]
    },
    {
     "name": "stderr",
     "output_type": "stream",
     "text": [
      " 88%|████████▊ | 69/78 [00:44<00:07,  1.23it/s]"
     ]
    },
    {
     "name": "stdout",
     "output_type": "stream",
     "text": [
      "{'base:': 'Deicide Mask', 'icon': 'https://cdn.poedb.tw/image/Art/2DItems/Armours/Helmets/HelmetDexInt11.webp'}\n"
     ]
    },
    {
     "name": "stderr",
     "output_type": "stream",
     "text": [
      " 90%|████████▉ | 70/78 [00:45<00:05,  1.45it/s]"
     ]
    },
    {
     "name": "stdout",
     "output_type": "stream",
     "text": [
      "{'base:': 'Gale Crown', 'icon': 'https://cdn.poedb.tw/image/Art/2DItems/Armours/Helmets/HelmetDexIntR.webp'}\n"
     ]
    },
    {
     "name": "stderr",
     "output_type": "stream",
     "text": [
      " 91%|█████████ | 71/78 [00:46<00:05,  1.25it/s]"
     ]
    },
    {
     "name": "stdout",
     "output_type": "stream",
     "text": [
      "{'base:': 'Winter Crown', 'icon': 'https://cdn.poedb.tw/image/Art/2DItems/Armours/Helmets/HelmetDexIntR.webp'}\n"
     ]
    },
    {
     "name": "stderr",
     "output_type": "stream",
     "text": [
      " 92%|█████████▏| 72/78 [00:46<00:04,  1.47it/s]"
     ]
    },
    {
     "name": "stdout",
     "output_type": "stream",
     "text": [
      "{'base:': 'Blizzard Crown', 'icon': 'https://cdn.poedb.tw/image/Art/2DItems/Armours/Helmets/HelmetDexIntR.webp'}\n"
     ]
    },
    {
     "name": "stderr",
     "output_type": "stream",
     "text": [
      " 94%|█████████▎| 73/78 [00:46<00:03,  1.66it/s]"
     ]
    },
    {
     "name": "stdout",
     "output_type": "stream",
     "text": [
      "{'base:': 'Golden Wreath', 'icon': 'https://cdn.poedb.tw/image/Art/2DItems/Armours/Helmets/Demigodstriumph.webp'}\n"
     ]
    },
    {
     "name": "stderr",
     "output_type": "stream",
     "text": [
      " 95%|█████████▍| 74/78 [00:47<00:02,  1.81it/s]"
     ]
    },
    {
     "name": "stdout",
     "output_type": "stream",
     "text": [
      "{'base:': 'Golden Visage', 'icon': 'https://cdn.poedb.tw/image/Art/2DItems/Armours/Helmets/DemigodsImmortality.webp'}\n"
     ]
    },
    {
     "name": "stderr",
     "output_type": "stream",
     "text": [
      " 96%|█████████▌| 75/78 [00:47<00:01,  2.00it/s]"
     ]
    },
    {
     "name": "stdout",
     "output_type": "stream",
     "text": [
      "{'base:': 'Bone Helmet', 'icon': 'https://cdn.poedb.tw/image/Art/2DItems/Armours/Helmets/BoneHelm.webp'}\n"
     ]
    },
    {
     "name": "stderr",
     "output_type": "stream",
     "text": [
      " 97%|█████████▋| 76/78 [00:48<00:01,  1.52it/s]"
     ]
    },
    {
     "name": "stdout",
     "output_type": "stream",
     "text": [
      "{'base:': 'Runic Helm', 'icon': 'https://cdn.poedb.tw/image/Art/2DItems/Armours/Helmets/SpiritHelmetBaseType.webp'}\n"
     ]
    },
    {
     "name": "stderr",
     "output_type": "stream",
     "text": [
      " 99%|█████████▊| 77/78 [00:49<00:00,  1.72it/s]"
     ]
    },
    {
     "name": "stdout",
     "output_type": "stream",
     "text": [
      "{'base:': 'Runic Crest', 'icon': 'https://cdn.poedb.tw/image/Art/2DItems/Armours/Helmets/SpiritHelmetBaseType.webp'}\n"
     ]
    },
    {
     "name": "stderr",
     "output_type": "stream",
     "text": [
      "100%|██████████| 78/78 [00:49<00:00,  1.56it/s]"
     ]
    },
    {
     "name": "stdout",
     "output_type": "stream",
     "text": [
      "{'base:': 'Runic Crown', 'icon': 'https://cdn.poedb.tw/image/Art/2DItems/Armours/Helmets/SpiritHelmetBaseType.webp'}\n",
      "https://poedb.tw/us/Amulets#AmuletsItem\n"
     ]
    },
    {
     "name": "stderr",
     "output_type": "stream",
     "text": [
      "\n",
      "  2%|▏         | 1/54 [00:00<00:22,  2.31it/s]"
     ]
    },
    {
     "name": "stdout",
     "output_type": "stream",
     "text": [
      "{'base:': 'Paua Amulet', 'icon': 'https://cdn.poedb.tw/image/Art/2DItems/Amulets/Amulet1.webp'}\n"
     ]
    },
    {
     "name": "stderr",
     "output_type": "stream",
     "text": [
      "  4%|▎         | 2/54 [00:01<00:40,  1.28it/s]"
     ]
    },
    {
     "name": "stdout",
     "output_type": "stream",
     "text": [
      "{'base:': 'Coral Amulet', 'icon': 'https://cdn.poedb.tw/image/Art/2DItems/Amulets/Amulet2.webp'}\n"
     ]
    },
    {
     "name": "stderr",
     "output_type": "stream",
     "text": [
      "  6%|▌         | 3/54 [00:02<00:45,  1.12it/s]"
     ]
    },
    {
     "name": "stdout",
     "output_type": "stream",
     "text": [
      "{'base:': 'Amber Amulet', 'icon': 'https://cdn.poedb.tw/image/Art/2DItems/Amulets/Amulet3.webp'}\n"
     ]
    },
    {
     "name": "stderr",
     "output_type": "stream",
     "text": [
      "  7%|▋         | 4/54 [00:03<00:46,  1.07it/s]"
     ]
    },
    {
     "name": "stdout",
     "output_type": "stream",
     "text": [
      "{'base:': 'Jade Amulet', 'icon': 'https://cdn.poedb.tw/image/Art/2DItems/Amulets/Amulet4.webp'}\n"
     ]
    },
    {
     "name": "stderr",
     "output_type": "stream",
     "text": [
      "  9%|▉         | 5/54 [00:04<00:46,  1.05it/s]"
     ]
    },
    {
     "name": "stdout",
     "output_type": "stream",
     "text": [
      "{'base:': 'Lapis Amulet', 'icon': 'https://cdn.poedb.tw/image/Art/2DItems/Amulets/Amulet5.webp'}\n"
     ]
    },
    {
     "name": "stderr",
     "output_type": "stream",
     "text": [
      " 11%|█         | 6/54 [00:05<00:46,  1.03it/s]"
     ]
    },
    {
     "name": "stdout",
     "output_type": "stream",
     "text": [
      "{'base:': 'Gold Amulet', 'icon': 'https://cdn.poedb.tw/image/Art/2DItems/Amulets/Amulet6.webp'}\n"
     ]
    },
    {
     "name": "stderr",
     "output_type": "stream",
     "text": [
      " 13%|█▎        | 7/54 [00:06<00:50,  1.07s/it]"
     ]
    },
    {
     "name": "stdout",
     "output_type": "stream",
     "text": [
      "{'base:': 'Onyx Amulet', 'icon': 'https://cdn.poedb.tw/image/Art/2DItems/Amulets/Amulet7.webp'}\n"
     ]
    },
    {
     "name": "stderr",
     "output_type": "stream",
     "text": [
      " 15%|█▍        | 8/54 [00:07<00:39,  1.17it/s]"
     ]
    },
    {
     "name": "stdout",
     "output_type": "stream",
     "text": [
      "{'base:': 'Turquoise Amulet', 'icon': 'https://cdn.poedb.tw/image/Art/2DItems/Amulets/TurquoiseAmulet.webp'}\n"
     ]
    },
    {
     "name": "stderr",
     "output_type": "stream",
     "text": [
      " 17%|█▋        | 9/54 [00:08<00:40,  1.11it/s]"
     ]
    },
    {
     "name": "stdout",
     "output_type": "stream",
     "text": [
      "{'base:': 'Agate Amulet', 'icon': 'https://cdn.poedb.tw/image/Art/2DItems/Amulets/AgateAmulet.webp'}\n"
     ]
    },
    {
     "name": "stderr",
     "output_type": "stream",
     "text": [
      " 19%|█▊        | 10/54 [00:09<00:40,  1.08it/s]"
     ]
    },
    {
     "name": "stdout",
     "output_type": "stream",
     "text": [
      "{'base:': 'Citrine Amulet', 'icon': 'https://cdn.poedb.tw/image/Art/2DItems/Amulets/CitrineAmulet.webp'}\n"
     ]
    },
    {
     "name": "stderr",
     "output_type": "stream",
     "text": [
      " 20%|██        | 11/54 [00:10<00:41,  1.04it/s]"
     ]
    },
    {
     "name": "stdout",
     "output_type": "stream",
     "text": [
      "{'base:': 'Ruby Amulet', 'icon': 'https://cdn.poedb.tw/image/Art/2DItems/Amulets/RubyAmulet.webp'}\n"
     ]
    },
    {
     "name": "stderr",
     "output_type": "stream",
     "text": [
      " 22%|██▏       | 12/54 [00:10<00:33,  1.27it/s]"
     ]
    },
    {
     "name": "stdout",
     "output_type": "stream",
     "text": [
      "{'base:': 'Unset Amulet', 'icon': 'https://cdn.poedb.tw/image/Art/2DItems/Amulets/UnsetAmulet.webp'}\n"
     ]
    },
    {
     "name": "stderr",
     "output_type": "stream",
     "text": [
      " 24%|██▍       | 13/54 [00:11<00:35,  1.14it/s]"
     ]
    },
    {
     "name": "stdout",
     "output_type": "stream",
     "text": [
      "{'base:': 'Astrolabe Amulet', 'icon': 'https://cdn.poedb.tw/image/Art/2DItems/Amulets/HeistAmulet1.webp'}\n"
     ]
    },
    {
     "name": "stderr",
     "output_type": "stream",
     "text": [
      " 26%|██▌       | 14/54 [00:12<00:29,  1.35it/s]"
     ]
    },
    {
     "name": "stdout",
     "output_type": "stream",
     "text": [
      "{'base:': 'Simplex Amulet', 'icon': 'https://cdn.poedb.tw/image/Art/2DItems/Amulets/HeistAmulet2.webp'}\n"
     ]
    },
    {
     "name": "stderr",
     "output_type": "stream",
     "text": [
      " 28%|██▊       | 15/54 [00:13<00:32,  1.21it/s]"
     ]
    },
    {
     "name": "stdout",
     "output_type": "stream",
     "text": [
      "{'base:': 'Jet Amulet', 'icon': 'https://cdn.poedb.tw/image/Art/2DItems/Amulets/TalismanoftheVictor.webp'}\n"
     ]
    },
    {
     "name": "stderr",
     "output_type": "stream",
     "text": [
      " 30%|██▉       | 16/54 [00:13<00:26,  1.44it/s]"
     ]
    },
    {
     "name": "stdout",
     "output_type": "stream",
     "text": [
      "{'base:': 'Blue Pearl Amulet', 'icon': 'https://cdn.poedb.tw/image/Art/2DItems/Amulets/BluePearlAmulet.webp'}\n"
     ]
    },
    {
     "name": "stderr",
     "output_type": "stream",
     "text": [
      " 31%|███▏      | 17/54 [00:13<00:22,  1.64it/s]"
     ]
    },
    {
     "name": "stdout",
     "output_type": "stream",
     "text": [
      "{'base:': 'Marble Amulet', 'icon': 'https://cdn.poedb.tw/image/Art/2DItems/Amulets/MarbleAmulet.webp'}\n"
     ]
    },
    {
     "name": "stderr",
     "output_type": "stream",
     "text": [
      " 33%|███▎      | 18/54 [00:14<00:20,  1.79it/s]"
     ]
    },
    {
     "name": "stdout",
     "output_type": "stream",
     "text": [
      "{'base:': 'Seaglass Amulet', 'icon': 'https://cdn.poedb.tw/image/Art/2DItems/Amulets/CrescentAmulet.webp'}\n"
     ]
    },
    {
     "name": "stderr",
     "output_type": "stream",
     "text": [
      " 35%|███▌      | 19/54 [00:15<00:24,  1.45it/s]"
     ]
    },
    {
     "name": "stdout",
     "output_type": "stream",
     "text": [
      "{'base:': 'Royale Onyx Amulet', 'icon': 'https://cdn.poedb.tw/image/Art/2DItems/Amulets/Amulet7.webp'}\n"
     ]
    },
    {
     "name": "stderr",
     "output_type": "stream",
     "text": [
      " 37%|███▋      | 20/54 [00:16<00:26,  1.28it/s]"
     ]
    },
    {
     "name": "stdout",
     "output_type": "stream",
     "text": [
      "{'base:': 'Black Maw Talisman', 'icon': 'https://cdn.poedb.tw/image/Art/2DItems/Amulets/TalismanWhite3.webp'}\n"
     ]
    },
    {
     "name": "stderr",
     "output_type": "stream",
     "text": [
      " 39%|███▉      | 21/54 [00:16<00:21,  1.51it/s]"
     ]
    },
    {
     "name": "stdout",
     "output_type": "stream",
     "text": [
      "{'base:': 'Bonespire Talisman', 'icon': 'https://cdn.poedb.tw/image/Art/2DItems/Amulets/TalismanWhite7.webp'}\n"
     ]
    },
    {
     "name": "stderr",
     "output_type": "stream",
     "text": [
      " 41%|████      | 22/54 [00:17<00:24,  1.29it/s]"
     ]
    },
    {
     "name": "stdout",
     "output_type": "stream",
     "text": [
      "{'base:': 'Ashscale Talisman', 'icon': 'https://cdn.poedb.tw/image/Art/2DItems/Amulets/TalismanWhite8.webp'}\n"
     ]
    },
    {
     "name": "stderr",
     "output_type": "stream",
     "text": [
      " 43%|████▎     | 23/54 [00:18<00:20,  1.48it/s]"
     ]
    },
    {
     "name": "stdout",
     "output_type": "stream",
     "text": [
      "{'base:': 'Lone Antler Talisman', 'icon': 'https://cdn.poedb.tw/image/Art/2DItems/Amulets/TalismanWhite2.webp'}\n"
     ]
    },
    {
     "name": "stderr",
     "output_type": "stream",
     "text": [
      " 44%|████▍     | 24/54 [00:18<00:17,  1.70it/s]"
     ]
    },
    {
     "name": "stdout",
     "output_type": "stream",
     "text": [
      "{'base:': 'Deep One Talisman', 'icon': 'https://cdn.poedb.tw/image/Art/2DItems/Amulets/TalismanWhite5.webp'}\n"
     ]
    },
    {
     "name": "stderr",
     "output_type": "stream",
     "text": [
      " 46%|████▋     | 25/54 [00:18<00:15,  1.86it/s]"
     ]
    },
    {
     "name": "stdout",
     "output_type": "stream",
     "text": [
      "{'base:': 'Breakrib Talisman', 'icon': 'https://cdn.poedb.tw/image/Art/2DItems/Amulets/TalismanWhite1.webp'}\n"
     ]
    },
    {
     "name": "stderr",
     "output_type": "stream",
     "text": [
      " 48%|████▊     | 26/54 [00:19<00:13,  2.03it/s]"
     ]
    },
    {
     "name": "stdout",
     "output_type": "stream",
     "text": [
      "{'base:': 'Deadhand Talisman', 'icon': 'https://cdn.poedb.tw/image/Art/2DItems/Amulets/TalismanWhite4.webp'}\n"
     ]
    },
    {
     "name": "stderr",
     "output_type": "stream",
     "text": [
      " 50%|█████     | 27/54 [00:19<00:12,  2.15it/s]"
     ]
    },
    {
     "name": "stdout",
     "output_type": "stream",
     "text": [
      "{'base:': 'Undying Flesh Talisman', 'icon': 'https://cdn.poedb.tw/image/Art/2DItems/Amulets/TalismanWhite6.webp'}\n"
     ]
    },
    {
     "name": "stderr",
     "output_type": "stream",
     "text": [
      " 52%|█████▏    | 28/54 [00:20<00:16,  1.56it/s]"
     ]
    },
    {
     "name": "stdout",
     "output_type": "stream",
     "text": [
      "{'base:': 'Rot Head Talisman', 'icon': 'https://cdn.poedb.tw/image/Art/2DItems/Amulets/FishTalisman.webp'}\n"
     ]
    },
    {
     "name": "stderr",
     "output_type": "stream",
     "text": [
      " 54%|█████▎    | 29/54 [00:21<00:18,  1.32it/s]"
     ]
    },
    {
     "name": "stdout",
     "output_type": "stream",
     "text": [
      "{'base:': 'Mandible Talisman', 'icon': 'https://cdn.poedb.tw/image/Art/2DItems/Amulets/NewTalisman.webp'}\n"
     ]
    },
    {
     "name": "stderr",
     "output_type": "stream",
     "text": [
      " 56%|█████▌    | 30/54 [00:22<00:20,  1.20it/s]"
     ]
    },
    {
     "name": "stdout",
     "output_type": "stream",
     "text": [
      "{'base:': 'Chrysalis Talisman', 'icon': 'https://cdn.poedb.tw/image/Art/2DItems/Amulets/NewTalisman2.webp'}\n"
     ]
    },
    {
     "name": "stderr",
     "output_type": "stream",
     "text": [
      " 57%|█████▋    | 31/54 [00:23<00:16,  1.40it/s]"
     ]
    },
    {
     "name": "stdout",
     "output_type": "stream",
     "text": [
      "{'base:': 'Writhing Talisman', 'icon': 'https://cdn.poedb.tw/image/Art/2DItems/Amulets/NewTalisman3.webp'}\n"
     ]
    },
    {
     "name": "stderr",
     "output_type": "stream",
     "text": [
      " 59%|█████▉    | 32/54 [00:23<00:13,  1.59it/s]"
     ]
    },
    {
     "name": "stdout",
     "output_type": "stream",
     "text": [
      "{'base:': 'Hexclaw Talisman', 'icon': 'https://cdn.poedb.tw/image/Art/2DItems/Amulets/TalismanBlack6.webp'}\n"
     ]
    },
    {
     "name": "stderr",
     "output_type": "stream",
     "text": [
      " 61%|██████    | 33/54 [00:24<00:11,  1.75it/s]"
     ]
    },
    {
     "name": "stdout",
     "output_type": "stream",
     "text": [
      "{'base:': 'Primal Skull Talisman', 'icon': 'https://cdn.poedb.tw/image/Art/2DItems/Amulets/TalismanBlack7.webp'}\n"
     ]
    },
    {
     "name": "stderr",
     "output_type": "stream",
     "text": [
      " 63%|██████▎   | 34/54 [00:25<00:13,  1.44it/s]"
     ]
    },
    {
     "name": "stdout",
     "output_type": "stream",
     "text": [
      "{'base:': 'Wereclaw Talisman', 'icon': 'https://cdn.poedb.tw/image/Art/2DItems/Amulets/DireClawTalisman.webp'}\n"
     ]
    },
    {
     "name": "stderr",
     "output_type": "stream",
     "text": [
      " 65%|██████▍   | 35/54 [00:25<00:11,  1.66it/s]"
     ]
    },
    {
     "name": "stdout",
     "output_type": "stream",
     "text": [
      "{'base:': 'Splitnewt Talisman', 'icon': 'https://cdn.poedb.tw/image/Art/2DItems/Amulets/TalismanBlack4.webp'}\n"
     ]
    },
    {
     "name": "stderr",
     "output_type": "stream",
     "text": [
      " 67%|██████▋   | 36/54 [00:25<00:09,  1.85it/s]"
     ]
    },
    {
     "name": "stdout",
     "output_type": "stream",
     "text": [
      "{'base:': 'Clutching Talisman', 'icon': 'https://cdn.poedb.tw/image/Art/2DItems/Amulets/TalismanBlack3.webp'}\n"
     ]
    },
    {
     "name": "stderr",
     "output_type": "stream",
     "text": [
      " 69%|██████▊   | 37/54 [00:26<00:11,  1.45it/s]"
     ]
    },
    {
     "name": "stdout",
     "output_type": "stream",
     "text": [
      "{'base:': 'Avian Twins Talisman', 'icon': 'https://cdn.poedb.tw/image/Art/2DItems/Amulets/TalismanBlack2.webp'}\n"
     ]
    },
    {
     "name": "stderr",
     "output_type": "stream",
     "text": [
      " 70%|███████   | 38/54 [00:27<00:09,  1.66it/s]"
     ]
    },
    {
     "name": "stdout",
     "output_type": "stream",
     "text": [
      "{'base:': 'Avian Twins Talisman', 'icon': 'https://cdn.poedb.tw/image/Art/2DItems/Amulets/TalismanBlack2.webp'}\n"
     ]
    },
    {
     "name": "stderr",
     "output_type": "stream",
     "text": [
      " 72%|███████▏  | 39/54 [00:27<00:08,  1.78it/s]"
     ]
    },
    {
     "name": "stdout",
     "output_type": "stream",
     "text": [
      "{'base:': 'Avian Twins Talisman', 'icon': 'https://cdn.poedb.tw/image/Art/2DItems/Amulets/TalismanBlack2.webp'}\n"
     ]
    },
    {
     "name": "stderr",
     "output_type": "stream",
     "text": [
      " 74%|███████▍  | 40/54 [00:28<00:09,  1.43it/s]"
     ]
    },
    {
     "name": "stdout",
     "output_type": "stream",
     "text": [
      "{'base:': 'Avian Twins Talisman', 'icon': 'https://cdn.poedb.tw/image/Art/2DItems/Amulets/TalismanBlack2.webp'}\n"
     ]
    },
    {
     "name": "stderr",
     "output_type": "stream",
     "text": [
      " 76%|███████▌  | 41/54 [00:29<00:08,  1.62it/s]"
     ]
    },
    {
     "name": "stdout",
     "output_type": "stream",
     "text": [
      "{'base:': 'Avian Twins Talisman', 'icon': 'https://cdn.poedb.tw/image/Art/2DItems/Amulets/TalismanBlack2.webp'}\n"
     ]
    },
    {
     "name": "stderr",
     "output_type": "stream",
     "text": [
      " 78%|███████▊  | 42/54 [00:30<00:08,  1.37it/s]"
     ]
    },
    {
     "name": "stdout",
     "output_type": "stream",
     "text": [
      "{'base:': 'Avian Twins Talisman', 'icon': 'https://cdn.poedb.tw/image/Art/2DItems/Amulets/TalismanBlack2.webp'}\n"
     ]
    },
    {
     "name": "stderr",
     "output_type": "stream",
     "text": [
      " 80%|███████▉  | 43/54 [00:31<00:09,  1.15it/s]"
     ]
    },
    {
     "name": "stdout",
     "output_type": "stream",
     "text": [
      "{'base:': 'Fangjaw Talisman', 'icon': 'https://cdn.poedb.tw/image/Art/2DItems/Amulets/TalismanBlack5.webp'}\n"
     ]
    },
    {
     "name": "stderr",
     "output_type": "stream",
     "text": [
      " 81%|████████▏ | 44/54 [00:32<00:10,  1.01s/it]"
     ]
    },
    {
     "name": "stdout",
     "output_type": "stream",
     "text": [
      "{'base:': 'Horned Talisman', 'icon': 'https://cdn.poedb.tw/image/Art/2DItems/Amulets/NewTalisman7.webp'}\n"
     ]
    },
    {
     "name": "stderr",
     "output_type": "stream",
     "text": [
      " 83%|████████▎ | 45/54 [00:33<00:09,  1.02s/it]"
     ]
    },
    {
     "name": "stdout",
     "output_type": "stream",
     "text": [
      "{'base:': 'Spinefuse Talisman', 'icon': 'https://cdn.poedb.tw/image/Art/2DItems/Amulets/TalismanRed3.webp'}\n"
     ]
    },
    {
     "name": "stderr",
     "output_type": "stream",
     "text": [
      " 85%|████████▌ | 46/54 [00:34<00:08,  1.03s/it]"
     ]
    },
    {
     "name": "stdout",
     "output_type": "stream",
     "text": [
      "{'base:': 'Three Rat Talisman', 'icon': 'https://cdn.poedb.tw/image/Art/2DItems/Amulets/TalismanRed7.webp'}\n"
     ]
    },
    {
     "name": "stderr",
     "output_type": "stream",
     "text": [
      " 87%|████████▋ | 47/54 [00:35<00:05,  1.18it/s]"
     ]
    },
    {
     "name": "stdout",
     "output_type": "stream",
     "text": [
      "{'base:': 'Monkey Twins Talisman', 'icon': 'https://cdn.poedb.tw/image/Art/2DItems/Amulets/TalismanRed6.webp'}\n"
     ]
    },
    {
     "name": "stderr",
     "output_type": "stream",
     "text": [
      " 89%|████████▉ | 48/54 [00:36<00:05,  1.10it/s]"
     ]
    },
    {
     "name": "stdout",
     "output_type": "stream",
     "text": [
      "{'base:': 'Longtooth Talisman', 'icon': 'https://cdn.poedb.tw/image/Art/2DItems/Amulets/TalismanRed4.webp'}\n"
     ]
    },
    {
     "name": "stderr",
     "output_type": "stream",
     "text": [
      " 91%|█████████ | 49/54 [00:37<00:04,  1.07it/s]"
     ]
    },
    {
     "name": "stdout",
     "output_type": "stream",
     "text": [
      "{'base:': 'Rotfeather Talisman', 'icon': 'https://cdn.poedb.tw/image/Art/2DItems/Amulets/TalismanRed1.webp'}\n"
     ]
    },
    {
     "name": "stderr",
     "output_type": "stream",
     "text": [
      " 93%|█████████▎| 50/54 [00:37<00:03,  1.26it/s]"
     ]
    },
    {
     "name": "stdout",
     "output_type": "stream",
     "text": [
      "{'base:': 'Monkey Paw Talisman', 'icon': 'https://cdn.poedb.tw/image/Art/2DItems/Amulets/MonkeyPawTalisman.webp'}\n"
     ]
    },
    {
     "name": "stderr",
     "output_type": "stream",
     "text": [
      " 94%|█████████▍| 51/54 [00:38<00:02,  1.49it/s]"
     ]
    },
    {
     "name": "stdout",
     "output_type": "stream",
     "text": [
      "{'base:': 'Monkey Paw Talisman', 'icon': 'https://cdn.poedb.tw/image/Art/2DItems/Amulets/MonkeyPawTalisman.webp'}\n"
     ]
    },
    {
     "name": "stderr",
     "output_type": "stream",
     "text": [
      " 96%|█████████▋| 52/54 [00:39<00:01,  1.29it/s]"
     ]
    },
    {
     "name": "stdout",
     "output_type": "stream",
     "text": [
      "{'base:': 'Monkey Paw Talisman', 'icon': 'https://cdn.poedb.tw/image/Art/2DItems/Amulets/MonkeyPawTalisman.webp'}\n"
     ]
    },
    {
     "name": "stderr",
     "output_type": "stream",
     "text": [
      " 98%|█████████▊| 53/54 [00:39<00:00,  1.51it/s]"
     ]
    },
    {
     "name": "stdout",
     "output_type": "stream",
     "text": [
      "{'base:': 'Three Hands Talisman', 'icon': 'https://cdn.poedb.tw/image/Art/2DItems/Amulets/TalismanRed8.webp'}\n"
     ]
    },
    {
     "name": "stderr",
     "output_type": "stream",
     "text": [
      "100%|██████████| 54/54 [00:40<00:00,  1.35it/s]"
     ]
    },
    {
     "name": "stdout",
     "output_type": "stream",
     "text": [
      "{'base:': 'Greatwolf Talisman', 'icon': 'https://cdn.poedb.tw/image/Art/2DItems/Amulets/T4Talisman.webp'}\n",
      "https://poedb.tw/us/Rings#RingsItem\n"
     ]
    },
    {
     "name": "stderr",
     "output_type": "stream",
     "text": [
      "\n",
      "  3%|▎         | 1/38 [00:00<00:14,  2.51it/s]"
     ]
    },
    {
     "name": "stdout",
     "output_type": "stream",
     "text": [
      "{'base:': 'Golden Hoop', 'icon': 'https://cdn.poedb.tw/image/Art/2DItems/Rings/DemigodsBand.webp'}\n"
     ]
    },
    {
     "name": "stderr",
     "output_type": "stream",
     "text": [
      "  5%|▌         | 2/38 [00:01<00:27,  1.33it/s]"
     ]
    },
    {
     "name": "stdout",
     "output_type": "stream",
     "text": [
      "{'base:': 'Iron Ring', 'icon': 'https://cdn.poedb.tw/image/Art/2DItems/Rings/Ring1.webp'}\n"
     ]
    },
    {
     "name": "stderr",
     "output_type": "stream",
     "text": [
      "  8%|▊         | 3/38 [00:01<00:20,  1.71it/s]"
     ]
    },
    {
     "name": "stdout",
     "output_type": "stream",
     "text": [
      "{'base:': 'Coral Ring', 'icon': 'https://cdn.poedb.tw/image/Art/2DItems/Rings/Ring2.webp'}\n"
     ]
    },
    {
     "name": "stderr",
     "output_type": "stream",
     "text": [
      " 11%|█         | 4/38 [00:02<00:25,  1.33it/s]"
     ]
    },
    {
     "name": "stdout",
     "output_type": "stream",
     "text": [
      "{'base:': 'Paua Ring', 'icon': 'https://cdn.poedb.tw/image/Art/2DItems/Rings/Ring3.webp'}\n"
     ]
    },
    {
     "name": "stderr",
     "output_type": "stream",
     "text": [
      " 13%|█▎        | 5/38 [00:03<00:20,  1.61it/s]"
     ]
    },
    {
     "name": "stdout",
     "output_type": "stream",
     "text": [
      "{'base:': 'Gold Ring', 'icon': 'https://cdn.poedb.tw/image/Art/2DItems/Rings/Ring4.webp'}\n"
     ]
    },
    {
     "name": "stderr",
     "output_type": "stream",
     "text": [
      " 16%|█▌        | 6/38 [00:04<00:24,  1.33it/s]"
     ]
    },
    {
     "name": "stdout",
     "output_type": "stream",
     "text": [
      "{'base:': 'Topaz Ring', 'icon': 'https://cdn.poedb.tw/image/Art/2DItems/Rings/Ring5.webp'}\n"
     ]
    },
    {
     "name": "stderr",
     "output_type": "stream",
     "text": [
      " 18%|█▊        | 7/38 [00:04<00:19,  1.58it/s]"
     ]
    },
    {
     "name": "stdout",
     "output_type": "stream",
     "text": [
      "{'base:': 'Sapphire Ring', 'icon': 'https://cdn.poedb.tw/image/Art/2DItems/Rings/Ring6.webp'}\n"
     ]
    },
    {
     "name": "stderr",
     "output_type": "stream",
     "text": [
      " 21%|██        | 8/38 [00:05<00:17,  1.73it/s]"
     ]
    },
    {
     "name": "stdout",
     "output_type": "stream",
     "text": [
      "{'base:': 'Ruby Ring', 'icon': 'https://cdn.poedb.tw/image/Art/2DItems/Rings/Ring7.webp'}\n"
     ]
    },
    {
     "name": "stderr",
     "output_type": "stream",
     "text": [
      " 24%|██▎       | 9/38 [00:06<00:20,  1.41it/s]"
     ]
    },
    {
     "name": "stdout",
     "output_type": "stream",
     "text": [
      "{'base:': 'Prismatic Ring', 'icon': 'https://cdn.poedb.tw/image/Art/2DItems/Rings/Ring12.webp'}\n"
     ]
    },
    {
     "name": "stderr",
     "output_type": "stream",
     "text": [
      " 26%|██▋       | 10/38 [00:06<00:17,  1.63it/s]"
     ]
    },
    {
     "name": "stdout",
     "output_type": "stream",
     "text": [
      "{'base:': 'Moonstone Ring', 'icon': 'https://cdn.poedb.tw/image/Art/2DItems/Rings/MoonstoneRing.webp'}\n"
     ]
    },
    {
     "name": "stderr",
     "output_type": "stream",
     "text": [
      " 29%|██▉       | 11/38 [00:07<00:19,  1.37it/s]"
     ]
    },
    {
     "name": "stdout",
     "output_type": "stream",
     "text": [
      "{'base:': 'Amethyst Ring', 'icon': 'https://cdn.poedb.tw/image/Art/2DItems/Rings/AmethystRing.webp'}\n"
     ]
    },
    {
     "name": "stderr",
     "output_type": "stream",
     "text": [
      " 32%|███▏      | 12/38 [00:07<00:16,  1.55it/s]"
     ]
    },
    {
     "name": "stdout",
     "output_type": "stream",
     "text": [
      "{'base:': 'Diamond Ring', 'icon': 'https://cdn.poedb.tw/image/Art/2DItems/Rings/DiamondRing.webp'}\n"
     ]
    },
    {
     "name": "stderr",
     "output_type": "stream",
     "text": [
      " 34%|███▍      | 13/38 [00:08<00:14,  1.76it/s]"
     ]
    },
    {
     "name": "stdout",
     "output_type": "stream",
     "text": [
      "{'base:': 'Two-Stone Ring', 'icon': 'https://cdn.poedb.tw/image/Art/2DItems/Rings/TopazRuby.webp'}\n"
     ]
    },
    {
     "name": "stderr",
     "output_type": "stream",
     "text": [
      " 37%|███▋      | 14/38 [00:08<00:12,  1.94it/s]"
     ]
    },
    {
     "name": "stdout",
     "output_type": "stream",
     "text": [
      "{'base:': 'Two-Stone Ring', 'icon': 'https://cdn.poedb.tw/image/Art/2DItems/Rings/TopazRuby.webp'}\n"
     ]
    },
    {
     "name": "stderr",
     "output_type": "stream",
     "text": [
      " 39%|███▉      | 15/38 [00:09<00:11,  2.07it/s]"
     ]
    },
    {
     "name": "stdout",
     "output_type": "stream",
     "text": [
      "{'base:': 'Two-Stone Ring', 'icon': 'https://cdn.poedb.tw/image/Art/2DItems/Rings/TopazRuby.webp'}\n"
     ]
    },
    {
     "name": "stderr",
     "output_type": "stream",
     "text": [
      " 42%|████▏     | 16/38 [00:10<00:18,  1.21it/s]"
     ]
    },
    {
     "name": "stdout",
     "output_type": "stream",
     "text": [
      "{'base:': 'Unset Ring', 'icon': 'https://cdn.poedb.tw/image/Art/2DItems/Rings/Empty-Socket.webp'}\n"
     ]
    },
    {
     "name": "stderr",
     "output_type": "stream",
     "text": [
      " 45%|████▍     | 17/38 [00:12<00:22,  1.06s/it]"
     ]
    },
    {
     "name": "stdout",
     "output_type": "stream",
     "text": [
      "{'base:': 'Bone Ring', 'icon': 'https://cdn.poedb.tw/image/Art/2DItems/Rings/BoneRing.webp'}\n"
     ]
    },
    {
     "name": "stderr",
     "output_type": "stream",
     "text": [
      " 47%|████▋     | 18/38 [00:12<00:17,  1.16it/s]"
     ]
    },
    {
     "name": "stdout",
     "output_type": "stream",
     "text": [
      "{'base:': 'Cogwork Ring', 'icon': 'https://cdn.poedb.tw/image/Art/2DItems/Rings/HeistRing1.webp'}\n"
     ]
    },
    {
     "name": "stderr",
     "output_type": "stream",
     "text": [
      " 50%|█████     | 19/38 [00:13<00:17,  1.10it/s]"
     ]
    },
    {
     "name": "stdout",
     "output_type": "stream",
     "text": [
      "{'base:': 'Geodesic Ring', 'icon': 'https://cdn.poedb.tw/image/Art/2DItems/Rings/HeistRing2.webp'}\n"
     ]
    },
    {
     "name": "stderr",
     "output_type": "stream",
     "text": [
      " 53%|█████▎    | 20/38 [00:14<00:16,  1.06it/s]"
     ]
    },
    {
     "name": "stdout",
     "output_type": "stream",
     "text": [
      "{'base:': 'Dusk Ring', 'icon': 'https://cdn.poedb.tw/image/Art/2DItems/Rings/LakeRing1.webp'}\n"
     ]
    },
    {
     "name": "stderr",
     "output_type": "stream",
     "text": [
      " 55%|█████▌    | 21/38 [00:15<00:13,  1.29it/s]"
     ]
    },
    {
     "name": "stdout",
     "output_type": "stream",
     "text": [
      "{'base:': 'Penumbra Ring', 'icon': 'https://cdn.poedb.tw/image/Art/2DItems/Rings/LakeRing2.webp'}\n"
     ]
    },
    {
     "name": "stderr",
     "output_type": "stream",
     "text": [
      " 58%|█████▊    | 22/38 [00:16<00:13,  1.19it/s]"
     ]
    },
    {
     "name": "stdout",
     "output_type": "stream",
     "text": [
      "{'base:': 'Gloam Ring', 'icon': 'https://cdn.poedb.tw/image/Art/2DItems/Rings/LakeRing3.webp'}\n"
     ]
    },
    {
     "name": "stderr",
     "output_type": "stream",
     "text": [
      " 61%|██████    | 23/38 [00:17<00:13,  1.13it/s]"
     ]
    },
    {
     "name": "stdout",
     "output_type": "stream",
     "text": [
      "{'base:': 'Tenebrous Ring', 'icon': 'https://cdn.poedb.tw/image/Art/2DItems/Rings/LakeRing4.webp'}\n"
     ]
    },
    {
     "name": "stderr",
     "output_type": "stream",
     "text": [
      " 63%|██████▎   | 24/38 [00:17<00:10,  1.32it/s]"
     ]
    },
    {
     "name": "stdout",
     "output_type": "stream",
     "text": [
      "{'base:': 'Shadowed Ring', 'icon': 'https://cdn.poedb.tw/image/Art/2DItems/Rings/LakeRing5.webp'}\n"
     ]
    },
    {
     "name": "stderr",
     "output_type": "stream",
     "text": [
      " 66%|██████▌   | 25/38 [00:17<00:08,  1.55it/s]"
     ]
    },
    {
     "name": "stdout",
     "output_type": "stream",
     "text": [
      "{'base:': 'Shadowed Ring', 'icon': 'https://cdn.poedb.tw/image/Art/2DItems/Rings/LakeRing5.webp'}\n"
     ]
    },
    {
     "name": "stderr",
     "output_type": "stream",
     "text": [
      " 68%|██████▊   | 26/38 [00:18<00:07,  1.70it/s]"
     ]
    },
    {
     "name": "stdout",
     "output_type": "stream",
     "text": [
      "{'base:': 'Shadowed Ring', 'icon': 'https://cdn.poedb.tw/image/Art/2DItems/Rings/LakeRing5.webp'}\n"
     ]
    },
    {
     "name": "stderr",
     "output_type": "stream",
     "text": [
      " 71%|███████   | 27/38 [00:18<00:05,  1.89it/s]"
     ]
    },
    {
     "name": "stdout",
     "output_type": "stream",
     "text": [
      "{'base:': 'Jet Ring', 'icon': 'https://cdn.poedb.tw/image/Art/2DItems/Rings/RingoftheVictor.webp'}\n"
     ]
    },
    {
     "name": "stderr",
     "output_type": "stream",
     "text": [
      " 74%|███████▎  | 28/38 [00:19<00:04,  2.06it/s]"
     ]
    },
    {
     "name": "stdout",
     "output_type": "stream",
     "text": [
      "{'base:': 'Steel Ring', 'icon': 'https://cdn.poedb.tw/image/Art/2DItems/Rings/AdamantineRing.webp'}\n"
     ]
    },
    {
     "name": "stderr",
     "output_type": "stream",
     "text": [
      " 76%|███████▋  | 29/38 [00:19<00:04,  2.18it/s]"
     ]
    },
    {
     "name": "stdout",
     "output_type": "stream",
     "text": [
      "{'base:': 'Opal Ring', 'icon': 'https://cdn.poedb.tw/image/Art/2DItems/Rings/OpalRing.webp'}\n"
     ]
    },
    {
     "name": "stderr",
     "output_type": "stream",
     "text": [
      " 79%|███████▉  | 30/38 [00:20<00:05,  1.59it/s]"
     ]
    },
    {
     "name": "stdout",
     "output_type": "stream",
     "text": [
      "{'base:': 'Vermillion Ring', 'icon': 'https://cdn.poedb.tw/image/Art/2DItems/Rings/VermillionRing.webp'}\n"
     ]
    },
    {
     "name": "stderr",
     "output_type": "stream",
     "text": [
      " 82%|████████▏ | 31/38 [00:21<00:03,  1.77it/s]"
     ]
    },
    {
     "name": "stdout",
     "output_type": "stream",
     "text": [
      "{'base:': 'Cerulean Ring', 'icon': 'https://cdn.poedb.tw/image/Art/2DItems/Rings/CeruleanRing.webp'}\n"
     ]
    },
    {
     "name": "stderr",
     "output_type": "stream",
     "text": [
      " 84%|████████▍ | 32/38 [00:22<00:04,  1.42it/s]"
     ]
    },
    {
     "name": "stdout",
     "output_type": "stream",
     "text": [
      "{'base:': 'Iolite Ring', 'icon': 'https://cdn.poedb.tw/image/Art/2DItems/Rings/ChaosDmgRing.webp'}\n"
     ]
    },
    {
     "name": "stderr",
     "output_type": "stream",
     "text": [
      " 87%|████████▋ | 33/38 [00:22<00:03,  1.60it/s]"
     ]
    },
    {
     "name": "stdout",
     "output_type": "stream",
     "text": [
      "{'base:': 'Ring', 'icon': 'https://cdn.poedb.tw/image/Art/2DItems/Rings/MirrorRing.webp'}\n"
     ]
    },
    {
     "name": "stderr",
     "output_type": "stream",
     "text": [
      " 89%|████████▉ | 34/38 [00:22<00:02,  1.79it/s]"
     ]
    },
    {
     "name": "stdout",
     "output_type": "stream",
     "text": [
      "{'base:': 'Breach Ring', 'icon': 'https://cdn.poedb.tw/image/Art/2DItems/Rings/BreachRing.webp'}\n"
     ]
    },
    {
     "name": "stderr",
     "output_type": "stream",
     "text": [
      " 92%|█████████▏| 35/38 [00:23<00:01,  1.93it/s]"
     ]
    },
    {
     "name": "stdout",
     "output_type": "stream",
     "text": [
      "{'base:': 'Royale Opal Ring', 'icon': 'https://cdn.poedb.tw/image/Art/2DItems/Rings/OpalRing.webp'}\n"
     ]
    },
    {
     "name": "stderr",
     "output_type": "stream",
     "text": [
      " 95%|█████████▍| 36/38 [00:24<00:01,  1.50it/s]"
     ]
    },
    {
     "name": "stdout",
     "output_type": "stream",
     "text": [
      "{'base:': 'Royale Prismatic Ring', 'icon': 'https://cdn.poedb.tw/image/Art/2DItems/Rings/Ring12.webp'}\n"
     ]
    },
    {
     "name": "stderr",
     "output_type": "stream",
     "text": [
      " 97%|█████████▋| 37/38 [00:25<00:00,  1.31it/s]"
     ]
    },
    {
     "name": "stdout",
     "output_type": "stream",
     "text": [
      "{'base:': 'Royale Diamond Ring', 'icon': 'https://cdn.poedb.tw/image/Art/2DItems/Rings/DiamondRing.webp'}\n"
     ]
    },
    {
     "name": "stderr",
     "output_type": "stream",
     "text": [
      "100%|██████████| 38/38 [00:25<00:00,  1.48it/s]"
     ]
    },
    {
     "name": "stdout",
     "output_type": "stream",
     "text": [
      "{'base:': 'Royale Paua Ring', 'icon': 'https://cdn.poedb.tw/image/Art/2DItems/Rings/Ring3.webp'}\n",
      "https://poedb.tw/us/Belts#BeltsItem\n"
     ]
    },
    {
     "name": "stderr",
     "output_type": "stream",
     "text": [
      "\n",
      "  7%|▋         | 1/15 [00:00<00:05,  2.43it/s]"
     ]
    },
    {
     "name": "stdout",
     "output_type": "stream",
     "text": [
      "{'base:': 'Rustic Sash', 'icon': 'https://cdn.poedb.tw/image/Art/2DItems/Belts/Belt1.webp'}\n"
     ]
    },
    {
     "name": "stderr",
     "output_type": "stream",
     "text": [
      " 13%|█▎        | 2/15 [00:01<00:10,  1.20it/s]"
     ]
    },
    {
     "name": "stdout",
     "output_type": "stream",
     "text": [
      "{'base:': 'Chain Belt', 'icon': 'https://cdn.poedb.tw/image/Art/2DItems/Belts/Belt2.webp'}\n"
     ]
    },
    {
     "name": "stderr",
     "output_type": "stream",
     "text": [
      " 20%|██        | 3/15 [00:02<00:12,  1.03s/it]"
     ]
    },
    {
     "name": "stdout",
     "output_type": "stream",
     "text": [
      "{'base:': 'Leather Belt', 'icon': 'https://cdn.poedb.tw/image/Art/2DItems/Belts/Belt3.webp'}\n"
     ]
    },
    {
     "name": "stderr",
     "output_type": "stream",
     "text": [
      " 27%|██▋       | 4/15 [00:03<00:08,  1.25it/s]"
     ]
    },
    {
     "name": "stdout",
     "output_type": "stream",
     "text": [
      "{'base:': 'Heavy Belt', 'icon': 'https://cdn.poedb.tw/image/Art/2DItems/Belts/Belt5.webp'}\n"
     ]
    },
    {
     "name": "stderr",
     "output_type": "stream",
     "text": [
      " 33%|███▎      | 5/15 [00:03<00:06,  1.52it/s]"
     ]
    },
    {
     "name": "stdout",
     "output_type": "stream",
     "text": [
      "{'base:': 'Cloth Belt', 'icon': 'https://cdn.poedb.tw/image/Art/2DItems/Belts/Belt4.webp'}\n"
     ]
    },
    {
     "name": "stderr",
     "output_type": "stream",
     "text": [
      " 40%|████      | 6/15 [00:04<00:07,  1.28it/s]"
     ]
    },
    {
     "name": "stdout",
     "output_type": "stream",
     "text": [
      "{'base:': 'Studded Belt', 'icon': 'https://cdn.poedb.tw/image/Art/2DItems/Belts/Belt6.webp'}\n"
     ]
    },
    {
     "name": "stderr",
     "output_type": "stream",
     "text": [
      " 47%|████▋     | 7/15 [00:05<00:06,  1.33it/s]"
     ]
    },
    {
     "name": "stdout",
     "output_type": "stream",
     "text": [
      "{'base:': 'Micro-Distillery Belt', 'icon': 'https://cdn.poedb.tw/image/Art/2DItems/Belts/HeistBelt1.webp'}\n"
     ]
    },
    {
     "name": "stderr",
     "output_type": "stream",
     "text": [
      " 53%|█████▎    | 8/15 [00:06<00:05,  1.19it/s]"
     ]
    },
    {
     "name": "stdout",
     "output_type": "stream",
     "text": [
      "{'base:': 'Mechalarm Belt', 'icon': 'https://cdn.poedb.tw/image/Art/2DItems/Belts/HeistBelt2.webp'}\n"
     ]
    },
    {
     "name": "stderr",
     "output_type": "stream",
     "text": [
      " 60%|██████    | 9/15 [00:07<00:05,  1.12it/s]"
     ]
    },
    {
     "name": "stdout",
     "output_type": "stream",
     "text": [
      "{'base:': 'Vanguard Belt', 'icon': 'https://cdn.poedb.tw/image/Art/2DItems/Belts/Belt7.webp'}\n"
     ]
    },
    {
     "name": "stderr",
     "output_type": "stream",
     "text": [
      " 67%|██████▋   | 10/15 [00:08<00:04,  1.09it/s]"
     ]
    },
    {
     "name": "stdout",
     "output_type": "stream",
     "text": [
      "{'base:': 'Crystal Belt', 'icon': 'https://cdn.poedb.tw/image/Art/2DItems/Belts/CrystalBelt.webp'}\n"
     ]
    },
    {
     "name": "stderr",
     "output_type": "stream",
     "text": [
      " 73%|███████▎  | 11/15 [00:09<00:03,  1.03it/s]"
     ]
    },
    {
     "name": "stdout",
     "output_type": "stream",
     "text": [
      "{'base:': 'Golden Obi', 'icon': 'https://cdn.poedb.tw/image/Art/2DItems/Belts/Demibelt1.webp'}\n"
     ]
    },
    {
     "name": "stderr",
     "output_type": "stream",
     "text": [
      " 80%|████████  | 12/15 [00:10<00:02,  1.03it/s]"
     ]
    },
    {
     "name": "stdout",
     "output_type": "stream",
     "text": [
      "{'base:': 'Stygian Vise', 'icon': 'https://cdn.poedb.tw/image/Art/2DItems/Belts/AbyssBelt.webp'}\n"
     ]
    },
    {
     "name": "stderr",
     "output_type": "stream",
     "text": [
      " 87%|████████▋ | 13/15 [00:11<00:01,  1.01it/s]"
     ]
    },
    {
     "name": "stdout",
     "output_type": "stream",
     "text": [
      "{'base:': 'Royale Leather Belt', 'icon': 'https://cdn.poedb.tw/image/Art/2DItems/Belts/Belt3.webp'}\n"
     ]
    },
    {
     "name": "stderr",
     "output_type": "stream",
     "text": [
      " 93%|█████████▎| 14/15 [00:11<00:00,  1.24it/s]"
     ]
    },
    {
     "name": "stdout",
     "output_type": "stream",
     "text": [
      "{'base:': 'Royale Heavy Belt', 'icon': 'https://cdn.poedb.tw/image/Art/2DItems/Belts/Belt5.webp'}\n"
     ]
    },
    {
     "name": "stderr",
     "output_type": "stream",
     "text": [
      "100%|██████████| 15/15 [00:12<00:00,  1.17it/s]"
     ]
    },
    {
     "name": "stdout",
     "output_type": "stream",
     "text": [
      "{'base:': 'Royale Cloth Belt', 'icon': 'https://cdn.poedb.tw/image/Art/2DItems/Belts/Belt4.webp'}\n",
      "https://poedb.tw/us/Trinkets#TrinketsItem\n"
     ]
    },
    {
     "name": "stderr",
     "output_type": "stream",
     "text": [
      "\n",
      "100%|██████████| 1/1 [00:01<00:00,  1.29s/it]"
     ]
    },
    {
     "name": "stdout",
     "output_type": "stream",
     "text": [
      "{'base:': \"Thief's Trinket\", 'icon': 'https://cdn.poedb.tw/image/Art/2DItems/Currency/Heist/LuckCharm1.webp'}\n",
      "https://poedb.tw/us/Jewels#JewelsItem\n"
     ]
    },
    {
     "name": "stderr",
     "output_type": "stream",
     "text": [
      "\n",
      " 12%|█▎        | 1/8 [00:01<00:09,  1.39s/it]"
     ]
    },
    {
     "name": "stdout",
     "output_type": "stream",
     "text": [
      "{'base:': 'Crimson Jewel', 'icon': 'https://cdn.poedb.tw/image/Art/2DItems/Jewels/basicstr.webp'}\n"
     ]
    },
    {
     "name": "stderr",
     "output_type": "stream",
     "text": [
      " 25%|██▌       | 2/8 [00:02<00:08,  1.38s/it]"
     ]
    },
    {
     "name": "stdout",
     "output_type": "stream",
     "text": [
      "{'base:': 'Viridian Jewel', 'icon': 'https://cdn.poedb.tw/image/Art/2DItems/Jewels/basicdex.webp'}\n"
     ]
    },
    {
     "name": "stderr",
     "output_type": "stream",
     "text": [
      " 38%|███▊      | 3/8 [00:04<00:06,  1.36s/it]"
     ]
    },
    {
     "name": "stdout",
     "output_type": "stream",
     "text": [
      "{'base:': 'Cobalt Jewel', 'icon': 'https://cdn.poedb.tw/image/Art/2DItems/Jewels/basicint.webp'}\n"
     ]
    },
    {
     "name": "stderr",
     "output_type": "stream",
     "text": [
      " 50%|█████     | 4/8 [00:05<00:05,  1.36s/it]"
     ]
    },
    {
     "name": "stdout",
     "output_type": "stream",
     "text": [
      "{'base:': 'Prismatic Jewel', 'icon': 'https://cdn.poedb.tw/image/Art/2DItems/Jewels/Mastery.webp'}\n"
     ]
    },
    {
     "name": "stderr",
     "output_type": "stream",
     "text": [
      " 62%|██████▎   | 5/8 [00:06<00:04,  1.39s/it]"
     ]
    },
    {
     "name": "stdout",
     "output_type": "stream",
     "text": [
      "{'base:': 'Timeless Jewel', 'icon': 'https://cdn.poedb.tw/image/Art/2DItems/Jewels/Timeless.webp'}\n"
     ]
    },
    {
     "name": "stderr",
     "output_type": "stream",
     "text": [
      " 75%|███████▌  | 6/8 [00:07<00:02,  1.20s/it]"
     ]
    },
    {
     "name": "stdout",
     "output_type": "stream",
     "text": [
      "{'base:': 'Large Cluster Jewel', 'icon': 'https://cdn.poedb.tw/image/Art/2DItems/Jewels/NewGemBase3.webp'}\n"
     ]
    },
    {
     "name": "stderr",
     "output_type": "stream",
     "text": [
      " 88%|████████▊ | 7/8 [00:09<00:01,  1.27s/it]"
     ]
    },
    {
     "name": "stdout",
     "output_type": "stream",
     "text": [
      "{'base:': 'Medium Cluster Jewel', 'icon': 'https://cdn.poedb.tw/image/Art/2DItems/Jewels/NewGemBase2.webp'}\n"
     ]
    },
    {
     "name": "stderr",
     "output_type": "stream",
     "text": [
      "100%|██████████| 8/8 [00:09<00:00,  1.24s/it]"
     ]
    },
    {
     "name": "stdout",
     "output_type": "stream",
     "text": [
      "{'base:': 'Small Cluster Jewel', 'icon': 'https://cdn.poedb.tw/image/Art/2DItems/Jewels/NewGemBase1.webp'}\n",
      "https://poedb.tw/us/Abyss_Jewels#AbyssJewelsItem\n"
     ]
    },
    {
     "name": "stderr",
     "output_type": "stream",
     "text": [
      "\n",
      " 25%|██▌       | 1/4 [00:01<00:03,  1.30s/it]"
     ]
    },
    {
     "name": "stdout",
     "output_type": "stream",
     "text": [
      "{'base:': 'Murderous Eye Jewel', 'icon': 'https://cdn.poedb.tw/image/Art/2DItems/Jewels/MurderousEye.webp'}\n"
     ]
    },
    {
     "name": "stderr",
     "output_type": "stream",
     "text": [
      " 50%|█████     | 2/4 [00:02<00:01,  1.03it/s]"
     ]
    },
    {
     "name": "stdout",
     "output_type": "stream",
     "text": [
      "{'base:': 'Searching Eye Jewel', 'icon': 'https://cdn.poedb.tw/image/Art/2DItems/Jewels/SearchingEye.webp'}\n"
     ]
    },
    {
     "name": "stderr",
     "output_type": "stream",
     "text": [
      " 75%|███████▌  | 3/4 [00:02<00:00,  1.16it/s]"
     ]
    },
    {
     "name": "stdout",
     "output_type": "stream",
     "text": [
      "{'base:': 'Hypnotic Eye Jewel', 'icon': 'https://cdn.poedb.tw/image/Art/2DItems/Jewels/RivetedEye.webp'}\n"
     ]
    },
    {
     "name": "stderr",
     "output_type": "stream",
     "text": [
      "100%|██████████| 4/4 [00:04<00:00,  1.02s/it]"
     ]
    },
    {
     "name": "stdout",
     "output_type": "stream",
     "text": [
      "{'base:': 'Ghastly Eye Jewel', 'icon': 'https://cdn.poedb.tw/image/Art/2DItems/Jewels/GhastlyEye.webp'}\n",
      "https://poedb.tw/us/Flasks#Flask\n"
     ]
    },
    {
     "name": "stderr",
     "output_type": "stream",
     "text": [
      "\n",
      "  2%|▏         | 1/48 [00:01<00:47,  1.00s/it]"
     ]
    },
    {
     "name": "stdout",
     "output_type": "stream",
     "text": [
      "{'base:': 'Small Life Flask', 'icon': 'https://cdn.poedb.tw/image/Art/2DItems/Flasks/lifeflask1.webp'}\n"
     ]
    },
    {
     "name": "stderr",
     "output_type": "stream",
     "text": [
      "  4%|▍         | 2/48 [00:01<00:31,  1.46it/s]"
     ]
    },
    {
     "name": "stdout",
     "output_type": "stream",
     "text": [
      "{'base:': 'Medium Life Flask', 'icon': 'https://cdn.poedb.tw/image/Art/2DItems/Flasks/lifeflask2.webp'}\n"
     ]
    },
    {
     "name": "stderr",
     "output_type": "stream",
     "text": [
      "  6%|▋         | 3/48 [00:01<00:25,  1.78it/s]"
     ]
    },
    {
     "name": "stdout",
     "output_type": "stream",
     "text": [
      "{'base:': 'Large Life Flask', 'icon': 'https://cdn.poedb.tw/image/Art/2DItems/Flasks/lifeflask3.webp'}\n"
     ]
    },
    {
     "name": "stderr",
     "output_type": "stream",
     "text": [
      "  8%|▊         | 4/48 [00:02<00:21,  2.03it/s]"
     ]
    },
    {
     "name": "stdout",
     "output_type": "stream",
     "text": [
      "{'base:': 'Greater Life Flask', 'icon': 'https://cdn.poedb.tw/image/Art/2DItems/Flasks/lifeflask4.webp'}\n"
     ]
    },
    {
     "name": "stderr",
     "output_type": "stream",
     "text": [
      " 10%|█         | 5/48 [00:03<00:29,  1.45it/s]"
     ]
    },
    {
     "name": "stdout",
     "output_type": "stream",
     "text": [
      "{'base:': 'Grand Life Flask', 'icon': 'https://cdn.poedb.tw/image/Art/2DItems/Flasks/lifeflask5.webp'}\n"
     ]
    },
    {
     "name": "stderr",
     "output_type": "stream",
     "text": [
      " 12%|█▎        | 6/48 [00:03<00:25,  1.67it/s]"
     ]
    },
    {
     "name": "stdout",
     "output_type": "stream",
     "text": [
      "{'base:': 'Giant Life Flask', 'icon': 'https://cdn.poedb.tw/image/Art/2DItems/Flasks/lifeflask6.webp'}\n"
     ]
    },
    {
     "name": "stderr",
     "output_type": "stream",
     "text": [
      " 15%|█▍        | 7/48 [00:04<00:30,  1.36it/s]"
     ]
    },
    {
     "name": "stdout",
     "output_type": "stream",
     "text": [
      "{'base:': 'Colossal Life Flask', 'icon': 'https://cdn.poedb.tw/image/Art/2DItems/Flasks/lifeflask7.webp'}\n"
     ]
    },
    {
     "name": "stderr",
     "output_type": "stream",
     "text": [
      " 17%|█▋        | 8/48 [00:05<00:25,  1.58it/s]"
     ]
    },
    {
     "name": "stdout",
     "output_type": "stream",
     "text": [
      "{'base:': 'Sacred Life Flask', 'icon': 'https://cdn.poedb.tw/image/Art/2DItems/Flasks/lifeflask8.webp'}\n"
     ]
    },
    {
     "name": "stderr",
     "output_type": "stream",
     "text": [
      " 19%|█▉        | 9/48 [00:05<00:21,  1.78it/s]"
     ]
    },
    {
     "name": "stdout",
     "output_type": "stream",
     "text": [
      "{'base:': 'Hallowed Life Flask', 'icon': 'https://cdn.poedb.tw/image/Art/2DItems/Flasks/lifeflask9.webp'}\n"
     ]
    },
    {
     "name": "stderr",
     "output_type": "stream",
     "text": [
      " 21%|██        | 10/48 [00:06<00:26,  1.42it/s]"
     ]
    },
    {
     "name": "stdout",
     "output_type": "stream",
     "text": [
      "{'base:': 'Sanctified Life Flask', 'icon': 'https://cdn.poedb.tw/image/Art/2DItems/Flasks/lifeflask10.webp'}\n"
     ]
    },
    {
     "name": "stderr",
     "output_type": "stream",
     "text": [
      " 23%|██▎       | 11/48 [00:06<00:22,  1.65it/s]"
     ]
    },
    {
     "name": "stdout",
     "output_type": "stream",
     "text": [
      "{'base:': 'Divine Life Flask', 'icon': 'https://cdn.poedb.tw/image/Art/2DItems/Flasks/lifeflask11.webp'}\n"
     ]
    },
    {
     "name": "stderr",
     "output_type": "stream",
     "text": [
      " 25%|██▌       | 12/48 [00:07<00:19,  1.84it/s]"
     ]
    },
    {
     "name": "stdout",
     "output_type": "stream",
     "text": [
      "{'base:': 'Eternal Life Flask', 'icon': 'https://cdn.poedb.tw/image/Art/2DItems/Flasks/lifeflask12.webp'}\n"
     ]
    },
    {
     "name": "stderr",
     "output_type": "stream",
     "text": [
      " 27%|██▋       | 13/48 [00:07<00:17,  1.99it/s]"
     ]
    },
    {
     "name": "stdout",
     "output_type": "stream",
     "text": [
      "{'base:': 'Small Mana Flask', 'icon': 'https://cdn.poedb.tw/image/Art/2DItems/Flasks/manaflask1.webp'}\n"
     ]
    },
    {
     "name": "stderr",
     "output_type": "stream",
     "text": [
      " 29%|██▉       | 14/48 [00:08<00:16,  2.12it/s]"
     ]
    },
    {
     "name": "stdout",
     "output_type": "stream",
     "text": [
      "{'base:': 'Medium Mana Flask', 'icon': 'https://cdn.poedb.tw/image/Art/2DItems/Flasks/manaflask2.webp'}\n"
     ]
    },
    {
     "name": "stderr",
     "output_type": "stream",
     "text": [
      " 31%|███▏      | 15/48 [00:09<00:20,  1.58it/s]"
     ]
    },
    {
     "name": "stdout",
     "output_type": "stream",
     "text": [
      "{'base:': 'Large Mana Flask', 'icon': 'https://cdn.poedb.tw/image/Art/2DItems/Flasks/manaflask3.webp'}\n"
     ]
    },
    {
     "name": "stderr",
     "output_type": "stream",
     "text": [
      " 33%|███▎      | 16/48 [00:09<00:18,  1.76it/s]"
     ]
    },
    {
     "name": "stdout",
     "output_type": "stream",
     "text": [
      "{'base:': 'Greater Mana Flask', 'icon': 'https://cdn.poedb.tw/image/Art/2DItems/Flasks/manaflask4.webp'}\n"
     ]
    },
    {
     "name": "stderr",
     "output_type": "stream",
     "text": [
      " 35%|███▌      | 17/48 [00:10<00:16,  1.93it/s]"
     ]
    },
    {
     "name": "stdout",
     "output_type": "stream",
     "text": [
      "{'base:': 'Grand Mana Flask', 'icon': 'https://cdn.poedb.tw/image/Art/2DItems/Flasks/manaflask5.webp'}\n"
     ]
    },
    {
     "name": "stderr",
     "output_type": "stream",
     "text": [
      " 38%|███▊      | 18/48 [00:10<00:19,  1.52it/s]"
     ]
    },
    {
     "name": "stdout",
     "output_type": "stream",
     "text": [
      "{'base:': 'Giant Mana Flask', 'icon': 'https://cdn.poedb.tw/image/Art/2DItems/Flasks/manaflask6.webp'}\n"
     ]
    },
    {
     "name": "stderr",
     "output_type": "stream",
     "text": [
      " 40%|███▉      | 19/48 [00:11<00:16,  1.73it/s]"
     ]
    },
    {
     "name": "stdout",
     "output_type": "stream",
     "text": [
      "{'base:': 'Colossal Mana Flask', 'icon': 'https://cdn.poedb.tw/image/Art/2DItems/Flasks/manaflask7.webp'}\n"
     ]
    },
    {
     "name": "stderr",
     "output_type": "stream",
     "text": [
      " 42%|████▏     | 20/48 [00:11<00:14,  1.92it/s]"
     ]
    },
    {
     "name": "stdout",
     "output_type": "stream",
     "text": [
      "{'base:': 'Sacred Mana Flask', 'icon': 'https://cdn.poedb.tw/image/Art/2DItems/Flasks/manaflask8.webp'}\n"
     ]
    },
    {
     "name": "stderr",
     "output_type": "stream",
     "text": [
      " 44%|████▍     | 21/48 [00:12<00:13,  2.07it/s]"
     ]
    },
    {
     "name": "stdout",
     "output_type": "stream",
     "text": [
      "{'base:': 'Hallowed Mana Flask', 'icon': 'https://cdn.poedb.tw/image/Art/2DItems/Flasks/manaflask9.webp'}\n"
     ]
    },
    {
     "name": "stderr",
     "output_type": "stream",
     "text": [
      " 46%|████▌     | 22/48 [00:13<00:16,  1.56it/s]"
     ]
    },
    {
     "name": "stdout",
     "output_type": "stream",
     "text": [
      "{'base:': 'Sanctified Mana Flask', 'icon': 'https://cdn.poedb.tw/image/Art/2DItems/Flasks/manaflask10.webp'}\n"
     ]
    },
    {
     "name": "stderr",
     "output_type": "stream",
     "text": [
      " 48%|████▊     | 23/48 [00:13<00:14,  1.78it/s]"
     ]
    },
    {
     "name": "stdout",
     "output_type": "stream",
     "text": [
      "{'base:': 'Divine Mana Flask', 'icon': 'https://cdn.poedb.tw/image/Art/2DItems/Flasks/manaflask11.webp'}\n"
     ]
    },
    {
     "name": "stderr",
     "output_type": "stream",
     "text": [
      " 50%|█████     | 24/48 [00:13<00:12,  1.97it/s]"
     ]
    },
    {
     "name": "stdout",
     "output_type": "stream",
     "text": [
      "{'base:': 'Eternal Mana Flask', 'icon': 'https://cdn.poedb.tw/image/Art/2DItems/Flasks/manaflask12.webp'}\n"
     ]
    },
    {
     "name": "stderr",
     "output_type": "stream",
     "text": [
      " 52%|█████▏    | 25/48 [00:14<00:11,  2.09it/s]"
     ]
    },
    {
     "name": "stdout",
     "output_type": "stream",
     "text": [
      "{'base:': 'Small Hybrid Flask', 'icon': 'https://cdn.poedb.tw/image/Art/2DItems/Flasks/hybridflask1.webp'}\n"
     ]
    },
    {
     "name": "stderr",
     "output_type": "stream",
     "text": [
      " 54%|█████▍    | 26/48 [00:14<00:09,  2.21it/s]"
     ]
    },
    {
     "name": "stdout",
     "output_type": "stream",
     "text": [
      "{'base:': 'Medium Hybrid Flask', 'icon': 'https://cdn.poedb.tw/image/Art/2DItems/Flasks/hybridflask2.webp'}\n"
     ]
    },
    {
     "name": "stderr",
     "output_type": "stream",
     "text": [
      " 56%|█████▋    | 27/48 [00:15<00:09,  2.31it/s]"
     ]
    },
    {
     "name": "stdout",
     "output_type": "stream",
     "text": [
      "{'base:': 'Large Hybrid Flask', 'icon': 'https://cdn.poedb.tw/image/Art/2DItems/Flasks/hybridflask4.webp'}\n"
     ]
    },
    {
     "name": "stderr",
     "output_type": "stream",
     "text": [
      " 58%|█████▊    | 28/48 [00:15<00:08,  2.37it/s]"
     ]
    },
    {
     "name": "stdout",
     "output_type": "stream",
     "text": [
      "{'base:': 'Colossal Hybrid Flask', 'icon': 'https://cdn.poedb.tw/image/Art/2DItems/Flasks/hybridflask1.webp'}\n"
     ]
    },
    {
     "name": "stderr",
     "output_type": "stream",
     "text": [
      " 60%|██████    | 29/48 [00:16<00:11,  1.70it/s]"
     ]
    },
    {
     "name": "stdout",
     "output_type": "stream",
     "text": [
      "{'base:': 'Sacred Hybrid Flask', 'icon': 'https://cdn.poedb.tw/image/Art/2DItems/Flasks/hybridflask2.webp'}\n"
     ]
    },
    {
     "name": "stderr",
     "output_type": "stream",
     "text": [
      " 62%|██████▎   | 30/48 [00:16<00:09,  1.90it/s]"
     ]
    },
    {
     "name": "stdout",
     "output_type": "stream",
     "text": [
      "{'base:': 'Hallowed Hybrid Flask', 'icon': 'https://cdn.poedb.tw/image/Art/2DItems/Flasks/hybridflask4.webp'}\n"
     ]
    },
    {
     "name": "stderr",
     "output_type": "stream",
     "text": [
      " 65%|██████▍   | 31/48 [00:17<00:08,  2.07it/s]"
     ]
    },
    {
     "name": "stdout",
     "output_type": "stream",
     "text": [
      "{'base:': 'Diamond Flask', 'icon': 'https://cdn.poedb.tw/image/Art/2DItems/Flasks/diamond.webp'}\n"
     ]
    },
    {
     "name": "stderr",
     "output_type": "stream",
     "text": [
      " 67%|██████▋   | 32/48 [00:17<00:07,  2.08it/s]"
     ]
    },
    {
     "name": "stdout",
     "output_type": "stream",
     "text": [
      "{'base:': 'Ruby Flask', 'icon': 'https://cdn.poedb.tw/image/Art/2DItems/Flasks/ruby.webp'}\n"
     ]
    },
    {
     "name": "stderr",
     "output_type": "stream",
     "text": [
      " 69%|██████▉   | 33/48 [00:18<00:09,  1.53it/s]"
     ]
    },
    {
     "name": "stdout",
     "output_type": "stream",
     "text": [
      "{'base:': 'Sapphire Flask', 'icon': 'https://cdn.poedb.tw/image/Art/2DItems/Flasks/sapphire.webp'}\n"
     ]
    },
    {
     "name": "stderr",
     "output_type": "stream",
     "text": [
      " 71%|███████   | 34/48 [00:19<00:10,  1.31it/s]"
     ]
    },
    {
     "name": "stdout",
     "output_type": "stream",
     "text": [
      "{'base:': 'Topaz Flask', 'icon': 'https://cdn.poedb.tw/image/Art/2DItems/Flasks/topaz.webp'}\n"
     ]
    },
    {
     "name": "stderr",
     "output_type": "stream",
     "text": [
      " 73%|███████▎  | 35/48 [00:20<00:08,  1.53it/s]"
     ]
    },
    {
     "name": "stdout",
     "output_type": "stream",
     "text": [
      "{'base:': 'Granite Flask', 'icon': 'https://cdn.poedb.tw/image/Art/2DItems/Flasks/granite.webp'}\n"
     ]
    },
    {
     "name": "stderr",
     "output_type": "stream",
     "text": [
      " 75%|███████▌  | 36/48 [00:20<00:06,  1.73it/s]"
     ]
    },
    {
     "name": "stdout",
     "output_type": "stream",
     "text": [
      "{'base:': 'Quicksilver Flask', 'icon': 'https://cdn.poedb.tw/image/Art/2DItems/Flasks/sprint.webp'}\n"
     ]
    },
    {
     "name": "stderr",
     "output_type": "stream",
     "text": [
      " 77%|███████▋  | 37/48 [00:21<00:05,  1.91it/s]"
     ]
    },
    {
     "name": "stdout",
     "output_type": "stream",
     "text": [
      "{'base:': 'Amethyst Flask', 'icon': 'https://cdn.poedb.tw/image/Art/2DItems/Flasks/Amethyst.webp'}\n"
     ]
    },
    {
     "name": "stderr",
     "output_type": "stream",
     "text": [
      " 79%|███████▉  | 38/48 [00:21<00:04,  2.05it/s]"
     ]
    },
    {
     "name": "stdout",
     "output_type": "stream",
     "text": [
      "{'base:': 'Quartz Flask', 'icon': 'https://cdn.poedb.tw/image/Art/2DItems/Flasks/phaseflask01.webp'}\n"
     ]
    },
    {
     "name": "stderr",
     "output_type": "stream",
     "text": [
      " 81%|████████▏ | 39/48 [00:21<00:04,  2.17it/s]"
     ]
    },
    {
     "name": "stdout",
     "output_type": "stream",
     "text": [
      "{'base:': 'Jade Flask', 'icon': 'https://cdn.poedb.tw/image/Art/2DItems/Flasks/evasionflask01.webp'}\n"
     ]
    },
    {
     "name": "stderr",
     "output_type": "stream",
     "text": [
      " 83%|████████▎ | 40/48 [00:22<00:04,  1.61it/s]"
     ]
    },
    {
     "name": "stdout",
     "output_type": "stream",
     "text": [
      "{'base:': 'Basalt Flask', 'icon': 'https://cdn.poedb.tw/image/Art/2DItems/Flasks/stone.webp'}\n"
     ]
    },
    {
     "name": "stderr",
     "output_type": "stream",
     "text": [
      " 85%|████████▌ | 41/48 [00:23<00:05,  1.35it/s]"
     ]
    },
    {
     "name": "stdout",
     "output_type": "stream",
     "text": [
      "{'base:': 'Aquamarine Flask', 'icon': 'https://cdn.poedb.tw/image/Art/2DItems/Flasks/aquamarine.webp'}\n"
     ]
    },
    {
     "name": "stderr",
     "output_type": "stream",
     "text": [
      " 88%|████████▊ | 42/48 [00:24<00:03,  1.57it/s]"
     ]
    },
    {
     "name": "stdout",
     "output_type": "stream",
     "text": [
      "{'base:': 'Stibnite Flask', 'icon': 'https://cdn.poedb.tw/image/Art/2DItems/Flasks/stibnite.webp'}\n"
     ]
    },
    {
     "name": "stderr",
     "output_type": "stream",
     "text": [
      " 90%|████████▉ | 43/48 [00:24<00:02,  1.76it/s]"
     ]
    },
    {
     "name": "stdout",
     "output_type": "stream",
     "text": [
      "{'base:': 'Sulphur Flask', 'icon': 'https://cdn.poedb.tw/image/Art/2DItems/Flasks/gold.webp'}\n"
     ]
    },
    {
     "name": "stderr",
     "output_type": "stream",
     "text": [
      " 92%|█████████▏| 44/48 [00:25<00:02,  1.64it/s]"
     ]
    },
    {
     "name": "stdout",
     "output_type": "stream",
     "text": [
      "{'base:': 'Silver Flask', 'icon': 'https://cdn.poedb.tw/image/Art/2DItems/Flasks/silver.webp'}\n"
     ]
    },
    {
     "name": "stderr",
     "output_type": "stream",
     "text": [
      " 94%|█████████▍| 45/48 [00:26<00:02,  1.39it/s]"
     ]
    },
    {
     "name": "stdout",
     "output_type": "stream",
     "text": [
      "{'base:': 'Bismuth Flask', 'icon': 'https://cdn.poedb.tw/image/Art/2DItems/Flasks/bismuth.webp'}\n"
     ]
    },
    {
     "name": "stderr",
     "output_type": "stream",
     "text": [
      " 96%|█████████▌| 46/48 [00:26<00:01,  1.59it/s]"
     ]
    },
    {
     "name": "stdout",
     "output_type": "stream",
     "text": [
      "{'base:': 'Gold Flask', 'icon': 'https://cdn.poedb.tw/image/Art/2DItems/Flasks/GoldFlask.webp'}\n"
     ]
    },
    {
     "name": "stderr",
     "output_type": "stream",
     "text": [
      " 98%|█████████▊| 47/48 [00:27<00:00,  1.77it/s]"
     ]
    },
    {
     "name": "stdout",
     "output_type": "stream",
     "text": [
      "{'base:': 'Corundum Flask', 'icon': 'https://cdn.poedb.tw/image/Art/2DItems/Flasks/AntiStunFlask.webp'}\n"
     ]
    },
    {
     "name": "stderr",
     "output_type": "stream",
     "text": [
      "100%|██████████| 48/48 [00:27<00:00,  1.74it/s]"
     ]
    },
    {
     "name": "stdout",
     "output_type": "stream",
     "text": [
      "{'base:': 'Iron Flask', 'icon': 'https://cdn.poedb.tw/image/Art/2DItems/Flasks/Wardflask01.webp'}\n"
     ]
    },
    {
     "name": "stderr",
     "output_type": "stream",
     "text": [
      "\n"
     ]
    }
   ],
   "source": [
    "\n",
    "for item in pages:\n",
    "    page = baseUrl + (\"_\").join(item.split(\" \")) + \"#\" + (\"\").join(item.split(\" \")) + \"Item\"\n",
    "\n",
    "    print(page)\n",
    "\n",
    "    site = requests.get(page)\n",
    "    html = bs4.BeautifulSoup(site.text, 'html.parser')\n",
    "\n",
    "    selector = (\"\").join(item.split(\" \")) + \"Item\"\n",
    "\n",
    "\n",
    "    itemUrlCssSelector = f'#{selector} > div:nth-child(2)'\n",
    "\n",
    "    itemUrl = html.select_one(itemUrlCssSelector)\n",
    "\n",
    "    siteBaseUrl = \"https://poedb.tw{}\"\n",
    "\n",
    "    for item in tqdm(itemUrl.find_all('a',{\"class\": \"whiteitem\"}, href=True)):\n",
    "        itemSiteUrl = siteBaseUrl.format(item['href'])\n",
    "        itemSiteHtml = requests.get(itemSiteUrl)\n",
    "        itemSiteParse = bs4.BeautifulSoup(itemSiteHtml.text, 'html.parser')\n",
    "\n",
    "        itemTypeSelector = \".ItemType\"\n",
    "        itemImageSelector = \".itemboximage > img\"\n",
    "\n",
    "\n",
    "\n",
    "        itemName = itemSiteParse.select_one(itemTypeSelector)\n",
    "        itemType = itemSiteParse.select_one(itemTypeSelector)\n",
    "\n",
    "        itemImage = itemSiteParse.select_one(itemImageSelector).attrs[\"src\"]\n",
    "\n",
    "\n",
    "        specificInfoTableCssSelector = \".page-content\"\n",
    "        rowDict = {'base:': itemType.text, 'icon': itemImage}\n",
    "\n",
    "        itemSpecificInfoTable = itemSiteParse.select(specificInfoTableCssSelector)\n",
    "\n",
    "        resultDict.update({\"{}\".format(itemName.text): rowDict})\n",
    "\n",
    "        print(rowDict)\n",
    "        itemScrapped += 1\n",
    "\n",
    "\n",
    "\n",
    "page = \"https://poedb.tw/us/Flasks#Flask\"\n",
    "\n",
    "print(page)\n",
    "\n",
    "site = requests.get(page)\n",
    "html = bs4.BeautifulSoup(site.text, 'html.parser')\n",
    "\n",
    "selector = \"Flask\"\n",
    "\n",
    "\n",
    "itemUrlCssSelector = f'#{selector} > div:nth-child(2)'\n",
    "\n",
    "itemUrl = html.select_one(itemUrlCssSelector)\n",
    "\n",
    "siteBaseUrl = \"https://poedb.tw{}\"\n",
    "\n",
    "for item in tqdm(itemUrl.find_all('a',{\"class\": \"whiteitem\"}, href=True)):\n",
    "    itemSiteUrl = siteBaseUrl.format(item['href'])\n",
    "    itemSiteHtml = requests.get(itemSiteUrl)\n",
    "    itemSiteParse = bs4.BeautifulSoup(itemSiteHtml.text, 'html.parser')\n",
    "\n",
    "    itemTypeSelector = \".ItemType\"\n",
    "    itemImageSelector = \".itemboximage > img\"\n",
    "\n",
    "\n",
    "\n",
    "    itemName = itemSiteParse.select_one(itemTypeSelector)\n",
    "    itemType = itemSiteParse.select_one(itemTypeSelector)\n",
    "\n",
    "    itemImage = itemSiteParse.select_one(itemImageSelector).attrs[\"src\"]\n",
    "\n",
    "\n",
    "    specificInfoTableCssSelector = \".page-content\"\n",
    "    rowDict = {'base:': itemType.text, 'icon': itemImage}\n",
    "\n",
    "    itemSpecificInfoTable = itemSiteParse.select(specificInfoTableCssSelector)\n",
    "\n",
    "    resultDict.update({\"{}\".format(itemName.text): rowDict})\n",
    "\n",
    "    print(rowDict)\n",
    "    itemScrapped += 1\n",
    "\n",
    "\n",
    "\n",
    "\n",
    "\n",
    "with open(\"rareBaseIcons.json\", 'w') as json_file:\n",
    "    print(json.dumps(resultDict), file=json_file)"
   ]
  }
 ],
 "metadata": {
  "kernelspec": {
   "display_name": "Python 3",
   "language": "python",
   "name": "python3"
  },
  "language_info": {
   "codemirror_mode": {
    "name": "ipython",
    "version": 3
   },
   "file_extension": ".py",
   "mimetype": "text/x-python",
   "name": "python",
   "nbconvert_exporter": "python",
   "pygments_lexer": "ipython3",
   "version": "3.10.9"
  },
  "orig_nbformat": 4,
  "vscode": {
   "interpreter": {
    "hash": "e7370f93d1d0cde622a1f8e1c04877d8463912d04d973331ad4851f04de6915a"
   }
  }
 },
 "nbformat": 4,
 "nbformat_minor": 2
}
