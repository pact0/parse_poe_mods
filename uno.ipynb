{
 "cells": [
  {
   "cell_type": "code",
   "execution_count": null,
   "metadata": {},
   "outputs": [],
   "source": [
    "import pandas as pd\n",
    "import json\n",
    "import re\n",
    "from tqdm import tqdm\n",
    "\n",
    "  \n",
    "f = open('./_PoeStatBasedItemListingRecord__202303092021.json')\n",
    "data = json.load(f)\n",
    "data =  data[\"select * from \\\"PoeStatBasedItemListingRecord\\\" where \\\"league\\\" = 'Sanctum'\"]\n",
    "\n",
    "\n",
    "f2 = open('res_full.json')\n",
    "mods = json.load(f2)"
   ]
  },
  {
   "cell_type": "code",
   "execution_count": null,
   "metadata": {},
   "outputs": [],
   "source": [
    "f = open('./poec_lang.us.json')\n",
    "translations = json.load(f)"
   ]
  },
  {
   "cell_type": "code",
   "execution_count": null,
   "metadata": {},
   "outputs": [],
   "source": [
    "bases = []\n",
    "for a,b in translations[\"base\"].items():\n",
    "    bases.append(b)\n",
    "\n",
    "len(bases)"
   ]
  },
  {
   "cell_type": "code",
   "execution_count": null,
   "metadata": {},
   "outputs": [],
   "source": [
    "mods = []\n",
    "for a,b in translations[\"mod\"].items():\n",
    "    mods.append(b)\n",
    "len(mods)"
   ]
  },
  {
   "cell_type": "code",
   "execution_count": null,
   "metadata": {},
   "outputs": [],
   "source": [
    "additional_records = [\"price\"]\n",
    "cools = mods\n",
    "cools.extend(bases)\n",
    "cools.extend(additional_records)\n",
    "\n",
    "len(cools)"
   ]
  },
  {
   "cell_type": "code",
   "execution_count": null,
   "metadata": {},
   "outputs": [],
   "source": [
    "base_item = {col: 0 for col in cools}\n",
    "\n",
    "# print the dictionary\n",
    "print(len(base_item.keys()))"
   ]
  },
  {
   "cell_type": "code",
   "execution_count": null,
   "metadata": {},
   "outputs": [],
   "source": [
    "print(base_item)"
   ]
  },
  {
   "cell_type": "code",
   "execution_count": null,
   "metadata": {},
   "outputs": [],
   "source": [
    "df = pd.DataFrame()\n",
    "fdsf = pd.DataFrame([base_item])\n",
    "df = pd.concat([df, fdsf], ignore_index=True)\n",
    "df\n"
   ]
  },
  {
   "cell_type": "code",
   "execution_count": null,
   "metadata": {},
   "outputs": [],
   "source": [
    "reg = r'/(\\d+\\.?(?:\\d+)?)/g'\n",
    "reg = r'\\d+\\.?\\d?'\n",
    "def parse_explicit_mods(mods):\n",
    "    res = {}\n",
    "    for mod in mods:\n",
    "        matched_numbers = re.search(reg, mod)\n",
    "\n",
    "        name = re.sub(reg, \"#\", mod)\n",
    "        values = []\n",
    "\n",
    "        for match in re.finditer(reg, mod):\n",
    "            a = match.group()\n",
    "            if '.' in a:\n",
    "                a = float(a)\n",
    "            else:\n",
    "                a = int(a)\n",
    "            values.append(a)\n",
    "\n",
    "        res[name] = {\"values\": values}\n",
    "    return res\n"
   ]
  },
  {
   "cell_type": "code",
   "execution_count": null,
   "metadata": {},
   "outputs": [],
   "source": [
    "ready_items = []"
   ]
  },
  {
   "cell_type": "code",
   "execution_count": null,
   "metadata": {},
   "outputs": [],
   "source": [
    "counter = 0\n",
    "for item in data:\n",
    "    temp_item = base_item.copy()\n",
    "    temp_item[\"price\"] = item[\"noteValue\"]\n",
    "\n",
    "    try:\n",
    "        if item[\"baseType\"].find(\"Cluster Jewel\") != -1 or item[\"baseType\"].find(\"Watcher\") != -1 or item[\"baseType\"].find(\"Thief's Trinket\") != -1:\n",
    "            continue\n",
    "        explicitMods = item[\"explicitMods\"]\n",
    "        implicitMods = item[\"implicitMods\"]\n",
    "        craftedMods = item[\"craftedMods\"]\n",
    "\n",
    "        b = explicitMods.strip('{}').split(',')\n",
    "        a = [s.strip('\"') for s in b]\n",
    "        parsed_mods = parse_explicit_mods(a)\n",
    "        # print(\"paars\",parsed_mods)\n",
    "\n",
    "        all_mods_for_this_base = mods[item[\"baseType\"]][\"mods\"]\n",
    "        base = mods[item[\"baseType\"]][\"base\"]\n",
    "        temp_item[base] = 1\n",
    "        # print(all_mods_for_this_base)\n",
    "\n",
    "        for mod,vals in parsed_mods.items():\n",
    "            v = vals[\"values\"]\n",
    "            mod_values = all_mods_for_this_base[mod]\n",
    "            min_mod = mod_values[\"min\"]\n",
    "            max_mod = mod_values[\"max\"]\n",
    "\n",
    "            if len(v) > 0:\n",
    "                normalized = v[len(v)-1] / max_mod\n",
    "            else:\n",
    "                normalized = 1\n",
    "            \n",
    "            temp_item[mod] = normalized\n",
    "\n",
    "            #print(mod, min_mod, max_mod, normalized)\n",
    "    except:\n",
    "        counter = counter + 1\n",
    "    ready_items.append(temp_item)\n",
    "        #print(\"crash\", item, mod, v, mod_values,counter)\n",
    "print(counter)"
   ]
  },
  {
   "cell_type": "code",
   "execution_count": null,
   "metadata": {},
   "outputs": [],
   "source": []
  },
  {
   "cell_type": "code",
   "execution_count": null,
   "metadata": {},
   "outputs": [],
   "source": [
    "\n",
    "f.close()"
   ]
  }
 ],
 "metadata": {
  "kernelspec": {
   "display_name": "Python 3",
   "language": "python",
   "name": "python3"
  },
  "language_info": {
   "codemirror_mode": {
    "name": "ipython",
    "version": 3
   },
   "file_extension": ".py",
   "mimetype": "text/x-python",
   "name": "python",
   "nbconvert_exporter": "python",
   "pygments_lexer": "ipython3",
   "version": "3.10.9"
  },
  "orig_nbformat": 4,
  "vscode": {
   "interpreter": {
    "hash": "e7370f93d1d0cde622a1f8e1c04877d8463912d04d973331ad4851f04de6915a"
   }
  }
 },
 "nbformat": 4,
 "nbformat_minor": 2
}
